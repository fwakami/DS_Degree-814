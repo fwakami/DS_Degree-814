{
 "cells": [
  {
   "cell_type": "code",
   "execution_count": 4,
   "id": "24fa9ad5",
   "metadata": {},
   "outputs": [
    {
     "name": "stdout",
     "output_type": "stream",
     "text": [
      ">>> Cadastro de fornecedores <<<\n",
      "Digite '1' para cadastrar um novo fornecedor;\n",
      "Digite '2' para visualizar um fornecedor;\n",
      "Digite '3' para remover um fornecedor;\n",
      "Digite '4' para encerrar.\n",
      "4\n",
      "\n",
      "Sessão finalizada.\n"
     ]
    }
   ],
   "source": [
    "fornecedores = {}\n",
    "codigo_fornecedor = None\n",
    "\n",
    "def remover_fornecedor (codigo_fornecedor):\n",
    "    fornecedores.pop(codigo_fornecedor)\n",
    "    return fornecedores\n",
    "\n",
    "while True:\n",
    "    \n",
    "    print(\">>> Cadastro de fornecedores <<<\")\n",
    "    \n",
    "    opcao = int(input(\"Digite '1' para cadastrar um novo fornecedor;\\nDigite '2' para visualizar um fornecedor;\\nDigite '3' para remover um fornecedor;\\nDigite '4' para encerrar.\\n\"))\n",
    "    print()\n",
    "    \n",
    "    while opcao < 1 or opcao > 4:\n",
    "        \n",
    "        opcao = int(input(\"Opção Inválida.\\nDigite '1' para cadastrar um novo fornecedor;\\nDigite '2' para visualizar um fornecedor;\\nDigite '3' para remover um fornecedor;\\nDigite '4' para encerrar.\\n\"))\n",
    "    \n",
    "    if opcao == 4:\n",
    "        print (\"Sessão finalizada.\")\n",
    "        break\n",
    "\n",
    "    elif opcao == 1:\n",
    "    \n",
    "        fornecedor = {}\n",
    "    \n",
    "        nome_fornecedor = input(\"Informe o nome do fornecedor: \")\n",
    "        telefone_fornecedor = int(input(\"Informe o telefone do fornecedor: \"))\n",
    "        email_fornecedor = input(\"Informe o email do fornecedor: \")\n",
    "        codigo_fornecedor = input(\"Digite o código do fornecedor: \")\n",
    "    \n",
    "        fornecedor[\"Nome\"] = nome_fornecedor\n",
    "        fornecedor[\"Telefone\"] = telefone_fornecedor\n",
    "        fornecedor[\"Email\"] = email_fornecedor\n",
    "    \n",
    "        fornecedores[codigo_fornecedor] = fornecedor\n",
    "    \n",
    "        print()\n",
    "        print(\"Dicionário de fornecedores cadastrados: \\n\")\n",
    "        print(fornecedores)\n",
    "        print()\n",
    "        \n",
    "    elif opcao == 2:\n",
    "        \n",
    "        if len(fornecedores) == 0:\n",
    "            print (\"Não é possível visualizar fornecedores pois não há nenhum cadastrado.\")\n",
    "            print()\n",
    "        \n",
    "        else:\n",
    "            print(f\"Aqui estão todos os fornecedores cadastrados: {fornecedores}\")\n",
    "            print()\n",
    "            x = input(\"Digite o codigo do fornecedor o qual deseja obter as informações: \")\n",
    "            print()\n",
    "            print(fornecedores[x])\n",
    "            print()\n",
    "        \n",
    "    elif opcao == 3:\n",
    "        \n",
    "        if len(fornecedores) == 0:\n",
    "            print (\"Não é possível remover fornecedores pois não há nenhum cadastrado.\")\n",
    "            print()\n",
    "            \n",
    "        else:\n",
    "            print(f\"Aqui estão todos os fornecedores cadastrados: {fornecedores}\")\n",
    "            print()\n",
    "            y = input(\"Digite o codigo do fornecedor o qual deseja remover: \")\n",
    "            remover_fornecedor(y)\n",
    "            print()\n",
    "            print(f\"Lista atualizada de fornecedores cadastrados: {fornecedores}\")\n",
    "            print()\n"
   ]
  },
  {
   "cell_type": "code",
   "execution_count": null,
   "id": "6c5c7d9b",
   "metadata": {},
   "outputs": [],
   "source": []
  }
 ],
 "metadata": {
  "kernelspec": {
   "display_name": "Python 3 (ipykernel)",
   "language": "python",
   "name": "python3"
  },
  "language_info": {
   "codemirror_mode": {
    "name": "ipython",
    "version": 3
   },
   "file_extension": ".py",
   "mimetype": "text/x-python",
   "name": "python",
   "nbconvert_exporter": "python",
   "pygments_lexer": "ipython3",
   "version": "3.9.7"
  }
 },
 "nbformat": 4,
 "nbformat_minor": 5
}
