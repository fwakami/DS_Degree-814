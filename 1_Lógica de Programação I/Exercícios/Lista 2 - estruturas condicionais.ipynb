{
 "cells": [
  {
   "cell_type": "markdown",
   "metadata": {},
   "source": [
    "# Lista 2 - estruturas condicionais"
   ]
  },
  {
   "cell_type": "markdown",
   "metadata": {},
   "source": [
    "1. Faça um programa que peça a idade do usuário e imprima se ele é\n",
    "maior ou menor de 18 anos.\n"
   ]
  },
  {
   "cell_type": "code",
   "execution_count": 3,
   "metadata": {},
   "outputs": [
    {
     "name": "stdout",
     "output_type": "stream",
     "text": [
      "Digite a sua idade: 18\n",
      "Maior de idade.\n"
     ]
    }
   ],
   "source": [
    "idade = int(input(\"Digite a sua idade: \"))\n",
    "\n",
    "if idade < 18:\n",
    "    print(\"Menor de idade.\")\n",
    "else:\n",
    "    print(\"Maior de idade.\")"
   ]
  },
  {
   "cell_type": "markdown",
   "metadata": {},
   "source": [
    "\n",
    "\n",
    "2. Faça um programa que peça um número e mostre se ele é positivo\n",
    "ou negativo.\n"
   ]
  },
  {
   "cell_type": "code",
   "execution_count": 8,
   "metadata": {},
   "outputs": [
    {
     "name": "stdout",
     "output_type": "stream",
     "text": [
      "Digite um número: 0.000001\n",
      "Número positivo.\n"
     ]
    }
   ],
   "source": [
    "num = float(input(\"Digite um número: \"))\n",
    "if num >= 0:\n",
    "    print(\"Número positivo.\")\n",
    "else:\n",
    "    print(\"Número negativo.\")"
   ]
  },
  {
   "cell_type": "markdown",
   "metadata": {},
   "source": [
    "\n",
    "\n",
    "3. Faça um programa que dado um número digitado, mostre se ele é\n",
    "Par ou Ímpar.\n",
    "\n"
   ]
  },
  {
   "cell_type": "code",
   "execution_count": 14,
   "metadata": {},
   "outputs": [
    {
     "name": "stdout",
     "output_type": "stream",
     "text": [
      "Digite um número inteiro: 2\n",
      "Número par.\n"
     ]
    }
   ],
   "source": [
    "num = int(input(\"Digite um número inteiro: \"))\n",
    "if num%2 == 0:\n",
    "    print(\"Número par.\")\n",
    "else:\n",
    "    print(\"Número ímpar.\")"
   ]
  },
  {
   "cell_type": "markdown",
   "metadata": {},
   "source": [
    "\n",
    "4. Faça um programa que peça dois números e mostre o maior deles.\n",
    "\n"
   ]
  },
  {
   "cell_type": "code",
   "execution_count": 19,
   "metadata": {},
   "outputs": [
    {
     "name": "stdout",
     "output_type": "stream",
     "text": [
      "Digite o primeiro número: 1\n",
      "Digite o segundo número: 1\n",
      "Os números são iguais.\n"
     ]
    }
   ],
   "source": [
    "x = float(input(\"Digite o primeiro número: \"))\n",
    "y = float(input(\"Digite o segundo número: \"))\n",
    "\n",
    "if x > y:\n",
    "    print(\"O primeiro número é o maior deles.\")\n",
    "elif y > x:\n",
    "    print(\"O segundo número é o maior deles.\")\n",
    "else:\n",
    "    print(\"Os números são iguais.\")"
   ]
  },
  {
   "cell_type": "markdown",
   "metadata": {},
   "source": [
    "\n",
    "5. Faça um programa que leia a validade das informações:\n",
    "\n",
    "a. Idade: entre 0 e 150;\n",
    "\n",
    "b. Salário: maior que 0;\n",
    "\n",
    "c. Sexo: M, F ou Outro;\n",
    "\n",
    "O programa deve imprimir uma mensagem de erro para cada\n",
    "informação inválida.\n"
   ]
  },
  {
   "cell_type": "code",
   "execution_count": 12,
   "metadata": {},
   "outputs": [
    {
     "name": "stdout",
     "output_type": "stream",
     "text": [
      "Digite sua idade: 50\n",
      "Digite seu salário: 5000\n",
      "Digite seu sexo (M, F ou Outro): M\n"
     ]
    }
   ],
   "source": [
    "idade = int(input(\"Digite sua idade: \"))\n",
    "\n",
    "while idade <= 0 or idade > 150:\n",
    "    idade = int(input(\"Valor inválido. Por favor digite sua idade: \"))\n",
    "\n",
    "salario = float(input(\"Digite seu salário: \"))\n",
    "\n",
    "while salario < 0:\n",
    "    salario = (float(input(\"Valor inválido. Por favor digite seu salário: \")))\n",
    "    \n",
    "sexo = str(input(\"Digite seu sexo (M, F ou Outro): \"))\n",
    "\n",
    "while (sexo != \"M\") and (sexo != \"F\") and (sexo != \"Outro\"):\n",
    "    sexo = str(input(\"Valor inválido. Por favor digite seu sexo (M, F ou Outro): \"))"
   ]
  },
  {
   "cell_type": "markdown",
   "metadata": {},
   "source": [
    "\n",
    "\n",
    "6. Escreva um programa que peça a nota de 3 provas de um aluno e\n",
    "verifique se ele passou o não de ano.\n",
    "Obs.: O aluno irá passar de ano se sua média for maior que 6.\n"
   ]
  },
  {
   "cell_type": "code",
   "execution_count": 35,
   "metadata": {},
   "outputs": [
    {
     "name": "stdout",
     "output_type": "stream",
     "text": [
      "Digite a primeira nota: 5\n",
      "Digite a segunda nota: 6\n",
      "Digite a terceira nota: 7\n",
      "A média do aluno é: 6.0\n",
      "Aluno aprovado!\n"
     ]
    }
   ],
   "source": [
    "x = float(input(\"Digite a primeira nota: \"))\n",
    "y = float(input(\"Digite a segunda nota: \"))\n",
    "z = float(input(\"Digite a terceira nota: \"))\n",
    "\n",
    "media = ((x+y+z)/3)\n",
    "print(f\"A média do aluno é: {media}\")\n",
    "\n",
    "if media >= 6:\n",
    "    print(\"Aluno aprovado!\")\n",
    "else:\n",
    "    print(\"Aluno reprovado.\")"
   ]
  },
  {
   "cell_type": "markdown",
   "metadata": {},
   "source": [
    "\n",
    "7. Faça um programa que mostre uma questão de múltipla escolha com\n",
    "5 opções (letras a, b, c, d, e e). Sabendo a resposta certa, o programa\n",
    "deve receber a opção do usuário e informar a letra que o usuário\n",
    "marcou e se a resposta está certa ou errada.\n"
   ]
  },
  {
   "cell_type": "code",
   "execution_count": 55,
   "metadata": {},
   "outputs": [
    {
     "name": "stdout",
     "output_type": "stream",
     "text": [
      "Quanto é 2+2?\n",
      "\n",
      "a. 1\n",
      "b. 2\n",
      "c. 3\n",
      "d. 4\n",
      "e. 5\n",
      "\n",
      "Digite a alternativa correta: k\n",
      "\n",
      "Input inválido. Digite a alternativa correta para a questão: o\n",
      "Input inválido. Digite a alternativa correta para a questão: l\n",
      "Input inválido. Digite a alternativa correta para a questão: 1\n",
      "Input inválido. Digite a alternativa correta para a questão: 2\n",
      "Input inválido. Digite a alternativa correta para a questão: 3\n",
      "Input inválido. Digite a alternativa correta para a questão: y\n",
      "Input inválido. Digite a alternativa correta para a questão: t\n",
      "Input inválido. Digite a alternativa correta para a questão: g\n",
      "Input inválido. Digite a alternativa correta para a questão: f\n",
      "Input inválido. Digite a alternativa correta para a questão: v\n",
      "Input inválido. Digite a alternativa correta para a questão: c\n",
      "Resposta incorreta.\n"
     ]
    }
   ],
   "source": [
    "print(\"Quanto é 2+2?\")\n",
    "print()\n",
    "print(\"a. 1\")\n",
    "print(\"b. 2\")\n",
    "print(\"c. 3\")\n",
    "print(\"d. 4\")\n",
    "print(\"e. 5\")\n",
    "print()\n",
    "resposta = input(\"Digite a alternativa correta: \")\n",
    "print()\n",
    "while resposta != \"a\" and resposta != \"b\" and resposta != \"c\" and resposta != \"d\" and resposta != \"e\":\n",
    "    resposta = input(\"Input inválido. Digite a alternativa correta para a questão: \")\n",
    "if resposta == \"d\":\n",
    "    print(\"Resposta correta!\")\n",
    "else: \n",
    "    resposta == \"a\" or resposta == \"b\" or resposta == \"c\" or resposta == \"e\"\n",
    "    print(\"Resposta incorreta.\")"
   ]
  },
  {
   "cell_type": "markdown",
   "metadata": {},
   "source": [
    "\n",
    "\n",
    "8. Vamos fazer um programa para verificar quem é o assassino de um\n",
    "crime. Para descobrir o assassino, a polícia faz um pequeno\n",
    "questionário com 5 perguntas onde a resposta só pode ser sim ou não:\n",
    "a. Mora perto da vítima?\n",
    "b. Já trabalhou com a vítima?\n",
    "c. Telefonou para a vítima?\n",
    "d. Esteve no local do crime?\n",
    "e. Devia para a vítima?\n",
    "Cada resposta sim dá um ponto para o suspeito. A polícia considera\n",
    "que os suspeitos com 5 pontos são os assassinos, com 4 a 3 pontos são\n",
    "cúmplices e 2 pontos são apenas suspeitos, necessitando outras\n",
    "investigações. Valores abaixo de 1 são liberados.\n"
   ]
  },
  {
   "cell_type": "code",
   "execution_count": 86,
   "metadata": {},
   "outputs": [
    {
     "name": "stdout",
     "output_type": "stream",
     "text": [
      "Mora perto da vítima (S/N)? S\n",
      "Já trabalhou com a vítima (S/N)? N\n",
      "Telefonou para a vítima (S/N)? S\n",
      "Esteve no local do crime (S/N)? N\n",
      "Devia para a vítima (S/N)? S\n",
      "\n",
      "Cúmplice\n"
     ]
    }
   ],
   "source": [
    "pontos = 0\n",
    "\n",
    "a = input(\"Mora perto da vítima (S/N)? \")\n",
    "while a != \"S\" and a != \"N\":\n",
    "    a = input(\"Resposta inválida. Responda com S ou N: \")\n",
    "if a == \"S\":\n",
    "    pontos += 1\n",
    "\n",
    "b = input(\"Já trabalhou com a vítima (S/N)? \")\n",
    "while b != \"S\" and b != \"N\":\n",
    "    b = input(\"Resposta inválida. Responda com S ou N: \")\n",
    "if b == \"S\":\n",
    "    pontos += 1\n",
    "    \n",
    "c = input(\"Telefonou para a vítima (S/N)? \")\n",
    "while c != \"S\" and c != \"N\":\n",
    "    c = input(\"Resposta inválida. Responda com S ou N: \")\n",
    "if c == \"S\":\n",
    "    pontos += 1\n",
    "    \n",
    "d = input(\"Esteve no local do crime (S/N)? \")\n",
    "while d != \"S\" and d != \"N\":\n",
    "    d = input(\"Resposta inválida. Responda com S ou N: \")\n",
    "if d == \"S\":\n",
    "    pontos += 1\n",
    "    \n",
    "e = input(\"Devia para a vítima (S/N)? \")\n",
    "while e != \"S\" and e != \"N\":\n",
    "    e = input(\"Resposta inválida. Responda com S ou N: \")\n",
    "if e == \"S\":\n",
    "    pontos += 1\n",
    "    \n",
    "print()\n",
    "    \n",
    "if pontos == 5:\n",
    "    print(\"Assassino(a)\")\n",
    "    \n",
    "elif pontos == 4 or pontos == 3:\n",
    "    print(\"Cúmplice\")\n",
    "    \n",
    "elif pontos == 2:\n",
    "    print(\"Suspeito(a)\")\n",
    "    \n",
    "else:\n",
    "    print(\"Liberado\")"
   ]
  },
  {
   "cell_type": "markdown",
   "metadata": {},
   "source": [
    "\n",
    "9. Um produto vai sofrer aumento de acordo com a Tabela 1 abaixo. Faça\n",
    "um programa que peça para o usuário digitar o valor do produto de\n",
    "acordo com o preço antigo e escreva uma das mensagens da Tabela\n",
    "2, de acordo com o preço reajustado:\n",
    "\n",
    "REAJUSTE: \n",
    "\n",
    "- Até 50 : 5\\%\n",
    "\n",
    "- Entre 50 e 100 : 10\\%\n",
    "\n",
    "- Entre 100 e 150 : 13\\%\n",
    "\n",
    "- Acima de 150 : 15\\%\n",
    "\n",
    "MENSAGENS: \n",
    "\n",
    "- Até 80 : Barato\n",
    "\n",
    "- Entre 80 e 115 : Razoável\n",
    "\n",
    "- Entre 115 e 150 : Normal\n",
    "\n",
    "- Entre 150 e 170 : Caro\n",
    "\n",
    "- Acima de 170 : Muito caro"
   ]
  },
  {
   "cell_type": "code",
   "execution_count": 99,
   "metadata": {},
   "outputs": [
    {
     "name": "stdout",
     "output_type": "stream",
     "text": [
      "Digite o valor do produto: 151\n",
      "Valor reajustado: 173.64999999999998\n",
      "Produto Muito Caro\n"
     ]
    }
   ],
   "source": [
    "valor = float(input(\"Digite o valor do produto: \"))\n",
    "\n",
    "if valor > 150:\n",
    "    valor = valor*1.15\n",
    "    \n",
    "elif 100<valor<=150:\n",
    "    valor = valor*1.13\n",
    "    \n",
    "elif 50<valor<=100:\n",
    "    valor = valor*1.10\n",
    "    \n",
    "else:\n",
    "    valor = valor*1.05\n",
    "    \n",
    "print(f\"Valor reajustado: {valor}\")\n",
    "\n",
    "if valor <= 80:\n",
    "    print(\"Produto Barato\")\n",
    "\n",
    "elif 80<valor<=115:\n",
    "    print(\"Produto Razoável\")\n",
    "    \n",
    "elif 115<valor<=150:\n",
    "    print(\"Produto Normal\")\n",
    "    \n",
    "elif 150<valor<=170:\n",
    "    print(\"Produto Caro\")\n",
    "    \n",
    "else:\n",
    "    print(\"Produto Muito Caro\")"
   ]
  },
  {
   "cell_type": "markdown",
   "metadata": {},
   "source": [
    "__________________\n",
    "__________________\n",
    "\n",
    "__________________\n",
    "__________________"
   ]
  },
  {
   "cell_type": "markdown",
   "metadata": {},
   "source": [
    "# DESAFIOS"
   ]
  },
  {
   "cell_type": "markdown",
   "metadata": {},
   "source": [
    "\n",
    "1. Faça um programa que leia 3 números e informe o maior deles.\n",
    "\n"
   ]
  },
  {
   "cell_type": "code",
   "execution_count": 107,
   "metadata": {},
   "outputs": [
    {
     "name": "stdout",
     "output_type": "stream",
     "text": [
      "Digite o primeiro número: 1\n",
      "Digite o segundo número: 3\n",
      "Digite o terceiro número: 1\n",
      "Digite um valor diferente dos já digitados: 3\n",
      "Digite um valor diferente dos já digitados: 2\n",
      "O segundo número é o maior\n"
     ]
    }
   ],
   "source": [
    "num1 = float(input(\"Digite o primeiro número: \"))\n",
    "num2 = float(input(\"Digite o segundo número: \"))\n",
    "while num1 == num2:\n",
    "    num2 = float(input(\"Digite um valor diferente do num1: \"))\n",
    "num3 = float(input(\"Digite o terceiro número: \"))\n",
    "while num3 == num2 or num3 == num1:\n",
    "    num3 = float(input(\"Digite um valor diferente dos já digitados: \"))\n",
    "    \n",
    "if (num1 > num2 and num1 > num3):\n",
    "    print(\"O primeiro número é o maior\")\n",
    "    \n",
    "elif (num2 > num1 and num2 > num3):\n",
    "    print(\"O segundo número é o maior\")\n",
    "    \n",
    "else:\n",
    "    print(\"O terceiro número é o maior\")"
   ]
  },
  {
   "cell_type": "markdown",
   "metadata": {},
   "source": [
    "2. Faça o mesmo programa do exercício anterior, porém com 4\n",
    "números.\n",
    "\n"
   ]
  },
  {
   "cell_type": "code",
   "execution_count": 109,
   "metadata": {},
   "outputs": [
    {
     "name": "stdout",
     "output_type": "stream",
     "text": [
      "Digite o primeiro número: 1\n",
      "Digite o segundo número: 4\n",
      "Digite o terceiro número: 1\n",
      "Digite um valor diferente dos já digitados: 4\n",
      "Digite um valor diferente dos já digitados: 2\n",
      "Digite o quarto número: 2\n",
      "Digite um valor diferente dos já digitados: 4\n",
      "Digite um valor diferente dos já digitados: 1\n",
      "Digite um valor diferente dos já digitados: 2\n",
      "Digite um valor diferente dos já digitados: 3\n",
      "O segundo número é o maior\n"
     ]
    }
   ],
   "source": [
    "num1 = float(input(\"Digite o primeiro número: \"))\n",
    "\n",
    "num2 = float(input(\"Digite o segundo número: \"))\n",
    "while num1 == num2:\n",
    "    num2 = float(input(\"Digite um valor diferente do num1: \"))\n",
    "    \n",
    "num3 = float(input(\"Digite o terceiro número: \"))\n",
    "while num3 == num2 or num3 == num1:\n",
    "    num3 = float(input(\"Digite um valor diferente dos já digitados: \"))\n",
    "    \n",
    "num4 = float (input(\"Digite o quarto número: \"))\n",
    "while num4 == num1 or num4 == num2 or num4 == num3:\n",
    "    num4 = float(input(\"Digite um valor diferente dos já digitados: \"))\n",
    "    \n",
    "if (num1 > num2 and num1 > num3 and num1 > num4):\n",
    "    print(\"O primeiro número é o maior\")\n",
    "    \n",
    "elif (num2 > num1 and num2 > num3 and num2 > num4):\n",
    "    print(\"O segundo número é o maior\")\n",
    "    \n",
    "elif (num3 > num1 and num3 > num2 and num3 > num4):\n",
    "    print(\"O terceiro número é o maior\")\n",
    "    \n",
    "else:\n",
    "    print(\"O quarto número é o maior\")"
   ]
  },
  {
   "cell_type": "markdown",
   "metadata": {},
   "source": [
    "3. Um hospital quer fazer o diagnóstico de gripe ou dengue a partir de\n",
    "um questionário de sintomas, tendo as perguntas abaixo, faça um\n",
    "programa que faça o diagnóstico deste hospital:\n",
    "a. Sente dor no corpo?\n",
    "b. Você tem febre?\n",
    "c. Você tem tosse?\n",
    "d. Está com congestão nasal?\n",
    "e. Tem manchas pelo corpo?\n",
    "Para o diagnóstico ele tem a seguinte tabela\n",
    "\n",
    "<img src=https://s3-sa-east-1.amazonaws.com/lcpi/7df17e28-dd5c-4ef0-8ccf-941aa400d2ab.JPG width=500>"
   ]
  },
  {
   "cell_type": "code",
   "execution_count": 121,
   "metadata": {},
   "outputs": [
    {
     "name": "stdout",
     "output_type": "stream",
     "text": [
      "Sente dor no corpo (S/N)? d\n",
      "Resposta inválida. Responda com S ou N: e\n",
      "Resposta inválida. Responda com S ou N: s\n",
      "Você tem febre (S/N)? n\n",
      "Você tem tosse (S/N)? s\n",
      "Está com congestão nasal (S/N)? s\n",
      "Tem manchas pelo corpo (S/N)? s\n",
      "\n",
      "Realizar maiores análises.\n"
     ]
    }
   ],
   "source": [
    "a = input(\"Sente dor no corpo (S/N)? \")\n",
    "a = a.upper()\n",
    "while a != \"S\" and a != \"N\":\n",
    "    a = input(\"Resposta inválida. Responda com S ou N: \")\n",
    "    a = a.upper()    \n",
    "\n",
    "b = input(\"Você tem febre (S/N)? \")\n",
    "b = b.upper()\n",
    "while b != \"S\" and b != \"N\":\n",
    "    b = input(\"Resposta inválida. Responda com S ou N: \")\n",
    "    b = b.upper()\n",
    "    \n",
    "c = input(\"Você tem tosse (S/N)? \")\n",
    "c = c.upper()\n",
    "while c != \"S\" and c != \"N\":\n",
    "    c = input(\"Resposta inválida. Responda com S ou N: \")\n",
    "    c = c.upper()\n",
    "    \n",
    "d = input(\"Está com congestão nasal (S/N)? \")\n",
    "d = d.upper()\n",
    "while d != \"S\" and d != \"N\":\n",
    "    d = input(\"Resposta inválida. Responda com S ou N: \")\n",
    "    d = d.upper()\n",
    "    \n",
    "e = input(\"Tem manchas pelo corpo (S/N)? \")\n",
    "e = e.upper()\n",
    "while e != \"S\" and e != \"N\":\n",
    "    e = input(\"Resposta inválida. Responda com S ou N: \")\n",
    "    e = e.upper()\n",
    "    \n",
    "print()\n",
    "    \n",
    "if a == \"S\" and b == \"S\" and c == \"N\" and d == \"N\" and e == \"S\":\n",
    "    print(\"Diagnóstico: Dengue.\")\n",
    "    \n",
    "elif b == \"S\" and c == \"S\" and d == \"S\" and e == \"N\":\n",
    "    print(\"Diagnóstico: Gripe.\")\n",
    "    \n",
    "elif b == \"N\" and c == \"N\" and d == \"N\" and e == \"N\":\n",
    "    print(\"Diagnóstico: Sem Doenças.\")\n",
    "    \n",
    "else:\n",
    "    print(\"Realizar maiores análises.\")"
   ]
  },
  {
   "cell_type": "code",
   "execution_count": 5,
   "metadata": {},
   "outputs": [
    {
     "name": "stdout",
     "output_type": "stream",
     "text": [
      "a. Sente dor no corpo?s\n",
      "a. Sente dor no corpo?s\n",
      "b. Você tem febre?s\n",
      "b. Você tem febre?s\n",
      "c. Você tem tosse?s\n",
      "c. Você tem tosse?s\n",
      "d. Está com congestão nasal?s\n",
      "d. Está com congestão nasal?s\n",
      "e. Tem manchas pelo corpo?s\n",
      "e. Tem manchas pelo corpo?s\n",
      "Não sei!\n"
     ]
    }
   ],
   "source": [
    "lista_de_perguntas = [\"a. Sente dor no corpo?\",\n",
    "                        \"b. Você tem febre?\",\n",
    "                        \"c. Você tem tosse?\",\n",
    "                        \"d. Está com congestão nasal?\",\n",
    "                        \"e. Tem manchas pelo corpo?\"]\n",
    "\n",
    "lista_de_respostas = []\n",
    "\n",
    "for pergunta in lista_de_perguntas:\n",
    "    \n",
    "    resposta = input(pergunta)\n",
    "    \n",
    "    while resposta not in [\"s\", \"n\"]:\n",
    "        \n",
    "        resposta = input(\"Não entendi!\\n\" + pergunta)\n",
    "        \n",
    "    lista_de_respostas.append(input(pergunta))\n",
    "\n",
    "string_resposta = \"\".join(lista_de_respostas)\n",
    "\n",
    "dengue = [\"ssnss\"]\n",
    "gripe = [\"ssssn\", \"nsssn\"]\n",
    "sem_doenca = [\"snnnn\", \"nnnnn\"]\n",
    "\n",
    "resp = \"\\n Você está com \"\n",
    "\n",
    "if string_resposta in dengue:\n",
    "    \n",
    "    print(resp + \"Dengue!\")\n",
    "    \n",
    "elif string_resposta in gripe:\n",
    "    \n",
    "    print(resp + \"Gripe!\")\n",
    "    \n",
    "elif string_resposta in sem_doenca:\n",
    "    \n",
    "    print(\"Sem doenças!\")\n",
    "    \n",
    "else:\n",
    "\n",
    "    print(\"Não sei!\")"
   ]
  },
  {
   "cell_type": "code",
   "execution_count": null,
   "metadata": {},
   "outputs": [],
   "source": []
  }
 ],
 "metadata": {
  "kernelspec": {
   "display_name": "Python 3 (ipykernel)",
   "language": "python",
   "name": "python3"
  },
  "language_info": {
   "codemirror_mode": {
    "name": "ipython",
    "version": 3
   },
   "file_extension": ".py",
   "mimetype": "text/x-python",
   "name": "python",
   "nbconvert_exporter": "python",
   "pygments_lexer": "ipython3",
   "version": "3.9.7"
  }
 },
 "nbformat": 4,
 "nbformat_minor": 4
}
