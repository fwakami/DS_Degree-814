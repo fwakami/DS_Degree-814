{
 "cells": [
  {
   "cell_type": "markdown",
   "metadata": {},
   "source": [
    "# Lista 3 - while"
   ]
  },
  {
   "cell_type": "markdown",
   "metadata": {},
   "source": [
    "1. Faça um programa que peça ao usuário um número e imprima todos os números de um até o número dado. Exemplo: digite: 5, imprime: 1 2 3 4 5"
   ]
  },
  {
   "cell_type": "code",
   "execution_count": 6,
   "metadata": {},
   "outputs": [
    {
     "name": "stdout",
     "output_type": "stream",
     "text": [
      "Digite um número: 5\n",
      "1\n",
      "2\n",
      "3\n",
      "4\n",
      "5\n"
     ]
    }
   ],
   "source": [
    "num = int(input(\"Digite um número: \"))\n",
    "\n",
    "cont = 1\n",
    "\n",
    "while num >= cont:\n",
    "    \n",
    "    print(cont)\n",
    "    \n",
    "    cont += 1"
   ]
  },
  {
   "cell_type": "markdown",
   "metadata": {},
   "source": [
    "2. Peça ao usuário para digitar um número n e some todos os números de 1 a n."
   ]
  },
  {
   "cell_type": "code",
   "execution_count": 14,
   "metadata": {},
   "outputs": [
    {
     "name": "stdout",
     "output_type": "stream",
     "text": [
      "Digite um número: 5\n",
      "\n",
      "A soma dos números de 1 ao número digitado é: 15\n"
     ]
    }
   ],
   "source": [
    "num = int(input(\"Digite um número: \"))\n",
    "\n",
    "cont = 1\n",
    "soma = 0\n",
    "\n",
    "while num >= cont:\n",
    "    \n",
    "    soma = soma + cont\n",
    "    \n",
    "    cont += 1\n",
    "\n",
    "print()    \n",
    "print(f\"A soma dos números de 1 ao número digitado é: {soma}\")\n",
    "    "
   ]
  },
  {
   "cell_type": "markdown",
   "metadata": {},
   "source": [
    "3. Peça ao usuário para digitar um número e imprima o fatorial de n."
   ]
  },
  {
   "cell_type": "code",
   "execution_count": 18,
   "metadata": {},
   "outputs": [
    {
     "name": "stdout",
     "output_type": "stream",
     "text": [
      "Digite um número: 5\n",
      "\n",
      "O fatorial do número digitado é: 120\n"
     ]
    }
   ],
   "source": [
    "num = int(input(\"Digite um número: \"))\n",
    "\n",
    "cont = 1\n",
    "fat = 1\n",
    "\n",
    "while num >= cont:\n",
    "    \n",
    "    fat = fat*cont\n",
    "    \n",
    "    cont += 1\n",
    "    \n",
    "print()\n",
    "print(f\"O fatorial do número digitado é: {fat}\")"
   ]
  },
  {
   "cell_type": "markdown",
   "metadata": {},
   "source": [
    "4. Faça um programa que imprima a tabuada do 9 (de 9\\*1 a 9\\*10) usando loops."
   ]
  },
  {
   "cell_type": "code",
   "execution_count": 22,
   "metadata": {},
   "outputs": [
    {
     "name": "stdout",
     "output_type": "stream",
     "text": [
      "9 x 1 = 9\n",
      "9 x 2 = 18\n",
      "9 x 3 = 27\n",
      "9 x 4 = 36\n",
      "9 x 5 = 45\n",
      "9 x 6 = 54\n",
      "9 x 7 = 63\n",
      "9 x 8 = 72\n",
      "9 x 9 = 81\n",
      "9 x 10 = 90\n"
     ]
    }
   ],
   "source": [
    "cont = 1\n",
    "\n",
    "while cont <= 10:\n",
    "    \n",
    "    print(f\"9 x {cont} = {cont*9}\")\n",
    "    \n",
    "    cont += 1"
   ]
  },
  {
   "cell_type": "markdown",
   "metadata": {},
   "source": [
    "5. Faça um programa que recebe um número inteiro do usuário e imprime na tela a quantidade de divisores desse número e quais são eles.\n",
    "\n"
   ]
  },
  {
   "cell_type": "code",
   "execution_count": 35,
   "metadata": {},
   "outputs": [
    {
     "name": "stdout",
     "output_type": "stream",
     "text": [
      "Digite um número inteiro positivo: 12\n",
      "1\n",
      "2\n",
      "3\n",
      "4\n",
      "6\n",
      "12\n",
      "A quantidade de divisores é: 6\n"
     ]
    }
   ],
   "source": [
    "num = int(input(\"Digite um número inteiro positivo: \"))\n",
    "\n",
    "cont = 1\n",
    "\n",
    "div = 1\n",
    "\n",
    "qtd = 0\n",
    "\n",
    "while num >= cont:\n",
    "    \n",
    "    if num%div == 0:\n",
    "    \n",
    "        print(cont)\n",
    "        \n",
    "        qtd += 1\n",
    "    \n",
    "    cont += 1\n",
    "        \n",
    "    div += 1\n",
    "        \n",
    "print(f\"A quantidade de divisores é: {qtd}\")"
   ]
  },
  {
   "cell_type": "markdown",
   "metadata": {},
   "source": [
    "6. Faça um programa, usando loops, que peça para um usuário digitar um número e que só finaliza quando o usuário digitar 0. Ao final imprima a soma de todos os números digitados."
   ]
  },
  {
   "cell_type": "code",
   "execution_count": 43,
   "metadata": {},
   "outputs": [
    {
     "name": "stdout",
     "output_type": "stream",
     "text": [
      "Digite um número inteiro positivo ou digite 0 para finalizar: 2\n",
      "Digite outro número inteiro positivo ou digite 0 para finalizar: 2\n",
      "Digite outro número inteiro positivo ou digite 0 para finalizar: 2\n",
      "Digite outro número inteiro positivo ou digite 0 para finalizar: 4\n",
      "Digite outro número inteiro positivo ou digite 0 para finalizar: 0\n",
      "A soma dos números digitados é: 10\n"
     ]
    }
   ],
   "source": [
    "num = int(input(\"Digite um número inteiro positivo ou digite 0 para finalizar: \"))\n",
    "\n",
    "soma = 0\n",
    "\n",
    "while num != 0:\n",
    "    \n",
    "    soma = soma + num\n",
    "    \n",
    "    num = int(input(\"Digite outro número inteiro positivo ou digite 0 para finalizar: \"))\n",
    "    \n",
    "print(f\"A soma dos números digitados é: {soma}\")"
   ]
  },
  {
   "cell_type": "markdown",
   "metadata": {},
   "source": [
    "7. Faça um programa que sorteia um número N e peça para o usuário adivinhar o número sorteado. A cada resposta errada, o seu programa deve imprimir um aviso dizendo que a resposta está errada e pedir novamente uma resposta ao usuário."
   ]
  },
  {
   "cell_type": "code",
   "execution_count": 30,
   "metadata": {},
   "outputs": [
    {
     "name": "stdout",
     "output_type": "stream",
     "text": [
      "Adivinhe o número sorteado que pode ir de 0 a 10: 1\n",
      "Tente novamente: 2\n",
      "Tente novamente: 3\n",
      "Tente novamente: 4\n",
      "Tente novamente: 5\n",
      "Tente novamente: 6\n",
      "Você acertou. Parabéns!\n"
     ]
    }
   ],
   "source": [
    "import random\n",
    "n = random.randint(0,10)\n",
    "\n",
    "chute = int(input(\"Adivinhe o número sorteado que pode ir de 0 a 10: \"))\n",
    "\n",
    "while chute != n:\n",
    "    \n",
    "    chute = int(input(\"Tente novamente: \"))\n",
    "    \n",
    "print(\"Você acertou. Parabéns!\")"
   ]
  },
  {
   "cell_type": "markdown",
   "metadata": {},
   "source": [
    "8. Faça um programa que peça para o usuário digitar a idade, o salário e o sexo de uma pessoa até que as entradas digitadas sejam válidas.\n",
    "    a. Idade: entre 0 e 150;\n",
    "    b. Salário: maior que 0;\n",
    "    c. Sexo: M, F ou Outro."
   ]
  },
  {
   "cell_type": "code",
   "execution_count": 33,
   "metadata": {},
   "outputs": [
    {
     "name": "stdout",
     "output_type": "stream",
     "text": [
      "Digite sua idade: 27\n",
      "Digite seu salário: 5900\n",
      "Digite seu sexo (M, F ou Outro): m\n",
      "\n",
      "Idade: 27 anos.\n",
      "Salário: 5900.0 reais.\n",
      "Sexo: M\n"
     ]
    }
   ],
   "source": [
    "idade = int(input(\"Digite sua idade: \"))\n",
    "\n",
    "while idade <= 0 or idade > 150:\n",
    "    idade = int(input(\"Valor inválido. Por favor digite sua idade: \"))\n",
    "\n",
    "salario = float(input(\"Digite seu salário: \"))\n",
    "\n",
    "while salario < 0:\n",
    "    salario = (float(input(\"Valor inválido. Por favor digite seu salário: \")))\n",
    "    \n",
    "sexo = str(input(\"Digite seu sexo (M, F ou Outro): \"))\n",
    "sexo = sexo.upper()\n",
    "\n",
    "while (sexo != \"M\") and (sexo != \"F\") and (sexo != \"Outro\"):\n",
    "    sexo = str(input(\"Valor inválido. Por favor digite seu sexo (M, F ou Outro): \"))\n",
    "    sexo = sexo.upper()\n",
    "    \n",
    "print()    \n",
    "print(f\"Idade: {idade} anos.\")\n",
    "print(f\"Salário: {salario} reais.\")\n",
    "print(f\"Sexo: {sexo}\")"
   ]
  },
  {
   "cell_type": "markdown",
   "metadata": {},
   "source": [
    "__________________\n",
    "__________________\n",
    "\n",
    "__________________\n",
    "__________________\n"
   ]
  },
  {
   "cell_type": "markdown",
   "metadata": {},
   "source": [
    "# DESAFIOS"
   ]
  },
  {
   "cell_type": "markdown",
   "metadata": {},
   "source": [
    "1. Calcule a soma de até mil termos da série 1 + 1/2 + 1/4 + 1/8 + 1/16 + ...\n",
    "Dica: Use três variáveis:\n",
    "um contador, que começa em zero;\n",
    "uma variável para a soma de todos os termos, que também começa em zero;\n",
    "uma variável para cada termo, que começa em 1 e a cada loop é dividida por 2.\n",
    "A repetição da soma de mil termos pode ser feita com a função while contador < 1000.\n"
   ]
  },
  {
   "cell_type": "code",
   "execution_count": 1,
   "metadata": {},
   "outputs": [
    {
     "name": "stdout",
     "output_type": "stream",
     "text": [
      "2.0\n"
     ]
    }
   ],
   "source": [
    "contador = 0\n",
    "\n",
    "soma = 1\n",
    "\n",
    "termo = 1\n",
    "\n",
    "while contador < 1000:\n",
    "    \n",
    "    soma = soma + (termo/2)\n",
    "    \n",
    "    termo = termo / 2\n",
    "    \n",
    "    contador = contador + 1\n",
    "    \n",
    "print(soma)"
   ]
  },
  {
   "cell_type": "markdown",
   "metadata": {},
   "source": [
    "\n",
    "\n",
    "2. Super Desafio! - Calcule a soma de mil termos dos inversos dos fatoriais: 1/(1!) + 1/(2!) + 1/(3!) + 1/(4!) + ...\n",
    "Dica: Assim como no exercício anterior use três variáveis: um contador; uma variável para a soma; e uma variável para os termos.\n",
    "Lembre-se de que 4! = 4\\*3\\*2\\*1 que também é igual a 4\\*3!."
   ]
  },
  {
   "cell_type": "code",
   "execution_count": null,
   "metadata": {},
   "outputs": [],
   "source": [
    "contador = 0\n",
    "\n",
    "soma = 0\n",
    "\n",
    "fat = 1\n",
    "\n",
    "while contador < 3:\n",
    "    \n",
    "    soma = ((1)/(fat))\n",
    "    \n",
    "    fat = (fat)*(fat+1)\n",
    "    \n",
    "    contador += 1\n",
    "    \n",
    "print(soma)\n"
   ]
  }
 ],
 "metadata": {
  "kernelspec": {
   "display_name": "Python 3 (ipykernel)",
   "language": "python",
   "name": "python3"
  },
  "language_info": {
   "codemirror_mode": {
    "name": "ipython",
    "version": 3
   },
   "file_extension": ".py",
   "mimetype": "text/x-python",
   "name": "python",
   "nbconvert_exporter": "python",
   "pygments_lexer": "ipython3",
   "version": "3.9.7"
  }
 },
 "nbformat": 4,
 "nbformat_minor": 4
}
