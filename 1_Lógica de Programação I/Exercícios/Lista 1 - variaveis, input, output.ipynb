{
 "cells": [
  {
   "cell_type": "markdown",
   "metadata": {},
   "source": [
    "# Lista 1 - variáveis, input, output"
   ]
  },
  {
   "cell_type": "markdown",
   "metadata": {},
   "source": [
    "\n",
    "1. Faça um programa que mostre a mensagem \"Olá, mundo!\" na tela.\n"
   ]
  },
  {
   "cell_type": "code",
   "execution_count": 1,
   "metadata": {},
   "outputs": [
    {
     "name": "stdout",
     "output_type": "stream",
     "text": [
      "Hello, World!\n"
     ]
    }
   ],
   "source": [
    "print (\"Hello, World!\")"
   ]
  },
  {
   "cell_type": "markdown",
   "metadata": {},
   "source": [
    "2. Faça um programa que peça um número e mostre a mensagem \"O número informado foi [número]\".\n"
   ]
  },
  {
   "cell_type": "code",
   "execution_count": 5,
   "metadata": {},
   "outputs": [
    {
     "name": "stdout",
     "output_type": "stream",
     "text": [
      "Digite um número inteiro: 3\n",
      "O número informado foi 3.0\n"
     ]
    }
   ],
   "source": [
    "numero = float(input(\"Digite um número inteiro: \"))\n",
    "print(f\"O número informado foi {numero}\")"
   ]
  },
  {
   "cell_type": "markdown",
   "metadata": {},
   "source": [
    "\n",
    "3. Faça um programa que peça um número para o usuário (string), converta-o para float e depois imprima-o na tela. Você consegue fazer a mesma coisa, porém convertendo para int?\n",
    "\n"
   ]
  },
  {
   "cell_type": "code",
   "execution_count": 13,
   "metadata": {},
   "outputs": [
    {
     "name": "stdout",
     "output_type": "stream",
     "text": [
      "Digite um número: 1\n",
      "<class 'str'>\n",
      "<class 'float'>\n",
      "<class 'int'>\n"
     ]
    }
   ],
   "source": [
    "numero = input(\"Digite um número: \")\n",
    "print(type(numero))\n",
    "\n",
    "numero2 = float(numero)\n",
    "print(type(numero2))\n",
    "\n",
    "numero3 = int(numero2)\n",
    "print(type(numero3))"
   ]
  },
  {
   "cell_type": "markdown",
   "metadata": {},
   "source": [
    "4. Faça um programa que peça dois números e imprima a soma deles.\n",
    "\n"
   ]
  },
  {
   "cell_type": "code",
   "execution_count": 6,
   "metadata": {},
   "outputs": [
    {
     "name": "stdout",
     "output_type": "stream",
     "text": [
      "Digite o primeiro número: 1\n",
      "Digite o segundo número: 2\n",
      "A soma dos números é 3\n"
     ]
    }
   ],
   "source": [
    "x = int(input(\"Digite o primeiro número: \"))\n",
    "y = int(input(\"Digite o segundo número: \"))\n",
    "z = x + y\n",
    "\n",
    "print (f\"A soma dos números é {z}\")"
   ]
  },
  {
   "cell_type": "markdown",
   "metadata": {},
   "source": [
    "5. Faça um programa que peça as 4 notas bimestrais de um aluno e mostre a média aritmética delas.\n"
   ]
  },
  {
   "cell_type": "code",
   "execution_count": 19,
   "metadata": {},
   "outputs": [
    {
     "name": "stdout",
     "output_type": "stream",
     "text": [
      "Digite a primeira nota bimestral: 2\n",
      "Digite a segunda nota bimestral: 3\n",
      "Digite a terceira nota bimestral: 4\n",
      "Digite a quarta nota bimestral: 5\n",
      "A média das notas é: 3.5\n"
     ]
    }
   ],
   "source": [
    "nota1 = float(input(\"Digite a primeira nota bimestral: \"))\n",
    "nota2 = float(input(\"Digite a segunda nota bimestral: \"))\n",
    "nota3 = float(input(\"Digite a terceira nota bimestral: \"))\n",
    "nota4 = float(input(\"Digite a quarta nota bimestral: \"))\n",
    "\n",
    "media = ((nota1+nota2+nota3+nota4)/4)\n",
    "\n",
    "print(f\"A média das notas é: {media}\")"
   ]
  },
  {
   "cell_type": "markdown",
   "metadata": {},
   "source": [
    "\n",
    "6. Faça um programa que converta um valor em metros para centímetros.\n",
    "\n"
   ]
  },
  {
   "cell_type": "code",
   "execution_count": 21,
   "metadata": {},
   "outputs": [
    {
     "name": "stdout",
     "output_type": "stream",
     "text": [
      "Digite um valor em metros: 1.70\n",
      "O valor em centímetros é: 170.0\n"
     ]
    }
   ],
   "source": [
    "metros = float(input(\"Digite um valor em metros: \"))\n",
    "centimetros = metros*100\n",
    "\n",
    "print(f\"O valor em centímetros é: {centimetros}\")"
   ]
  },
  {
   "cell_type": "markdown",
   "metadata": {},
   "source": [
    "7. Faça um programa que peça o raio de um círculo, calcule e mostre sua área. Obs: Fórmula da área de um círculo: A = 3,14*r2, onde r é o raio.\n"
   ]
  },
  {
   "cell_type": "code",
   "execution_count": 27,
   "metadata": {},
   "outputs": [
    {
     "name": "stdout",
     "output_type": "stream",
     "text": [
      "Digite o valor do raio do círculo: 1.5\n",
      "A área do círculo é: 7.065\n"
     ]
    }
   ],
   "source": [
    "raio = float(input(\"Digite o valor do raio do círculo: \"))\n",
    "area = (3.14)*(raio**2)\n",
    "\n",
    "print(f\"A área do círculo é: {area}\")"
   ]
  },
  {
   "cell_type": "markdown",
   "metadata": {},
   "source": [
    "\n",
    "8. Faça um programa que pergunte quanto você ganha por hora e o número de horas trabalhadas no mês e depois, calcule e mostre o total do seu salário no referido mês.\n",
    "\n"
   ]
  },
  {
   "cell_type": "code",
   "execution_count": 31,
   "metadata": {},
   "outputs": [
    {
     "name": "stdout",
     "output_type": "stream",
     "text": [
      "Digite quanto você ganha por hora: 28\n",
      "Digite o número de horas trabalhadas no mês: 176\n",
      "O total do seu salário no referido mês é de 4928.0 reais\n"
     ]
    }
   ],
   "source": [
    "x = float(input(\"Digite quanto você ganha por hora: \"))\n",
    "y = float(input(\"Digite o número de horas trabalhadas no mês: \"))\n",
    "z = x*y\n",
    "\n",
    "print(f\"O total do seu salário no referido mês é de {z} reais\")"
   ]
  },
  {
   "cell_type": "markdown",
   "metadata": {},
   "source": [
    "9. Faça um programa que peça a temperatura em graus Fahrenheit (F), transforme e mostre a temperatura em graus Celsius (°C). °C = (5 * (F-32) / 9) Obs: Tente também fazer um programa que faça o inverso: peça a temperatura em graus Celsius e a transforme em graus Fahrenheit.\n"
   ]
  },
  {
   "cell_type": "code",
   "execution_count": 39,
   "metadata": {},
   "outputs": [
    {
     "name": "stdout",
     "output_type": "stream",
     "text": [
      "Digite a temperatura em graus Farenheit: 95\n",
      "A temperatura em graus Celsius é 35.0 graus\n"
     ]
    }
   ],
   "source": [
    "f = float(input(\"Digite a temperatura em graus Farenheit: \"))\n",
    "c = ((5*(f-32))/9)\n",
    "print(f\"A temperatura em graus Celsius é {c} graus\")"
   ]
  },
  {
   "cell_type": "code",
   "execution_count": 40,
   "metadata": {},
   "outputs": [
    {
     "name": "stdout",
     "output_type": "stream",
     "text": [
      "Digite a temperatura em graus Celsius: 35\n",
      "A temperatura em graus Farenheit é de 95.0 graus\n"
     ]
    }
   ],
   "source": [
    "c = float(input(\"Digite a temperatura em graus Celsius: \"))\n",
    "f = ((9*c)/5)+32\n",
    "print(f\"A temperatura em graus Farenheit é de {f} graus\")"
   ]
  },
  {
   "cell_type": "markdown",
   "metadata": {},
   "source": [
    "\n",
    "10. Faça um programa que peça o dia, o mês e o ano para o usuário e imprima a data completa no formato dd/mm/aaaa.\n",
    "\n"
   ]
  },
  {
   "cell_type": "code",
   "execution_count": 46,
   "metadata": {},
   "outputs": [
    {
     "name": "stdout",
     "output_type": "stream",
     "text": [
      "Digite o dia: 30\n",
      "Digite o mês (numeral, 2 dígitos): 11\n",
      "Digite o ano: 1993\n",
      "30/11/1993\n"
     ]
    }
   ],
   "source": [
    "d = int(input(\"Digite o dia: \"))\n",
    "m = int(input(\"Digite o mês (numeral, 2 dígitos): \"))\n",
    "a = int(input(\"Digite o ano: \"))\n",
    "\n",
    "print(f\"{d}/{m}/{a}\")"
   ]
  },
  {
   "cell_type": "markdown",
   "metadata": {},
   "source": [
    "11. Faça um programa que peça 2 números inteiros e um número real, calcule e mostre:\n",
    "a) o produto do dobro do primeiro com metade do segundo.\n",
    "b) a soma do triplo do primeiro com o terceiro.\n",
    "c) o terceiro elevado ao cubo.\n",
    "\n"
   ]
  },
  {
   "cell_type": "code",
   "execution_count": 50,
   "metadata": {},
   "outputs": [
    {
     "name": "stdout",
     "output_type": "stream",
     "text": [
      "Digite um número inteiro: 2\n",
      "Digite outro número inteiro: 3\n",
      "Digite um número real: 1.5\n",
      "O produto do dobro do primeiro com metade do segundo é igual a: 6.0\n",
      "A soma do triplo do primeiro com o terceiro é igual a: 7.5\n",
      "O terceiro elevado ao cubo é igual a: 3.375\n"
     ]
    }
   ],
   "source": [
    "x = int(input(\"Digite um número inteiro: \"))\n",
    "y = int(input(\"Digite outro número inteiro: \"))\n",
    "z = float(input(\"Digite um número real: \"))\n",
    "\n",
    "a = (2*x)*(y/2)\n",
    "b = (3*x)+(z)\n",
    "c = (z**3)\n",
    "\n",
    "print(f\"O produto do dobro do primeiro com metade do segundo é igual a: {a}\")\n",
    "print(f'A soma do triplo do primeiro com o terceiro é igual a: {b}')\n",
    "print(f'O terceiro elevado ao cubo é igual a: {c}')"
   ]
  },
  {
   "cell_type": "markdown",
   "metadata": {},
   "source": [
    "12. Faça um programa que peça o peso e altura de uma pessoa e calcule seu IMC (Índice de Massa Corporal).\n",
    "Obs: IMC = Peso/Altura2"
   ]
  },
  {
   "cell_type": "code",
   "execution_count": 53,
   "metadata": {},
   "outputs": [
    {
     "name": "stdout",
     "output_type": "stream",
     "text": [
      "Digite o seu peso: 55\n",
      "Digite a sua altura: 1.70\n",
      "Seu IMC é: 19.031141868512112\n"
     ]
    }
   ],
   "source": [
    "p = float(input(\"Digite o seu peso: \"))\n",
    "a = float(input(\"Digite a sua altura: \"))\n",
    "imc = (p)/(a**2)\n",
    "\n",
    "print(f\"Seu IMC é: {imc}\")"
   ]
  },
  {
   "cell_type": "markdown",
   "metadata": {},
   "source": [
    "13. Faça um programa que peça um valor monetário e aumente-o em\n",
    "15%. Seu programa deve imprimir a mensagem “O novo valor é\n",
    "R$[valor]”.\n"
   ]
  },
  {
   "cell_type": "code",
   "execution_count": 59,
   "metadata": {},
   "outputs": [
    {
     "name": "stdout",
     "output_type": "stream",
     "text": [
      "Digite um valor monetário (R$): 20\n",
      "O novo valor é R$23.0\n"
     ]
    }
   ],
   "source": [
    "x = float(input(\"Digite um valor monetário (R$): \"))\n",
    "y = x*1.15\n",
    "print(f\"O novo valor é R${y}\")"
   ]
  },
  {
   "cell_type": "markdown",
   "metadata": {},
   "source": [
    "\n",
    "14. Faça um programa que peça um valor monetário e diminua-o em 15%.\n",
    "Seu programa deve imprimir a mensagem “O novo valor é R$[valor]”.\n"
   ]
  },
  {
   "cell_type": "code",
   "execution_count": 56,
   "metadata": {},
   "outputs": [
    {
     "name": "stdout",
     "output_type": "stream",
     "text": [
      "Digite um valor monetário (R$): 100\n",
      "O novo valor é R$85.0\n"
     ]
    }
   ],
   "source": [
    "x = float(input(\"Digite um valor monetário (R$): \"))\n",
    "y = x*0.85\n",
    "print(f\"O novo valor é R${y}\")"
   ]
  },
  {
   "cell_type": "markdown",
   "metadata": {},
   "source": [
    "__________________\n",
    "__________________\n",
    "\n",
    "__________________\n",
    "__________________\n"
   ]
  },
  {
   "cell_type": "markdown",
   "metadata": {},
   "source": [
    "# DESAFIOS"
   ]
  },
  {
   "cell_type": "markdown",
   "metadata": {},
   "source": [
    "\n",
    "1. Peça para o usuário digitar uma velocidade inicial (em m/s), uma posição inicial (em m) e um instante de tempo (em s) e imprima a posição de um projétil nesse instante de tempo. Dica: use a fórmula matemática:\n",
    "$yt = y0 + v0*t + (1/2)*gt^2$\n",
    "Onde, g é a aceleração da gravidade (-10m/s²), y(t) é a posição\n",
    "final, y(0) é a posição inicial, v(0) é a velocidade inicial e t é o\n",
    "instante de tempo.\n"
   ]
  },
  {
   "cell_type": "code",
   "execution_count": 1,
   "metadata": {},
   "outputs": [
    {
     "name": "stdout",
     "output_type": "stream",
     "text": [
      "Digite uma velocidade inicial (em m/s): 10\n",
      "Digite uma posição inicial (em metros): 5\n",
      "Digite um instante de tempo (em segundos): 3\n",
      "A posição do projétil no instante de tempo inserido é -10.0 metros\n"
     ]
    }
   ],
   "source": [
    "v0 = float(input(\"Digite uma velocidade inicial (em m/s): \"))\n",
    "p0 = float(input(\"Digite uma posição inicial (em metros): \"))\n",
    "t = float(input(\"Digite um instante de tempo (em segundos): \"))\n",
    "\n",
    "p = (p0) + (v0*t) + (((-10)*(t**2))/2)\n",
    "\n",
    "print(f\"A posição do projétil no instante de tempo inserido é {p} metros\")"
   ]
  },
  {
   "cell_type": "markdown",
   "metadata": {},
   "source": [
    "\n",
    "2. Faça um programa que informe a data e a hora para o usuário. Para\n",
    "isso use a função datetime.now() do módulo datetime"
   ]
  },
  {
   "cell_type": "code",
   "execution_count": 3,
   "metadata": {},
   "outputs": [],
   "source": [
    "from datetime import datetime"
   ]
  },
  {
   "cell_type": "code",
   "execution_count": 5,
   "metadata": {},
   "outputs": [
    {
     "name": "stdout",
     "output_type": "stream",
     "text": [
      "21/10/2021 19:43\n"
     ]
    }
   ],
   "source": [
    "datahora = datetime.now()\n",
    "datahora = datahora.strftime (\"%d/%m/%Y %H:%M\")\n",
    "print(datahora)"
   ]
  }
 ],
 "metadata": {
  "kernelspec": {
   "display_name": "Python 3",
   "language": "python",
   "name": "python3"
  },
  "language_info": {
   "codemirror_mode": {
    "name": "ipython",
    "version": 3
   },
   "file_extension": ".py",
   "mimetype": "text/x-python",
   "name": "python",
   "nbconvert_exporter": "python",
   "pygments_lexer": "ipython3",
   "version": "3.8.8"
  }
 },
 "nbformat": 4,
 "nbformat_minor": 4
}
