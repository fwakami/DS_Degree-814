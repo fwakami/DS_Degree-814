{
 "cells": [
  {
   "cell_type": "markdown",
   "id": "01116eb3-370d-4dfb-8d8a-07b0e77e94f5",
   "metadata": {},
   "source": [
    "7. Crie uma modelagem de classes para uma agenda capaz de armazenar contatos. Através dessa agenda é possível incluir, remover, buscar e listar contatos já cadastrados."
   ]
  },
  {
   "cell_type": "code",
   "execution_count": 1,
   "id": "dd727bdd-8b46-406a-8e91-72a36374e8f9",
   "metadata": {
    "tags": []
   },
   "outputs": [],
   "source": [
    "class Agenda:\n",
    "    \n",
    "    '''\n",
    "    Cria uma agenda com contatos (nome, telefone, email)\n",
    "    \n",
    "    '''\n",
    "    \n",
    "    def __init__(self, dono):\n",
    "        \n",
    "        '''\n",
    "        Parâmetro\n",
    "        ---------\n",
    "        \n",
    "        dono : str\n",
    "            dono da agenda\n",
    "            \n",
    "        '''\n",
    "        \n",
    "        self.dono = dono\n",
    "        self.lista_contatos = []\n",
    "        \n",
    "    def __repr__(self):\n",
    "        return f'Esta agenda pertence à {self.dono}.'\n",
    "    \n",
    "    def adicionar_contato (self, nome, telefone, email):\n",
    "        \n",
    "        '''\n",
    "        Adiciona um contato na lista de contatos.\n",
    "        O e-mail será utilizado para identificar um determinado contato.\n",
    "        \n",
    "        Parâmetros\n",
    "        ----------\n",
    "        \n",
    "        nome : str\n",
    "            nome do contato\n",
    "            \n",
    "        telefone : int\n",
    "            telefone do contato;\n",
    "            formato ddd + 9 dígitos, por exemplo:\n",
    "            11997048733\n",
    "            \n",
    "        email : str\n",
    "            email do contato\n",
    "            \n",
    "        Output\n",
    "        ------\n",
    "        \n",
    "        out : int\n",
    "            Retorna 1 se o contato foi adicionado com sucesso.\n",
    "            Retorna 0 se o contato já existe na lista de contatos.\n",
    "            \n",
    "        '''\n",
    "        \n",
    "        dados_contato = {\"Nome\": nome,\n",
    "                        \"Telefone\": telefone,\n",
    "                        \"E-mail\": email}\n",
    "        \n",
    "        # caso a lista de contatos esteja vazia:\n",
    "        \n",
    "        if self.lista_contatos == []:\n",
    "            self.lista_contatos.append(dados_contato)\n",
    "            return 1\n",
    "            \n",
    "        else:\n",
    "            for contato in self.lista_contatos:\n",
    "                if dados_contato[\"E-mail\"] == contato[\"E-mail\"]:\n",
    "                    return 0\n",
    "            else:\n",
    "                self.lista_contatos.append(dados_contato)\n",
    "                return 1\n",
    "                    \n",
    "    def remover_contato (self, email):\n",
    "        \n",
    "        '''\n",
    "        Remove um contato a partir do e-mail informado\n",
    "        \n",
    "        Parâmetro\n",
    "        ---------\n",
    "        \n",
    "        email : str\n",
    "            email do contato\n",
    "            \n",
    "        Output\n",
    "        ------\n",
    "        \n",
    "        out : int\n",
    "            Retorna 1 se o contato foi removido com sucesso.\n",
    "            Retorna 0 se o contato não existe.\n",
    "            Retorna -1 se a lista está vazia.\n",
    "            \n",
    "        '''\n",
    "        \n",
    "        if self.lista_contatos == []:\n",
    "            return -1\n",
    "            \n",
    "        else:\n",
    "            for contato in self.lista_contatos:\n",
    "                if email == contato[\"E-mail\"]:\n",
    "                    index_contato = self.lista_contatos.index(contato)\n",
    "                    self.lista_contatos.pop(index_contato)\n",
    "                    return 1               \n",
    "            \n",
    "            return 0\n",
    "                    \n",
    "    def buscar_contato (self, keyword):\n",
    "        \n",
    "        '''\n",
    "        Busca determinado contato através do nome (ou parte dele)\n",
    "        \n",
    "        Parâmetro\n",
    "        ---------\n",
    "        \n",
    "        keywords : str\n",
    "            Parte do nome que deseja buscar\n",
    "            \n",
    "        Outpup\n",
    "        ------\n",
    "        \n",
    "        out : list[str]\n",
    "            retorna lista de contatos achados através da keyword\n",
    "        \n",
    "        '''\n",
    "        \n",
    "        # lista vazia que será preenchida com os contatos encontrados através da keyword passada:\n",
    "        lista_keywords = []\n",
    "        \n",
    "        for contato in self.lista_contatos:\n",
    "            if keyword in (contato[\"Nome\"]):\n",
    "                lista_keywords.append(contato)\n",
    "                \n",
    "        return lista_keywords\n",
    "    \n",
    "    def listar_contatos(self):\n",
    "        \n",
    "        '''\n",
    "        Printa em tela a lista de contatos\n",
    "        \n",
    "        Output\n",
    "        ------\n",
    "        \n",
    "        lista_contatos : list\n",
    "            lista com todos os contatos\n",
    "        '''\n",
    "        \n",
    "        return self.lista_contatos"
   ]
  },
  {
   "cell_type": "code",
   "execution_count": 2,
   "id": "daf5e5dd-7bdb-4d41-9699-9cae94ebfae6",
   "metadata": {},
   "outputs": [],
   "source": [
    "agenda1 = Agenda(\"Felipe\")"
   ]
  },
  {
   "cell_type": "code",
   "execution_count": 3,
   "id": "3c1b3445-8e56-408c-a3e8-8efc4fe89676",
   "metadata": {},
   "outputs": [
    {
     "data": {
      "text/plain": [
       "Esta agenda pertence à Felipe."
      ]
     },
     "execution_count": 3,
     "metadata": {},
     "output_type": "execute_result"
    }
   ],
   "source": [
    "agenda1"
   ]
  },
  {
   "cell_type": "code",
   "execution_count": 4,
   "id": "bc0e7c53-9633-4b69-ac7e-4d7e07a3cb25",
   "metadata": {},
   "outputs": [
    {
     "data": {
      "text/plain": [
       "1"
      ]
     },
     "execution_count": 4,
     "metadata": {},
     "output_type": "execute_result"
    }
   ],
   "source": [
    "agenda1.adicionar_contato(\"Juliana\", 19982100576, \"jrohwed@gmail.com\")"
   ]
  },
  {
   "cell_type": "code",
   "execution_count": 5,
   "id": "6261b689-6d4a-4fdc-8a9c-32ca43132d0e",
   "metadata": {},
   "outputs": [
    {
     "data": {
      "text/plain": [
       "1"
      ]
     },
     "execution_count": 5,
     "metadata": {},
     "output_type": "execute_result"
    }
   ],
   "source": [
    "agenda1.adicionar_contato(\"Flavio\", 11918273049, \"alflavio@gmail.com\")"
   ]
  },
  {
   "cell_type": "code",
   "execution_count": 6,
   "id": "3b32c226-1cba-4b28-8c79-63109d0ab2fe",
   "metadata": {},
   "outputs": [
    {
     "data": {
      "text/plain": [
       "1"
      ]
     },
     "execution_count": 6,
     "metadata": {},
     "output_type": "execute_result"
    }
   ],
   "source": [
    "agenda1.adicionar_contato(\"Pedro\", 11982730495, \"pedrodm@gmail.com\")"
   ]
  },
  {
   "cell_type": "code",
   "execution_count": 7,
   "id": "b64eb3ce-a783-4191-97b5-f293887f8df5",
   "metadata": {},
   "outputs": [
    {
     "data": {
      "text/plain": [
       "1"
      ]
     },
     "execution_count": 7,
     "metadata": {},
     "output_type": "execute_result"
    }
   ],
   "source": [
    "agenda1.adicionar_contato(\"Castro\", 1193827364, \"gmcastro@gmail.com\")"
   ]
  },
  {
   "cell_type": "code",
   "execution_count": 8,
   "id": "45b7b58e-6dd0-47de-836a-5ff22384ad70",
   "metadata": {},
   "outputs": [
    {
     "data": {
      "text/plain": [
       "1"
      ]
     },
     "execution_count": 8,
     "metadata": {},
     "output_type": "execute_result"
    }
   ],
   "source": [
    "agenda1.adicionar_contato(\"Pedro\", 11982730496, \"pedrao@gmail.com\")"
   ]
  },
  {
   "cell_type": "code",
   "execution_count": 9,
   "id": "f48120cd-3b95-4489-8101-c4981b77c8c7",
   "metadata": {},
   "outputs": [
    {
     "data": {
      "text/plain": [
       "[{'Nome': 'Juliana', 'Telefone': 19982100576, 'E-mail': 'jrohwed@gmail.com'},\n",
       " {'Nome': 'Flavio', 'Telefone': 11918273049, 'E-mail': 'alflavio@gmail.com'},\n",
       " {'Nome': 'Pedro', 'Telefone': 11982730495, 'E-mail': 'pedrodm@gmail.com'},\n",
       " {'Nome': 'Castro', 'Telefone': 1193827364, 'E-mail': 'gmcastro@gmail.com'},\n",
       " {'Nome': 'Pedro', 'Telefone': 11982730496, 'E-mail': 'pedrao@gmail.com'}]"
      ]
     },
     "execution_count": 9,
     "metadata": {},
     "output_type": "execute_result"
    }
   ],
   "source": [
    "agenda1.listar_contatos()"
   ]
  },
  {
   "cell_type": "code",
   "execution_count": 10,
   "id": "bf343d73-e504-49eb-98c5-3c9d5ed2e38d",
   "metadata": {},
   "outputs": [
    {
     "data": {
      "text/plain": [
       "[{'Nome': 'Juliana', 'Telefone': 19982100576, 'E-mail': 'jrohwed@gmail.com'}]"
      ]
     },
     "execution_count": 10,
     "metadata": {},
     "output_type": "execute_result"
    }
   ],
   "source": [
    "agenda1.buscar_contato(\"Ju\")"
   ]
  },
  {
   "cell_type": "code",
   "execution_count": 11,
   "id": "1d62ba75-d8fb-4c9b-8f55-09576ee568a9",
   "metadata": {},
   "outputs": [
    {
     "data": {
      "text/plain": [
       "[{'Nome': 'Pedro', 'Telefone': 11982730495, 'E-mail': 'pedrodm@gmail.com'},\n",
       " {'Nome': 'Pedro', 'Telefone': 11982730496, 'E-mail': 'pedrao@gmail.com'}]"
      ]
     },
     "execution_count": 11,
     "metadata": {},
     "output_type": "execute_result"
    }
   ],
   "source": [
    "agenda1.buscar_contato(\"Pedro\")"
   ]
  },
  {
   "cell_type": "code",
   "execution_count": 12,
   "id": "5872dd9f-3e3c-4024-b45f-cbee2aab70f8",
   "metadata": {
    "tags": []
   },
   "outputs": [
    {
     "data": {
      "text/plain": [
       "1"
      ]
     },
     "execution_count": 12,
     "metadata": {},
     "output_type": "execute_result"
    }
   ],
   "source": [
    "agenda1.remover_contato(\"pedrodm@gmail.com\")"
   ]
  },
  {
   "cell_type": "code",
   "execution_count": 13,
   "id": "10baeec8-1263-4371-b6d9-eb47d7e0e0ee",
   "metadata": {},
   "outputs": [
    {
     "data": {
      "text/plain": [
       "[{'Nome': 'Juliana', 'Telefone': 19982100576, 'E-mail': 'jrohwed@gmail.com'},\n",
       " {'Nome': 'Flavio', 'Telefone': 11918273049, 'E-mail': 'alflavio@gmail.com'},\n",
       " {'Nome': 'Castro', 'Telefone': 1193827364, 'E-mail': 'gmcastro@gmail.com'},\n",
       " {'Nome': 'Pedro', 'Telefone': 11982730496, 'E-mail': 'pedrao@gmail.com'}]"
      ]
     },
     "execution_count": 13,
     "metadata": {},
     "output_type": "execute_result"
    }
   ],
   "source": [
    "agenda1.listar_contatos()"
   ]
  },
  {
   "cell_type": "code",
   "execution_count": 14,
   "id": "1bde5c4e-e45d-490e-901e-25025c0dc87c",
   "metadata": {},
   "outputs": [
    {
     "data": {
      "text/plain": [
       "1"
      ]
     },
     "execution_count": 14,
     "metadata": {},
     "output_type": "execute_result"
    }
   ],
   "source": [
    "agenda1.remover_contato(\"jrohwed@gmail.com\")"
   ]
  },
  {
   "cell_type": "code",
   "execution_count": 15,
   "id": "fc8e9e1f-0333-423e-b952-30694fcf712e",
   "metadata": {},
   "outputs": [
    {
     "data": {
      "text/plain": [
       "1"
      ]
     },
     "execution_count": 15,
     "metadata": {},
     "output_type": "execute_result"
    }
   ],
   "source": [
    "agenda1.remover_contato(\"alflavio@gmail.com\")"
   ]
  },
  {
   "cell_type": "code",
   "execution_count": 16,
   "id": "c28a5441-a95c-4d0e-a2ac-8ae46cf76ec6",
   "metadata": {},
   "outputs": [
    {
     "data": {
      "text/plain": [
       "0"
      ]
     },
     "execution_count": 16,
     "metadata": {},
     "output_type": "execute_result"
    }
   ],
   "source": [
    "agenda1.remover_contato(\"pedrodm@gmail.com\")"
   ]
  },
  {
   "cell_type": "code",
   "execution_count": 17,
   "id": "e6762077-473a-4596-b7ab-4a759385b803",
   "metadata": {},
   "outputs": [
    {
     "data": {
      "text/plain": [
       "1"
      ]
     },
     "execution_count": 17,
     "metadata": {},
     "output_type": "execute_result"
    }
   ],
   "source": [
    "agenda1.remover_contato(\"gmcastro@gmail.com\")"
   ]
  },
  {
   "cell_type": "code",
   "execution_count": 18,
   "id": "958750c7-d0fc-4f3e-a314-b746446770ba",
   "metadata": {},
   "outputs": [
    {
     "data": {
      "text/plain": [
       "[{'Nome': 'Pedro', 'Telefone': 11982730496, 'E-mail': 'pedrao@gmail.com'}]"
      ]
     },
     "execution_count": 18,
     "metadata": {},
     "output_type": "execute_result"
    }
   ],
   "source": [
    "agenda1.listar_contatos()"
   ]
  },
  {
   "cell_type": "code",
   "execution_count": 19,
   "id": "06406560-459f-466c-9b56-1153c3c90639",
   "metadata": {},
   "outputs": [
    {
     "data": {
      "text/plain": [
       "0"
      ]
     },
     "execution_count": 19,
     "metadata": {},
     "output_type": "execute_result"
    }
   ],
   "source": [
    "agenda1.remover_contato(\"pedrodm@gmail.com\")"
   ]
  },
  {
   "cell_type": "markdown",
   "id": "4aca5fba-ba8c-4e87-8278-d3a36f920cf7",
   "metadata": {},
   "source": [
    "---"
   ]
  }
 ],
 "metadata": {
  "kernelspec": {
   "display_name": "Python 3",
   "language": "python",
   "name": "python3"
  },
  "language_info": {
   "codemirror_mode": {
    "name": "ipython",
    "version": 3
   },
   "file_extension": ".py",
   "mimetype": "text/x-python",
   "name": "python",
   "nbconvert_exporter": "python",
   "pygments_lexer": "ipython3",
   "version": "3.8.8"
  }
 },
 "nbformat": 4,
 "nbformat_minor": 5
}
