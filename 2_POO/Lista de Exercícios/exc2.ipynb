{
 "cells": [
  {
   "cell_type": "code",
   "execution_count": 1,
   "id": "6d4006b8-22f5-47ef-bfea-7acf07b9a61e",
   "metadata": {},
   "outputs": [
    {
     "data": {
      "text/plain": [
       "20"
      ]
     },
     "execution_count": 1,
     "metadata": {},
     "output_type": "execute_result"
    }
   ],
   "source": [
    "class retangulo:\n",
    "    \n",
    "    '''\n",
    "    Cria a representação de um retângulo\n",
    "    \n",
    "    '''\n",
    "    \n",
    "    def __init__(self, lado_a, lado_b):\n",
    "        \n",
    "        '''\n",
    "        Calcula a área do retângulo\n",
    "        \n",
    "        \n",
    "        Parâmetros\n",
    "        ----------\n",
    "        \n",
    "        lado_a: float\n",
    "            base do retangulo\n",
    "            \n",
    "        lado_b: float\n",
    "            altura do retangulo\n",
    "            \n",
    "        '''\n",
    "        \n",
    "        self.base = lado_a\n",
    "        self.altura = lado_b\n",
    "    \n",
    "    def area_retangulo(self):\n",
    "        \n",
    "        '''\n",
    "        Calcula a área do retângulo\n",
    "        \n",
    "        '''\n",
    "        \n",
    "        self.area_retangulo = self.base * self.altura\n",
    "        return self.area_retangulo\n",
    "    \n",
    "retangulo_1 = retangulo(\n",
    "    lado_a = 4,\n",
    "    lado_b = 5\n",
    ")\n",
    "\n",
    "retangulo_1.area_retangulo()"
   ]
  }
 ],
 "metadata": {
  "kernelspec": {
   "display_name": "Python 3",
   "language": "python",
   "name": "python3"
  },
  "language_info": {
   "codemirror_mode": {
    "name": "ipython",
    "version": 3
   },
   "file_extension": ".py",
   "mimetype": "text/x-python",
   "name": "python",
   "nbconvert_exporter": "python",
   "pygments_lexer": "ipython3",
   "version": "3.8.8"
  }
 },
 "nbformat": 4,
 "nbformat_minor": 5
}
