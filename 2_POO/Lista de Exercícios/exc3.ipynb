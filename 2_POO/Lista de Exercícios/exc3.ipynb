{
 "cells": [
  {
   "cell_type": "code",
   "execution_count": 1,
   "id": "54346e94-9545-449d-bf75-bea341b92919",
   "metadata": {},
   "outputs": [],
   "source": [
    "class Funcionario:\n",
    "    \n",
    "    def __init__ (self, nome, email):\n",
    "    \n",
    "        '''\n",
    "        Cria um funcionário\n",
    "        \n",
    "        Parâmetros\n",
    "        ----------\n",
    "        \n",
    "        nome : str\n",
    "            nome do funcionário\n",
    "            \n",
    "        email : str\n",
    "            email do funcionário\n",
    "            \n",
    "        '''\n",
    "        \n",
    "        self.nome = nome\n",
    "        self.email = email\n",
    "        \n",
    "        # horas trabalhadas no mês do funcionário\n",
    "        self.horas_trabalhadas = {}\n",
    "        \n",
    "        # valor da hora naquele mês\n",
    "        self.salario_hora = {}\n",
    "        \n",
    "    def lancar_horas_mes(self, mes, quantidade_horas):\n",
    "        \n",
    "        '''\n",
    "        Lança a quantidade de horas trabalhadas no mês\n",
    "        \n",
    "        Parâmetros\n",
    "        ----------\n",
    "        \n",
    "        mês : str\n",
    "            mês vigente, exemplo: \"10/2021\"\n",
    "            \n",
    "        quantidade_horas : int\n",
    "            quantidade de horas trabalhadas no mês\n",
    "            \n",
    "        '''\n",
    "        \n",
    "        self.horas_trabalhadas[mes] = quantidade_horas\n",
    "        \n",
    "    def define_salario_hora_mes(self, mes, valor_salario_hora):\n",
    "        \n",
    "        '''\n",
    "        Define o valor do salário por hora trabalhada naquele mês\n",
    "        \n",
    "        Parâmetros\n",
    "        ----------\n",
    "        \n",
    "        mês : str\n",
    "            mês vigente, exemplo: \"10/2021\"\n",
    "            \n",
    "        quantidade_horas : float\n",
    "            valor da hora no mês vigente\n",
    "            \n",
    "        '''\n",
    "        \n",
    "        self.salario_hora[mes] = valor_salario_hora\n",
    "        \n",
    "    def calcula_salario_mes(self, mes):\n",
    "        \n",
    "        '''\n",
    "        Calcula o salário para o mês vigente\n",
    "        \n",
    "        Parâmetros\n",
    "        ----------\n",
    "        \n",
    "        mês : str\n",
    "            mês vigente, exemplo: \"10/2021\"\n",
    "            \n",
    "        Retorno:\n",
    "        --------\n",
    "        \n",
    "        out : float\n",
    "            valor do salário no mês vigente\n",
    "            Retorna 0 se não trabalhou no mês,\n",
    "            ou se o mês não está cadastrado.\n",
    "            \n",
    "        '''\n",
    "        \n",
    "        if ((mes in self.salario_hora) and (mes in self.horas_trabalhadas)):\n",
    "        \n",
    "            salario_mes = self.salario_hora[mes] * self.horas_trabalhadas[mes]\n",
    "        \n",
    "            return salario_mes\n",
    "            \n",
    "        print('Salário ou hora não cadastrada.')\n",
    "        return 0"
   ]
  },
  {
   "cell_type": "code",
   "execution_count": 2,
   "id": "1a0d2cb5-b2e7-4e10-b4fb-4166c06ef1ab",
   "metadata": {},
   "outputs": [],
   "source": [
    "luis = Funcionario(nome='Luis', email='luis@gmail.com')"
   ]
  },
  {
   "cell_type": "code",
   "execution_count": 3,
   "id": "5031db68-5749-4262-88d0-e201289faf98",
   "metadata": {},
   "outputs": [],
   "source": [
    "luis.lancar_horas_mes('10/2021', 120)"
   ]
  },
  {
   "cell_type": "code",
   "execution_count": 4,
   "id": "68a7654f-29c2-468c-94e8-a4a0a831dfeb",
   "metadata": {},
   "outputs": [
    {
     "data": {
      "text/plain": [
       "{'10/2021': 120}"
      ]
     },
     "execution_count": 4,
     "metadata": {},
     "output_type": "execute_result"
    }
   ],
   "source": [
    "luis.horas_trabalhadas"
   ]
  },
  {
   "cell_type": "code",
   "execution_count": 5,
   "id": "7953fc5c-5994-44d4-9271-66940740f9d6",
   "metadata": {},
   "outputs": [],
   "source": [
    "luis.define_salario_hora_mes('10/2021', 80)"
   ]
  },
  {
   "cell_type": "code",
   "execution_count": 6,
   "id": "1cba8b31-55d5-43c1-8a00-7f125bb009d0",
   "metadata": {},
   "outputs": [
    {
     "data": {
      "text/plain": [
       "{'10/2021': 80}"
      ]
     },
     "execution_count": 6,
     "metadata": {},
     "output_type": "execute_result"
    }
   ],
   "source": [
    "luis.salario_hora"
   ]
  },
  {
   "cell_type": "code",
   "execution_count": 7,
   "id": "b7d18ed5-c3f0-4ced-a122-3ca94189750a",
   "metadata": {},
   "outputs": [
    {
     "data": {
      "text/plain": [
       "9600"
      ]
     },
     "execution_count": 7,
     "metadata": {},
     "output_type": "execute_result"
    }
   ],
   "source": [
    "luis.calcula_salario_mes('10/2021')"
   ]
  },
  {
   "cell_type": "code",
   "execution_count": 8,
   "id": "fe73a0bb-2c5e-4ce6-a74a-3ec59b09852b",
   "metadata": {},
   "outputs": [
    {
     "name": "stdout",
     "output_type": "stream",
     "text": [
      "Salário ou hora não cadastrada.\n"
     ]
    },
    {
     "data": {
      "text/plain": [
       "0"
      ]
     },
     "execution_count": 8,
     "metadata": {},
     "output_type": "execute_result"
    }
   ],
   "source": [
    "luis.calcula_salario_mes('11/2021')"
   ]
  },
  {
   "cell_type": "code",
   "execution_count": 10,
   "id": "ec8ee07e-7bba-48a0-80b3-6104385835a4",
   "metadata": {},
   "outputs": [],
   "source": [
    "luis.lancar_horas_mes('11/2021', 136)"
   ]
  },
  {
   "cell_type": "code",
   "execution_count": 11,
   "id": "75feff42-ace0-4453-a1e3-ab3d4bb26860",
   "metadata": {},
   "outputs": [
    {
     "data": {
      "text/plain": [
       "{'10/2021': 120, '11/2021': 136}"
      ]
     },
     "execution_count": 11,
     "metadata": {},
     "output_type": "execute_result"
    }
   ],
   "source": [
    "luis.horas_trabalhadas"
   ]
  },
  {
   "cell_type": "code",
   "execution_count": 12,
   "id": "89c258ba-dbf6-4f34-b633-cb81f3e16856",
   "metadata": {},
   "outputs": [],
   "source": [
    "luis.define_salario_hora_mes('11/2021', 75)"
   ]
  },
  {
   "cell_type": "code",
   "execution_count": 13,
   "id": "60ac95f4-17b0-4c31-be19-8e4077dcf94f",
   "metadata": {},
   "outputs": [
    {
     "data": {
      "text/plain": [
       "{'10/2021': 80, '11/2021': 75}"
      ]
     },
     "execution_count": 13,
     "metadata": {},
     "output_type": "execute_result"
    }
   ],
   "source": [
    "luis.salario_hora"
   ]
  },
  {
   "cell_type": "code",
   "execution_count": 14,
   "id": "5ccaaeca-2a95-4ff1-b1d3-f75c541889a0",
   "metadata": {},
   "outputs": [
    {
     "data": {
      "text/plain": [
       "10200"
      ]
     },
     "execution_count": 14,
     "metadata": {},
     "output_type": "execute_result"
    }
   ],
   "source": [
    "luis.calcula_salario_mes('11/2021')"
   ]
  }
 ],
 "metadata": {
  "kernelspec": {
   "display_name": "Python 3",
   "language": "python",
   "name": "python3"
  },
  "language_info": {
   "codemirror_mode": {
    "name": "ipython",
    "version": 3
   },
   "file_extension": ".py",
   "mimetype": "text/x-python",
   "name": "python",
   "nbconvert_exporter": "python",
   "pygments_lexer": "ipython3",
   "version": "3.8.8"
  }
 },
 "nbformat": 4,
 "nbformat_minor": 5
}
