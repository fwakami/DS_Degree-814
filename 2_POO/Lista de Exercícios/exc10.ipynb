{
 "cells": [
  {
   "cell_type": "markdown",
   "id": "71008989-ab52-4a0d-a957-386f63e6bdeb",
   "metadata": {},
   "source": [
    "10. Crie uma classe ContaCorrente com os atributos cliente (que deve ser um objeto da classe Cliente) e saldo. Crie métodos para depósito, saque e transferência. Os métodos de saque e transferência devem verificar se é possível realizar a transação."
   ]
  },
  {
   "cell_type": "code",
   "execution_count": 126,
   "id": "d3fd0f40-37b1-4c8c-8f30-129a3d2e4dc8",
   "metadata": {},
   "outputs": [],
   "source": [
    "class Cliente:\n",
    "    \n",
    "    '''\n",
    "    Essa classe cria uma representação de um cliente\n",
    "    '''\n",
    "    \n",
    "    def __init__(self, nome, idade, email):\n",
    "        \n",
    "        '''\n",
    "        Parâmetros\n",
    "        ----------\n",
    "        \n",
    "        nome : str\n",
    "            nome do cliente\n",
    "            \n",
    "        idade : int\n",
    "            idade do cliente\n",
    "            \n",
    "        email : str\n",
    "            email do cliente\n",
    "        '''\n",
    "        \n",
    "        self.nome = nome\n",
    "        self.idade = idade\n",
    "        self.email = email\n",
    "        \n",
    "    def __repr__(self):\n",
    "        \n",
    "        texto = \"Nome: {}\\nIdade: {}\\nE-mail: {}\".format(\n",
    "            self.nome,\n",
    "            self.idade,\n",
    "            self.email)\n",
    "        \n",
    "        return texto\n",
    "    \n",
    "class ContaCorrente:\n",
    "    \n",
    "    '''\n",
    "    Classe que representa a conta corrente de um cliente\n",
    "    \n",
    "    '''\n",
    "    \n",
    "    def __init__(self, cliente, saldo = 0):\n",
    "        \n",
    "        '''\n",
    "        Construtor\n",
    "        \n",
    "        Parâmteros\n",
    "        ----------\n",
    "        \n",
    "        cliente : obj\n",
    "            cliente que estará atrelado(a) à conta corrente\n",
    "            \n",
    "        saldo : int\n",
    "            saldo inicial da conta corrente\n",
    "        \n",
    "        '''\n",
    "        \n",
    "        self.cliente = cliente\n",
    "        self.saldo = saldo\n",
    "        \n",
    "        @property\n",
    "        def saldo(self):\n",
    "            return self.__saldo\n",
    "        \n",
    "    def __repr__(self):\n",
    "        texto = self.cliente.__repr__() + \"Saldo: {}\".format(\n",
    "            self.saldo)\n",
    "        \n",
    "    def saque(self, valor):\n",
    "        \n",
    "        '''\n",
    "        Saca dinheiro da conta corrente do cliente\n",
    "        \n",
    "        Parâmetros\n",
    "        ----------\n",
    "        \n",
    "        valor : int\n",
    "            valor a ser sacado\n",
    "            \n",
    "        '''\n",
    "        \n",
    "        if self.saldo - valor >= 0:\n",
    "            self.saldo -= valor\n",
    "        else:\n",
    "            print(\"Saldo insuficiente\")\n",
    "            \n",
    "    def deposito(self, valor):\n",
    "        \n",
    "        '''\n",
    "        Deposita dinheiro na conta corrente do cliente\n",
    "        \n",
    "        Parâmetros\n",
    "        ----------\n",
    "        \n",
    "        valor : int\n",
    "            valor a ser depositado\n",
    "            \n",
    "        '''\n",
    "        \n",
    "        self.saldo += valor\n",
    "        \n",
    "    def transferencia(self, other, valor):\n",
    "        \n",
    "        '''\n",
    "        Transfere dinheiro para a conta corrente de um outro cliente\n",
    "        \n",
    "        Parâmetros\n",
    "        ----------\n",
    "        \n",
    "        other : obj\n",
    "            conta corrente da pessoa que receberá a transferência\n",
    "        \n",
    "        valor : int\n",
    "            valor a ser transferido\n",
    "            \n",
    "        '''\n",
    "        \n",
    "        if self.saldo - valor >= 0:\n",
    "            self.saldo -= valor\n",
    "            other.saldo += valor\n",
    "        else:\n",
    "            print(\"Saldo insuficiente\")"
   ]
  },
  {
   "cell_type": "code",
   "execution_count": 127,
   "id": "54071614-a5e7-4164-9625-07c709642823",
   "metadata": {},
   "outputs": [],
   "source": [
    "Felipe = Cliente(nome = \"Felipe\",\n",
    "                idade = 27,\n",
    "                email = \"felipe@kpmg.com.br\")\n",
    "\n",
    "Juliana = Cliente(nome = \"Juliana\",\n",
    "                idade = 34,\n",
    "                email = \"julana@kpmg.com.br\")"
   ]
  },
  {
   "cell_type": "code",
   "execution_count": 128,
   "id": "94f3ebe8-137d-487d-9995-0d6c4c3ea200",
   "metadata": {},
   "outputs": [],
   "source": [
    "contaFelipe = ContaCorrente(Felipe, 3500)\n",
    "contaJuliana = ContaCorrente(Juliana, 5000)"
   ]
  },
  {
   "cell_type": "code",
   "execution_count": 129,
   "id": "a6d92e86-ab14-4a62-b090-1d46c8af2e0f",
   "metadata": {},
   "outputs": [
    {
     "data": {
      "text/plain": [
       "3500"
      ]
     },
     "execution_count": 129,
     "metadata": {},
     "output_type": "execute_result"
    }
   ],
   "source": [
    "contaFelipe.saldo"
   ]
  },
  {
   "cell_type": "code",
   "execution_count": 130,
   "id": "abc52e75-237e-4d8b-b5fe-06c0b3451c65",
   "metadata": {},
   "outputs": [
    {
     "data": {
      "text/plain": [
       "5000"
      ]
     },
     "execution_count": 130,
     "metadata": {},
     "output_type": "execute_result"
    }
   ],
   "source": [
    "contaJuliana.saldo"
   ]
  },
  {
   "cell_type": "code",
   "execution_count": 131,
   "id": "487ad813-7b00-4886-8475-b019bdc7d86c",
   "metadata": {},
   "outputs": [],
   "source": [
    "contaFelipe.saque(3000)"
   ]
  },
  {
   "cell_type": "code",
   "execution_count": 132,
   "id": "8eeb0fae-fb12-4f40-bd8e-5b1dba6becd1",
   "metadata": {},
   "outputs": [
    {
     "data": {
      "text/plain": [
       "500"
      ]
     },
     "execution_count": 132,
     "metadata": {},
     "output_type": "execute_result"
    }
   ],
   "source": [
    "contaFelipe.saldo"
   ]
  },
  {
   "cell_type": "code",
   "execution_count": 133,
   "id": "148ae66d-92e6-4c8f-8dfa-498aecd722af",
   "metadata": {},
   "outputs": [],
   "source": [
    "contaFelipe.deposito(2500)"
   ]
  },
  {
   "cell_type": "code",
   "execution_count": 134,
   "id": "5d971775-f01d-4a91-b8f1-7221144392ef",
   "metadata": {},
   "outputs": [
    {
     "data": {
      "text/plain": [
       "3000"
      ]
     },
     "execution_count": 134,
     "metadata": {},
     "output_type": "execute_result"
    }
   ],
   "source": [
    "contaFelipe.saldo"
   ]
  },
  {
   "cell_type": "code",
   "execution_count": 135,
   "id": "85a66f7c-2ac3-43a1-9bc9-e84b4bae427b",
   "metadata": {},
   "outputs": [
    {
     "name": "stdout",
     "output_type": "stream",
     "text": [
      "Saldo insuficiente\n"
     ]
    }
   ],
   "source": [
    "contaFelipe.transferencia(Juliana, 3500)"
   ]
  },
  {
   "cell_type": "code",
   "execution_count": 136,
   "id": "130516fc-f543-48cf-93e3-bda68ab6beab",
   "metadata": {},
   "outputs": [],
   "source": [
    "contaFelipe.transferencia(contaJuliana, 1000)"
   ]
  },
  {
   "cell_type": "code",
   "execution_count": 137,
   "id": "d44f7fc4-f5c0-4ab5-a175-f4af99a53949",
   "metadata": {},
   "outputs": [
    {
     "data": {
      "text/plain": [
       "6000"
      ]
     },
     "execution_count": 137,
     "metadata": {},
     "output_type": "execute_result"
    }
   ],
   "source": [
    "contaJuliana.saldo"
   ]
  },
  {
   "cell_type": "code",
   "execution_count": 138,
   "id": "a7d98f1d-8021-48ea-b9ab-10a976699e53",
   "metadata": {},
   "outputs": [],
   "source": [
    "contaJuliana.transferencia(contaFelipe, 1500)"
   ]
  },
  {
   "cell_type": "code",
   "execution_count": 139,
   "id": "79cd3558-b659-41fc-b2a7-4a93b0232f3b",
   "metadata": {},
   "outputs": [
    {
     "data": {
      "text/plain": [
       "3500"
      ]
     },
     "execution_count": 139,
     "metadata": {},
     "output_type": "execute_result"
    }
   ],
   "source": [
    "contaFelipe.saldo"
   ]
  },
  {
   "cell_type": "code",
   "execution_count": 140,
   "id": "46807bcb-ba20-40e6-b55d-4a85bd21b753",
   "metadata": {},
   "outputs": [
    {
     "data": {
      "text/plain": [
       "4500"
      ]
     },
     "execution_count": 140,
     "metadata": {},
     "output_type": "execute_result"
    }
   ],
   "source": [
    "contaJuliana.saldo"
   ]
  }
 ],
 "metadata": {
  "kernelspec": {
   "display_name": "Python 3",
   "language": "python",
   "name": "python3"
  },
  "language_info": {
   "codemirror_mode": {
    "name": "ipython",
    "version": 3
   },
   "file_extension": ".py",
   "mimetype": "text/x-python",
   "name": "python",
   "nbconvert_exporter": "python",
   "pygments_lexer": "ipython3",
   "version": "3.8.8"
  }
 },
 "nbformat": 4,
 "nbformat_minor": 5
}
