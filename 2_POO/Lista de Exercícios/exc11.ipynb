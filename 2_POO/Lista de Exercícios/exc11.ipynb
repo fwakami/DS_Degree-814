{
 "cells": [
  {
   "cell_type": "markdown",
   "id": "adde5a87-3d40-457c-884a-49f1d8cef257",
   "metadata": {},
   "source": [
    "11. Crie uma classe Fração cujos atributos são numerador (número de cima) e denominador (número de baixo).\n",
    "\n",
    "Implemente os métodos de adição, subtração, multiplicação, divisão que retornam objetos do tipo Fração.\n",
    "\n",
    "Implemente também o método _ repr _.\n",
    "\n",
    "Implemente métodos para comparação: igualdade (==) e desigualdades (!=, <=, >=, < e >)."
   ]
  },
  {
   "cell_type": "code",
   "execution_count": 141,
   "id": "964a1799-ae41-4612-aae2-5625f82ec39d",
   "metadata": {},
   "outputs": [],
   "source": [
    "class Fracao:\n",
    "    \n",
    "    '''\n",
    "    Essa classe cria uma representação de um cliente\n",
    "    '''\n",
    "    \n",
    "    def __init__(self, numerador, denominador):\n",
    "        \n",
    "        '''\n",
    "        Construtor\n",
    "        \n",
    "        Parâmetros\n",
    "        ----------\n",
    "        \n",
    "        numerador : int\n",
    "            número \"de cima\" da fração\n",
    "            \n",
    "        denominador : int\n",
    "            número \"de baixo\" da fração\n",
    "            \n",
    "        '''\n",
    "        \n",
    "        # condição para uma fração existir:\n",
    "        if (denominador == 0):\n",
    "            raise ValueError('Denominador não pode ser zero.')\n",
    "            \n",
    "        self.numerador = numerador\n",
    "        self.denominador = denominador\n",
    "        \n",
    "    def valor(self):\n",
    "        \n",
    "        '''\n",
    "        Calcula o valor (com casa decimais) da fração\n",
    "        \n",
    "        Output\n",
    "        ------\n",
    "        \n",
    "        out : float\n",
    "            valor da fração\n",
    "        \n",
    "        '''\n",
    "        \n",
    "        return self.numerador/self.denominador\n",
    "        \n",
    "    def __repr__(self):\n",
    "        \n",
    "        return f'{self.numerador}/{self.denominador}'\n",
    "    \n",
    "    def __add__(self, other):\n",
    "        \n",
    "        '''\n",
    "        Calcula a soma de frações\n",
    "        \n",
    "        Parâmetros\n",
    "        ----------\n",
    "        \n",
    "        other : obj\n",
    "            fração a ser somada\n",
    "            \n",
    "        '''\n",
    "                \n",
    "        num = self.numerador*other.denominador +\\\n",
    "        self.denominador*other.numerador\n",
    "        \n",
    "        den = self.denominador*other.denominador\n",
    "        \n",
    "        return Fracao(num, den)\n",
    "    \n",
    "    def __sub__(self, other):\n",
    "        \n",
    "        '''\n",
    "        Calcula a subtração de frações\n",
    "        \n",
    "        Parâmetros\n",
    "        ----------\n",
    "        \n",
    "        other : obj\n",
    "            fração a ser subtraída\n",
    "            \n",
    "        '''\n",
    "        \n",
    "        num = self.numerador*other.denominador -\\\n",
    "        self.denominador*other.numerador\n",
    "        \n",
    "        den = self.denominador*other.denominador\n",
    "        \n",
    "        return Fracao(num, den)\n",
    "    \n",
    "    def __mul__(self, other):\n",
    "        \n",
    "        '''\n",
    "        Calcula a multiplicação de frações\n",
    "        \n",
    "        Parâmetros\n",
    "        ----------\n",
    "        \n",
    "        other : obj\n",
    "            fração a ser multiplicada\n",
    "            \n",
    "        '''\n",
    "        \n",
    "        num = self.numerador*other.numerador        \n",
    "        den = self.denominador*other.denominador\n",
    "        \n",
    "        return Fracao(num, den)\n",
    "    \n",
    "    def __truediv__(self, other):\n",
    "        \n",
    "        '''\n",
    "        Calcula a divisão de frações\n",
    "        \n",
    "        Parâmetros\n",
    "        ----------\n",
    "        \n",
    "        other : obj\n",
    "            fração a ser dividida\n",
    "            \n",
    "        '''\n",
    "        \n",
    "        num = self.numerador*other.denominador        \n",
    "        den = self.denominador*other.numerador\n",
    "        \n",
    "        return Fracao(num, den)\n",
    "    \n",
    "    def __eq__(self, other):\n",
    "        \n",
    "        return self.valor() == other.valor()\n",
    "        \n",
    "    def __lt__(self, other):\n",
    "        \n",
    "        return self.valor() < other.valor()\n",
    "    \n",
    "    def __le__(self, other):\n",
    "        \n",
    "        return self.valor() <= other.valor()\n",
    "    \n",
    "    def __gt__(self, other):\n",
    "        \n",
    "        return self.valor() > other.valor()\n",
    "    \n",
    "    def __ge__(self, other):\n",
    "        \n",
    "        return self.valor() >= other.valor()"
   ]
  },
  {
   "cell_type": "code",
   "execution_count": 144,
   "id": "60ea76b2-04d5-4c32-9be6-bfb7737afdf8",
   "metadata": {},
   "outputs": [],
   "source": [
    "fracao1 = Fracao(5,2)\n",
    "fracao2 = Fracao(10,2)\n",
    "fracao3 = Fracao(5,1)"
   ]
  },
  {
   "cell_type": "code",
   "execution_count": 145,
   "id": "b99b5f08-6c73-4008-845b-cb63d9aa8891",
   "metadata": {},
   "outputs": [
    {
     "data": {
      "text/plain": [
       "30/4"
      ]
     },
     "execution_count": 145,
     "metadata": {},
     "output_type": "execute_result"
    }
   ],
   "source": [
    "fracao1 + fracao2"
   ]
  },
  {
   "cell_type": "code",
   "execution_count": 146,
   "id": "593582dc-ac2d-45bd-ac82-8e4b6a633efc",
   "metadata": {},
   "outputs": [
    {
     "data": {
      "text/plain": [
       "10/4"
      ]
     },
     "execution_count": 146,
     "metadata": {},
     "output_type": "execute_result"
    }
   ],
   "source": [
    "fracao2 - fracao1"
   ]
  },
  {
   "cell_type": "code",
   "execution_count": 147,
   "id": "a0d0313e-12c8-409a-9f55-04819bc60f2a",
   "metadata": {},
   "outputs": [
    {
     "data": {
      "text/plain": [
       "25/2"
      ]
     },
     "execution_count": 147,
     "metadata": {},
     "output_type": "execute_result"
    }
   ],
   "source": [
    "fracao1 * fracao3"
   ]
  },
  {
   "cell_type": "code",
   "execution_count": 149,
   "id": "dfa542bc-4351-4fa3-b52e-630b4ecf3e64",
   "metadata": {},
   "outputs": [
    {
     "data": {
      "text/plain": [
       "20/10"
      ]
     },
     "execution_count": 149,
     "metadata": {},
     "output_type": "execute_result"
    }
   ],
   "source": [
    "fracao2 / fracao1"
   ]
  },
  {
   "cell_type": "code",
   "execution_count": 150,
   "id": "0f5d332b-348d-474b-8673-ade522d83d80",
   "metadata": {},
   "outputs": [
    {
     "data": {
      "text/plain": [
       "False"
      ]
     },
     "execution_count": 150,
     "metadata": {},
     "output_type": "execute_result"
    }
   ],
   "source": [
    "fracao1 == fracao2"
   ]
  },
  {
   "cell_type": "code",
   "execution_count": 151,
   "id": "61b22a3a-405b-4099-80b2-4f6594493fb0",
   "metadata": {},
   "outputs": [
    {
     "data": {
      "text/plain": [
       "True"
      ]
     },
     "execution_count": 151,
     "metadata": {},
     "output_type": "execute_result"
    }
   ],
   "source": [
    "fracao1 != fracao2"
   ]
  },
  {
   "cell_type": "code",
   "execution_count": 152,
   "id": "425d4521-1646-4a3d-9faa-c74976dddcae",
   "metadata": {},
   "outputs": [
    {
     "data": {
      "text/plain": [
       "True"
      ]
     },
     "execution_count": 152,
     "metadata": {},
     "output_type": "execute_result"
    }
   ],
   "source": [
    "fracao1 <= fracao2"
   ]
  },
  {
   "cell_type": "code",
   "execution_count": 153,
   "id": "b9552c30-69ea-4253-9fc5-ec7583384919",
   "metadata": {},
   "outputs": [
    {
     "data": {
      "text/plain": [
       "False"
      ]
     },
     "execution_count": 153,
     "metadata": {},
     "output_type": "execute_result"
    }
   ],
   "source": [
    "fracao1 >= fracao2"
   ]
  },
  {
   "cell_type": "code",
   "execution_count": 154,
   "id": "ad52683e-6310-416e-ae8e-1048080a6582",
   "metadata": {},
   "outputs": [
    {
     "data": {
      "text/plain": [
       "True"
      ]
     },
     "execution_count": 154,
     "metadata": {},
     "output_type": "execute_result"
    }
   ],
   "source": [
    "fracao1 < fracao3"
   ]
  },
  {
   "cell_type": "code",
   "execution_count": 155,
   "id": "1a6056db-5b3d-406f-8e81-2521a5765e3c",
   "metadata": {},
   "outputs": [
    {
     "data": {
      "text/plain": [
       "False"
      ]
     },
     "execution_count": 155,
     "metadata": {},
     "output_type": "execute_result"
    }
   ],
   "source": [
    "fracao1 > fracao3"
   ]
  }
 ],
 "metadata": {
  "kernelspec": {
   "display_name": "Python 3",
   "language": "python",
   "name": "python3"
  },
  "language_info": {
   "codemirror_mode": {
    "name": "ipython",
    "version": 3
   },
   "file_extension": ".py",
   "mimetype": "text/x-python",
   "name": "python",
   "nbconvert_exporter": "python",
   "pygments_lexer": "ipython3",
   "version": "3.8.8"
  }
 },
 "nbformat": 4,
 "nbformat_minor": 5
}
