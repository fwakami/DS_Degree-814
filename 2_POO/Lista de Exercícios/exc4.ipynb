{
 "cells": [
  {
   "cell_type": "code",
   "execution_count": 1,
   "id": "ed76efeb-f7e7-4afd-a474-69b655c0c5d0",
   "metadata": {},
   "outputs": [],
   "source": [
    "class Televisor:\n",
    "    \n",
    "    '''\n",
    "    Cria uma representação de um televisor\n",
    "        \n",
    "    '''\n",
    "    \n",
    "    def __init__(self, fabricante, modelo):\n",
    "        \n",
    "        '''\n",
    "        Construtor\n",
    "        \n",
    "        Parâmetros\n",
    "        ----------\n",
    "        \n",
    "        fabricante : str\n",
    "            fabricante do televisor\n",
    "            \n",
    "        modelo : str\n",
    "            modelo do televisor\n",
    "            \n",
    "        canal : int\n",
    "            canal sintonizado ou a ser adicionado na lista de canais\n",
    "            \n",
    "        volume : int\n",
    "            volume atual configurado no televisor\n",
    "            \n",
    "        lista_de_canais : list [int]\n",
    "            lista de canais salvos ao televisor\n",
    "        \n",
    "        '''\n",
    "        \n",
    "        self.fabricante = fabricante\n",
    "        self.modelo = modelo\n",
    "        self.canal = None\n",
    "        self.lista_de_canais = []\n",
    "        self.volume = 50\n",
    "        \n",
    "    def aumentar_volume(self):\n",
    "        \n",
    "        '''\n",
    "        Este método aumenta o volume da TV em 5 unidades, \n",
    "        considerando que o volume padrão incial seja 50\n",
    "        \n",
    "        Parâmetros\n",
    "        ----------\n",
    "        \n",
    "        volume : int\n",
    "            volume da TV\n",
    "            \n",
    "        '''\n",
    "        \n",
    "        if self.volume >= 0 and self.volume < 100:\n",
    "            self.volume = self.volume + 5\n",
    "            print(f\"O volume da TV está em {self.volume}\")\n",
    "            \n",
    "        else:\n",
    "            print(\"O volume da TV já está no máximo.\")\n",
    "        \n",
    "    def diminuir_volume(self):\n",
    "        \n",
    "        '''\n",
    "        Este método diminui o volume da TV em 5 unidades, \n",
    "        considerando que o volume padrão incial seja 50\n",
    "        \n",
    "        Parâmetros\n",
    "        ----------\n",
    "        \n",
    "        volume : int\n",
    "            volume da TV\n",
    "            \n",
    "        '''\n",
    "        \n",
    "        if self.volume > 0 and self.volume <= 100:\n",
    "            self.volume = self.volume - 5\n",
    "            print(f\"O volume da TV está em {self.volume}\")\n",
    "            \n",
    "        else:\n",
    "            print(\"O volume da TV já está no mínimo.\")\n",
    "            \n",
    "    def sintonizar_novo_canal(self, canal, lista_de_canais=[]):\n",
    "        \n",
    "        '''\n",
    "        Este método adiciona um novo canal na sua lista de canais\n",
    "        \n",
    "        Parâmetros\n",
    "        ----------\n",
    "        \n",
    "        canal : int\n",
    "            canal a ser inserido na lista de canais\n",
    "        \n",
    "        lista_de_canais : list[int]\n",
    "            lista de canais disponíveis na TV\n",
    "            \n",
    "        '''\n",
    "        \n",
    "        if canal not in self.lista_de_canais:\n",
    "            self.lista_de_canais.append(canal)\n",
    "            print(f\"O canal {canal} foi adicionado à sua lista de canais.\")\n",
    "            \n",
    "        else:\n",
    "            print(\"Este canal já está na sua lista de canais.\")\n",
    "            \n",
    "    def trocar_canal(self, canal):\n",
    "        \n",
    "        '''\n",
    "        Este método sintoniza o canal desejado para ser assistido na TV\n",
    "        \n",
    "        Parâmetros\n",
    "        ----------\n",
    "        \n",
    "        canal : int\n",
    "            canal desejado a ser assistido na TV\n",
    "            \n",
    "        '''\n",
    "        \n",
    "        if canal in self.lista_de_canais:\n",
    "            print(f\"O canal {canal} foi sintonizado.\")\n",
    "            \n",
    "        else:\n",
    "            print(f\"O canal desejado não encontra-se na sua lista de canais disponíveis.\")"
   ]
  },
  {
   "cell_type": "code",
   "execution_count": 2,
   "id": "cc124736-8abf-4062-8956-0070824b1e55",
   "metadata": {},
   "outputs": [],
   "source": [
    "tv1 = Televisor(\n",
    "    fabricante = \"Samsung\",\n",
    "    modelo = \"50AU7700\")"
   ]
  },
  {
   "cell_type": "code",
   "execution_count": 3,
   "id": "bf4c0779-fc1c-4b4f-8ba6-025669a77709",
   "metadata": {},
   "outputs": [
    {
     "name": "stdout",
     "output_type": "stream",
     "text": [
      "O volume da TV está em 55\n"
     ]
    }
   ],
   "source": [
    "tv1.aumentar_volume()"
   ]
  },
  {
   "cell_type": "code",
   "execution_count": 4,
   "id": "d0709e20-8b44-4586-b528-01ef1393cc98",
   "metadata": {},
   "outputs": [
    {
     "name": "stdout",
     "output_type": "stream",
     "text": [
      "O volume da TV está em 60\n"
     ]
    }
   ],
   "source": [
    "tv1.aumentar_volume()"
   ]
  },
  {
   "cell_type": "code",
   "execution_count": 5,
   "id": "922690f6-076a-4e63-a7b8-05fb61378182",
   "metadata": {},
   "outputs": [
    {
     "name": "stdout",
     "output_type": "stream",
     "text": [
      "O volume da TV está em 65\n"
     ]
    }
   ],
   "source": [
    "tv1.aumentar_volume()"
   ]
  },
  {
   "cell_type": "code",
   "execution_count": 6,
   "id": "1b224dc6-ddd5-4596-8210-f1fda1ff1ddd",
   "metadata": {},
   "outputs": [
    {
     "name": "stdout",
     "output_type": "stream",
     "text": [
      "O volume da TV está em 70\n"
     ]
    }
   ],
   "source": [
    "tv1.aumentar_volume()"
   ]
  },
  {
   "cell_type": "code",
   "execution_count": 7,
   "id": "cb5b8ebd-7efa-42e0-adfb-c9ba5c68ee66",
   "metadata": {},
   "outputs": [
    {
     "name": "stdout",
     "output_type": "stream",
     "text": [
      "O volume da TV está em 75\n"
     ]
    }
   ],
   "source": [
    "tv1.aumentar_volume()"
   ]
  },
  {
   "cell_type": "code",
   "execution_count": 8,
   "id": "1f26b8ec-cd7d-4dae-8c90-ba613da72f80",
   "metadata": {},
   "outputs": [
    {
     "name": "stdout",
     "output_type": "stream",
     "text": [
      "O volume da TV está em 80\n"
     ]
    }
   ],
   "source": [
    "tv1.aumentar_volume()"
   ]
  },
  {
   "cell_type": "code",
   "execution_count": 9,
   "id": "a3a5953d-6463-4ff3-afb9-0e3959ca6986",
   "metadata": {},
   "outputs": [
    {
     "name": "stdout",
     "output_type": "stream",
     "text": [
      "O volume da TV está em 85\n"
     ]
    }
   ],
   "source": [
    "tv1.aumentar_volume()"
   ]
  },
  {
   "cell_type": "code",
   "execution_count": 10,
   "id": "d53856f3-5032-42e3-91fe-1e6bf7c3c01f",
   "metadata": {},
   "outputs": [
    {
     "name": "stdout",
     "output_type": "stream",
     "text": [
      "O volume da TV está em 90\n"
     ]
    }
   ],
   "source": [
    "tv1.aumentar_volume()"
   ]
  },
  {
   "cell_type": "code",
   "execution_count": 11,
   "id": "57f18b13-0cc8-4ab3-934d-3a4ec96989d9",
   "metadata": {},
   "outputs": [
    {
     "name": "stdout",
     "output_type": "stream",
     "text": [
      "O volume da TV está em 95\n"
     ]
    }
   ],
   "source": [
    "tv1.aumentar_volume()"
   ]
  },
  {
   "cell_type": "code",
   "execution_count": 12,
   "id": "db61ded1-b9e2-4682-b79f-87f33d430b30",
   "metadata": {},
   "outputs": [
    {
     "name": "stdout",
     "output_type": "stream",
     "text": [
      "O volume da TV está em 100\n"
     ]
    }
   ],
   "source": [
    "tv1.aumentar_volume()"
   ]
  },
  {
   "cell_type": "code",
   "execution_count": 13,
   "id": "6b852bdb-5054-401f-bc61-50a7de0c18f7",
   "metadata": {},
   "outputs": [
    {
     "name": "stdout",
     "output_type": "stream",
     "text": [
      "O volume da TV já está no máximo.\n"
     ]
    }
   ],
   "source": [
    "tv1.aumentar_volume()"
   ]
  },
  {
   "cell_type": "code",
   "execution_count": 14,
   "id": "6482865c-90f6-4df3-ac22-dc53b01d7017",
   "metadata": {},
   "outputs": [
    {
     "name": "stdout",
     "output_type": "stream",
     "text": [
      "O volume da TV está em 95\n"
     ]
    }
   ],
   "source": [
    "tv1.diminuir_volume()"
   ]
  },
  {
   "cell_type": "code",
   "execution_count": 15,
   "id": "349e610e-ba7c-492e-993c-d711e7e94699",
   "metadata": {},
   "outputs": [
    {
     "name": "stdout",
     "output_type": "stream",
     "text": [
      "O volume da TV está em 90\n"
     ]
    }
   ],
   "source": [
    "tv1.diminuir_volume()"
   ]
  },
  {
   "cell_type": "code",
   "execution_count": 16,
   "id": "80d14e83-2d11-485b-b9cb-5d261e2f919d",
   "metadata": {},
   "outputs": [
    {
     "name": "stdout",
     "output_type": "stream",
     "text": [
      "O volume da TV está em 85\n"
     ]
    }
   ],
   "source": [
    "tv1.diminuir_volume()"
   ]
  },
  {
   "cell_type": "code",
   "execution_count": 17,
   "id": "ec09fdb7-4a0f-4d3c-9f5a-5e1783c0c12f",
   "metadata": {},
   "outputs": [
    {
     "name": "stdout",
     "output_type": "stream",
     "text": [
      "O volume da TV está em 80\n"
     ]
    }
   ],
   "source": [
    "tv1.diminuir_volume()"
   ]
  },
  {
   "cell_type": "code",
   "execution_count": 18,
   "id": "f867059f-8a64-4aaf-b7ba-f6d971ffa042",
   "metadata": {},
   "outputs": [
    {
     "name": "stdout",
     "output_type": "stream",
     "text": [
      "O volume da TV está em 75\n"
     ]
    }
   ],
   "source": [
    "tv1.diminuir_volume()"
   ]
  },
  {
   "cell_type": "code",
   "execution_count": 19,
   "id": "53c1fcc3-458e-4e00-bf4e-57f4ce196836",
   "metadata": {},
   "outputs": [
    {
     "name": "stdout",
     "output_type": "stream",
     "text": [
      "O volume da TV está em 70\n"
     ]
    }
   ],
   "source": [
    "tv1.diminuir_volume()"
   ]
  },
  {
   "cell_type": "code",
   "execution_count": 20,
   "id": "560c57d5-2eae-459e-aec2-ef7ca1a79fa9",
   "metadata": {},
   "outputs": [
    {
     "name": "stdout",
     "output_type": "stream",
     "text": [
      "O volume da TV está em 65\n"
     ]
    }
   ],
   "source": [
    "tv1.diminuir_volume()"
   ]
  },
  {
   "cell_type": "code",
   "execution_count": 21,
   "id": "b378e558-9d6c-48e4-9e5c-d92d13f786f3",
   "metadata": {},
   "outputs": [
    {
     "name": "stdout",
     "output_type": "stream",
     "text": [
      "O volume da TV está em 60\n"
     ]
    }
   ],
   "source": [
    "tv1.diminuir_volume()"
   ]
  },
  {
   "cell_type": "code",
   "execution_count": 22,
   "id": "d3e90b74-4a88-4842-9a35-e4208efebc94",
   "metadata": {},
   "outputs": [
    {
     "name": "stdout",
     "output_type": "stream",
     "text": [
      "O volume da TV está em 55\n"
     ]
    }
   ],
   "source": [
    "tv1.diminuir_volume()"
   ]
  },
  {
   "cell_type": "code",
   "execution_count": 23,
   "id": "6f931236-9092-4250-87ef-9ca64adf88ca",
   "metadata": {},
   "outputs": [
    {
     "name": "stdout",
     "output_type": "stream",
     "text": [
      "O volume da TV está em 50\n"
     ]
    }
   ],
   "source": [
    "tv1.diminuir_volume()"
   ]
  },
  {
   "cell_type": "code",
   "execution_count": 24,
   "id": "b7bf3a4d-b5ff-4b6d-a266-2115522c51f4",
   "metadata": {},
   "outputs": [
    {
     "name": "stdout",
     "output_type": "stream",
     "text": [
      "O volume da TV está em 45\n"
     ]
    }
   ],
   "source": [
    "tv1.diminuir_volume()"
   ]
  },
  {
   "cell_type": "code",
   "execution_count": 25,
   "id": "1a807435-cafb-4320-b508-59aa07f41d81",
   "metadata": {},
   "outputs": [
    {
     "name": "stdout",
     "output_type": "stream",
     "text": [
      "O volume da TV está em 40\n"
     ]
    }
   ],
   "source": [
    "tv1.diminuir_volume()"
   ]
  },
  {
   "cell_type": "code",
   "execution_count": 26,
   "id": "202f915b-daed-49dc-ba2b-dcdc44a37d86",
   "metadata": {},
   "outputs": [
    {
     "name": "stdout",
     "output_type": "stream",
     "text": [
      "O volume da TV está em 35\n"
     ]
    }
   ],
   "source": [
    "tv1.diminuir_volume()"
   ]
  },
  {
   "cell_type": "code",
   "execution_count": 27,
   "id": "9683fb13-560b-46d8-b183-45721ce78316",
   "metadata": {},
   "outputs": [
    {
     "name": "stdout",
     "output_type": "stream",
     "text": [
      "O volume da TV está em 30\n"
     ]
    }
   ],
   "source": [
    "tv1.diminuir_volume()"
   ]
  },
  {
   "cell_type": "code",
   "execution_count": 28,
   "id": "3c950447-f9fa-4bb5-8e90-f3582519c4d9",
   "metadata": {},
   "outputs": [
    {
     "name": "stdout",
     "output_type": "stream",
     "text": [
      "O volume da TV está em 25\n"
     ]
    }
   ],
   "source": [
    "tv1.diminuir_volume()"
   ]
  },
  {
   "cell_type": "code",
   "execution_count": 29,
   "id": "31021b9a-19a9-496f-ab80-709311ba36f6",
   "metadata": {},
   "outputs": [
    {
     "name": "stdout",
     "output_type": "stream",
     "text": [
      "O volume da TV está em 20\n"
     ]
    }
   ],
   "source": [
    "tv1.diminuir_volume()"
   ]
  },
  {
   "cell_type": "code",
   "execution_count": 30,
   "id": "017d99de-7736-44c4-9ef5-d0de47554b14",
   "metadata": {},
   "outputs": [
    {
     "name": "stdout",
     "output_type": "stream",
     "text": [
      "O volume da TV está em 15\n"
     ]
    }
   ],
   "source": [
    "tv1.diminuir_volume()"
   ]
  },
  {
   "cell_type": "code",
   "execution_count": 31,
   "id": "9498a279-95b3-42d9-9763-a66fd961a6c6",
   "metadata": {},
   "outputs": [
    {
     "name": "stdout",
     "output_type": "stream",
     "text": [
      "O volume da TV está em 10\n"
     ]
    }
   ],
   "source": [
    "tv1.diminuir_volume()"
   ]
  },
  {
   "cell_type": "code",
   "execution_count": 32,
   "id": "750cf1c8-8fda-4530-b81d-345b3fdc5be1",
   "metadata": {},
   "outputs": [
    {
     "name": "stdout",
     "output_type": "stream",
     "text": [
      "O volume da TV está em 5\n"
     ]
    }
   ],
   "source": [
    "tv1.diminuir_volume()"
   ]
  },
  {
   "cell_type": "code",
   "execution_count": 33,
   "id": "225d9408-3f57-4bfd-b61a-b435aeb2c375",
   "metadata": {},
   "outputs": [
    {
     "name": "stdout",
     "output_type": "stream",
     "text": [
      "O volume da TV está em 0\n"
     ]
    }
   ],
   "source": [
    "tv1.diminuir_volume()"
   ]
  },
  {
   "cell_type": "code",
   "execution_count": 34,
   "id": "7691aa03-6fdf-429b-af9c-789d547f9f62",
   "metadata": {},
   "outputs": [
    {
     "name": "stdout",
     "output_type": "stream",
     "text": [
      "O volume da TV já está no mínimo.\n"
     ]
    }
   ],
   "source": [
    "tv1.diminuir_volume()"
   ]
  },
  {
   "cell_type": "code",
   "execution_count": 35,
   "id": "d03dd6f2-dbdc-4ccf-ac8b-905694cc151a",
   "metadata": {},
   "outputs": [
    {
     "data": {
      "text/plain": [
       "[]"
      ]
     },
     "execution_count": 35,
     "metadata": {},
     "output_type": "execute_result"
    }
   ],
   "source": [
    "tv1.lista_de_canais"
   ]
  },
  {
   "cell_type": "code",
   "execution_count": 36,
   "id": "2c69a138-2fd1-4d7a-90cc-f24a9eef669e",
   "metadata": {},
   "outputs": [
    {
     "name": "stdout",
     "output_type": "stream",
     "text": [
      "O canal 2 foi adicionado à sua lista de canais.\n"
     ]
    }
   ],
   "source": [
    "tv1.sintonizar_novo_canal(2)"
   ]
  },
  {
   "cell_type": "code",
   "execution_count": 37,
   "id": "adad09ab-9fbb-4a48-835f-83fa285545b1",
   "metadata": {},
   "outputs": [
    {
     "name": "stdout",
     "output_type": "stream",
     "text": [
      "Este canal já está na sua lista de canais.\n"
     ]
    }
   ],
   "source": [
    "tv1.sintonizar_novo_canal(2)"
   ]
  },
  {
   "cell_type": "code",
   "execution_count": 38,
   "id": "40389359-a105-4f99-accc-101f52cf7065",
   "metadata": {},
   "outputs": [
    {
     "data": {
      "text/plain": [
       "[2]"
      ]
     },
     "execution_count": 38,
     "metadata": {},
     "output_type": "execute_result"
    }
   ],
   "source": [
    "tv1.lista_de_canais"
   ]
  },
  {
   "cell_type": "code",
   "execution_count": 39,
   "id": "12df52fb-0e73-43d3-87fa-8394c43eb0b6",
   "metadata": {},
   "outputs": [
    {
     "name": "stdout",
     "output_type": "stream",
     "text": [
      "O canal 4 foi adicionado à sua lista de canais.\n"
     ]
    }
   ],
   "source": [
    "tv1.sintonizar_novo_canal(4)"
   ]
  },
  {
   "cell_type": "code",
   "execution_count": 40,
   "id": "fb7ec7e2-bea6-43b9-b921-e0372cd6ea3e",
   "metadata": {},
   "outputs": [
    {
     "name": "stdout",
     "output_type": "stream",
     "text": [
      "Este canal já está na sua lista de canais.\n"
     ]
    }
   ],
   "source": [
    "tv1.sintonizar_novo_canal(4)"
   ]
  },
  {
   "cell_type": "code",
   "execution_count": 41,
   "id": "f18f1a5c-3dee-4b9b-8bdc-91c6d30ba85d",
   "metadata": {},
   "outputs": [
    {
     "data": {
      "text/plain": [
       "[2, 4]"
      ]
     },
     "execution_count": 41,
     "metadata": {},
     "output_type": "execute_result"
    }
   ],
   "source": [
    "tv1.lista_de_canais"
   ]
  },
  {
   "cell_type": "code",
   "execution_count": 42,
   "id": "38dc9628-f0d4-4465-9f28-5c63ddd8e168",
   "metadata": {},
   "outputs": [
    {
     "name": "stdout",
     "output_type": "stream",
     "text": [
      "O canal 2 foi sintonizado.\n"
     ]
    }
   ],
   "source": [
    "tv1.trocar_canal(2)"
   ]
  },
  {
   "cell_type": "code",
   "execution_count": 43,
   "id": "afced89e-a1ea-4173-9563-b22ba21e6aaf",
   "metadata": {},
   "outputs": [
    {
     "name": "stdout",
     "output_type": "stream",
     "text": [
      "O canal desejado não encontra-se na sua lista de canais disponíveis.\n"
     ]
    }
   ],
   "source": [
    "tv1.trocar_canal(3)"
   ]
  }
 ],
 "metadata": {
  "kernelspec": {
   "display_name": "Python 3",
   "language": "python",
   "name": "python3"
  },
  "language_info": {
   "codemirror_mode": {
    "name": "ipython",
    "version": 3
   },
   "file_extension": ".py",
   "mimetype": "text/x-python",
   "name": "python",
   "nbconvert_exporter": "python",
   "pygments_lexer": "ipython3",
   "version": "3.8.8"
  }
 },
 "nbformat": 4,
 "nbformat_minor": 5
}
