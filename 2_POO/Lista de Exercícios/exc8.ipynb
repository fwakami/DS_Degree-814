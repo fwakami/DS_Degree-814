{
 "cells": [
  {
   "cell_type": "markdown",
   "id": "68414e67-242f-4140-ae31-b74cb0ddbfbd",
   "metadata": {},
   "source": [
    "8. Crie uma classe Cliente cujos atributos são nome, idade e e-mail. Construa um método que imprima as informações tal como abaixo:\n",
    "\n",
    "Nome: Fulano de Tal\n",
    "\n",
    "Idade: 40\n",
    "\n",
    "E-mail: fulano@mail.com"
   ]
  },
  {
   "cell_type": "code",
   "execution_count": 6,
   "id": "8d8d1dbe-80c9-4207-8c4e-28da3f7d2965",
   "metadata": {},
   "outputs": [],
   "source": [
    "class Cliente:\n",
    "    \n",
    "    '''\n",
    "    Essa classe cria uma representação de um cliente\n",
    "    '''\n",
    "    \n",
    "    def __init__(self, nome, idade, email):\n",
    "        \n",
    "        '''\n",
    "        Parâmetros\n",
    "        ----------\n",
    "        \n",
    "        nome : str\n",
    "            nome do cliente\n",
    "            \n",
    "        idade : int\n",
    "            idade do cliente\n",
    "            \n",
    "        email : str\n",
    "            email do cliente\n",
    "        '''\n",
    "        \n",
    "        self.nome = nome\n",
    "        self.idade = idade\n",
    "        self.email = email\n",
    "        \n",
    "    def __repr__(self):\n",
    "        \n",
    "        texto = \"Nome: {}\\nIdade: {}\\nE-mail: {}\".format(\n",
    "            self.nome,\n",
    "            self.idade,\n",
    "            self.email)\n",
    "        \n",
    "        return texto"
   ]
  },
  {
   "cell_type": "code",
   "execution_count": 7,
   "id": "7579c717-fb2c-48c5-b195-4c7337534cb0",
   "metadata": {},
   "outputs": [],
   "source": [
    "cliente1 = Cliente(\n",
    "    nome = \"Felipe\",\n",
    "    idade = 27,\n",
    "    email = \"wakami@outlook.com\")"
   ]
  },
  {
   "cell_type": "code",
   "execution_count": 9,
   "id": "6cd40852-ff30-4d51-8693-346574efbd2b",
   "metadata": {},
   "outputs": [
    {
     "data": {
      "text/plain": [
       "Nome: Felipe\n",
       "Idade: 27\n",
       "E-mail: wakami@outlook.com"
      ]
     },
     "execution_count": 9,
     "metadata": {},
     "output_type": "execute_result"
    }
   ],
   "source": [
    "cliente1"
   ]
  }
 ],
 "metadata": {
  "kernelspec": {
   "display_name": "Python 3",
   "language": "python",
   "name": "python3"
  },
  "language_info": {
   "codemirror_mode": {
    "name": "ipython",
    "version": 3
   },
   "file_extension": ".py",
   "mimetype": "text/x-python",
   "name": "python",
   "nbconvert_exporter": "python",
   "pygments_lexer": "ipython3",
   "version": "3.8.8"
  }
 },
 "nbformat": 4,
 "nbformat_minor": 5
}
