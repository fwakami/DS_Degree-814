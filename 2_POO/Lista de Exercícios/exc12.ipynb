{
 "cells": [
  {
   "cell_type": "markdown",
   "id": "becd77b8-7f43-4f7c-ba23-84f5c85dcfcf",
   "metadata": {},
   "source": [
    "12. Crie uma classe Data cujos atributos são dia, mês e ano. Implemente métodos _ repr _ e para comparação: igualdade (==) e desigualdades (!=, <=, >=, < e >)."
   ]
  },
  {
   "cell_type": "code",
   "execution_count": 511,
   "id": "967123f7-8ab9-431f-a857-cefbb7d6836a",
   "metadata": {},
   "outputs": [],
   "source": [
    "class Data:\n",
    "    \n",
    "    '''\n",
    "    Cria a representação de uma data\n",
    "    \n",
    "    '''\n",
    "    \n",
    "    def __init__(self, dia, mes, ano):\n",
    "        \n",
    "        '''\n",
    "        Construtor\n",
    "        \n",
    "        Parâmetros\n",
    "        ----------\n",
    "        \n",
    "        dia : int\n",
    "            dia da data (não pode ser zero ou maior que 31)\n",
    "            \n",
    "        mes : int\n",
    "            mês da data (não pode ser zero ou amior que 12)\n",
    "            \n",
    "        ano : int\n",
    "            ano da data\n",
    "            \n",
    "        '''\n",
    "        \n",
    "        if((dia == 0) or (dia > 31) or (mes == 0) or (mes > 12)):\n",
    "            raise ValueError('Dia/Mês não pode ser 0.')\n",
    "            \n",
    "        self.dia = dia\n",
    "        self.mes = mes\n",
    "        self.ano = ano\n",
    "        \n",
    "    def __repr__(self):\n",
    "        return '{:02d}/{:02d}/{:02d}'.format(self.dia, self.mes, self.ano)\n",
    "    \n",
    "    def __eq__(self, other):\n",
    "        if self.ano == other.ano and self.mes == other.mes and self.dia == other.dia:    \n",
    "            return True\n",
    "        else:\n",
    "            return False\n",
    "    \n",
    "    def __lt__(self, other):\n",
    "        \n",
    "        if self.ano != other.ano and self.ano < other.ano:\n",
    "            return True\n",
    "        \n",
    "        elif self.ano != other.ano and self.ano > other.ano:\n",
    "            return False\n",
    "        \n",
    "        elif self.mes != other.mes and self.mes < other.mes:\n",
    "            return True\n",
    "                \n",
    "        elif self.dia != other.dia and self.dia < other.dia:\n",
    "            return True   \n",
    "        \n",
    "        else:\n",
    "            return False\n",
    "        \n",
    "    def __gt__(self, other):\n",
    "        \n",
    "        if self.ano != other.ano and self.ano < other.ano:\n",
    "            return False\n",
    "        \n",
    "        elif self.ano != other.ano and self.ano > other.ano:\n",
    "            return True\n",
    "        \n",
    "        elif self.mes != other.mes and self.mes < other.mes:\n",
    "            return False\n",
    "                \n",
    "        elif self.dia != other.dia and self.dia > other.dia:\n",
    "            return True\n",
    "        \n",
    "        else:\n",
    "            return False\n",
    "        \n",
    "    def __le__(self, other):\n",
    "        \n",
    "        if self.ano == other.ano and self.mes == other.mes and self.dia == other.dia:    \n",
    "            return True \n",
    "        \n",
    "        elif self.ano != other.ano and self.ano < other.ano:\n",
    "            return True\n",
    "        \n",
    "        elif self.ano != other.ano and self.ano > other.ano:\n",
    "            return False\n",
    "        \n",
    "        elif self.mes != other.mes and self.mes < other.mes:\n",
    "            return True\n",
    "                \n",
    "        elif self.dia != other.dia and self.dia < other.dia:\n",
    "            return True   \n",
    "        \n",
    "        else:\n",
    "            return False\n",
    "    \n",
    "    def __ge__(self, other):\n",
    "        \n",
    "        if self.ano == other.ano and self.mes == other.mes and self.dia == other.dia:    \n",
    "            return True\n",
    "        \n",
    "        if self.ano != other.ano and self.ano < other.ano:\n",
    "            return False\n",
    "        \n",
    "        elif self.ano != other.ano and self.ano > other.ano:\n",
    "            return True\n",
    "        \n",
    "        elif self.mes != other.mes and self.mes < other.mes:\n",
    "            return False\n",
    "                \n",
    "        elif self.dia != other.dia and self.dia > other.dia:\n",
    "            return True\n",
    "        \n",
    "        else:\n",
    "            return False"
   ]
  },
  {
   "cell_type": "code",
   "execution_count": 512,
   "id": "88b73d26-ba25-4d55-b821-a436a280f4ee",
   "metadata": {},
   "outputs": [],
   "source": [
    "data1 = Data(1,1,2021)\n",
    "data2 = Data(1,1,2021)\n",
    "data3 = Data(2,1,2021)\n",
    "data4 = Data(1,1,2022)"
   ]
  },
  {
   "cell_type": "code",
   "execution_count": 513,
   "id": "9cc9b4a3-fdae-4180-ba61-608932efcae7",
   "metadata": {},
   "outputs": [
    {
     "data": {
      "text/plain": [
       "True"
      ]
     },
     "execution_count": 513,
     "metadata": {},
     "output_type": "execute_result"
    }
   ],
   "source": [
    "data4 >= data4"
   ]
  },
  {
   "cell_type": "code",
   "execution_count": 514,
   "id": "e2c2be62-c484-4ba1-9310-4e858ddd1ef3",
   "metadata": {},
   "outputs": [
    {
     "data": {
      "text/plain": [
       "01/01/2021"
      ]
     },
     "execution_count": 514,
     "metadata": {},
     "output_type": "execute_result"
    }
   ],
   "source": [
    "data1"
   ]
  }
 ],
 "metadata": {
  "kernelspec": {
   "display_name": "Python 3",
   "language": "python",
   "name": "python3"
  },
  "language_info": {
   "codemirror_mode": {
    "name": "ipython",
    "version": 3
   },
   "file_extension": ".py",
   "mimetype": "text/x-python",
   "name": "python",
   "nbconvert_exporter": "python",
   "pygments_lexer": "ipython3",
   "version": "3.8.8"
  }
 },
 "nbformat": 4,
 "nbformat_minor": 5
}
