{
 "cells": [
  {
   "cell_type": "code",
   "execution_count": 9,
   "id": "44d4dc25-886a-4aa6-813c-5b327a6587cb",
   "metadata": {},
   "outputs": [],
   "source": [
    "import time\n",
    "\n",
    "class Cronômetro:\n",
    "    \n",
    "    '''\n",
    "    Essa classe simula um cronômetro\n",
    "    \n",
    "    '''\n",
    "    \n",
    "    def __init__(self, horas = 0, minutos = 0, segundos = 0):\n",
    "        \n",
    "        '''\n",
    "        \n",
    "        Construtor\n",
    "        \n",
    "        Parâmetros\n",
    "        ----------\n",
    "        \n",
    "        horas : int\n",
    "            Indicador de horas do cronômetro\n",
    "            \n",
    "        minutos : int\n",
    "            Indicador de minutos do cronômetro\n",
    "            \n",
    "        segundos : int\n",
    "            Indicador de segundos do cronômetro\n",
    "        \n",
    "        '''\n",
    "        \n",
    "        self.horas = horas\n",
    "        self.minutos = minutos\n",
    "        self.segundos = segundos\n",
    "        \n",
    "    def __repr__(self):\n",
    "        \n",
    "        '''\n",
    "        Display do cronômetro a ser mostrado em tela\n",
    "        \n",
    "        '''\n",
    "        \n",
    "        contagem = '%.2d:%.2d:%.2d' %(self.horas, self.minutos, self.segundos)\n",
    "        return contagem\n",
    "    \n",
    "    def funcionamento_cronometro (self):\n",
    "        \n",
    "        if self.segundos >= 60:\n",
    "            self.segundos = 0\n",
    "            self.minutos += 1\n",
    "            \n",
    "        if self.minutos >= 60:\n",
    "            self.minutos = 0\n",
    "            self.horas += 1\n",
    "            \n",
    "        self.segundos += 1\n",
    "        \n",
    "    def startar_cronômetro (self):\n",
    "        \n",
    "        i = 0\n",
    "        \n",
    "        while i == 0:\n",
    "            \n",
    "            print(self)\n",
    "            self.funcionamento_cronometro()\n",
    "            time.sleep(1)"
   ]
  },
  {
   "cell_type": "code",
   "execution_count": 10,
   "id": "30b8fc2b-7ec0-4387-931e-5a7cb64c82a0",
   "metadata": {},
   "outputs": [],
   "source": [
    "cronometro1 = Cronômetro()"
   ]
  },
  {
   "cell_type": "code",
   "execution_count": 11,
   "id": "084662c7-7c83-4999-9b68-88085c0e14a1",
   "metadata": {},
   "outputs": [
    {
     "name": "stdout",
     "output_type": "stream",
     "text": [
      "00:00:00\n",
      "00:00:01\n",
      "00:00:02\n",
      "00:00:03\n",
      "00:00:04\n",
      "00:00:05\n",
      "00:00:06\n",
      "00:00:07\n",
      "00:00:08\n",
      "00:00:09\n",
      "00:00:10\n",
      "00:00:11\n",
      "00:00:12\n"
     ]
    },
    {
     "ename": "KeyboardInterrupt",
     "evalue": "",
     "output_type": "error",
     "traceback": [
      "\u001b[1;31m---------------------------------------------------------------------------\u001b[0m",
      "\u001b[1;31mKeyboardInterrupt\u001b[0m                         Traceback (most recent call last)",
      "\u001b[1;32m<ipython-input-11-e80dd807da28>\u001b[0m in \u001b[0;36m<module>\u001b[1;34m\u001b[0m\n\u001b[1;32m----> 1\u001b[1;33m \u001b[0mcronometro1\u001b[0m\u001b[1;33m.\u001b[0m\u001b[0mstartar_cronômetro\u001b[0m\u001b[1;33m(\u001b[0m\u001b[1;33m)\u001b[0m\u001b[1;33m\u001b[0m\u001b[1;33m\u001b[0m\u001b[0m\n\u001b[0m",
      "\u001b[1;32m<ipython-input-9-8f72c6e31a6f>\u001b[0m in \u001b[0;36mstartar_cronômetro\u001b[1;34m(self)\u001b[0m\n\u001b[0;32m     62\u001b[0m             \u001b[0mprint\u001b[0m\u001b[1;33m(\u001b[0m\u001b[0mself\u001b[0m\u001b[1;33m)\u001b[0m\u001b[1;33m\u001b[0m\u001b[1;33m\u001b[0m\u001b[0m\n\u001b[0;32m     63\u001b[0m             \u001b[0mself\u001b[0m\u001b[1;33m.\u001b[0m\u001b[0mfuncionamento_cronometro\u001b[0m\u001b[1;33m(\u001b[0m\u001b[1;33m)\u001b[0m\u001b[1;33m\u001b[0m\u001b[1;33m\u001b[0m\u001b[0m\n\u001b[1;32m---> 64\u001b[1;33m             \u001b[0mtime\u001b[0m\u001b[1;33m.\u001b[0m\u001b[0msleep\u001b[0m\u001b[1;33m(\u001b[0m\u001b[1;36m1\u001b[0m\u001b[1;33m)\u001b[0m\u001b[1;33m\u001b[0m\u001b[1;33m\u001b[0m\u001b[0m\n\u001b[0m",
      "\u001b[1;31mKeyboardInterrupt\u001b[0m: "
     ]
    }
   ],
   "source": [
    "cronometro1.startar_cronômetro()"
   ]
  }
 ],
 "metadata": {
  "kernelspec": {
   "display_name": "Python 3",
   "language": "python",
   "name": "python3"
  },
  "language_info": {
   "codemirror_mode": {
    "name": "ipython",
    "version": 3
   },
   "file_extension": ".py",
   "mimetype": "text/x-python",
   "name": "python",
   "nbconvert_exporter": "python",
   "pygments_lexer": "ipython3",
   "version": "3.8.8"
  }
 },
 "nbformat": 4,
 "nbformat_minor": 5
}
