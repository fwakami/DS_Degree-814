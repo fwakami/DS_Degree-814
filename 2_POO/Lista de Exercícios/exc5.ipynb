{
 "cells": [
  {
   "cell_type": "code",
   "execution_count": 58,
   "id": "1b32d9d8-8050-45e6-b327-04353e1bfc69",
   "metadata": {},
   "outputs": [],
   "source": [
    "class Televisor:\n",
    "    \n",
    "    '''\n",
    "    Cria uma representação de um televisor\n",
    "        \n",
    "    '''\n",
    "    \n",
    "    def __init__(self, fabricante, modelo):\n",
    "        \n",
    "        '''\n",
    "        Construtor\n",
    "        \n",
    "        Parâmetros\n",
    "        ----------\n",
    "        \n",
    "        fabricante : str\n",
    "            fabricante do televisor\n",
    "            \n",
    "        modelo : str\n",
    "            modelo do televisor\n",
    "            \n",
    "        canal : int\n",
    "            canal sintonizado ou a ser adicionado na lista de canais\n",
    "            \n",
    "        volume : int\n",
    "            volume atual configurado no televisor\n",
    "            \n",
    "        lista_de_canais : list [int]\n",
    "            lista de canais salvos ao televisor\n",
    "        \n",
    "        '''\n",
    "        \n",
    "        self.fabricante = fabricante\n",
    "        self.modelo = modelo\n",
    "        self.canal = None\n",
    "        self.lista_de_canais = []\n",
    "        self.volume = 50\n",
    "        \n",
    "    def aumentar_volume(self):\n",
    "        \n",
    "        '''\n",
    "        Este método aumenta o volume da TV em 5 unidades, \n",
    "        considerando que o volume padrão incial seja 50\n",
    "        \n",
    "        Parâmetros\n",
    "        ----------\n",
    "        \n",
    "        volume : int\n",
    "            volume da TV\n",
    "            \n",
    "        '''\n",
    "        \n",
    "        if self.volume >= 0 and self.volume < 100:\n",
    "            self.volume = self.volume + 5\n",
    "            print(f\"O volume da TV está em {self.volume}\")\n",
    "            \n",
    "        else:\n",
    "            print(\"O volume da TV já está no máximo.\")\n",
    "        \n",
    "    def diminuir_volume(self):\n",
    "        \n",
    "        '''\n",
    "        Este método diminui o volume da TV em 5 unidades, \n",
    "        considerando que o volume padrão incial seja 50\n",
    "        \n",
    "        Parâmetros\n",
    "        ----------\n",
    "        \n",
    "        volume : int\n",
    "            volume da TV\n",
    "            \n",
    "        '''\n",
    "        \n",
    "        if self.volume > 0 and self.volume <= 100:\n",
    "            self.volume = self.volume - 5\n",
    "            print(f\"O volume da TV está em {self.volume}\")\n",
    "            \n",
    "        else:\n",
    "            print(\"O volume da TV já está no mínimo.\")\n",
    "            \n",
    "    def sintonizar_novo_canal(self, canal, lista_de_canais=[]):\n",
    "        \n",
    "        '''\n",
    "        Este método adiciona um novo canal na sua lista de canais\n",
    "        \n",
    "        Parâmetros\n",
    "        ----------\n",
    "        \n",
    "        canal : int\n",
    "            canal a ser inserido na lista de canais\n",
    "        \n",
    "        lista_de_canais : list[int]\n",
    "            lista de canais disponíveis na TV\n",
    "            \n",
    "        '''\n",
    "        \n",
    "        if canal not in self.lista_de_canais:\n",
    "            self.lista_de_canais.append(canal)\n",
    "            print(f\"O canal {canal} foi adicionado à sua lista de canais.\")\n",
    "            \n",
    "        else:\n",
    "            print(\"Este canal já está na sua lista de canais.\")\n",
    "            \n",
    "    def trocar_canal(self, canal):\n",
    "        \n",
    "        '''\n",
    "        Este método sintoniza o canal desejado para ser assistido na TV\n",
    "        \n",
    "        Parâmetros\n",
    "        ----------\n",
    "        \n",
    "        canal : int\n",
    "            canal desejado a ser assistido na TV\n",
    "            \n",
    "        '''\n",
    "        \n",
    "        if canal in self.lista_de_canais:\n",
    "            print(f\"O canal {canal} foi sintonizado.\")\n",
    "            \n",
    "        else:\n",
    "            print(f\"O canal desejado não encontra-se na sua lista de canais disponíveis.\")"
   ]
  },
  {
   "cell_type": "code",
   "execution_count": 59,
   "id": "c57350f2-14bb-459e-a32c-d8e70e3f2714",
   "metadata": {},
   "outputs": [],
   "source": [
    "tv1 = Televisor(\n",
    "    fabricante = \"Samsung\",\n",
    "    modelo = \"50AU7700\")\n",
    "\n",
    "tv2 = Televisor(\n",
    "    fabricante = \"LG\",\n",
    "    modelo = \"50UP7550\")"
   ]
  },
  {
   "cell_type": "code",
   "execution_count": 60,
   "id": "5e7b7992-92d9-4343-92fe-567731f5514d",
   "metadata": {},
   "outputs": [],
   "source": [
    "class ControleRemoto:\n",
    "    \n",
    "    '''\n",
    "    Cria uma representação de um controle remoto.\n",
    "    \n",
    "    '''\n",
    "    \n",
    "    def __init__(self, Televisor):\n",
    "        \n",
    "        '''\n",
    "        Este método recebe como atributo um objeto da classe do exercício anterior\n",
    "        \n",
    "        Parâmetros\n",
    "        ----------\n",
    "        \n",
    "        Televisor : class\n",
    "            objeto da classe do exercício anterior\n",
    "        \n",
    "        '''\n",
    "        \n",
    "        self.televisor = Televisor\n",
    "        self.canal = None\n",
    "        self.lista_de_canais = []\n",
    "        self.volume = 50\n",
    "        \n",
    "    def aumentar_volume(self):\n",
    "        \n",
    "        '''\n",
    "        Este método aumenta o volume da TV em 5 unidades, \n",
    "        considerando que o volume padrão incial seja 50\n",
    "        \n",
    "        Parâmetros\n",
    "        ----------\n",
    "        \n",
    "        volume : int\n",
    "            volume da TV\n",
    "            \n",
    "        '''\n",
    "        \n",
    "        if self.volume >= 0 and self.volume < 100:\n",
    "            self.volume = self.volume + 5\n",
    "            print(f\"O volume da TV está em {self.volume}\")\n",
    "            \n",
    "        else:\n",
    "            print(\"O volume da TV já está no máximo.\")\n",
    "        \n",
    "    def diminuir_volume(self):\n",
    "        \n",
    "        '''\n",
    "        Este método diminui o volume da TV em 5 unidades, \n",
    "        considerando que o volume padrão incial seja 50\n",
    "        \n",
    "        Parâmetros\n",
    "        ----------\n",
    "        \n",
    "        volume : int\n",
    "            volume da TV\n",
    "            \n",
    "        '''\n",
    "        \n",
    "        if self.volume > 0 and self.volume <= 100:\n",
    "            self.volume = self.volume - 5\n",
    "            print(f\"O volume da TV está em {self.volume}\")\n",
    "            \n",
    "        else:\n",
    "            print(\"O volume da TV já está no mínimo.\")\n",
    "            \n",
    "    def sintonizar_novo_canal(self, canal, lista_de_canais=[]):\n",
    "        \n",
    "        '''\n",
    "        Este método adiciona um novo canal na sua lista de canais\n",
    "        \n",
    "        Parâmetros\n",
    "        ----------\n",
    "        \n",
    "        canal : int\n",
    "            canal a ser inserido na lista de canais\n",
    "        \n",
    "        lista_de_canais : list[int]\n",
    "            lista de canais disponíveis na TV\n",
    "            \n",
    "        '''\n",
    "        \n",
    "        if canal not in self.lista_de_canais:\n",
    "            self.lista_de_canais.append(canal)\n",
    "            print(f\"O canal {canal} foi adicionado à sua lista de canais.\")\n",
    "            \n",
    "        else:\n",
    "            print(\"Este canal já está na sua lista de canais.\")\n",
    "            \n",
    "    def trocar_canal(self, canal):\n",
    "        \n",
    "        '''\n",
    "        Este método sintoniza o canal desejado para ser assistido na TV\n",
    "        \n",
    "        Parâmetros\n",
    "        ----------\n",
    "        \n",
    "        canal : int\n",
    "            canal desejado a ser assistido na TV\n",
    "            \n",
    "        '''\n",
    "        \n",
    "        if canal in self.lista_de_canais:\n",
    "            print(f\"O canal {canal} foi sintonizado.\")\n",
    "            \n",
    "        else:\n",
    "            print(f\"O canal desejado não encontra-se na sua lista de canais disponíveis.\")"
   ]
  },
  {
   "cell_type": "code",
   "execution_count": 61,
   "id": "275a8eee-10a5-44b5-b927-f62866e1343b",
   "metadata": {},
   "outputs": [],
   "source": [
    "ControleRemoto1 = ControleRemoto(tv1)"
   ]
  },
  {
   "cell_type": "code",
   "execution_count": 62,
   "id": "c192c5af-c249-4a46-84c3-057ca9117f50",
   "metadata": {},
   "outputs": [
    {
     "name": "stdout",
     "output_type": "stream",
     "text": [
      "O volume da TV está em 55\n"
     ]
    }
   ],
   "source": [
    "ControleRemoto1.aumentar_volume()"
   ]
  },
  {
   "cell_type": "code",
   "execution_count": 63,
   "id": "436c7bb8-eadf-4c8a-b0bf-096d14251243",
   "metadata": {},
   "outputs": [],
   "source": [
    "ControleRemoto2 = ControleRemoto(tv2)"
   ]
  },
  {
   "cell_type": "code",
   "execution_count": 64,
   "id": "be862f65-e48e-4798-b39c-9623cc3f2f83",
   "metadata": {},
   "outputs": [
    {
     "name": "stdout",
     "output_type": "stream",
     "text": [
      "O volume da TV está em 55\n"
     ]
    }
   ],
   "source": [
    "ControleRemoto2.aumentar_volume()"
   ]
  },
  {
   "cell_type": "code",
   "execution_count": 65,
   "id": "ec5e53ff-21df-4307-8f5e-312ff15f062b",
   "metadata": {},
   "outputs": [
    {
     "name": "stdout",
     "output_type": "stream",
     "text": [
      "O volume da TV está em 60\n"
     ]
    }
   ],
   "source": [
    "ControleRemoto2.aumentar_volume()"
   ]
  },
  {
   "cell_type": "code",
   "execution_count": 66,
   "id": "15b85b3c-0226-4ecb-ac69-20145ca425d8",
   "metadata": {},
   "outputs": [
    {
     "name": "stdout",
     "output_type": "stream",
     "text": [
      "O volume da TV está em 65\n"
     ]
    }
   ],
   "source": [
    "ControleRemoto2.aumentar_volume()"
   ]
  },
  {
   "cell_type": "code",
   "execution_count": 67,
   "id": "60c4e079-45f7-4100-8141-4617abf65248",
   "metadata": {},
   "outputs": [
    {
     "name": "stdout",
     "output_type": "stream",
     "text": [
      "O volume da TV está em 70\n"
     ]
    }
   ],
   "source": [
    "ControleRemoto2.aumentar_volume()"
   ]
  },
  {
   "cell_type": "code",
   "execution_count": 68,
   "id": "82dec771-fe06-41e4-a848-c86cb1fa92e6",
   "metadata": {},
   "outputs": [
    {
     "name": "stdout",
     "output_type": "stream",
     "text": [
      "O volume da TV está em 75\n"
     ]
    }
   ],
   "source": [
    "ControleRemoto2.aumentar_volume()"
   ]
  },
  {
   "cell_type": "code",
   "execution_count": 69,
   "id": "ea0b65bc-d519-4d13-a6d6-8ada3aa59d27",
   "metadata": {},
   "outputs": [
    {
     "name": "stdout",
     "output_type": "stream",
     "text": [
      "O volume da TV está em 80\n"
     ]
    }
   ],
   "source": [
    "ControleRemoto2.aumentar_volume()"
   ]
  },
  {
   "cell_type": "code",
   "execution_count": 70,
   "id": "9ca2a95f-b7bc-416e-8dd2-a74f5e03126d",
   "metadata": {},
   "outputs": [
    {
     "name": "stdout",
     "output_type": "stream",
     "text": [
      "O volume da TV está em 85\n"
     ]
    }
   ],
   "source": [
    "ControleRemoto2.aumentar_volume()"
   ]
  },
  {
   "cell_type": "code",
   "execution_count": 71,
   "id": "a8857706-0a6b-4208-ad99-7c116cde8714",
   "metadata": {},
   "outputs": [
    {
     "name": "stdout",
     "output_type": "stream",
     "text": [
      "O volume da TV está em 90\n"
     ]
    }
   ],
   "source": [
    "ControleRemoto2.aumentar_volume()"
   ]
  },
  {
   "cell_type": "code",
   "execution_count": 72,
   "id": "77d4ce06-9e63-4232-bb7c-c6117df4b6f2",
   "metadata": {},
   "outputs": [
    {
     "name": "stdout",
     "output_type": "stream",
     "text": [
      "O volume da TV está em 95\n"
     ]
    }
   ],
   "source": [
    "ControleRemoto2.aumentar_volume()"
   ]
  },
  {
   "cell_type": "code",
   "execution_count": 73,
   "id": "88278a14-aaa1-4c90-9c99-e8faf7233605",
   "metadata": {},
   "outputs": [
    {
     "name": "stdout",
     "output_type": "stream",
     "text": [
      "O volume da TV está em 100\n"
     ]
    }
   ],
   "source": [
    "ControleRemoto2.aumentar_volume()"
   ]
  },
  {
   "cell_type": "code",
   "execution_count": 74,
   "id": "4c4cc734-796f-4172-899f-0b3b2d94fda5",
   "metadata": {},
   "outputs": [
    {
     "name": "stdout",
     "output_type": "stream",
     "text": [
      "O volume da TV já está no máximo.\n"
     ]
    }
   ],
   "source": [
    "ControleRemoto2.aumentar_volume()"
   ]
  },
  {
   "cell_type": "code",
   "execution_count": 75,
   "id": "6f3752c3-9744-41bb-81b8-87881de1b18a",
   "metadata": {},
   "outputs": [
    {
     "name": "stdout",
     "output_type": "stream",
     "text": [
      "O volume da TV está em 95\n"
     ]
    }
   ],
   "source": [
    "ControleRemoto2.diminuir_volume()"
   ]
  },
  {
   "cell_type": "code",
   "execution_count": 76,
   "id": "a93fa586-33ef-4fc0-9c2a-1ec41f2846ba",
   "metadata": {},
   "outputs": [
    {
     "name": "stdout",
     "output_type": "stream",
     "text": [
      "O volume da TV está em 90\n"
     ]
    }
   ],
   "source": [
    "ControleRemoto2.diminuir_volume()"
   ]
  },
  {
   "cell_type": "code",
   "execution_count": 77,
   "id": "ce8a00d4-c2da-4122-a00d-b1988225fbe2",
   "metadata": {},
   "outputs": [
    {
     "name": "stdout",
     "output_type": "stream",
     "text": [
      "O volume da TV está em 85\n"
     ]
    }
   ],
   "source": [
    "ControleRemoto2.diminuir_volume()"
   ]
  },
  {
   "cell_type": "code",
   "execution_count": 78,
   "id": "4034c35b-2dc7-47c6-b6e2-215f9683c859",
   "metadata": {},
   "outputs": [
    {
     "name": "stdout",
     "output_type": "stream",
     "text": [
      "O volume da TV está em 80\n"
     ]
    }
   ],
   "source": [
    "ControleRemoto2.diminuir_volume()"
   ]
  },
  {
   "cell_type": "code",
   "execution_count": 79,
   "id": "9b8653b7-e981-4326-bc29-96f3c217994e",
   "metadata": {},
   "outputs": [
    {
     "name": "stdout",
     "output_type": "stream",
     "text": [
      "O volume da TV está em 75\n"
     ]
    }
   ],
   "source": [
    "ControleRemoto2.diminuir_volume()"
   ]
  },
  {
   "cell_type": "code",
   "execution_count": 80,
   "id": "fd071dd7-517b-4671-a1dc-856abe297769",
   "metadata": {},
   "outputs": [
    {
     "name": "stdout",
     "output_type": "stream",
     "text": [
      "O volume da TV está em 70\n"
     ]
    }
   ],
   "source": [
    "ControleRemoto2.diminuir_volume()"
   ]
  },
  {
   "cell_type": "code",
   "execution_count": 81,
   "id": "c6bff385-68cb-4a49-9c68-8b7bb92ab0b4",
   "metadata": {},
   "outputs": [
    {
     "name": "stdout",
     "output_type": "stream",
     "text": [
      "O volume da TV está em 65\n"
     ]
    }
   ],
   "source": [
    "ControleRemoto2.diminuir_volume()"
   ]
  },
  {
   "cell_type": "code",
   "execution_count": 82,
   "id": "09aad3b8-5511-4593-b5a2-7f3f93866693",
   "metadata": {},
   "outputs": [
    {
     "name": "stdout",
     "output_type": "stream",
     "text": [
      "O volume da TV está em 60\n"
     ]
    }
   ],
   "source": [
    "ControleRemoto2.diminuir_volume()"
   ]
  },
  {
   "cell_type": "code",
   "execution_count": 83,
   "id": "ab3812fd-8dca-4f16-86d1-ce1e3ed14bc1",
   "metadata": {},
   "outputs": [
    {
     "name": "stdout",
     "output_type": "stream",
     "text": [
      "O volume da TV está em 55\n"
     ]
    }
   ],
   "source": [
    "ControleRemoto2.diminuir_volume()"
   ]
  },
  {
   "cell_type": "code",
   "execution_count": 84,
   "id": "a2e85fc6-1a3c-440c-a1c5-d8ce92e091b3",
   "metadata": {},
   "outputs": [
    {
     "name": "stdout",
     "output_type": "stream",
     "text": [
      "O volume da TV está em 50\n"
     ]
    }
   ],
   "source": [
    "ControleRemoto2.diminuir_volume()"
   ]
  },
  {
   "cell_type": "code",
   "execution_count": 85,
   "id": "e519b242-537e-4f22-840a-133d9e785f9e",
   "metadata": {},
   "outputs": [
    {
     "name": "stdout",
     "output_type": "stream",
     "text": [
      "O volume da TV está em 45\n"
     ]
    }
   ],
   "source": [
    "ControleRemoto2.diminuir_volume()"
   ]
  },
  {
   "cell_type": "code",
   "execution_count": 86,
   "id": "6df5dcb2-fded-445d-9d07-e2ff41f419d0",
   "metadata": {},
   "outputs": [
    {
     "name": "stdout",
     "output_type": "stream",
     "text": [
      "O volume da TV está em 40\n"
     ]
    }
   ],
   "source": [
    "ControleRemoto2.diminuir_volume()"
   ]
  },
  {
   "cell_type": "code",
   "execution_count": 87,
   "id": "3f00051a-1abe-4bea-9b5b-6ee99e80b002",
   "metadata": {},
   "outputs": [
    {
     "name": "stdout",
     "output_type": "stream",
     "text": [
      "O volume da TV está em 35\n"
     ]
    }
   ],
   "source": [
    "ControleRemoto2.diminuir_volume()"
   ]
  },
  {
   "cell_type": "code",
   "execution_count": 88,
   "id": "bf2719d7-6e55-4e44-8828-cacfa53ee59a",
   "metadata": {},
   "outputs": [
    {
     "name": "stdout",
     "output_type": "stream",
     "text": [
      "O volume da TV está em 30\n"
     ]
    }
   ],
   "source": [
    "ControleRemoto2.diminuir_volume()"
   ]
  },
  {
   "cell_type": "code",
   "execution_count": 89,
   "id": "fd9ea3cb-b6fc-4ab9-a6d9-0d838ee40064",
   "metadata": {},
   "outputs": [
    {
     "name": "stdout",
     "output_type": "stream",
     "text": [
      "O volume da TV está em 25\n"
     ]
    }
   ],
   "source": [
    "ControleRemoto2.diminuir_volume()"
   ]
  },
  {
   "cell_type": "code",
   "execution_count": 90,
   "id": "be9bc253-faed-4f5c-bed7-86fad3dbd768",
   "metadata": {},
   "outputs": [
    {
     "name": "stdout",
     "output_type": "stream",
     "text": [
      "O volume da TV está em 20\n"
     ]
    }
   ],
   "source": [
    "ControleRemoto2.diminuir_volume()"
   ]
  },
  {
   "cell_type": "code",
   "execution_count": 91,
   "id": "4fa1febc-0fab-4ba2-8391-f08f75441d62",
   "metadata": {},
   "outputs": [
    {
     "name": "stdout",
     "output_type": "stream",
     "text": [
      "O volume da TV está em 15\n"
     ]
    }
   ],
   "source": [
    "ControleRemoto2.diminuir_volume()"
   ]
  },
  {
   "cell_type": "code",
   "execution_count": 92,
   "id": "dffdb776-78af-48b2-a277-1f489f9b43a3",
   "metadata": {},
   "outputs": [
    {
     "name": "stdout",
     "output_type": "stream",
     "text": [
      "O volume da TV está em 10\n"
     ]
    }
   ],
   "source": [
    "ControleRemoto2.diminuir_volume()"
   ]
  },
  {
   "cell_type": "code",
   "execution_count": 93,
   "id": "b38080e3-1540-4897-9959-f7ca2685f1e8",
   "metadata": {},
   "outputs": [
    {
     "name": "stdout",
     "output_type": "stream",
     "text": [
      "O volume da TV está em 5\n"
     ]
    }
   ],
   "source": [
    "ControleRemoto2.diminuir_volume()"
   ]
  },
  {
   "cell_type": "code",
   "execution_count": 94,
   "id": "aaa90869-f618-4b82-be2d-64c80c5952a8",
   "metadata": {},
   "outputs": [
    {
     "name": "stdout",
     "output_type": "stream",
     "text": [
      "O volume da TV está em 0\n"
     ]
    }
   ],
   "source": [
    "ControleRemoto2.diminuir_volume()"
   ]
  },
  {
   "cell_type": "code",
   "execution_count": 95,
   "id": "05f12920-e27c-4708-9e2f-0d3688025917",
   "metadata": {},
   "outputs": [
    {
     "name": "stdout",
     "output_type": "stream",
     "text": [
      "O volume da TV já está no mínimo.\n"
     ]
    }
   ],
   "source": [
    "ControleRemoto2.diminuir_volume()"
   ]
  },
  {
   "cell_type": "code",
   "execution_count": 96,
   "id": "494c2049-9b42-4739-96ab-ea107b871156",
   "metadata": {},
   "outputs": [
    {
     "name": "stdout",
     "output_type": "stream",
     "text": [
      "O volume da TV já está no mínimo.\n"
     ]
    }
   ],
   "source": [
    "ControleRemoto2.diminuir_volume()"
   ]
  },
  {
   "cell_type": "code",
   "execution_count": 97,
   "id": "6de10add-61f1-4301-857a-3956d8d6f0de",
   "metadata": {
    "tags": []
   },
   "outputs": [
    {
     "data": {
      "text/plain": [
       "[]"
      ]
     },
     "execution_count": 97,
     "metadata": {},
     "output_type": "execute_result"
    }
   ],
   "source": [
    "tv2.lista_de_canais"
   ]
  },
  {
   "cell_type": "code",
   "execution_count": 98,
   "id": "7604edfc-e7a4-45c9-bf1b-8810319f6ec3",
   "metadata": {},
   "outputs": [
    {
     "name": "stdout",
     "output_type": "stream",
     "text": [
      "O canal 5 foi adicionado à sua lista de canais.\n"
     ]
    }
   ],
   "source": [
    "tv2.sintonizar_novo_canal(5)"
   ]
  },
  {
   "cell_type": "code",
   "execution_count": 99,
   "id": "20955e90-cf31-442e-864b-2edef10d8fa6",
   "metadata": {},
   "outputs": [
    {
     "name": "stdout",
     "output_type": "stream",
     "text": [
      "Este canal já está na sua lista de canais.\n"
     ]
    }
   ],
   "source": [
    "tv2.sintonizar_novo_canal(5)"
   ]
  },
  {
   "cell_type": "code",
   "execution_count": 100,
   "id": "4fcdbee7-b0a1-4c0c-bd21-f222996a89c4",
   "metadata": {},
   "outputs": [
    {
     "data": {
      "text/plain": [
       "[5]"
      ]
     },
     "execution_count": 100,
     "metadata": {},
     "output_type": "execute_result"
    }
   ],
   "source": [
    "tv2.lista_de_canais"
   ]
  },
  {
   "cell_type": "code",
   "execution_count": 101,
   "id": "d40c1d10-f1dd-487f-94f9-172c00abb673",
   "metadata": {},
   "outputs": [
    {
     "name": "stdout",
     "output_type": "stream",
     "text": [
      "O canal 7 foi adicionado à sua lista de canais.\n"
     ]
    }
   ],
   "source": [
    "tv2.sintonizar_novo_canal(7)"
   ]
  },
  {
   "cell_type": "code",
   "execution_count": 102,
   "id": "cedf216c-eed3-4b75-bbb9-cc3d61bb2972",
   "metadata": {},
   "outputs": [
    {
     "name": "stdout",
     "output_type": "stream",
     "text": [
      "Este canal já está na sua lista de canais.\n"
     ]
    }
   ],
   "source": [
    "tv2.sintonizar_novo_canal(7)"
   ]
  },
  {
   "cell_type": "code",
   "execution_count": 103,
   "id": "0bd60763-9ed8-4c51-9e4e-9dfefa1d4868",
   "metadata": {},
   "outputs": [
    {
     "data": {
      "text/plain": [
       "[5, 7]"
      ]
     },
     "execution_count": 103,
     "metadata": {},
     "output_type": "execute_result"
    }
   ],
   "source": [
    "tv2.lista_de_canais"
   ]
  },
  {
   "cell_type": "code",
   "execution_count": 104,
   "id": "d03f29c7-adb7-4b44-a964-d4ce81871798",
   "metadata": {},
   "outputs": [
    {
     "name": "stdout",
     "output_type": "stream",
     "text": [
      "O canal 5 foi sintonizado.\n"
     ]
    }
   ],
   "source": [
    "tv2.trocar_canal(5)"
   ]
  },
  {
   "cell_type": "code",
   "execution_count": 105,
   "id": "52171e40-2d9d-4e5e-88fe-74d1cca5ea88",
   "metadata": {},
   "outputs": [
    {
     "name": "stdout",
     "output_type": "stream",
     "text": [
      "O canal desejado não encontra-se na sua lista de canais disponíveis.\n"
     ]
    }
   ],
   "source": [
    "tv2.trocar_canal(3)"
   ]
  },
  {
   "cell_type": "code",
   "execution_count": 106,
   "id": "5e4bdd13-782d-4d9c-8679-26e80319b52b",
   "metadata": {},
   "outputs": [
    {
     "name": "stdout",
     "output_type": "stream",
     "text": [
      "O canal 7 foi sintonizado.\n"
     ]
    }
   ],
   "source": [
    "tv2.trocar_canal(7)"
   ]
  },
  {
   "cell_type": "markdown",
   "id": "3707deba-1c21-4155-8dc1-4bf47c8b326e",
   "metadata": {},
   "source": [
    "---"
   ]
  },
  {
   "cell_type": "code",
   "execution_count": 107,
   "id": "0826f6ea-0ad1-4c3e-a2e4-e62d6f7d570d",
   "metadata": {},
   "outputs": [
    {
     "name": "stdout",
     "output_type": "stream",
     "text": [
      "O volume da TV está em 55\n"
     ]
    }
   ],
   "source": [
    "tv1.aumentar_volume()"
   ]
  },
  {
   "cell_type": "code",
   "execution_count": 108,
   "id": "7c90339e-c958-422a-9fea-1b74c8e03e6d",
   "metadata": {},
   "outputs": [
    {
     "name": "stdout",
     "output_type": "stream",
     "text": [
      "O volume da TV está em 60\n"
     ]
    }
   ],
   "source": [
    "tv1.aumentar_volume()"
   ]
  },
  {
   "cell_type": "code",
   "execution_count": 109,
   "id": "412551ca-d04a-4988-8085-7840cd80f293",
   "metadata": {},
   "outputs": [
    {
     "name": "stdout",
     "output_type": "stream",
     "text": [
      "O volume da TV está em 65\n"
     ]
    }
   ],
   "source": [
    "tv1.aumentar_volume()"
   ]
  },
  {
   "cell_type": "code",
   "execution_count": 110,
   "id": "e1ea844a-b276-4c51-8ac9-54b7c3c97920",
   "metadata": {},
   "outputs": [
    {
     "name": "stdout",
     "output_type": "stream",
     "text": [
      "O volume da TV está em 70\n"
     ]
    }
   ],
   "source": [
    "tv1.aumentar_volume()"
   ]
  },
  {
   "cell_type": "code",
   "execution_count": 111,
   "id": "7171d7c9-4da5-433e-9b1a-70c097a50a74",
   "metadata": {},
   "outputs": [
    {
     "name": "stdout",
     "output_type": "stream",
     "text": [
      "O volume da TV está em 75\n"
     ]
    }
   ],
   "source": [
    "tv1.aumentar_volume()"
   ]
  },
  {
   "cell_type": "code",
   "execution_count": 112,
   "id": "f2e710f4-2cbb-4c05-a6d0-26993073fbd6",
   "metadata": {},
   "outputs": [
    {
     "name": "stdout",
     "output_type": "stream",
     "text": [
      "O volume da TV está em 80\n"
     ]
    }
   ],
   "source": [
    "tv1.aumentar_volume()"
   ]
  },
  {
   "cell_type": "code",
   "execution_count": 113,
   "id": "e00b5e20-0ce4-4a7f-ad1b-c0b2a6197cb3",
   "metadata": {},
   "outputs": [
    {
     "name": "stdout",
     "output_type": "stream",
     "text": [
      "O volume da TV está em 85\n"
     ]
    }
   ],
   "source": [
    "tv1.aumentar_volume()"
   ]
  },
  {
   "cell_type": "code",
   "execution_count": 114,
   "id": "0f5af0f7-2c19-45d5-a5a1-a84b0565dafe",
   "metadata": {},
   "outputs": [
    {
     "name": "stdout",
     "output_type": "stream",
     "text": [
      "O volume da TV está em 90\n"
     ]
    }
   ],
   "source": [
    "tv1.aumentar_volume()"
   ]
  },
  {
   "cell_type": "code",
   "execution_count": 115,
   "id": "e92036f2-26a8-4dec-850b-95d079a00dff",
   "metadata": {},
   "outputs": [
    {
     "name": "stdout",
     "output_type": "stream",
     "text": [
      "O volume da TV está em 95\n"
     ]
    }
   ],
   "source": [
    "tv1.aumentar_volume()"
   ]
  },
  {
   "cell_type": "code",
   "execution_count": 116,
   "id": "6acbaafd-e948-4e7b-89e8-ce7f85f3ebbd",
   "metadata": {},
   "outputs": [
    {
     "name": "stdout",
     "output_type": "stream",
     "text": [
      "O volume da TV está em 100\n"
     ]
    }
   ],
   "source": [
    "tv1.aumentar_volume()"
   ]
  },
  {
   "cell_type": "code",
   "execution_count": 117,
   "id": "955a407a-a32b-4467-a03b-c9fb392c1b71",
   "metadata": {},
   "outputs": [
    {
     "name": "stdout",
     "output_type": "stream",
     "text": [
      "O volume da TV já está no máximo.\n"
     ]
    }
   ],
   "source": [
    "tv1.aumentar_volume()"
   ]
  },
  {
   "cell_type": "code",
   "execution_count": 118,
   "id": "38090cf1-1518-4f22-b646-f3921d66156a",
   "metadata": {},
   "outputs": [
    {
     "name": "stdout",
     "output_type": "stream",
     "text": [
      "O volume da TV está em 95\n"
     ]
    }
   ],
   "source": [
    "tv1.diminuir_volume()"
   ]
  },
  {
   "cell_type": "code",
   "execution_count": 119,
   "id": "5f279b66-d2bb-4cc8-905e-3d9cb1822e76",
   "metadata": {},
   "outputs": [
    {
     "name": "stdout",
     "output_type": "stream",
     "text": [
      "O volume da TV está em 90\n"
     ]
    }
   ],
   "source": [
    "tv1.diminuir_volume()"
   ]
  },
  {
   "cell_type": "code",
   "execution_count": 120,
   "id": "e456cd02-9d89-4499-b8d3-1152af2892b0",
   "metadata": {},
   "outputs": [
    {
     "name": "stdout",
     "output_type": "stream",
     "text": [
      "O volume da TV está em 85\n"
     ]
    }
   ],
   "source": [
    "tv1.diminuir_volume()"
   ]
  },
  {
   "cell_type": "code",
   "execution_count": 121,
   "id": "938db978-72c4-4177-ad8e-1dd55976ed37",
   "metadata": {},
   "outputs": [
    {
     "name": "stdout",
     "output_type": "stream",
     "text": [
      "O volume da TV está em 80\n"
     ]
    }
   ],
   "source": [
    "tv1.diminuir_volume()"
   ]
  },
  {
   "cell_type": "code",
   "execution_count": 122,
   "id": "64411a36-6c82-4433-90e9-9dd2c454d8db",
   "metadata": {},
   "outputs": [
    {
     "name": "stdout",
     "output_type": "stream",
     "text": [
      "O volume da TV está em 75\n"
     ]
    }
   ],
   "source": [
    "tv1.diminuir_volume()"
   ]
  },
  {
   "cell_type": "code",
   "execution_count": 123,
   "id": "ca7bbd56-ad08-4ab7-bc07-912181b14fc0",
   "metadata": {},
   "outputs": [
    {
     "name": "stdout",
     "output_type": "stream",
     "text": [
      "O volume da TV está em 70\n"
     ]
    }
   ],
   "source": [
    "tv1.diminuir_volume()"
   ]
  },
  {
   "cell_type": "code",
   "execution_count": 124,
   "id": "8b5492ee-8aee-4800-a4dd-3b405d80adca",
   "metadata": {},
   "outputs": [
    {
     "name": "stdout",
     "output_type": "stream",
     "text": [
      "O volume da TV está em 65\n"
     ]
    }
   ],
   "source": [
    "tv1.diminuir_volume()"
   ]
  },
  {
   "cell_type": "code",
   "execution_count": 125,
   "id": "c32f4ddd-a279-4dec-8dac-5dad1cf11261",
   "metadata": {},
   "outputs": [
    {
     "name": "stdout",
     "output_type": "stream",
     "text": [
      "O volume da TV está em 60\n"
     ]
    }
   ],
   "source": [
    "tv1.diminuir_volume()"
   ]
  },
  {
   "cell_type": "code",
   "execution_count": 126,
   "id": "6cbfd371-1507-4f09-bb2b-a58381996432",
   "metadata": {},
   "outputs": [
    {
     "name": "stdout",
     "output_type": "stream",
     "text": [
      "O volume da TV está em 55\n"
     ]
    }
   ],
   "source": [
    "tv1.diminuir_volume()"
   ]
  },
  {
   "cell_type": "code",
   "execution_count": 127,
   "id": "757b829a-04d9-41ff-8854-ed19c8a6929b",
   "metadata": {},
   "outputs": [
    {
     "name": "stdout",
     "output_type": "stream",
     "text": [
      "O volume da TV está em 50\n"
     ]
    }
   ],
   "source": [
    "tv1.diminuir_volume()"
   ]
  },
  {
   "cell_type": "code",
   "execution_count": 128,
   "id": "56025698-05f2-44bf-9406-cd50dcb87c83",
   "metadata": {},
   "outputs": [
    {
     "name": "stdout",
     "output_type": "stream",
     "text": [
      "O volume da TV está em 45\n"
     ]
    }
   ],
   "source": [
    "tv1.diminuir_volume()"
   ]
  },
  {
   "cell_type": "code",
   "execution_count": 129,
   "id": "fafc7e4d-2a0d-4827-95ee-6199e3e2c622",
   "metadata": {},
   "outputs": [
    {
     "name": "stdout",
     "output_type": "stream",
     "text": [
      "O volume da TV está em 40\n"
     ]
    }
   ],
   "source": [
    "tv1.diminuir_volume()"
   ]
  },
  {
   "cell_type": "code",
   "execution_count": 130,
   "id": "40c81fb3-8ead-4698-b334-a406d8aae73a",
   "metadata": {},
   "outputs": [
    {
     "name": "stdout",
     "output_type": "stream",
     "text": [
      "O volume da TV está em 35\n"
     ]
    }
   ],
   "source": [
    "tv1.diminuir_volume()"
   ]
  },
  {
   "cell_type": "code",
   "execution_count": 131,
   "id": "e82799e4-307f-4e0f-8778-f54e86b72a65",
   "metadata": {},
   "outputs": [
    {
     "name": "stdout",
     "output_type": "stream",
     "text": [
      "O volume da TV está em 30\n"
     ]
    }
   ],
   "source": [
    "tv1.diminuir_volume()"
   ]
  },
  {
   "cell_type": "code",
   "execution_count": 132,
   "id": "0775296c-d2a4-4ee1-9435-d57f31f330a1",
   "metadata": {},
   "outputs": [
    {
     "name": "stdout",
     "output_type": "stream",
     "text": [
      "O volume da TV está em 25\n"
     ]
    }
   ],
   "source": [
    "tv1.diminuir_volume()"
   ]
  },
  {
   "cell_type": "code",
   "execution_count": 133,
   "id": "8b2f75bc-8e75-4a8d-b2c6-d201508b1068",
   "metadata": {},
   "outputs": [
    {
     "name": "stdout",
     "output_type": "stream",
     "text": [
      "O volume da TV está em 20\n"
     ]
    }
   ],
   "source": [
    "tv1.diminuir_volume()"
   ]
  },
  {
   "cell_type": "code",
   "execution_count": 134,
   "id": "7cdaa6e1-0e91-4231-a895-2fae4452e580",
   "metadata": {},
   "outputs": [
    {
     "name": "stdout",
     "output_type": "stream",
     "text": [
      "O volume da TV está em 15\n"
     ]
    }
   ],
   "source": [
    "tv1.diminuir_volume()"
   ]
  },
  {
   "cell_type": "code",
   "execution_count": 135,
   "id": "42f43db4-35dd-427c-a409-dab4e6a5da15",
   "metadata": {},
   "outputs": [
    {
     "name": "stdout",
     "output_type": "stream",
     "text": [
      "O volume da TV está em 10\n"
     ]
    }
   ],
   "source": [
    "tv1.diminuir_volume()"
   ]
  },
  {
   "cell_type": "code",
   "execution_count": 136,
   "id": "30af5bd4-6105-4c03-8506-9630bf65bf9a",
   "metadata": {},
   "outputs": [
    {
     "name": "stdout",
     "output_type": "stream",
     "text": [
      "O volume da TV está em 5\n"
     ]
    }
   ],
   "source": [
    "tv1.diminuir_volume()"
   ]
  },
  {
   "cell_type": "code",
   "execution_count": 137,
   "id": "77fbcc2f-c1c0-4e67-bade-3b0e002a43db",
   "metadata": {},
   "outputs": [
    {
     "name": "stdout",
     "output_type": "stream",
     "text": [
      "O volume da TV está em 0\n"
     ]
    }
   ],
   "source": [
    "tv1.diminuir_volume()"
   ]
  },
  {
   "cell_type": "code",
   "execution_count": 138,
   "id": "773bc9c5-0d20-4f6b-abe8-84298fb73869",
   "metadata": {},
   "outputs": [
    {
     "name": "stdout",
     "output_type": "stream",
     "text": [
      "O volume da TV já está no mínimo.\n"
     ]
    }
   ],
   "source": [
    "tv1.diminuir_volume()"
   ]
  },
  {
   "cell_type": "code",
   "execution_count": 139,
   "id": "d96acc0c-5ee4-4b49-9d36-d476b3321689",
   "metadata": {
    "tags": []
   },
   "outputs": [
    {
     "data": {
      "text/plain": [
       "[]"
      ]
     },
     "execution_count": 139,
     "metadata": {},
     "output_type": "execute_result"
    }
   ],
   "source": [
    "tv1.lista_de_canais"
   ]
  },
  {
   "cell_type": "code",
   "execution_count": 140,
   "id": "979bacd2-d516-4e55-9daf-fe3656d20d62",
   "metadata": {},
   "outputs": [
    {
     "name": "stdout",
     "output_type": "stream",
     "text": [
      "O canal 2 foi adicionado à sua lista de canais.\n"
     ]
    }
   ],
   "source": [
    "tv1.sintonizar_novo_canal(2)"
   ]
  },
  {
   "cell_type": "code",
   "execution_count": 141,
   "id": "2e1a9bc1-1bf1-4de9-b30c-933eff191020",
   "metadata": {},
   "outputs": [
    {
     "name": "stdout",
     "output_type": "stream",
     "text": [
      "Este canal já está na sua lista de canais.\n"
     ]
    }
   ],
   "source": [
    "tv1.sintonizar_novo_canal(2)"
   ]
  },
  {
   "cell_type": "code",
   "execution_count": 142,
   "id": "4b422044-d0d0-40c8-b0f4-6c899b5ee6a2",
   "metadata": {},
   "outputs": [
    {
     "data": {
      "text/plain": [
       "[2]"
      ]
     },
     "execution_count": 142,
     "metadata": {},
     "output_type": "execute_result"
    }
   ],
   "source": [
    "tv1.lista_de_canais"
   ]
  },
  {
   "cell_type": "code",
   "execution_count": 143,
   "id": "fe8d17c0-5b55-4b56-809d-5fdaa0e320b0",
   "metadata": {},
   "outputs": [
    {
     "name": "stdout",
     "output_type": "stream",
     "text": [
      "O canal 4 foi adicionado à sua lista de canais.\n"
     ]
    }
   ],
   "source": [
    "tv1.sintonizar_novo_canal(4)"
   ]
  },
  {
   "cell_type": "code",
   "execution_count": 144,
   "id": "39eb6d04-2a9e-45ca-b14f-2a81b746cd4b",
   "metadata": {},
   "outputs": [
    {
     "name": "stdout",
     "output_type": "stream",
     "text": [
      "Este canal já está na sua lista de canais.\n"
     ]
    }
   ],
   "source": [
    "tv1.sintonizar_novo_canal(4)"
   ]
  },
  {
   "cell_type": "code",
   "execution_count": 145,
   "id": "6c74c766-9b8c-4dfd-8c53-5d51a853a2eb",
   "metadata": {},
   "outputs": [
    {
     "data": {
      "text/plain": [
       "[2, 4]"
      ]
     },
     "execution_count": 145,
     "metadata": {},
     "output_type": "execute_result"
    }
   ],
   "source": [
    "tv1.lista_de_canais"
   ]
  },
  {
   "cell_type": "code",
   "execution_count": 146,
   "id": "31425caf-a43d-41c5-bfca-a942dcbac8a5",
   "metadata": {},
   "outputs": [
    {
     "name": "stdout",
     "output_type": "stream",
     "text": [
      "O canal 2 foi sintonizado.\n"
     ]
    }
   ],
   "source": [
    "tv1.trocar_canal(2)"
   ]
  },
  {
   "cell_type": "code",
   "execution_count": 147,
   "id": "b062fddc-06f7-4ee3-834d-4cf9f667594b",
   "metadata": {},
   "outputs": [
    {
     "name": "stdout",
     "output_type": "stream",
     "text": [
      "O canal desejado não encontra-se na sua lista de canais disponíveis.\n"
     ]
    }
   ],
   "source": [
    "tv1.trocar_canal(3)"
   ]
  }
 ],
 "metadata": {
  "kernelspec": {
   "display_name": "Python 3",
   "language": "python",
   "name": "python3"
  },
  "language_info": {
   "codemirror_mode": {
    "name": "ipython",
    "version": 3
   },
   "file_extension": ".py",
   "mimetype": "text/x-python",
   "name": "python",
   "nbconvert_exporter": "python",
   "pygments_lexer": "ipython3",
   "version": "3.8.8"
  }
 },
 "nbformat": 4,
 "nbformat_minor": 5
}
