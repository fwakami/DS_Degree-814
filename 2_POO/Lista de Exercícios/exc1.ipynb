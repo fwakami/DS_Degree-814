{
 "cells": [
  {
   "cell_type": "code",
   "execution_count": 19,
   "id": "cc789a64-cb58-43cb-b69e-753305ce0fe0",
   "metadata": {},
   "outputs": [],
   "source": [
    "class Bola:\n",
    "    \n",
    "    def __init__(self, cor, raio):\n",
    "        '''\n",
    "        Cria uma bola\n",
    "        \n",
    "        Parâmetros\n",
    "        ----------\n",
    "        cor : str\n",
    "            cor da bola\n",
    "        raio : float\n",
    "            raio da bola\n",
    "            \n",
    "        '''\n",
    "        self.cor = cor\n",
    "        self.raio = raio\n",
    "        self.area = self.calcula_area()\n",
    "        self.volume = self.calcula_volume()\n",
    "        \n",
    "    def imprime_cor(self):\n",
    "        '''\n",
    "        imprime a cor da bola\n",
    "        \n",
    "        '''\n",
    "        print(f'A cor da bola é {self.cor}')\n",
    "        \n",
    "    def calcula_area(self):\n",
    "        '''\n",
    "        Calcula a área da bola\n",
    "        \n",
    "        '''\n",
    "        pi = 3.14\n",
    "        area = 4 * pi * self.raio * self.raio\n",
    "        return area\n",
    "        print(f'A área da bola é {area}')\n",
    "    \n",
    "    def calcula_volume(self):\n",
    "        '''\n",
    "        Calcula o volume da bola\n",
    "        \n",
    "        '''\n",
    "        pi = 3.14\n",
    "        volume = ((4 * pi * self.raio * self.raio * self.raio)/3)\n",
    "        return volume\n",
    "        print(f'O volume da bola é {volume}')\n"
   ]
  },
  {
   "cell_type": "code",
   "execution_count": 20,
   "id": "db029e20-6829-4f59-9cd0-259aadb1e328",
   "metadata": {},
   "outputs": [],
   "source": [
    "bola1 = Bola(\n",
    "    cor = 'vermelha',\n",
    "    raio = 3)"
   ]
  },
  {
   "cell_type": "code",
   "execution_count": 21,
   "id": "2787833d-3a20-4392-8342-6e8bd0517988",
   "metadata": {},
   "outputs": [
    {
     "name": "stdout",
     "output_type": "stream",
     "text": [
      "A cor da bola é vermelha\n"
     ]
    }
   ],
   "source": [
    "bola1.imprime_cor()"
   ]
  },
  {
   "cell_type": "code",
   "execution_count": 22,
   "id": "68e13016-0c44-40c4-b370-629615d8da9b",
   "metadata": {},
   "outputs": [
    {
     "data": {
      "text/plain": [
       "113.03999999999999"
      ]
     },
     "execution_count": 22,
     "metadata": {},
     "output_type": "execute_result"
    }
   ],
   "source": [
    "bola1.calcula_area()"
   ]
  },
  {
   "cell_type": "code",
   "execution_count": 23,
   "id": "459ce3ab-4195-4911-bb6a-0ff4981df41c",
   "metadata": {},
   "outputs": [
    {
     "data": {
      "text/plain": [
       "113.04"
      ]
     },
     "execution_count": 23,
     "metadata": {},
     "output_type": "execute_result"
    }
   ],
   "source": [
    "bola1.calcula_volume()"
   ]
  }
 ],
 "metadata": {
  "kernelspec": {
   "display_name": "Python 3",
   "language": "python",
   "name": "python3"
  },
  "language_info": {
   "codemirror_mode": {
    "name": "ipython",
    "version": 3
   },
   "file_extension": ".py",
   "mimetype": "text/x-python",
   "name": "python",
   "nbconvert_exporter": "python",
   "pygments_lexer": "ipython3",
   "version": "3.8.8"
  }
 },
 "nbformat": 4,
 "nbformat_minor": 5
}
