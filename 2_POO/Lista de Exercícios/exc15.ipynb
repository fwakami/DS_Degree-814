{
 "cells": [
  {
   "cell_type": "markdown",
   "id": "f6dd31fc-3048-42ab-b028-33c042f3fc35",
   "metadata": {},
   "source": [
    "15. Crie uma classe Quadrado, filha da classe Retângulo do exercício 2"
   ]
  },
  {
   "cell_type": "code",
   "execution_count": 525,
   "id": "b657db56-0a46-44e3-9c4e-8ec5d5deaccd",
   "metadata": {},
   "outputs": [],
   "source": [
    "class Retangulo:\n",
    "    \n",
    "    '''\n",
    "    Cria a representação de um retângulo\n",
    "    \n",
    "    '''\n",
    "    \n",
    "    def __init__(self, lado_a, lado_b):\n",
    "        \n",
    "         '''\n",
    "        Calcula a área do retângulo\n",
    "        \n",
    "        \n",
    "        Parâmetros\n",
    "        ----------\n",
    "        \n",
    "        lado_a: float\n",
    "            base do retangulo\n",
    "            \n",
    "        lado_b: float\n",
    "            altura do retangulo\n",
    "            \n",
    "        '''\n",
    "            \n",
    "        self.lado_a = lado_a\n",
    "        self.lado_b = lado_b\n",
    "        \n",
    "    def area(self):\n",
    "        \n",
    "        '''\n",
    "        Calcula a área do retângulo\n",
    "        \n",
    "        '''\n",
    "        \n",
    "        return self.lado_a*self.lado_b\n",
    "    \n",
    "class Quadrado(Retangulo):\n",
    "    \n",
    "    '''\n",
    "    Cria a representação de um quadrado\n",
    "    (herda características da classe Retangulo)\n",
    "    \n",
    "    '''\n",
    "    \n",
    "    def __init__(self, lado):\n",
    "        super().__init__(\n",
    "            lado_a = lado, \n",
    "            lado_b = lado)"
   ]
  },
  {
   "cell_type": "code",
   "execution_count": 527,
   "id": "c4aa66cb-b9b9-41df-ad27-a0206bc24d06",
   "metadata": {},
   "outputs": [
    {
     "data": {
      "text/plain": [
       "16"
      ]
     },
     "execution_count": 527,
     "metadata": {},
     "output_type": "execute_result"
    }
   ],
   "source": [
    "quadrado1 = Quadrado(4)\n",
    "quadrado1.area()"
   ]
  }
 ],
 "metadata": {
  "kernelspec": {
   "display_name": "Python 3",
   "language": "python",
   "name": "python3"
  },
  "language_info": {
   "codemirror_mode": {
    "name": "ipython",
    "version": 3
   },
   "file_extension": ".py",
   "mimetype": "text/x-python",
   "name": "python",
   "nbconvert_exporter": "python",
   "pygments_lexer": "ipython3",
   "version": "3.8.8"
  }
 },
 "nbformat": 4,
 "nbformat_minor": 5
}
