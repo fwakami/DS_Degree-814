{
 "cells": [
  {
   "cell_type": "code",
   "execution_count": 1969,
   "id": "a6ec9d6b-2570-4b29-b111-6d173538e368",
   "metadata": {},
   "outputs": [],
   "source": [
    "# criando a classe\n",
    "\n",
    "class Pessoa:\n",
    "    \n",
    "    '''\n",
    "    Cria uma representação da entidade Pessoa de nossa Rede Social\n",
    "    \n",
    "    '''\n",
    "    def __init__(self, nome, apelido, data_de_nascimento, email):\n",
    "        \n",
    "        '''\n",
    "        Construtor\n",
    " \n",
    "        \n",
    "        Parâmetros\n",
    "        ----------\n",
    "        nome : str\n",
    "            Nome associado à pessoa\n",
    "            \n",
    "        apelido : str\n",
    "            Apelido associado à pessoa\n",
    "            \n",
    "        data_nascimento : str\n",
    "            Data de nascimento associado à pessoa\n",
    "            \n",
    "        email : str\n",
    "            Email associado à pessoa\n",
    "            \n",
    "        lista_de_amigos : list [obj]\n",
    "            Lista de amigos associada à pessoa\n",
    "            \n",
    "        lista_de_interesses : list [str]\n",
    "            Lista de interesses associada à pessoa\n",
    "            \n",
    "        posts : list [str]\n",
    "            Lista de posts associado à pessoa\n",
    "            \n",
    "        '''\n",
    "        \n",
    "        # criando os atributos\n",
    "        \n",
    "        self.nome = nome\n",
    "        self.apelido = apelido\n",
    "        self.data_de_nascimento = data_de_nascimento\n",
    "        self.email = email\n",
    "        \n",
    "        # atributos não vindos do construtor\n",
    "        \n",
    "        self.lista_de_amigos = []\n",
    "        self.lista_de_interesse = []\n",
    "        self.posts = []\n",
    "        \n",
    "    def __repr__(self):\n",
    "        \n",
    "        '''\n",
    "        Este método muda a representação do objeto quando um método é chamado \n",
    "        (de objeto para o atributo \"nome\" do objeto)\n",
    "        \n",
    "        '''\n",
    "        \n",
    "        return self.nome\n",
    "        \n",
    "    def adicionar_amigo (self, amigo):\n",
    "            \n",
    "        '''\n",
    "        Este método adiciona um amigo à lista de amigos de self, e vice-versa.\n",
    "        Um mesmo amigo não pode ser adicionado duas vezes \n",
    "        e não é possível adicionar a si mesmo.\n",
    "          \n",
    "        Parâmetros\n",
    "        ----------\n",
    "           \n",
    "        amigo : Pessoa\n",
    "            Amigo que será adicionado à lista de amigos de self, \n",
    "            e que também terá self adicionado à sua lista de amigos\n",
    "                \n",
    "        lista_de_amigos : list [obj]\n",
    "            Lista de amigos associada à self\n",
    "                \n",
    "        '''\n",
    "            \n",
    "        if (amigo not in self.lista_de_amigos) and (amigo != self):\n",
    "                \n",
    "            self.lista_de_amigos.append(amigo)\n",
    "            amigo.lista_de_amigos.append(self)\n",
    "            \n",
    "            print(f\"{amigo.nome} adicionado(a) à lista de amigos de {self.nome}\")\n",
    "        \n",
    "        elif (amigo in self.lista_de_amigos):\n",
    "            \n",
    "            print(\"Esse contato já está na sua lista de amigos.\")\n",
    "            \n",
    "        elif (amigo == self):\n",
    "            \n",
    "            print(\"Você não pode se adicionar.\")\n",
    "            \n",
    "    def adicionar_interesse (self, interesse):\n",
    "        \n",
    "        '''\n",
    "        Este método adiciona um interesse à lista de interesses de self.\n",
    "        \n",
    "        Parâmetros\n",
    "        ----------\n",
    "        \n",
    "        interesse : str\n",
    "            Interesse de self que será adicionado à lista de interesses do mesmo.\n",
    "            Um mesmo interessa não pode ser adicionado duas vezes à lista.\n",
    "            \n",
    "        lista_de_interesse : list [str]\n",
    "            Lista de assuntos de interesse associada à self.\n",
    "            \n",
    "        '''\n",
    "        \n",
    "        if interesse.capitalize() not in self.lista_de_interesse:\n",
    "            self.lista_de_interesse.append(interesse.capitalize())\n",
    "            print(f'\"{interesse.capitalize()}\" adicionado à lista de interesses de {self.nome}')\n",
    "        \n",
    "        else:\n",
    "            print(\"Esse interesse já está na sua lista de interesses.\")\n",
    "            \n",
    "    def postar (self, post):\n",
    "        \n",
    "        '''\n",
    "        Este método adiciona um post à lista de posts de self.\n",
    "        \n",
    "        Parâmetros\n",
    "        ----------\n",
    "        \n",
    "        post : str\n",
    "            Post de self que será adicionado à lista de posts de self.\n",
    "        \n",
    "        posts : list [str]\n",
    "            Lista de posts associada à self.\n",
    "            \n",
    "        '''\n",
    "        \n",
    "        self.posts.append(post.capitalize())\n",
    "        print(f\"{self.nome} postou: {post.capitalize()}\")\n",
    "        \n",
    "    def mostrar_quantidade_de_amigos(self):\n",
    "        \n",
    "        '''\n",
    "        Calcula a quantidade de amigos de self.\n",
    "        \n",
    "        Parâmetros\n",
    "        ----------\n",
    "        \n",
    "        lista_de_amigos : list [obj]\n",
    "            Lista de amigos associada à self\n",
    "            \n",
    "        Output\n",
    "        ------\n",
    "        \n",
    "        Imprime na tela a quantidade de amigos de self.\n",
    "        \n",
    "        '''\n",
    "\n",
    "        print (f\"{self.nome} possui {len(self.lista_de_amigos)} amigo(s).\")\n",
    "        \n",
    "    def mostrar_quantidade_de_posts(self):\n",
    "        \n",
    "        '''\n",
    "        Calcula a quantidade de posts de self.\n",
    "        \n",
    "        Parâmetros\n",
    "        ----------\n",
    "        \n",
    "        posts : list [str]\n",
    "            Lista de posts associada à self.\n",
    "            \n",
    "        Output\n",
    "        ------\n",
    "        \n",
    "        Imprime na tela a quantidade de posts de self.\n",
    "        \n",
    "        '''\n",
    "        \n",
    "        print (f\"{self.nome} possui {len(self.posts)} post(s).\")\n",
    "        \n",
    "    def buscar_amigo(self, amigo):\n",
    "        \n",
    "        '''\n",
    "        Este método verifica se existe uma pessoa com o nome informado na lista de amigos de self.\n",
    "        \n",
    "        Parâmetros\n",
    "        ----------\n",
    "        \n",
    "        amigo : str\n",
    "            Nome do amigo que será buscado na lista de amigos de self.\n",
    "\n",
    "        '''\n",
    "        \n",
    "        # o contador me ajudará a saber se o nome pesquisado encontra-se na lista de amigos de self\n",
    "        contador = 0\n",
    "        \n",
    "        for cada_amigo in self.lista_de_amigos:\n",
    "            if cada_amigo == amigo:\n",
    "                print(f\"{cada_amigo} encontra-se na lista de amigos de {self.nome}.\")\n",
    "                contador = contador + 1\n",
    "                \n",
    "        if contador == 0:\n",
    "            print(f\"{amigo} não foi encontardo(a) na lista de amigos de {self.nome}.\")\n",
    "            \n",
    "    def procurar_post(self, string):\n",
    "        \n",
    "        '''\n",
    "        Este método procura por posts do usuário (ou de seus amigos) que contenham a palavra ou frase desejada.\n",
    "        \n",
    "        Parâmetros\n",
    "        ----------\n",
    "        \n",
    "        string : str\n",
    "            Palavra ou frase a ser buscada dentre os posts do usuário.\n",
    "            \n",
    "        posts : list [str]\n",
    "            Lista de posts associada à self.\n",
    "            \n",
    "        lista_de_amigos : list [str]\n",
    "            Lista de amigos associada à self\n",
    "            \n",
    "        Output\n",
    "        ------\n",
    "        \n",
    "        Imprime na tela os posts do usuário ou de seus amigos que contêm a palavra ou frase pesquisada.\n",
    "        \n",
    "        '''\n",
    "        \n",
    "        # o contador me ajudará a saber se a string pesquisada encontra-se \n",
    "        # na lista de posts de self ou dos amigos de self\n",
    "        contador = 0\n",
    "        \n",
    "        # procurar pela string nos posts de self:\n",
    "        for cada_post in self.posts:\n",
    "            if string.lower() in cada_post.lower():\n",
    "                print(f\"{self.nome} postou: {cada_post}\")\n",
    "                contador = contador + 1\n",
    "                \n",
    "        # procurar pela string nos posts dos amigos de self:        \n",
    "        for cada_amigo in self.lista_de_amigos:\n",
    "            for cada_post in cada_amigo.posts:\n",
    "                if string.lower() in cada_post.lower():\n",
    "                    print(f\"{cada_amigo.nome} postou: {cada_post}\")\n",
    "                    contador = contador + 1\n",
    "                    \n",
    "        if contador == 0:\n",
    "            print(\"Não foram encontrados posts contendo a string pesquisada\\nnos seus posts ou nos posts de seus amigos\")\n",
    "            \n",
    "    def mostrar_posts_amigos(self, amigo=None):\n",
    "        \n",
    "        '''\n",
    "        Este método mostra os posts de todos os amigos de self.\n",
    "        Caso queira os posts de um amigo específico, passar o amigo desejado na hora de chamar o método.\n",
    "        \n",
    "        Parâmetros\n",
    "        ----------\n",
    "        \n",
    "        lista_de_amigos : list [str]\n",
    "            Lista de amigos associada à self.\n",
    "            \n",
    "        posts : list [str]\n",
    "            Lista de posts dos amigos de self.\n",
    "        \n",
    "        amigo : str, opcional\n",
    "            Amigo que deseja imprimir os posts\n",
    "        \n",
    "        Output\n",
    "        ------\n",
    "        \n",
    "        Imprime na tela os posts dos amigos de self \n",
    "        ou os posts do amigo desejado.\n",
    "        \n",
    "        '''\n",
    "        \n",
    "        if amigo==None:\n",
    "            for cada_amigo in self.lista_de_amigos:\n",
    "                for cada_post in cada_amigo.posts:\n",
    "                    print(f\"{cada_amigo.nome} postou: {cada_post}\")\n",
    "                          \n",
    "        if amigo!=None:\n",
    "            contador = 0\n",
    "            for cada_amigo in self.lista_de_amigos:\n",
    "                if amigo.nome == cada_amigo.nome:\n",
    "                    contador = contador + 1\n",
    "                    for cada_post in cada_amigo.posts:\n",
    "                          print(f\"{cada_amigo.nome} postou: {cada_post}\")\n",
    "                            \n",
    "            if contador == 0:\n",
    "                print(\"Esta pessoa não encontra-se na sua lista de amigos.\")"
   ]
  },
  {
   "cell_type": "code",
   "execution_count": 1970,
   "id": "f975c54b-ba8a-428d-9242-a2b08caa9241",
   "metadata": {},
   "outputs": [],
   "source": [
    "Felipe = Pessoa(\n",
    "    nome='Felipe',\n",
    "    apelido='Waka',\n",
    "    data_de_nascimento='30/11/1993',\n",
    "    email='wakami@outlook.com')\n",
    "\n",
    "Juliana = Pessoa(\n",
    "    nome='Juliana',\n",
    "    apelido='Ju',\n",
    "    data_de_nascimento='21/06/1987',\n",
    "    email='jurohwed@gmail.com')\n",
    "\n",
    "Flavio = Pessoa(\n",
    "    nome='Flavio',\n",
    "    apelido='Fla',\n",
    "    data_de_nascimento='14/12/1992',\n",
    "    email='alfano_flavio@gmail.com')\n",
    "\n",
    "Mayara = Pessoa(\n",
    "    nome='Mayara',\n",
    "    apelido='May',\n",
    "    data_de_nascimento='05/12/1992',\n",
    "    email='mayaramarcal@gmail.com')"
   ]
  },
  {
   "cell_type": "markdown",
   "id": "6af17a10-c935-4193-8dc1-f0e2514c5782",
   "metadata": {},
   "source": [
    "***Testando o método \"adicionar_amigo\":***"
   ]
  },
  {
   "cell_type": "code",
   "execution_count": 1971,
   "id": "b2c6b337-6712-40dc-a196-2c6745733484",
   "metadata": {},
   "outputs": [
    {
     "name": "stdout",
     "output_type": "stream",
     "text": [
      "Juliana adicionado(a) à lista de amigos de Felipe\n",
      "Flavio adicionado(a) à lista de amigos de Felipe\n",
      "Mayara adicionado(a) à lista de amigos de Felipe\n",
      "Mayara adicionado(a) à lista de amigos de Flavio\n"
     ]
    }
   ],
   "source": [
    "Felipe.adicionar_amigo(Juliana)\n",
    "Felipe.adicionar_amigo(Flavio)\n",
    "Felipe.adicionar_amigo(Mayara)\n",
    "Flavio.adicionar_amigo(Mayara)"
   ]
  },
  {
   "cell_type": "code",
   "execution_count": 1972,
   "id": "d76d0aa3-2838-46eb-b1ca-b25b2f2395a9",
   "metadata": {},
   "outputs": [
    {
     "data": {
      "text/plain": [
       "[Juliana, Flavio, Mayara]"
      ]
     },
     "execution_count": 1972,
     "metadata": {},
     "output_type": "execute_result"
    }
   ],
   "source": [
    "Felipe.lista_de_amigos"
   ]
  },
  {
   "cell_type": "code",
   "execution_count": 1973,
   "id": "03d48b5d-5ded-4bc5-abeb-194fde5c858e",
   "metadata": {},
   "outputs": [
    {
     "data": {
      "text/plain": [
       "[Felipe]"
      ]
     },
     "execution_count": 1973,
     "metadata": {},
     "output_type": "execute_result"
    }
   ],
   "source": [
    "Juliana.lista_de_amigos"
   ]
  },
  {
   "cell_type": "code",
   "execution_count": 1974,
   "id": "58e77997-0e3a-427b-9419-b944ee7938ee",
   "metadata": {},
   "outputs": [
    {
     "data": {
      "text/plain": [
       "[Felipe, Mayara]"
      ]
     },
     "execution_count": 1974,
     "metadata": {},
     "output_type": "execute_result"
    }
   ],
   "source": [
    "Flavio.lista_de_amigos"
   ]
  },
  {
   "cell_type": "code",
   "execution_count": 1975,
   "id": "5d0af716-f833-43cc-9c8a-86945179039e",
   "metadata": {},
   "outputs": [
    {
     "data": {
      "text/plain": [
       "[Felipe, Flavio]"
      ]
     },
     "execution_count": 1975,
     "metadata": {},
     "output_type": "execute_result"
    }
   ],
   "source": [
    "Mayara.lista_de_amigos"
   ]
  },
  {
   "cell_type": "code",
   "execution_count": 1976,
   "id": "c6646fee-1d24-4f6e-837c-26f765847cd0",
   "metadata": {},
   "outputs": [
    {
     "name": "stdout",
     "output_type": "stream",
     "text": [
      "Esse contato já está na sua lista de amigos.\n"
     ]
    }
   ],
   "source": [
    "Felipe.adicionar_amigo(Juliana)"
   ]
  },
  {
   "cell_type": "code",
   "execution_count": 1977,
   "id": "7b97eeda-7b1e-4c53-91fa-4ebdcbfa4785",
   "metadata": {},
   "outputs": [
    {
     "name": "stdout",
     "output_type": "stream",
     "text": [
      "Você não pode se adicionar.\n"
     ]
    }
   ],
   "source": [
    "Felipe.adicionar_amigo(Felipe)"
   ]
  },
  {
   "cell_type": "markdown",
   "id": "da949eb2-5365-49a9-97f0-2bf1ab3feb1a",
   "metadata": {},
   "source": [
    "***Testando o método \"adicionar_interesse\":***"
   ]
  },
  {
   "cell_type": "code",
   "execution_count": 1978,
   "id": "f78e5ed7-29bd-4893-aae7-df71b87cec0b",
   "metadata": {},
   "outputs": [
    {
     "name": "stdout",
     "output_type": "stream",
     "text": [
      "\"Netflix\" adicionado à lista de interesses de Felipe\n",
      "\"Saltar de paraquedas\" adicionado à lista de interesses de Felipe\n",
      "\"Dormir\" adicionado à lista de interesses de Felipe\n",
      "\"Cozinhar\" adicionado à lista de interesses de Juliana\n",
      "\"Piscina\" adicionado à lista de interesses de Juliana\n",
      "\"Andar de bicileta\" adicionado à lista de interesses de Juliana\n",
      "\"Hipismo\" adicionado à lista de interesses de Flavio\n",
      "\"Cachorros\" adicionado à lista de interesses de Flavio\n",
      "\"Viajar\" adicionado à lista de interesses de Flavio\n",
      "\"Ler livros\" adicionado à lista de interesses de Mayara\n",
      "\"Ir ao shopping\" adicionado à lista de interesses de Mayara\n",
      "\"Inverno\" adicionado à lista de interesses de Mayara\n"
     ]
    }
   ],
   "source": [
    "Felipe.adicionar_interesse(\"netflix\")\n",
    "Felipe.adicionar_interesse(\"saltar de paraquedas\")\n",
    "Felipe.adicionar_interesse(\"dormir\")\n",
    "Juliana.adicionar_interesse(\"cozinhar\")\n",
    "Juliana.adicionar_interesse(\"piscina\")\n",
    "Juliana.adicionar_interesse(\"andar de bicileta\")\n",
    "Flavio.adicionar_interesse(\"hipismo\")\n",
    "Flavio.adicionar_interesse(\"cachorros\")\n",
    "Flavio.adicionar_interesse(\"viajar\")\n",
    "Mayara.adicionar_interesse(\"ler livros\")\n",
    "Mayara.adicionar_interesse(\"ir ao shopping\")\n",
    "Mayara.adicionar_interesse(\"inverno\")"
   ]
  },
  {
   "cell_type": "code",
   "execution_count": 1979,
   "id": "6de7685f-400d-4cd6-bebb-ce0b442968c7",
   "metadata": {},
   "outputs": [
    {
     "name": "stdout",
     "output_type": "stream",
     "text": [
      "Esse interesse já está na sua lista de interesses.\n"
     ]
    }
   ],
   "source": [
    "Mayara.adicionar_interesse(\"ler livros\")"
   ]
  },
  {
   "cell_type": "code",
   "execution_count": 1980,
   "id": "6e0ef1d0-df80-4310-9102-d697f3823e36",
   "metadata": {},
   "outputs": [
    {
     "name": "stdout",
     "output_type": "stream",
     "text": [
      "\"Ler livros\" adicionado à lista de interesses de Felipe\n"
     ]
    }
   ],
   "source": [
    "Felipe.adicionar_interesse(\"ler livros\")"
   ]
  },
  {
   "cell_type": "code",
   "execution_count": 1981,
   "id": "35e8bb9a-5334-44f5-944d-436ef7a81e7e",
   "metadata": {},
   "outputs": [
    {
     "data": {
      "text/plain": [
       "['Netflix', 'Saltar de paraquedas', 'Dormir', 'Ler livros']"
      ]
     },
     "execution_count": 1981,
     "metadata": {},
     "output_type": "execute_result"
    }
   ],
   "source": [
    "Felipe.lista_de_interesse"
   ]
  },
  {
   "cell_type": "markdown",
   "id": "8e10a359-9fe8-41ba-95d4-08fbcfa5b0c6",
   "metadata": {},
   "source": [
    "***Testando o método \"postar\":***"
   ]
  },
  {
   "cell_type": "code",
   "execution_count": 1982,
   "id": "6f15995c-edcd-42e2-b166-5ca96493a13a",
   "metadata": {},
   "outputs": [
    {
     "name": "stdout",
     "output_type": "stream",
     "text": [
      "Felipe postou: Estou assistindo netflix.\n",
      "Felipe postou: No final de semana passado eu assisti harry potter e a pedra filosofal.\n",
      "Felipe postou: Essa noite eu dormi 12 horas.\n",
      "Juliana postou: Eu amo cozinhar aos finais de semana.\n",
      "Juliana postou: Estou indo à piscina.\n",
      "Juliana postou: Fui até o mercado de bicicleta.\n",
      "Juliana postou: Queria adotar um cachorro.\n",
      "Flavio postou: Eu fiz hipismo dos 8 aos 16 anos.\n",
      "Flavio postou: Adotei um cachorro.\n",
      "Mayara postou: Terminei de ler todos os livros da saga harry potter.\n",
      "Mayara postou: Gosto de passear em shoppings aos finais de semana.\n",
      "Mayara postou: O inverno está chegando.\n",
      "Mayara postou: Estou planejando minha próxima viagem.\n",
      "Mayara postou: Hoje vi um cachorro dormindo em cima de um carro na rua.\n"
     ]
    }
   ],
   "source": [
    "Felipe.postar(\"Estou assistindo netflix.\")\n",
    "Felipe.postar(\"No final de semana passado eu assisti Harry Potter e a Pedra Filosofal.\")\n",
    "Felipe.postar(\"Essa noite eu dormi 12 horas.\")\n",
    "Juliana.postar(\"Eu amo cozinhar aos finais de semana.\")\n",
    "Juliana.postar(\"Estou indo à piscina.\")\n",
    "Juliana.postar(\"Fui até o mercado de bicicleta.\")\n",
    "Juliana.postar(\"Queria adotar um cachorro.\")\n",
    "Flavio.postar(\"Eu fiz hipismo dos 8 aos 16 anos.\")\n",
    "Flavio.postar(\"Adotei um cachorro.\")\n",
    "Mayara.postar(\"Terminei de ler todos os livros da saga Harry Potter.\")\n",
    "Mayara.postar(\"Gosto de passear em shoppings aos finais de semana.\")\n",
    "Mayara.postar(\"O inverno está chegando.\")\n",
    "Mayara.postar(\"Estou planejando minha próxima viagem.\")\n",
    "Mayara.postar(\"Hoje vi um cachorro dormindo em cima de um carro na rua.\")"
   ]
  },
  {
   "cell_type": "markdown",
   "id": "31b98d39-9bf7-40fd-b592-4576566ac356",
   "metadata": {},
   "source": [
    "***Testando o método \"mostrar_quantidade_de_amigos\":***"
   ]
  },
  {
   "cell_type": "code",
   "execution_count": 1983,
   "id": "4c2dcc59-0caf-4cfc-a0ca-d8a944399c92",
   "metadata": {},
   "outputs": [
    {
     "name": "stdout",
     "output_type": "stream",
     "text": [
      "Felipe possui 3 amigo(s).\n",
      "Juliana possui 1 amigo(s).\n",
      "Flavio possui 2 amigo(s).\n",
      "Mayara possui 2 amigo(s).\n"
     ]
    }
   ],
   "source": [
    "Felipe.mostrar_quantidade_de_amigos()\n",
    "Juliana.mostrar_quantidade_de_amigos()\n",
    "Flavio.mostrar_quantidade_de_amigos()\n",
    "Mayara.mostrar_quantidade_de_amigos()"
   ]
  },
  {
   "cell_type": "markdown",
   "id": "6a749a1c-284c-4b5e-b227-519bc27ed9a2",
   "metadata": {},
   "source": [
    "***Testando o método \"mostrar_quantidade_de_posts\":***"
   ]
  },
  {
   "cell_type": "code",
   "execution_count": 1984,
   "id": "5446350c-8df9-4e48-a23c-862b07974c84",
   "metadata": {},
   "outputs": [
    {
     "name": "stdout",
     "output_type": "stream",
     "text": [
      "Felipe possui 3 post(s).\n",
      "Juliana possui 4 post(s).\n",
      "Flavio possui 2 post(s).\n",
      "Mayara possui 5 post(s).\n"
     ]
    }
   ],
   "source": [
    "Felipe.mostrar_quantidade_de_posts()\n",
    "Juliana.mostrar_quantidade_de_posts()\n",
    "Flavio.mostrar_quantidade_de_posts()\n",
    "Mayara.mostrar_quantidade_de_posts()"
   ]
  },
  {
   "cell_type": "markdown",
   "id": "9c950ca6-3667-4596-85eb-14571767928d",
   "metadata": {},
   "source": [
    "***Testando o método \"buscar_amigo\":***"
   ]
  },
  {
   "cell_type": "code",
   "execution_count": 1985,
   "id": "0a07ff1c-2253-4553-8c17-dfa4e8c3c027",
   "metadata": {},
   "outputs": [
    {
     "name": "stdout",
     "output_type": "stream",
     "text": [
      "Juliana encontra-se na lista de amigos de Felipe.\n",
      "Flavio não foi encontardo(a) na lista de amigos de Juliana.\n",
      "Mayara encontra-se na lista de amigos de Flavio.\n",
      "Juliana não foi encontardo(a) na lista de amigos de Mayara.\n",
      "Mayara encontra-se na lista de amigos de Felipe.\n"
     ]
    }
   ],
   "source": [
    "Felipe.buscar_amigo(Juliana)\n",
    "Juliana.buscar_amigo(Flavio)\n",
    "Flavio.buscar_amigo(Mayara)\n",
    "Mayara.buscar_amigo(Juliana)\n",
    "Felipe.buscar_amigo(Mayara)"
   ]
  },
  {
   "cell_type": "markdown",
   "id": "c74094d8-efc3-4955-97d4-47bd1660b010",
   "metadata": {},
   "source": [
    "***Testando o método \"procurar_post\":***"
   ]
  },
  {
   "cell_type": "code",
   "execution_count": 1986,
   "id": "51c5d1c8-8ace-4276-8da2-6963c4af2fdf",
   "metadata": {},
   "outputs": [
    {
     "name": "stdout",
     "output_type": "stream",
     "text": [
      "Não foram encontrados posts contendo a string pesquisada\n",
      "nos seus posts ou nos posts de seus amigos\n"
     ]
    }
   ],
   "source": [
    "Felipe.procurar_post(\"gato\")"
   ]
  },
  {
   "cell_type": "code",
   "execution_count": 1987,
   "id": "135adfb1-8f4a-4f0d-b9d7-6220b1fec4e3",
   "metadata": {},
   "outputs": [
    {
     "name": "stdout",
     "output_type": "stream",
     "text": [
      "Juliana postou: Eu amo cozinhar aos finais de semana.\n",
      "Mayara postou: Gosto de passear em shoppings aos finais de semana.\n"
     ]
    }
   ],
   "source": [
    "Felipe.procurar_post(\"finais de semana\")"
   ]
  },
  {
   "cell_type": "code",
   "execution_count": 1988,
   "id": "5b453465-5d21-40fc-89a4-a62e959d3da9",
   "metadata": {},
   "outputs": [
    {
     "name": "stdout",
     "output_type": "stream",
     "text": [
      "Felipe postou: No final de semana passado eu assisti harry potter e a pedra filosofal.\n",
      "Mayara postou: Terminei de ler todos os livros da saga harry potter.\n"
     ]
    }
   ],
   "source": [
    "Flavio.procurar_post(\"Harry Potter\")"
   ]
  },
  {
   "cell_type": "code",
   "execution_count": 1989,
   "id": "14bbd873-914b-48ab-a0b0-0cda41de61c2",
   "metadata": {},
   "outputs": [
    {
     "name": "stdout",
     "output_type": "stream",
     "text": [
      "Não foram encontrados posts contendo a string pesquisada\n",
      "nos seus posts ou nos posts de seus amigos\n"
     ]
    }
   ],
   "source": [
    "Mayara.procurar_post(\"bicicleta\")"
   ]
  },
  {
   "cell_type": "code",
   "execution_count": 1990,
   "id": "9d6872ea-0357-4022-a364-46a8bdbc1891",
   "metadata": {},
   "outputs": [
    {
     "name": "stdout",
     "output_type": "stream",
     "text": [
      "Juliana postou: Fui até o mercado de bicicleta.\n"
     ]
    }
   ],
   "source": [
    "Juliana.procurar_post(\"bicicleta\")"
   ]
  },
  {
   "cell_type": "markdown",
   "id": "a4c42e61-5d4a-461a-9e07-bcb63bb1ff64",
   "metadata": {},
   "source": [
    "***Testando o método \"mostrar_posts_amigos\":***"
   ]
  },
  {
   "cell_type": "code",
   "execution_count": 1991,
   "id": "87f022af-717c-481b-9994-729c5c11c0e6",
   "metadata": {},
   "outputs": [
    {
     "name": "stdout",
     "output_type": "stream",
     "text": [
      "Juliana postou: Eu amo cozinhar aos finais de semana.\n",
      "Juliana postou: Estou indo à piscina.\n",
      "Juliana postou: Fui até o mercado de bicicleta.\n",
      "Juliana postou: Queria adotar um cachorro.\n",
      "Flavio postou: Eu fiz hipismo dos 8 aos 16 anos.\n",
      "Flavio postou: Adotei um cachorro.\n",
      "Mayara postou: Terminei de ler todos os livros da saga harry potter.\n",
      "Mayara postou: Gosto de passear em shoppings aos finais de semana.\n",
      "Mayara postou: O inverno está chegando.\n",
      "Mayara postou: Estou planejando minha próxima viagem.\n",
      "Mayara postou: Hoje vi um cachorro dormindo em cima de um carro na rua.\n"
     ]
    }
   ],
   "source": [
    "Felipe.mostrar_posts_amigos()"
   ]
  },
  {
   "cell_type": "code",
   "execution_count": 1992,
   "id": "0845052e-e6ec-4e5e-9f2d-02f1a54f1023",
   "metadata": {},
   "outputs": [
    {
     "name": "stdout",
     "output_type": "stream",
     "text": [
      "Juliana postou: Eu amo cozinhar aos finais de semana.\n",
      "Juliana postou: Estou indo à piscina.\n",
      "Juliana postou: Fui até o mercado de bicicleta.\n",
      "Juliana postou: Queria adotar um cachorro.\n"
     ]
    }
   ],
   "source": [
    "Felipe.mostrar_posts_amigos(Juliana)"
   ]
  },
  {
   "cell_type": "code",
   "execution_count": 1993,
   "id": "81fbdfef-9c9a-4720-a343-74eb48ee093a",
   "metadata": {},
   "outputs": [
    {
     "name": "stdout",
     "output_type": "stream",
     "text": [
      "Mayara postou: Terminei de ler todos os livros da saga harry potter.\n",
      "Mayara postou: Gosto de passear em shoppings aos finais de semana.\n",
      "Mayara postou: O inverno está chegando.\n",
      "Mayara postou: Estou planejando minha próxima viagem.\n",
      "Mayara postou: Hoje vi um cachorro dormindo em cima de um carro na rua.\n"
     ]
    }
   ],
   "source": [
    "Felipe.mostrar_posts_amigos(Mayara)"
   ]
  },
  {
   "cell_type": "code",
   "execution_count": 1994,
   "id": "28387403-2c9e-441e-aa9f-37f6ef72b9bb",
   "metadata": {},
   "outputs": [
    {
     "name": "stdout",
     "output_type": "stream",
     "text": [
      "Flavio postou: Eu fiz hipismo dos 8 aos 16 anos.\n",
      "Flavio postou: Adotei um cachorro.\n"
     ]
    }
   ],
   "source": [
    "Felipe.mostrar_posts_amigos(Flavio)"
   ]
  },
  {
   "cell_type": "code",
   "execution_count": 1995,
   "id": "698044bf-ed44-4f3c-b465-9de5f41d894f",
   "metadata": {},
   "outputs": [
    {
     "name": "stdout",
     "output_type": "stream",
     "text": [
      "Felipe postou: Estou assistindo netflix.\n",
      "Felipe postou: No final de semana passado eu assisti harry potter e a pedra filosofal.\n",
      "Felipe postou: Essa noite eu dormi 12 horas.\n",
      "Mayara postou: Terminei de ler todos os livros da saga harry potter.\n",
      "Mayara postou: Gosto de passear em shoppings aos finais de semana.\n",
      "Mayara postou: O inverno está chegando.\n",
      "Mayara postou: Estou planejando minha próxima viagem.\n",
      "Mayara postou: Hoje vi um cachorro dormindo em cima de um carro na rua.\n"
     ]
    }
   ],
   "source": [
    "Flavio.mostrar_posts_amigos()"
   ]
  },
  {
   "cell_type": "code",
   "execution_count": 1996,
   "id": "eac9830f-ccea-45e9-b3a5-f8ee47cb8acb",
   "metadata": {},
   "outputs": [
    {
     "name": "stdout",
     "output_type": "stream",
     "text": [
      "Felipe postou: Estou assistindo netflix.\n",
      "Felipe postou: No final de semana passado eu assisti harry potter e a pedra filosofal.\n",
      "Felipe postou: Essa noite eu dormi 12 horas.\n"
     ]
    }
   ],
   "source": [
    "Juliana.mostrar_posts_amigos()"
   ]
  },
  {
   "cell_type": "code",
   "execution_count": 1997,
   "id": "530f20dc-754e-4a12-b950-e46813875b4d",
   "metadata": {},
   "outputs": [
    {
     "name": "stdout",
     "output_type": "stream",
     "text": [
      "Flavio postou: Eu fiz hipismo dos 8 aos 16 anos.\n",
      "Flavio postou: Adotei um cachorro.\n"
     ]
    }
   ],
   "source": [
    "Mayara.mostrar_posts_amigos(Flavio)"
   ]
  },
  {
   "cell_type": "code",
   "execution_count": 1998,
   "id": "796416dd-c217-4f12-a116-4a799e56a191",
   "metadata": {},
   "outputs": [
    {
     "name": "stdout",
     "output_type": "stream",
     "text": [
      "Felipe postou: Estou assistindo netflix.\n",
      "Felipe postou: No final de semana passado eu assisti harry potter e a pedra filosofal.\n",
      "Felipe postou: Essa noite eu dormi 12 horas.\n"
     ]
    }
   ],
   "source": [
    "Mayara.mostrar_posts_amigos(Felipe)"
   ]
  },
  {
   "cell_type": "code",
   "execution_count": 1999,
   "id": "7798bf30-0702-4ddd-a0a7-9fca97b43c26",
   "metadata": {},
   "outputs": [
    {
     "name": "stdout",
     "output_type": "stream",
     "text": [
      "Felipe postou: Estou assistindo netflix.\n",
      "Felipe postou: No final de semana passado eu assisti harry potter e a pedra filosofal.\n",
      "Felipe postou: Essa noite eu dormi 12 horas.\n",
      "Flavio postou: Eu fiz hipismo dos 8 aos 16 anos.\n",
      "Flavio postou: Adotei um cachorro.\n"
     ]
    }
   ],
   "source": [
    "Mayara.mostrar_posts_amigos()"
   ]
  }
 ],
 "metadata": {
  "kernelspec": {
   "display_name": "Python 3",
   "language": "python",
   "name": "python3"
  },
  "language_info": {
   "codemirror_mode": {
    "name": "ipython",
    "version": 3
   },
   "file_extension": ".py",
   "mimetype": "text/x-python",
   "name": "python",
   "nbconvert_exporter": "python",
   "pygments_lexer": "ipython3",
   "version": "3.8.8"
  }
 },
 "nbformat": 4,
 "nbformat_minor": 5
}
