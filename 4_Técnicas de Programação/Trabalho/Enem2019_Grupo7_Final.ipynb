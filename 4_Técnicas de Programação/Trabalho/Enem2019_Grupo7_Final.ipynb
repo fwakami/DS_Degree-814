{
 "cells": [
  {
   "cell_type": "markdown",
   "id": "b3c08acf",
   "metadata": {},
   "source": [
    "# Projeto Final Módulo 4 \n",
    "### Trabalho final Módulo 4 | Técnicas de Programação I | Phyton | Degree Let´s Code, turma 814\n",
    "\n",
    "* `Objetivo`: **Realizar uma EDA (Exploratory Data Analysis) utilizando as bibliotecas do numpy e pandas.**\n",
    "    * O grupo poderá escolher uma base entre as fornecidas pelos professores ou escolherem uma outra base de dados que possa ser compartilhada.\n",
    "    * Teremos 10 grupos com 4 pessoas e 3 grupos com 5 pessoas.\n",
    "    * Grupos devem preencher o nome do participante e a base de dados escolhida no [link](https://docs.google.com/spreadsheets/d/1lWuWHb_d0_rz2wZaPPfDIwdFG3Xn2tf5CywFBhheI38/edit?usp=sharing)\n",
    "    * Sugestão de [base de dados](https://docs.google.com/spreadsheets/d/1C5KinYE4wAuKvM_Vc1t5HK16n92B_7zoeT8v7ASVP6A/edit?usp=sharing)\n",
    "    * A apresentação poderá ser construída em um jupyter notebook ou em slides\n",
    "    * Storytelling\n",
    "    * **Cada grupo terá no máximo 10 minutos para apresentar a EDA.**\n",
    "\n",
    "\n",
    "* `Pontos esperados`:\n",
    "    * Apresente as características do conjunto de dados fornecido, destacando sua visão geral acerca do conjunto de dados e tecendo críticas e comentários;\n",
    "    * Faça uma análise detalhada das variáveis numéricas e categóricas da base de dados, discutindo sua distribuição e outras características relevantes;\n",
    "    * Limpeza de dados: Considere a avaliação da existência de valores ausentes e de possíveis outliers, discutindo como estes podem ser tratados ou eliminados;\n",
    "    * Feature engineering: Quais variáveis você poderia criar para enriquecer a análise?\n",
    "    * Enriquecimento da base: Inclua qualquer outra informação/análise que achar importante.\n",
    "    * Que outras bases externas ou internas voce buscaria para enriquecer as análises?"
   ]
  },
  {
   "cell_type": "markdown",
   "id": "614cadeb",
   "metadata": {},
   "source": [
    "* `Integrantes`:\n",
    "    * Carlos Eduardo Gomes\n",
    "    * Diego Delfino\n",
    "    * Felipe Wakami\n",
    "    * Leonardo Kerkhoff\n",
    "    \n",
    "    \n",
    "* `Base escolhida`: **Microdados do Enem 2019** (Atualizado em 20/05/2021). \n",
    "    * Disponível em [enem 2019](https://www.gov.br/inep/pt-br/acesso-a-informacao/dados-abertos/microdados/enem), extraído em 25/jan/2022.    "
   ]
  },
  {
   "cell_type": "markdown",
   "id": "6aeb48e3",
   "metadata": {},
   "source": [
    "## Etapa 1 - ANÁLISE DOS DADOS AUSENTES"
   ]
  },
  {
   "cell_type": "markdown",
   "id": "4d4aac77",
   "metadata": {},
   "source": [
    "#### Instalando as bibliotecas necessárias: pandas, numpy e pandas_profiling"
   ]
  },
  {
   "cell_type": "code",
   "execution_count": 115,
   "id": "98453022",
   "metadata": {},
   "outputs": [],
   "source": [
    "#!pip install pandas\n",
    "#!pip install numpy\n",
    "#!pip install pandas-profiling"
   ]
  },
  {
   "cell_type": "markdown",
   "id": "0b4a50eb-27ca-4947-ad51-71be6b2804fb",
   "metadata": {},
   "source": [
    "#### Importando as bibliotecas e selecionando as colunas no dataframe com o import"
   ]
  },
  {
   "cell_type": "code",
   "execution_count": 116,
   "id": "373c11e6-9fe3-4857-a2c6-7e2b01c112ce",
   "metadata": {},
   "outputs": [],
   "source": [
    "import pandas as pd\n",
    "import numpy as np\n",
    "pd.options.display.float_format= \"{:,.2f}\".format"
   ]
  },
  {
   "cell_type": "markdown",
   "id": "88e289c1",
   "metadata": {},
   "source": [
    "#### Selecionamos 19 colunas das 136 disponíveis na base Enem 2019. O df de estudo possui 5.095.270 de linhas e 19 colunas"
   ]
  },
  {
   "cell_type": "code",
   "execution_count": 117,
   "id": "28e003aa-0023-42d8-a2d3-da08923078fc",
   "metadata": {},
   "outputs": [],
   "source": [
    "# selecionando as colunas na variável cols \n",
    "# lendo o csv pelo read_csv, separados ; usecols pela variável cols, enconding do alfabeto latino\n",
    "\n",
    "cols=['SG_UF_RESIDENCIA','SG_UF_NASCIMENTO','NU_IDADE','TP_SEXO','TP_COR_RACA','TP_ESCOLA','CO_ESCOLA','TP_PRESENCA_CN','TP_PRESENCA_CH',\n",
    "     'TP_PRESENCA_LC','TP_PRESENCA_MT','NU_NOTA_CN','NU_NOTA_CH','NU_NOTA_LC','NU_NOTA_MT','TP_LINGUA','NU_NOTA_REDACAO','Q006','Q025']\n",
    "df = pd.read_csv('./microdados_enem_2019/DADOS/MICRODADOS_ENEM_2019.csv', encoding='latin-1', sep=\";\", usecols=cols)"
   ]
  },
  {
   "cell_type": "code",
   "execution_count": 118,
   "id": "d6d8763f",
   "metadata": {},
   "outputs": [
    {
     "data": {
      "text/html": [
       "<div>\n",
       "<style scoped>\n",
       "    .dataframe tbody tr th:only-of-type {\n",
       "        vertical-align: middle;\n",
       "    }\n",
       "\n",
       "    .dataframe tbody tr th {\n",
       "        vertical-align: top;\n",
       "    }\n",
       "\n",
       "    .dataframe thead th {\n",
       "        text-align: right;\n",
       "    }\n",
       "</style>\n",
       "<table border=\"1\" class=\"dataframe\">\n",
       "  <thead>\n",
       "    <tr style=\"text-align: right;\">\n",
       "      <th></th>\n",
       "      <th>SG_UF_RESIDENCIA</th>\n",
       "      <th>NU_IDADE</th>\n",
       "      <th>TP_SEXO</th>\n",
       "      <th>TP_COR_RACA</th>\n",
       "      <th>SG_UF_NASCIMENTO</th>\n",
       "      <th>TP_ESCOLA</th>\n",
       "      <th>CO_ESCOLA</th>\n",
       "      <th>TP_PRESENCA_CN</th>\n",
       "      <th>TP_PRESENCA_CH</th>\n",
       "      <th>TP_PRESENCA_LC</th>\n",
       "      <th>TP_PRESENCA_MT</th>\n",
       "      <th>NU_NOTA_CN</th>\n",
       "      <th>NU_NOTA_CH</th>\n",
       "      <th>NU_NOTA_LC</th>\n",
       "      <th>NU_NOTA_MT</th>\n",
       "      <th>TP_LINGUA</th>\n",
       "      <th>NU_NOTA_REDACAO</th>\n",
       "      <th>Q006</th>\n",
       "      <th>Q025</th>\n",
       "    </tr>\n",
       "  </thead>\n",
       "  <tbody>\n",
       "    <tr>\n",
       "      <th>0</th>\n",
       "      <td>SP</td>\n",
       "      <td>36.00</td>\n",
       "      <td>M</td>\n",
       "      <td>3</td>\n",
       "      <td>BA</td>\n",
       "      <td>1</td>\n",
       "      <td>NaN</td>\n",
       "      <td>0</td>\n",
       "      <td>0</td>\n",
       "      <td>0</td>\n",
       "      <td>0</td>\n",
       "      <td>NaN</td>\n",
       "      <td>NaN</td>\n",
       "      <td>NaN</td>\n",
       "      <td>NaN</td>\n",
       "      <td>0</td>\n",
       "      <td>NaN</td>\n",
       "      <td>A</td>\n",
       "      <td>B</td>\n",
       "    </tr>\n",
       "    <tr>\n",
       "      <th>1</th>\n",
       "      <td>BA</td>\n",
       "      <td>23.00</td>\n",
       "      <td>M</td>\n",
       "      <td>1</td>\n",
       "      <td>BA</td>\n",
       "      <td>1</td>\n",
       "      <td>NaN</td>\n",
       "      <td>0</td>\n",
       "      <td>0</td>\n",
       "      <td>0</td>\n",
       "      <td>0</td>\n",
       "      <td>NaN</td>\n",
       "      <td>NaN</td>\n",
       "      <td>NaN</td>\n",
       "      <td>NaN</td>\n",
       "      <td>0</td>\n",
       "      <td>NaN</td>\n",
       "      <td>C</td>\n",
       "      <td>B</td>\n",
       "    </tr>\n",
       "    <tr>\n",
       "      <th>2</th>\n",
       "      <td>CE</td>\n",
       "      <td>39.00</td>\n",
       "      <td>F</td>\n",
       "      <td>3</td>\n",
       "      <td>CE</td>\n",
       "      <td>1</td>\n",
       "      <td>NaN</td>\n",
       "      <td>0</td>\n",
       "      <td>0</td>\n",
       "      <td>0</td>\n",
       "      <td>0</td>\n",
       "      <td>NaN</td>\n",
       "      <td>NaN</td>\n",
       "      <td>NaN</td>\n",
       "      <td>NaN</td>\n",
       "      <td>1</td>\n",
       "      <td>NaN</td>\n",
       "      <td>B</td>\n",
       "      <td>B</td>\n",
       "    </tr>\n",
       "    <tr>\n",
       "      <th>3</th>\n",
       "      <td>TO</td>\n",
       "      <td>25.00</td>\n",
       "      <td>F</td>\n",
       "      <td>1</td>\n",
       "      <td>TO</td>\n",
       "      <td>1</td>\n",
       "      <td>NaN</td>\n",
       "      <td>1</td>\n",
       "      <td>1</td>\n",
       "      <td>1</td>\n",
       "      <td>1</td>\n",
       "      <td>483.80</td>\n",
       "      <td>503.60</td>\n",
       "      <td>537.30</td>\n",
       "      <td>392.00</td>\n",
       "      <td>1</td>\n",
       "      <td>460.00</td>\n",
       "      <td>E</td>\n",
       "      <td>B</td>\n",
       "    </tr>\n",
       "    <tr>\n",
       "      <th>4</th>\n",
       "      <td>MG</td>\n",
       "      <td>22.00</td>\n",
       "      <td>F</td>\n",
       "      <td>1</td>\n",
       "      <td>MG</td>\n",
       "      <td>1</td>\n",
       "      <td>NaN</td>\n",
       "      <td>1</td>\n",
       "      <td>1</td>\n",
       "      <td>1</td>\n",
       "      <td>1</td>\n",
       "      <td>513.60</td>\n",
       "      <td>575.50</td>\n",
       "      <td>570.70</td>\n",
       "      <td>677.00</td>\n",
       "      <td>0</td>\n",
       "      <td>860.00</td>\n",
       "      <td>G</td>\n",
       "      <td>B</td>\n",
       "    </tr>\n",
       "    <tr>\n",
       "      <th>...</th>\n",
       "      <td>...</td>\n",
       "      <td>...</td>\n",
       "      <td>...</td>\n",
       "      <td>...</td>\n",
       "      <td>...</td>\n",
       "      <td>...</td>\n",
       "      <td>...</td>\n",
       "      <td>...</td>\n",
       "      <td>...</td>\n",
       "      <td>...</td>\n",
       "      <td>...</td>\n",
       "      <td>...</td>\n",
       "      <td>...</td>\n",
       "      <td>...</td>\n",
       "      <td>...</td>\n",
       "      <td>...</td>\n",
       "      <td>...</td>\n",
       "      <td>...</td>\n",
       "      <td>...</td>\n",
       "    </tr>\n",
       "    <tr>\n",
       "      <th>5095265</th>\n",
       "      <td>DF</td>\n",
       "      <td>41.00</td>\n",
       "      <td>F</td>\n",
       "      <td>3</td>\n",
       "      <td>PA</td>\n",
       "      <td>1</td>\n",
       "      <td>NaN</td>\n",
       "      <td>0</td>\n",
       "      <td>0</td>\n",
       "      <td>0</td>\n",
       "      <td>0</td>\n",
       "      <td>NaN</td>\n",
       "      <td>NaN</td>\n",
       "      <td>NaN</td>\n",
       "      <td>NaN</td>\n",
       "      <td>0</td>\n",
       "      <td>NaN</td>\n",
       "      <td>C</td>\n",
       "      <td>B</td>\n",
       "    </tr>\n",
       "    <tr>\n",
       "      <th>5095266</th>\n",
       "      <td>AM</td>\n",
       "      <td>20.00</td>\n",
       "      <td>M</td>\n",
       "      <td>3</td>\n",
       "      <td>AM</td>\n",
       "      <td>1</td>\n",
       "      <td>NaN</td>\n",
       "      <td>0</td>\n",
       "      <td>1</td>\n",
       "      <td>1</td>\n",
       "      <td>0</td>\n",
       "      <td>NaN</td>\n",
       "      <td>578.90</td>\n",
       "      <td>555.50</td>\n",
       "      <td>NaN</td>\n",
       "      <td>1</td>\n",
       "      <td>500.00</td>\n",
       "      <td>C</td>\n",
       "      <td>B</td>\n",
       "    </tr>\n",
       "    <tr>\n",
       "      <th>5095267</th>\n",
       "      <td>RS</td>\n",
       "      <td>21.00</td>\n",
       "      <td>M</td>\n",
       "      <td>0</td>\n",
       "      <td>RS</td>\n",
       "      <td>1</td>\n",
       "      <td>NaN</td>\n",
       "      <td>0</td>\n",
       "      <td>0</td>\n",
       "      <td>0</td>\n",
       "      <td>0</td>\n",
       "      <td>NaN</td>\n",
       "      <td>NaN</td>\n",
       "      <td>NaN</td>\n",
       "      <td>NaN</td>\n",
       "      <td>0</td>\n",
       "      <td>NaN</td>\n",
       "      <td>C</td>\n",
       "      <td>B</td>\n",
       "    </tr>\n",
       "    <tr>\n",
       "      <th>5095268</th>\n",
       "      <td>RS</td>\n",
       "      <td>22.00</td>\n",
       "      <td>M</td>\n",
       "      <td>0</td>\n",
       "      <td>RS</td>\n",
       "      <td>1</td>\n",
       "      <td>NaN</td>\n",
       "      <td>0</td>\n",
       "      <td>0</td>\n",
       "      <td>0</td>\n",
       "      <td>0</td>\n",
       "      <td>NaN</td>\n",
       "      <td>NaN</td>\n",
       "      <td>NaN</td>\n",
       "      <td>NaN</td>\n",
       "      <td>0</td>\n",
       "      <td>NaN</td>\n",
       "      <td>A</td>\n",
       "      <td>B</td>\n",
       "    </tr>\n",
       "    <tr>\n",
       "      <th>5095269</th>\n",
       "      <td>RS</td>\n",
       "      <td>21.00</td>\n",
       "      <td>F</td>\n",
       "      <td>0</td>\n",
       "      <td>SC</td>\n",
       "      <td>1</td>\n",
       "      <td>NaN</td>\n",
       "      <td>0</td>\n",
       "      <td>0</td>\n",
       "      <td>0</td>\n",
       "      <td>0</td>\n",
       "      <td>NaN</td>\n",
       "      <td>NaN</td>\n",
       "      <td>NaN</td>\n",
       "      <td>NaN</td>\n",
       "      <td>1</td>\n",
       "      <td>NaN</td>\n",
       "      <td>C</td>\n",
       "      <td>B</td>\n",
       "    </tr>\n",
       "  </tbody>\n",
       "</table>\n",
       "<p>5095270 rows × 19 columns</p>\n",
       "</div>"
      ],
      "text/plain": [
       "        SG_UF_RESIDENCIA  NU_IDADE TP_SEXO  TP_COR_RACA SG_UF_NASCIMENTO  \\\n",
       "0                     SP     36.00       M            3               BA   \n",
       "1                     BA     23.00       M            1               BA   \n",
       "2                     CE     39.00       F            3               CE   \n",
       "3                     TO     25.00       F            1               TO   \n",
       "4                     MG     22.00       F            1               MG   \n",
       "...                  ...       ...     ...          ...              ...   \n",
       "5095265               DF     41.00       F            3               PA   \n",
       "5095266               AM     20.00       M            3               AM   \n",
       "5095267               RS     21.00       M            0               RS   \n",
       "5095268               RS     22.00       M            0               RS   \n",
       "5095269               RS     21.00       F            0               SC   \n",
       "\n",
       "         TP_ESCOLA  CO_ESCOLA  TP_PRESENCA_CN  TP_PRESENCA_CH  TP_PRESENCA_LC  \\\n",
       "0                1        NaN               0               0               0   \n",
       "1                1        NaN               0               0               0   \n",
       "2                1        NaN               0               0               0   \n",
       "3                1        NaN               1               1               1   \n",
       "4                1        NaN               1               1               1   \n",
       "...            ...        ...             ...             ...             ...   \n",
       "5095265          1        NaN               0               0               0   \n",
       "5095266          1        NaN               0               1               1   \n",
       "5095267          1        NaN               0               0               0   \n",
       "5095268          1        NaN               0               0               0   \n",
       "5095269          1        NaN               0               0               0   \n",
       "\n",
       "         TP_PRESENCA_MT  NU_NOTA_CN  NU_NOTA_CH  NU_NOTA_LC  NU_NOTA_MT  \\\n",
       "0                     0         NaN         NaN         NaN         NaN   \n",
       "1                     0         NaN         NaN         NaN         NaN   \n",
       "2                     0         NaN         NaN         NaN         NaN   \n",
       "3                     1      483.80      503.60      537.30      392.00   \n",
       "4                     1      513.60      575.50      570.70      677.00   \n",
       "...                 ...         ...         ...         ...         ...   \n",
       "5095265               0         NaN         NaN         NaN         NaN   \n",
       "5095266               0         NaN      578.90      555.50         NaN   \n",
       "5095267               0         NaN         NaN         NaN         NaN   \n",
       "5095268               0         NaN         NaN         NaN         NaN   \n",
       "5095269               0         NaN         NaN         NaN         NaN   \n",
       "\n",
       "         TP_LINGUA  NU_NOTA_REDACAO Q006 Q025  \n",
       "0                0              NaN    A    B  \n",
       "1                0              NaN    C    B  \n",
       "2                1              NaN    B    B  \n",
       "3                1           460.00    E    B  \n",
       "4                0           860.00    G    B  \n",
       "...            ...              ...  ...  ...  \n",
       "5095265          0              NaN    C    B  \n",
       "5095266          1           500.00    C    B  \n",
       "5095267          0              NaN    C    B  \n",
       "5095268          0              NaN    A    B  \n",
       "5095269          1              NaN    C    B  \n",
       "\n",
       "[5095270 rows x 19 columns]"
      ]
     },
     "execution_count": 118,
     "metadata": {},
     "output_type": "execute_result"
    }
   ],
   "source": [
    "df"
   ]
  },
  {
   "cell_type": "markdown",
   "id": "4d8f4fd2-d789-4a98-8245-15760fd63d35",
   "metadata": {},
   "source": [
    "### Etapa 1.1 - TRATANDO OS DADOS:"
   ]
  },
  {
   "cell_type": "markdown",
   "id": "a24644cc-0640-45c9-9972-83a9205efb20",
   "metadata": {},
   "source": [
    "#### Verificando os dados vazios"
   ]
  },
  {
   "cell_type": "code",
   "execution_count": 119,
   "id": "5c38da39-6daf-4d12-9ff3-995ac1bedc06",
   "metadata": {},
   "outputs": [
    {
     "data": {
      "text/plain": [
       "SG_UF_RESIDENCIA          0\n",
       "NU_IDADE                 69\n",
       "TP_SEXO                   0\n",
       "TP_COR_RACA               0\n",
       "SG_UF_NASCIMENTO     145249\n",
       "TP_ESCOLA                 0\n",
       "CO_ESCOLA           3947858\n",
       "TP_PRESENCA_CN            0\n",
       "TP_PRESENCA_CH            0\n",
       "TP_PRESENCA_LC            0\n",
       "TP_PRESENCA_MT            0\n",
       "NU_NOTA_CN          1384837\n",
       "NU_NOTA_CH          1172125\n",
       "NU_NOTA_LC          1172125\n",
       "NU_NOTA_MT          1384837\n",
       "TP_LINGUA                 0\n",
       "NU_NOTA_REDACAO     1172126\n",
       "Q006                      0\n",
       "Q025                      0\n",
       "dtype: int64"
      ]
     },
     "execution_count": 119,
     "metadata": {},
     "output_type": "execute_result"
    }
   ],
   "source": [
    "# utilizando o isna para detectar valores ausentes\n",
    "df.isna().sum()"
   ]
  },
  {
   "cell_type": "markdown",
   "id": "a6123b26-cd2a-4e9d-8e75-f9d3e9fc3839",
   "metadata": {},
   "source": [
    "#### Notas\n",
    "Os vazios em notas são as abstenções e serão mantidos para a análise. \n",
    "\n",
    "    * NU_NOTA_CN\t    Nota da prova de Ciências da Natureza\n",
    "    * NU_NOTA_CH\t    Nota da prova de Ciências Humanas\n",
    "    * NU_NOTA_LC\t    Nota da prova de Linguagens e Códigos\n",
    "    * NU_NOTA_MT\t    Nota da prova de Matemática\n",
    "    * NU_NOTA_REDACAO   Nota da prova de redação\n",
    "\n",
    "#### Código da Escola: CO_ESCOLA \n",
    "Os vazios no campo de escolas são escolas sem cadastro ou com informações erradas, e devido à grande quantidade a coluna vai ser dropada.\n",
    "\n",
    "## Feature engineering\n",
    "#### Idade: NU_IDADE \n",
    "Apresentou 69 campos não populados. Neste caso, os dados faltantes na idade podem ser tratados, pela baixa quantidade em relação à base (será utilizada a mediana, pela interferência dos outliers na média). "
   ]
  },
  {
   "cell_type": "code",
   "execution_count": 120,
   "id": "48625988",
   "metadata": {},
   "outputs": [
    {
     "data": {
      "text/plain": [
       "19.0"
      ]
     },
     "execution_count": 120,
     "metadata": {},
     "output_type": "execute_result"
    }
   ],
   "source": [
    "# a mediana da idade é 19, ou seja, é o valor que está exatamente no meio do conjunto de dados.\n",
    "df.NU_IDADE.median()"
   ]
  },
  {
   "cell_type": "code",
   "execution_count": 121,
   "id": "6f01163a-1044-40ac-81a0-2dcfd1c0d8ad",
   "metadata": {},
   "outputs": [
    {
     "data": {
      "text/plain": [
       "SG_UF_RESIDENCIA          0\n",
       "NU_IDADE                  0\n",
       "TP_SEXO                   0\n",
       "TP_COR_RACA               0\n",
       "SG_UF_NASCIMENTO     145249\n",
       "TP_ESCOLA                 0\n",
       "TP_PRESENCA_CN            0\n",
       "TP_PRESENCA_CH            0\n",
       "TP_PRESENCA_LC            0\n",
       "TP_PRESENCA_MT            0\n",
       "NU_NOTA_CN          1384837\n",
       "NU_NOTA_CH          1172125\n",
       "NU_NOTA_LC          1172125\n",
       "NU_NOTA_MT          1384837\n",
       "TP_LINGUA                 0\n",
       "NU_NOTA_REDACAO     1172126\n",
       "Q006                      0\n",
       "Q025                      0\n",
       "dtype: int64"
      ]
     },
     "execution_count": 121,
     "metadata": {},
     "output_type": "execute_result"
    }
   ],
   "source": [
    "# dropando a coluna Código da Escola\n",
    "# substituindo os valores NaN em Idade com o fillna a partir da mediana obtido pelo median()\n",
    "\n",
    "df.drop(['CO_ESCOLA'], axis=1, inplace=True)\n",
    "df['NU_IDADE']=df.NU_IDADE.fillna(df.NU_IDADE.median())\n",
    "df.isna().sum()"
   ]
  },
  {
   "cell_type": "markdown",
   "id": "a5b68d5f-4d38-4414-8d86-35052481a5ba",
   "metadata": {},
   "source": [
    "#### Candidatos eliminados\n",
    "Serão verificados os candidatos eliminados nas provas. Estes serão dropados. 0: Faltou à prova, 1: Presente na prova e 2: Eliminado na prova\n",
    "\n",
    "    * TP_PRESENCA_CN: Presença na prova objetiva de Ciências da Natureza\n",
    "    * TP_PRESENCA_CH: Presença na prova objetiva de Ciências Humanas\n",
    "    * TP_PRESENCA_LC: Presença na prova objetiva de Linguagens e Códigos\n",
    "    * TP_PRESENCA_MT: Presença na prova objetiva de Matemática"
   ]
  },
  {
   "cell_type": "code",
   "execution_count": null,
   "id": "5cecd8e5-7efb-46b7-9100-ad226e4ca1c8",
   "metadata": {},
   "outputs": [],
   "source": [
    "df.drop(df[df.TP_PRESENCA_CN == 2].index, inplace=True)\n",
    "df.drop(df[df.TP_PRESENCA_CH == 2].index, inplace=True)\n",
    "df.drop(df[df.TP_PRESENCA_LC == 2].index, inplace=True)\n",
    "df.drop(df[df.TP_PRESENCA_MT == 2].index, inplace=True)"
   ]
  },
  {
   "cell_type": "markdown",
   "id": "02dcd84a-d42d-4ae5-be76-ff55744cdffc",
   "metadata": {},
   "source": [
    "## Enriquecimento da base (Wakami)\n",
    "#### Cálculo da nota final: Total\n",
    " \n",
    "* `Memória de Cálculo`: Basta somar as 5 notas (Ciências da Natureza, Ciências Humanas, Linguagens e Códigos, Matemática e Redação) e depois dividir o resultado por 5.\n",
    "\n",
    "Será criada uma coluna com a nota total dos alunos, e após isso as notas individuais por prova e as colunas de presença serão dropadas"
   ]
  },
  {
   "cell_type": "code",
   "execution_count": 122,
   "id": "638cf8d5-69ee-4637-b0be-4af452fa8de6",
   "metadata": {},
   "outputs": [],
   "source": [
    "df['Total']=(df['NU_NOTA_CN']+df['NU_NOTA_CH']+df['NU_NOTA_LC']+df['NU_NOTA_MT']+df['NU_NOTA_REDACAO'])/5\n",
    "df.drop(['TP_PRESENCA_CN','TP_PRESENCA_CH','TP_PRESENCA_LC','TP_PRESENCA_MT','NU_NOTA_CN','NU_NOTA_CH','NU_NOTA_LC',\n",
    "         'NU_NOTA_MT','NU_NOTA_REDACAO'], axis=1, inplace=True)"
   ]
  },
  {
   "cell_type": "code",
   "execution_count": 123,
   "id": "bb394e0f",
   "metadata": {},
   "outputs": [
    {
     "data": {
      "text/html": [
       "<div>\n",
       "<style scoped>\n",
       "    .dataframe tbody tr th:only-of-type {\n",
       "        vertical-align: middle;\n",
       "    }\n",
       "\n",
       "    .dataframe tbody tr th {\n",
       "        vertical-align: top;\n",
       "    }\n",
       "\n",
       "    .dataframe thead th {\n",
       "        text-align: right;\n",
       "    }\n",
       "</style>\n",
       "<table border=\"1\" class=\"dataframe\">\n",
       "  <thead>\n",
       "    <tr style=\"text-align: right;\">\n",
       "      <th></th>\n",
       "      <th>SG_UF_RESIDENCIA</th>\n",
       "      <th>NU_IDADE</th>\n",
       "      <th>TP_SEXO</th>\n",
       "      <th>TP_COR_RACA</th>\n",
       "      <th>SG_UF_NASCIMENTO</th>\n",
       "      <th>TP_ESCOLA</th>\n",
       "      <th>TP_LINGUA</th>\n",
       "      <th>Q006</th>\n",
       "      <th>Q025</th>\n",
       "      <th>Total</th>\n",
       "    </tr>\n",
       "  </thead>\n",
       "  <tbody>\n",
       "    <tr>\n",
       "      <th>0</th>\n",
       "      <td>SP</td>\n",
       "      <td>36.00</td>\n",
       "      <td>M</td>\n",
       "      <td>3</td>\n",
       "      <td>BA</td>\n",
       "      <td>1</td>\n",
       "      <td>0</td>\n",
       "      <td>A</td>\n",
       "      <td>B</td>\n",
       "      <td>NaN</td>\n",
       "    </tr>\n",
       "    <tr>\n",
       "      <th>1</th>\n",
       "      <td>BA</td>\n",
       "      <td>23.00</td>\n",
       "      <td>M</td>\n",
       "      <td>1</td>\n",
       "      <td>BA</td>\n",
       "      <td>1</td>\n",
       "      <td>0</td>\n",
       "      <td>C</td>\n",
       "      <td>B</td>\n",
       "      <td>NaN</td>\n",
       "    </tr>\n",
       "    <tr>\n",
       "      <th>2</th>\n",
       "      <td>CE</td>\n",
       "      <td>39.00</td>\n",
       "      <td>F</td>\n",
       "      <td>3</td>\n",
       "      <td>CE</td>\n",
       "      <td>1</td>\n",
       "      <td>1</td>\n",
       "      <td>B</td>\n",
       "      <td>B</td>\n",
       "      <td>NaN</td>\n",
       "    </tr>\n",
       "    <tr>\n",
       "      <th>3</th>\n",
       "      <td>TO</td>\n",
       "      <td>25.00</td>\n",
       "      <td>F</td>\n",
       "      <td>1</td>\n",
       "      <td>TO</td>\n",
       "      <td>1</td>\n",
       "      <td>1</td>\n",
       "      <td>E</td>\n",
       "      <td>B</td>\n",
       "      <td>475.34</td>\n",
       "    </tr>\n",
       "    <tr>\n",
       "      <th>4</th>\n",
       "      <td>MG</td>\n",
       "      <td>22.00</td>\n",
       "      <td>F</td>\n",
       "      <td>1</td>\n",
       "      <td>MG</td>\n",
       "      <td>1</td>\n",
       "      <td>0</td>\n",
       "      <td>G</td>\n",
       "      <td>B</td>\n",
       "      <td>639.36</td>\n",
       "    </tr>\n",
       "    <tr>\n",
       "      <th>...</th>\n",
       "      <td>...</td>\n",
       "      <td>...</td>\n",
       "      <td>...</td>\n",
       "      <td>...</td>\n",
       "      <td>...</td>\n",
       "      <td>...</td>\n",
       "      <td>...</td>\n",
       "      <td>...</td>\n",
       "      <td>...</td>\n",
       "      <td>...</td>\n",
       "    </tr>\n",
       "    <tr>\n",
       "      <th>5095265</th>\n",
       "      <td>DF</td>\n",
       "      <td>41.00</td>\n",
       "      <td>F</td>\n",
       "      <td>3</td>\n",
       "      <td>PA</td>\n",
       "      <td>1</td>\n",
       "      <td>0</td>\n",
       "      <td>C</td>\n",
       "      <td>B</td>\n",
       "      <td>NaN</td>\n",
       "    </tr>\n",
       "    <tr>\n",
       "      <th>5095266</th>\n",
       "      <td>AM</td>\n",
       "      <td>20.00</td>\n",
       "      <td>M</td>\n",
       "      <td>3</td>\n",
       "      <td>AM</td>\n",
       "      <td>1</td>\n",
       "      <td>1</td>\n",
       "      <td>C</td>\n",
       "      <td>B</td>\n",
       "      <td>NaN</td>\n",
       "    </tr>\n",
       "    <tr>\n",
       "      <th>5095267</th>\n",
       "      <td>RS</td>\n",
       "      <td>21.00</td>\n",
       "      <td>M</td>\n",
       "      <td>0</td>\n",
       "      <td>RS</td>\n",
       "      <td>1</td>\n",
       "      <td>0</td>\n",
       "      <td>C</td>\n",
       "      <td>B</td>\n",
       "      <td>NaN</td>\n",
       "    </tr>\n",
       "    <tr>\n",
       "      <th>5095268</th>\n",
       "      <td>RS</td>\n",
       "      <td>22.00</td>\n",
       "      <td>M</td>\n",
       "      <td>0</td>\n",
       "      <td>RS</td>\n",
       "      <td>1</td>\n",
       "      <td>0</td>\n",
       "      <td>A</td>\n",
       "      <td>B</td>\n",
       "      <td>NaN</td>\n",
       "    </tr>\n",
       "    <tr>\n",
       "      <th>5095269</th>\n",
       "      <td>RS</td>\n",
       "      <td>21.00</td>\n",
       "      <td>F</td>\n",
       "      <td>0</td>\n",
       "      <td>SC</td>\n",
       "      <td>1</td>\n",
       "      <td>1</td>\n",
       "      <td>C</td>\n",
       "      <td>B</td>\n",
       "      <td>NaN</td>\n",
       "    </tr>\n",
       "  </tbody>\n",
       "</table>\n",
       "<p>5095270 rows × 10 columns</p>\n",
       "</div>"
      ],
      "text/plain": [
       "        SG_UF_RESIDENCIA  NU_IDADE TP_SEXO  TP_COR_RACA SG_UF_NASCIMENTO  \\\n",
       "0                     SP     36.00       M            3               BA   \n",
       "1                     BA     23.00       M            1               BA   \n",
       "2                     CE     39.00       F            3               CE   \n",
       "3                     TO     25.00       F            1               TO   \n",
       "4                     MG     22.00       F            1               MG   \n",
       "...                  ...       ...     ...          ...              ...   \n",
       "5095265               DF     41.00       F            3               PA   \n",
       "5095266               AM     20.00       M            3               AM   \n",
       "5095267               RS     21.00       M            0               RS   \n",
       "5095268               RS     22.00       M            0               RS   \n",
       "5095269               RS     21.00       F            0               SC   \n",
       "\n",
       "         TP_ESCOLA  TP_LINGUA Q006 Q025  Total  \n",
       "0                1          0    A    B    NaN  \n",
       "1                1          0    C    B    NaN  \n",
       "2                1          1    B    B    NaN  \n",
       "3                1          1    E    B 475.34  \n",
       "4                1          0    G    B 639.36  \n",
       "...            ...        ...  ...  ...    ...  \n",
       "5095265          1          0    C    B    NaN  \n",
       "5095266          1          1    C    B    NaN  \n",
       "5095267          1          0    C    B    NaN  \n",
       "5095268          1          0    A    B    NaN  \n",
       "5095269          1          1    C    B    NaN  \n",
       "\n",
       "[5095270 rows x 10 columns]"
      ]
     },
     "execution_count": 123,
     "metadata": {},
     "output_type": "execute_result"
    }
   ],
   "source": [
    "df.head(10)\n",
    "df"
   ]
  },
  {
   "cell_type": "markdown",
   "id": "f79f95dc-fffd-4bef-a159-c347d7b5a674",
   "metadata": {},
   "source": [
    "#### Dados ausentes no estado de nascimento\n",
    "\n",
    "Serão verificados os impactos dos dados faltantes no estado de nascimento:"
   ]
  },
  {
   "cell_type": "code",
   "execution_count": 124,
   "id": "5dd9c2ea",
   "metadata": {},
   "outputs": [
    {
     "data": {
      "text/plain": [
       "SG_UF_RESIDENCIA          0\n",
       "NU_IDADE                  0\n",
       "TP_SEXO                   0\n",
       "TP_COR_RACA               0\n",
       "SG_UF_NASCIMENTO     145249\n",
       "TP_ESCOLA                 0\n",
       "TP_LINGUA                 0\n",
       "Q006                      0\n",
       "Q025                      0\n",
       "Total               1393263\n",
       "dtype: int64"
      ]
     },
     "execution_count": 124,
     "metadata": {},
     "output_type": "execute_result"
    }
   ],
   "source": [
    "df.isna().sum()"
   ]
  },
  {
   "cell_type": "code",
   "execution_count": 125,
   "id": "37f7f2bb",
   "metadata": {},
   "outputs": [
    {
     "data": {
      "text/plain": [
       "count   106,197.00\n",
       "mean        492.01\n",
       "std          72.85\n",
       "min           0.00\n",
       "25%         444.72\n",
       "50%         485.50\n",
       "75%         533.18\n",
       "max         806.24\n",
       "Name: Total, dtype: float64"
      ]
     },
     "execution_count": 125,
     "metadata": {},
     "output_type": "execute_result"
    }
   ],
   "source": [
    "# utilizando o describe() que informa sobre os dados estatísticos da coluna SG_UF_NASCIMENTO: Sigla da Unidade da Federação de nascimento\n",
    "df[df.SG_UF_NASCIMENTO.isna()]['Total'].describe()"
   ]
  },
  {
   "cell_type": "code",
   "execution_count": 126,
   "id": "688d3e6f",
   "metadata": {},
   "outputs": [
    {
     "data": {
      "text/plain": [
       "count   3,702,007.00\n",
       "mean          522.62\n",
       "std            83.65\n",
       "min             0.00\n",
       "25%           464.04\n",
       "50%           515.02\n",
       "75%           576.76\n",
       "max           850.82\n",
       "Name: Total, dtype: float64"
      ]
     },
     "execution_count": 126,
     "metadata": {},
     "output_type": "execute_result"
    }
   ],
   "source": [
    "# utilizando o describe() que informa sobre os dados estatísticos do dataframe\n",
    "df['Total'].describe()"
   ]
  },
  {
   "cell_type": "markdown",
   "id": "42741f69",
   "metadata": {},
   "source": [
    "* `Conclusão`: \n",
    "A nota máxima no grupo selecionado (estado de nascimento) não está entre as máximas do data frame total. Assim, é possível dropar os nulos desta coluna, sem que isso modifique as análises posteriores."
   ]
  },
  {
   "cell_type": "code",
   "execution_count": 127,
   "id": "10b07bfd-79d5-4ac1-b429-b7630f9b7f07",
   "metadata": {},
   "outputs": [],
   "source": [
    "# dropando a coluna as linhas com dados ausentes em SG_UF_NASCIMENTO\n",
    "df.dropna(subset=['SG_UF_NASCIMENTO'], inplace=True)"
   ]
  },
  {
   "cell_type": "markdown",
   "id": "9a676f04",
   "metadata": {},
   "source": [
    "#### DataFrame sem dados ausentes, mas com campos populados com dados não declarados\n",
    "\n",
    "#### Cor/raça: TP_COR_RACA\n",
    "    * 0\tNão declarado\n",
    "    * 1\tBranca\n",
    "    * 2\tPreta\n",
    "    * 3\tParda\n",
    "    * 4\tAmarela\n",
    "    * 5\tIndígena \n",
    "    \n",
    "#### Tipo de escola do Ensino Médio: TP_ESCOLA  \n",
    "    * 1\tNão Respondeu\n",
    "    * 2\tPública\n",
    "    * 3\tPrivada\n",
    "    * 4\tExterior"
   ]
  },
  {
   "cell_type": "code",
   "execution_count": 128,
   "id": "f935224a",
   "metadata": {},
   "outputs": [
    {
     "data": {
      "text/plain": [
       "SG_UF_RESIDENCIA          0\n",
       "NU_IDADE                  0\n",
       "TP_SEXO                   0\n",
       "TP_COR_RACA               0\n",
       "SG_UF_NASCIMENTO          0\n",
       "TP_ESCOLA                 0\n",
       "TP_LINGUA                 0\n",
       "Q006                      0\n",
       "Q025                      0\n",
       "Total               1354211\n",
       "dtype: int64"
      ]
     },
     "execution_count": 128,
     "metadata": {},
     "output_type": "execute_result"
    }
   ],
   "source": [
    "df.isna().sum()"
   ]
  },
  {
   "cell_type": "code",
   "execution_count": 129,
   "id": "97e70b7f",
   "metadata": {},
   "outputs": [
    {
     "data": {
      "text/html": [
       "<div>\n",
       "<style scoped>\n",
       "    .dataframe tbody tr th:only-of-type {\n",
       "        vertical-align: middle;\n",
       "    }\n",
       "\n",
       "    .dataframe tbody tr th {\n",
       "        vertical-align: top;\n",
       "    }\n",
       "\n",
       "    .dataframe thead th {\n",
       "        text-align: right;\n",
       "    }\n",
       "</style>\n",
       "<table border=\"1\" class=\"dataframe\">\n",
       "  <thead>\n",
       "    <tr style=\"text-align: right;\">\n",
       "      <th></th>\n",
       "      <th>SG_UF_RESIDENCIA</th>\n",
       "      <th>NU_IDADE</th>\n",
       "      <th>TP_SEXO</th>\n",
       "      <th>TP_COR_RACA</th>\n",
       "      <th>SG_UF_NASCIMENTO</th>\n",
       "      <th>TP_ESCOLA</th>\n",
       "      <th>TP_LINGUA</th>\n",
       "      <th>Q006</th>\n",
       "      <th>Q025</th>\n",
       "      <th>Total</th>\n",
       "    </tr>\n",
       "  </thead>\n",
       "  <tbody>\n",
       "    <tr>\n",
       "      <th>2610914</th>\n",
       "      <td>MG</td>\n",
       "      <td>17.00</td>\n",
       "      <td>M</td>\n",
       "      <td>1</td>\n",
       "      <td>MG</td>\n",
       "      <td>3</td>\n",
       "      <td>0</td>\n",
       "      <td>N</td>\n",
       "      <td>B</td>\n",
       "      <td>850.82</td>\n",
       "    </tr>\n",
       "    <tr>\n",
       "      <th>2406179</th>\n",
       "      <td>MG</td>\n",
       "      <td>17.00</td>\n",
       "      <td>M</td>\n",
       "      <td>1</td>\n",
       "      <td>MG</td>\n",
       "      <td>2</td>\n",
       "      <td>0</td>\n",
       "      <td>N</td>\n",
       "      <td>B</td>\n",
       "      <td>846.26</td>\n",
       "    </tr>\n",
       "    <tr>\n",
       "      <th>494733</th>\n",
       "      <td>PI</td>\n",
       "      <td>18.00</td>\n",
       "      <td>M</td>\n",
       "      <td>1</td>\n",
       "      <td>PI</td>\n",
       "      <td>3</td>\n",
       "      <td>0</td>\n",
       "      <td>J</td>\n",
       "      <td>B</td>\n",
       "      <td>845.00</td>\n",
       "    </tr>\n",
       "    <tr>\n",
       "      <th>1813970</th>\n",
       "      <td>MA</td>\n",
       "      <td>18.00</td>\n",
       "      <td>M</td>\n",
       "      <td>3</td>\n",
       "      <td>PI</td>\n",
       "      <td>1</td>\n",
       "      <td>0</td>\n",
       "      <td>J</td>\n",
       "      <td>B</td>\n",
       "      <td>843.28</td>\n",
       "    </tr>\n",
       "    <tr>\n",
       "      <th>2184026</th>\n",
       "      <td>GO</td>\n",
       "      <td>17.00</td>\n",
       "      <td>F</td>\n",
       "      <td>1</td>\n",
       "      <td>GO</td>\n",
       "      <td>3</td>\n",
       "      <td>0</td>\n",
       "      <td>P</td>\n",
       "      <td>B</td>\n",
       "      <td>842.70</td>\n",
       "    </tr>\n",
       "    <tr>\n",
       "      <th>2464215</th>\n",
       "      <td>GO</td>\n",
       "      <td>18.00</td>\n",
       "      <td>M</td>\n",
       "      <td>3</td>\n",
       "      <td>GO</td>\n",
       "      <td>3</td>\n",
       "      <td>0</td>\n",
       "      <td>H</td>\n",
       "      <td>B</td>\n",
       "      <td>840.56</td>\n",
       "    </tr>\n",
       "    <tr>\n",
       "      <th>3048302</th>\n",
       "      <td>GO</td>\n",
       "      <td>17.00</td>\n",
       "      <td>F</td>\n",
       "      <td>1</td>\n",
       "      <td>GO</td>\n",
       "      <td>3</td>\n",
       "      <td>0</td>\n",
       "      <td>N</td>\n",
       "      <td>B</td>\n",
       "      <td>838.56</td>\n",
       "    </tr>\n",
       "    <tr>\n",
       "      <th>2250347</th>\n",
       "      <td>MG</td>\n",
       "      <td>19.00</td>\n",
       "      <td>M</td>\n",
       "      <td>1</td>\n",
       "      <td>MG</td>\n",
       "      <td>1</td>\n",
       "      <td>0</td>\n",
       "      <td>Q</td>\n",
       "      <td>B</td>\n",
       "      <td>837.48</td>\n",
       "    </tr>\n",
       "    <tr>\n",
       "      <th>2689723</th>\n",
       "      <td>SP</td>\n",
       "      <td>22.00</td>\n",
       "      <td>F</td>\n",
       "      <td>1</td>\n",
       "      <td>SP</td>\n",
       "      <td>1</td>\n",
       "      <td>0</td>\n",
       "      <td>J</td>\n",
       "      <td>B</td>\n",
       "      <td>835.90</td>\n",
       "    </tr>\n",
       "    <tr>\n",
       "      <th>3140139</th>\n",
       "      <td>GO</td>\n",
       "      <td>18.00</td>\n",
       "      <td>M</td>\n",
       "      <td>1</td>\n",
       "      <td>GO</td>\n",
       "      <td>1</td>\n",
       "      <td>0</td>\n",
       "      <td>K</td>\n",
       "      <td>B</td>\n",
       "      <td>833.58</td>\n",
       "    </tr>\n",
       "  </tbody>\n",
       "</table>\n",
       "</div>"
      ],
      "text/plain": [
       "        SG_UF_RESIDENCIA  NU_IDADE TP_SEXO  TP_COR_RACA SG_UF_NASCIMENTO  \\\n",
       "2610914               MG     17.00       M            1               MG   \n",
       "2406179               MG     17.00       M            1               MG   \n",
       "494733                PI     18.00       M            1               PI   \n",
       "1813970               MA     18.00       M            3               PI   \n",
       "2184026               GO     17.00       F            1               GO   \n",
       "2464215               GO     18.00       M            3               GO   \n",
       "3048302               GO     17.00       F            1               GO   \n",
       "2250347               MG     19.00       M            1               MG   \n",
       "2689723               SP     22.00       F            1               SP   \n",
       "3140139               GO     18.00       M            1               GO   \n",
       "\n",
       "         TP_ESCOLA  TP_LINGUA Q006 Q025  Total  \n",
       "2610914          3          0    N    B 850.82  \n",
       "2406179          2          0    N    B 846.26  \n",
       "494733           3          0    J    B 845.00  \n",
       "1813970          1          0    J    B 843.28  \n",
       "2184026          3          0    P    B 842.70  \n",
       "2464215          3          0    H    B 840.56  \n",
       "3048302          3          0    N    B 838.56  \n",
       "2250347          1          0    Q    B 837.48  \n",
       "2689723          1          0    J    B 835.90  \n",
       "3140139          1          0    K    B 833.58  "
      ]
     },
     "execution_count": 129,
     "metadata": {},
     "output_type": "execute_result"
    }
   ],
   "source": [
    "# organizando os dados pela nota final 'Total' de forma decrescente\n",
    "df.sort_values(by='Total', ascending=False).head(10)"
   ]
  },
  {
   "cell_type": "markdown",
   "id": "2accd477-37ab-4918-b3bd-7e55bc40aa51",
   "metadata": {},
   "source": [
    "## Feature engineering (Leo)\n",
    "#### Cor/raça: TP_COR_RACA\n",
    "\n",
    "Para o tratamento dos dados faltantes no campo de cor/raça, serão considerados os estados de nascimento para a estimativa."
   ]
  },
  {
   "cell_type": "code",
   "execution_count": 130,
   "id": "8d7cbb5f-b608-40e7-b252-637dd388d468",
   "metadata": {},
   "outputs": [],
   "source": [
    "# copiando o dataframe para df2\n",
    "# dropando os que não declararam Cor/raça\n",
    "# groupby por Estado de Nascimento x Cor/raça\n",
    "# reapresentado os valores em dados relativos (%).\n",
    "\n",
    "df2=df.copy()\n",
    "df2.drop(df2[df2.TP_COR_RACA == 0].index, inplace=True)\n",
    "porcentagens=df2.groupby(['SG_UF_NASCIMENTO','TP_COR_RACA']).agg({'TP_COR_RACA':'count'}).groupby(level=0).apply(lambda x:100*x/float(x.sum()))"
   ]
  },
  {
   "cell_type": "code",
   "execution_count": 131,
   "id": "05924ed3",
   "metadata": {},
   "outputs": [
    {
     "data": {
      "text/html": [
       "<div>\n",
       "<style scoped>\n",
       "    .dataframe tbody tr th:only-of-type {\n",
       "        vertical-align: middle;\n",
       "    }\n",
       "\n",
       "    .dataframe tbody tr th {\n",
       "        vertical-align: top;\n",
       "    }\n",
       "\n",
       "    .dataframe thead th {\n",
       "        text-align: right;\n",
       "    }\n",
       "</style>\n",
       "<table border=\"1\" class=\"dataframe\">\n",
       "  <thead>\n",
       "    <tr style=\"text-align: right;\">\n",
       "      <th></th>\n",
       "      <th></th>\n",
       "      <th>TP_COR_RACA</th>\n",
       "    </tr>\n",
       "    <tr>\n",
       "      <th>SG_UF_NASCIMENTO</th>\n",
       "      <th>TP_COR_RACA</th>\n",
       "      <th></th>\n",
       "    </tr>\n",
       "  </thead>\n",
       "  <tbody>\n",
       "    <tr>\n",
       "      <th rowspan=\"5\" valign=\"top\">AC</th>\n",
       "      <th>1</th>\n",
       "      <td>15.32</td>\n",
       "    </tr>\n",
       "    <tr>\n",
       "      <th>2</th>\n",
       "      <td>11.27</td>\n",
       "    </tr>\n",
       "    <tr>\n",
       "      <th>3</th>\n",
       "      <td>69.34</td>\n",
       "    </tr>\n",
       "    <tr>\n",
       "      <th>4</th>\n",
       "      <td>3.26</td>\n",
       "    </tr>\n",
       "    <tr>\n",
       "      <th>5</th>\n",
       "      <td>0.80</td>\n",
       "    </tr>\n",
       "    <tr>\n",
       "      <th>...</th>\n",
       "      <th>...</th>\n",
       "      <td>...</td>\n",
       "    </tr>\n",
       "    <tr>\n",
       "      <th rowspan=\"5\" valign=\"top\">TO</th>\n",
       "      <th>1</th>\n",
       "      <td>18.51</td>\n",
       "    </tr>\n",
       "    <tr>\n",
       "      <th>2</th>\n",
       "      <td>16.51</td>\n",
       "    </tr>\n",
       "    <tr>\n",
       "      <th>3</th>\n",
       "      <td>60.73</td>\n",
       "    </tr>\n",
       "    <tr>\n",
       "      <th>4</th>\n",
       "      <td>3.57</td>\n",
       "    </tr>\n",
       "    <tr>\n",
       "      <th>5</th>\n",
       "      <td>0.67</td>\n",
       "    </tr>\n",
       "  </tbody>\n",
       "</table>\n",
       "<p>135 rows × 1 columns</p>\n",
       "</div>"
      ],
      "text/plain": [
       "                              TP_COR_RACA\n",
       "SG_UF_NASCIMENTO TP_COR_RACA             \n",
       "AC               1                  15.32\n",
       "                 2                  11.27\n",
       "                 3                  69.34\n",
       "                 4                   3.26\n",
       "                 5                   0.80\n",
       "...                                   ...\n",
       "TO               1                  18.51\n",
       "                 2                  16.51\n",
       "                 3                  60.73\n",
       "                 4                   3.57\n",
       "                 5                   0.67\n",
       "\n",
       "[135 rows x 1 columns]"
      ]
     },
     "execution_count": 131,
     "metadata": {},
     "output_type": "execute_result"
    }
   ],
   "source": [
    "porcentagens"
   ]
  },
  {
   "cell_type": "code",
   "execution_count": 132,
   "id": "3fd10eeb-cd51-47e6-8f2a-6309b676cd0a",
   "metadata": {},
   "outputs": [
    {
     "data": {
      "text/html": [
       "<div>\n",
       "<style scoped>\n",
       "    .dataframe tbody tr th:only-of-type {\n",
       "        vertical-align: middle;\n",
       "    }\n",
       "\n",
       "    .dataframe tbody tr th {\n",
       "        vertical-align: top;\n",
       "    }\n",
       "\n",
       "    .dataframe thead th {\n",
       "        text-align: right;\n",
       "    }\n",
       "</style>\n",
       "<table border=\"1\" class=\"dataframe\">\n",
       "  <thead>\n",
       "    <tr style=\"text-align: right;\">\n",
       "      <th></th>\n",
       "      <th>TP_COR_RACA</th>\n",
       "    </tr>\n",
       "    <tr>\n",
       "      <th>SG_UF_NASCIMENTO</th>\n",
       "      <th></th>\n",
       "    </tr>\n",
       "  </thead>\n",
       "  <tbody>\n",
       "    <tr>\n",
       "      <th>AC</th>\n",
       "      <td>705</td>\n",
       "    </tr>\n",
       "    <tr>\n",
       "      <th>AL</th>\n",
       "      <td>2099</td>\n",
       "    </tr>\n",
       "    <tr>\n",
       "      <th>AM</th>\n",
       "      <td>2418</td>\n",
       "    </tr>\n",
       "    <tr>\n",
       "      <th>AP</th>\n",
       "      <td>660</td>\n",
       "    </tr>\n",
       "    <tr>\n",
       "      <th>BA</th>\n",
       "      <td>9577</td>\n",
       "    </tr>\n",
       "    <tr>\n",
       "      <th>CE</th>\n",
       "      <td>8066</td>\n",
       "    </tr>\n",
       "    <tr>\n",
       "      <th>DF</th>\n",
       "      <td>2434</td>\n",
       "    </tr>\n",
       "    <tr>\n",
       "      <th>ES</th>\n",
       "      <td>1454</td>\n",
       "    </tr>\n",
       "    <tr>\n",
       "      <th>GO</th>\n",
       "      <td>4231</td>\n",
       "    </tr>\n",
       "    <tr>\n",
       "      <th>MA</th>\n",
       "      <td>3817</td>\n",
       "    </tr>\n",
       "    <tr>\n",
       "      <th>MG</th>\n",
       "      <td>10735</td>\n",
       "    </tr>\n",
       "    <tr>\n",
       "      <th>MS</th>\n",
       "      <td>1201</td>\n",
       "    </tr>\n",
       "    <tr>\n",
       "      <th>MT</th>\n",
       "      <td>1626</td>\n",
       "    </tr>\n",
       "    <tr>\n",
       "      <th>PA</th>\n",
       "      <td>4588</td>\n",
       "    </tr>\n",
       "    <tr>\n",
       "      <th>PB</th>\n",
       "      <td>2772</td>\n",
       "    </tr>\n",
       "    <tr>\n",
       "      <th>PE</th>\n",
       "      <td>6378</td>\n",
       "    </tr>\n",
       "    <tr>\n",
       "      <th>PI</th>\n",
       "      <td>2229</td>\n",
       "    </tr>\n",
       "    <tr>\n",
       "      <th>PR</th>\n",
       "      <td>3421</td>\n",
       "    </tr>\n",
       "    <tr>\n",
       "      <th>RJ</th>\n",
       "      <td>7610</td>\n",
       "    </tr>\n",
       "    <tr>\n",
       "      <th>RN</th>\n",
       "      <td>2026</td>\n",
       "    </tr>\n",
       "    <tr>\n",
       "      <th>RO</th>\n",
       "      <td>1052</td>\n",
       "    </tr>\n",
       "    <tr>\n",
       "      <th>RR</th>\n",
       "      <td>143</td>\n",
       "    </tr>\n",
       "    <tr>\n",
       "      <th>RS</th>\n",
       "      <td>4401</td>\n",
       "    </tr>\n",
       "    <tr>\n",
       "      <th>SC</th>\n",
       "      <td>1815</td>\n",
       "    </tr>\n",
       "    <tr>\n",
       "      <th>SE</th>\n",
       "      <td>1547</td>\n",
       "    </tr>\n",
       "    <tr>\n",
       "      <th>SP</th>\n",
       "      <td>12019</td>\n",
       "    </tr>\n",
       "    <tr>\n",
       "      <th>TO</th>\n",
       "      <td>788</td>\n",
       "    </tr>\n",
       "  </tbody>\n",
       "</table>\n",
       "</div>"
      ],
      "text/plain": [
       "                  TP_COR_RACA\n",
       "SG_UF_NASCIMENTO             \n",
       "AC                        705\n",
       "AL                       2099\n",
       "AM                       2418\n",
       "AP                        660\n",
       "BA                       9577\n",
       "CE                       8066\n",
       "DF                       2434\n",
       "ES                       1454\n",
       "GO                       4231\n",
       "MA                       3817\n",
       "MG                      10735\n",
       "MS                       1201\n",
       "MT                       1626\n",
       "PA                       4588\n",
       "PB                       2772\n",
       "PE                       6378\n",
       "PI                       2229\n",
       "PR                       3421\n",
       "RJ                       7610\n",
       "RN                       2026\n",
       "RO                       1052\n",
       "RR                        143\n",
       "RS                       4401\n",
       "SC                       1815\n",
       "SE                       1547\n",
       "SP                      12019\n",
       "TO                        788"
      ]
     },
     "execution_count": 132,
     "metadata": {},
     "output_type": "execute_result"
    }
   ],
   "source": [
    "# copiando o dataframe para df3\n",
    "# dropando os que declararam Cor/raça (dif 0: Não declarado)\n",
    "# groupby por Estado de Nascimento x Cor/raça e count\n",
    "# reapresentado os valores em dados absolutos \n",
    "\n",
    "df3=df.copy()\n",
    "df3.drop(df3[df3.TP_COR_RACA != 0].index, inplace=True)\n",
    "nulos=df3.groupby(['SG_UF_NASCIMENTO'])[['TP_COR_RACA']].count()\n",
    "nulos"
   ]
  },
  {
   "cell_type": "markdown",
   "id": "5b939f2c",
   "metadata": {},
   "source": [
    "### Concatenando os data frames\n",
    "\n",
    "Mesclando os data frames com merge() entre o df2 (porcentagens) e df3 (nulos) com o OUTER Merger()"
   ]
  },
  {
   "cell_type": "code",
   "execution_count": 133,
   "id": "8a6f46aa-6eac-4f3b-a5f6-87cf625dd6a6",
   "metadata": {},
   "outputs": [],
   "source": [
    "# a mesclagem “OUTER” combina todas as linhas dos dataframes esquerdo e direito \n",
    "# com NaN quando não há valores correspondentes nas linhas\n",
    "# apresenta o total de não declarados de Cor/raça e a representatividade das raças em % por estado de nascimento \n",
    "merged=porcentagens.merge(nulos, how=\"outer\", on=\"SG_UF_NASCIMENTO\")\n",
    "\n",
    "# adicionando a coluna DISTRIBUICAO e populando os não declarados pela representatividade das raças em %\n",
    "merged['DISTRIBUICAO']=round(merged['TP_COR_RACA_y']*(merged['TP_COR_RACA_x']/100)).astype('int32')\n",
    "\n",
    "# adicionando a coluna COR_RACA indicando as 5 categorias de cor/raça\n",
    "merged['COR_RACA']=((merged.groupby('SG_UF_NASCIMENTO').cumcount()%5)+1)\n",
    "\n",
    "# DONE para posterior validação dos dados populados\n",
    "# dropando as colunas adicionadas na DISTRIBUICAO\n",
    "merged['DONE']=0\n",
    "merged.drop(['TP_COR_RACA_x','TP_COR_RACA_y'], axis=1, inplace=True)"
   ]
  },
  {
   "cell_type": "code",
   "execution_count": 134,
   "id": "2c762e68",
   "metadata": {},
   "outputs": [
    {
     "data": {
      "text/html": [
       "<div>\n",
       "<style scoped>\n",
       "    .dataframe tbody tr th:only-of-type {\n",
       "        vertical-align: middle;\n",
       "    }\n",
       "\n",
       "    .dataframe tbody tr th {\n",
       "        vertical-align: top;\n",
       "    }\n",
       "\n",
       "    .dataframe thead th {\n",
       "        text-align: right;\n",
       "    }\n",
       "</style>\n",
       "<table border=\"1\" class=\"dataframe\">\n",
       "  <thead>\n",
       "    <tr style=\"text-align: right;\">\n",
       "      <th></th>\n",
       "      <th>DISTRIBUICAO</th>\n",
       "      <th>COR_RACA</th>\n",
       "      <th>DONE</th>\n",
       "    </tr>\n",
       "    <tr>\n",
       "      <th>SG_UF_NASCIMENTO</th>\n",
       "      <th></th>\n",
       "      <th></th>\n",
       "      <th></th>\n",
       "    </tr>\n",
       "  </thead>\n",
       "  <tbody>\n",
       "    <tr>\n",
       "      <th>AC</th>\n",
       "      <td>108</td>\n",
       "      <td>1</td>\n",
       "      <td>0</td>\n",
       "    </tr>\n",
       "    <tr>\n",
       "      <th>AC</th>\n",
       "      <td>79</td>\n",
       "      <td>2</td>\n",
       "      <td>0</td>\n",
       "    </tr>\n",
       "    <tr>\n",
       "      <th>AC</th>\n",
       "      <td>489</td>\n",
       "      <td>3</td>\n",
       "      <td>0</td>\n",
       "    </tr>\n",
       "    <tr>\n",
       "      <th>AC</th>\n",
       "      <td>23</td>\n",
       "      <td>4</td>\n",
       "      <td>0</td>\n",
       "    </tr>\n",
       "    <tr>\n",
       "      <th>AC</th>\n",
       "      <td>6</td>\n",
       "      <td>5</td>\n",
       "      <td>0</td>\n",
       "    </tr>\n",
       "    <tr>\n",
       "      <th>...</th>\n",
       "      <td>...</td>\n",
       "      <td>...</td>\n",
       "      <td>...</td>\n",
       "    </tr>\n",
       "    <tr>\n",
       "      <th>TO</th>\n",
       "      <td>146</td>\n",
       "      <td>1</td>\n",
       "      <td>0</td>\n",
       "    </tr>\n",
       "    <tr>\n",
       "      <th>TO</th>\n",
       "      <td>130</td>\n",
       "      <td>2</td>\n",
       "      <td>0</td>\n",
       "    </tr>\n",
       "    <tr>\n",
       "      <th>TO</th>\n",
       "      <td>479</td>\n",
       "      <td>3</td>\n",
       "      <td>0</td>\n",
       "    </tr>\n",
       "    <tr>\n",
       "      <th>TO</th>\n",
       "      <td>28</td>\n",
       "      <td>4</td>\n",
       "      <td>0</td>\n",
       "    </tr>\n",
       "    <tr>\n",
       "      <th>TO</th>\n",
       "      <td>5</td>\n",
       "      <td>5</td>\n",
       "      <td>0</td>\n",
       "    </tr>\n",
       "  </tbody>\n",
       "</table>\n",
       "<p>135 rows × 3 columns</p>\n",
       "</div>"
      ],
      "text/plain": [
       "                  DISTRIBUICAO  COR_RACA  DONE\n",
       "SG_UF_NASCIMENTO                              \n",
       "AC                         108         1     0\n",
       "AC                          79         2     0\n",
       "AC                         489         3     0\n",
       "AC                          23         4     0\n",
       "AC                           6         5     0\n",
       "...                        ...       ...   ...\n",
       "TO                         146         1     0\n",
       "TO                         130         2     0\n",
       "TO                         479         3     0\n",
       "TO                          28         4     0\n",
       "TO                           5         5     0\n",
       "\n",
       "[135 rows x 3 columns]"
      ]
     },
     "execution_count": 134,
     "metadata": {},
     "output_type": "execute_result"
    }
   ],
   "source": [
    "# antes da execução\n",
    "merged"
   ]
  },
  {
   "cell_type": "code",
   "execution_count": 135,
   "id": "ffe6a5b2-a7ff-4f65-90c5-42e960fb0657",
   "metadata": {},
   "outputs": [],
   "source": [
    "# criando o df4 e utilizando o itertuples() iterando em cada linha\n",
    "# populando as 5 categorias de raças ao total de não declarados, a partir da representatividade dos declarados\n",
    "\n",
    "df4=df.copy()\n",
    "for row in df4.itertuples():   \n",
    "    if row[4]==0:\n",
    "        count=1\n",
    "        while True:\n",
    "            state=row[5]\n",
    "            if (merged.loc[(merged.index == state) & (merged['COR_RACA'] == count)]['DISTRIBUICAO'] > merged.loc[(merged.index == state) & (merged['COR_RACA'] == count)]['DONE']).all():\n",
    "                df4.at[row.Index,'TP_COR_RACA'] = count\n",
    "                merged.loc[(merged.index == state) & (merged['COR_RACA'] == count),'DONE']+=1\n",
    "                break\n",
    "            else:\n",
    "                count+=1\n",
    "            if count>5:\n",
    "                df4.at[row.Index,'TP_COR_RACA'] = 3\n",
    "                break"
   ]
  },
  {
   "cell_type": "code",
   "execution_count": 136,
   "id": "f032a159",
   "metadata": {},
   "outputs": [
    {
     "data": {
      "text/html": [
       "<div>\n",
       "<style scoped>\n",
       "    .dataframe tbody tr th:only-of-type {\n",
       "        vertical-align: middle;\n",
       "    }\n",
       "\n",
       "    .dataframe tbody tr th {\n",
       "        vertical-align: top;\n",
       "    }\n",
       "\n",
       "    .dataframe thead th {\n",
       "        text-align: right;\n",
       "    }\n",
       "</style>\n",
       "<table border=\"1\" class=\"dataframe\">\n",
       "  <thead>\n",
       "    <tr style=\"text-align: right;\">\n",
       "      <th></th>\n",
       "      <th>DISTRIBUICAO</th>\n",
       "      <th>COR_RACA</th>\n",
       "      <th>DONE</th>\n",
       "    </tr>\n",
       "    <tr>\n",
       "      <th>SG_UF_NASCIMENTO</th>\n",
       "      <th></th>\n",
       "      <th></th>\n",
       "      <th></th>\n",
       "    </tr>\n",
       "  </thead>\n",
       "  <tbody>\n",
       "    <tr>\n",
       "      <th>AC</th>\n",
       "      <td>108</td>\n",
       "      <td>1</td>\n",
       "      <td>108</td>\n",
       "    </tr>\n",
       "    <tr>\n",
       "      <th>AC</th>\n",
       "      <td>79</td>\n",
       "      <td>2</td>\n",
       "      <td>79</td>\n",
       "    </tr>\n",
       "    <tr>\n",
       "      <th>AC</th>\n",
       "      <td>489</td>\n",
       "      <td>3</td>\n",
       "      <td>489</td>\n",
       "    </tr>\n",
       "    <tr>\n",
       "      <th>AC</th>\n",
       "      <td>23</td>\n",
       "      <td>4</td>\n",
       "      <td>23</td>\n",
       "    </tr>\n",
       "    <tr>\n",
       "      <th>AC</th>\n",
       "      <td>6</td>\n",
       "      <td>5</td>\n",
       "      <td>6</td>\n",
       "    </tr>\n",
       "    <tr>\n",
       "      <th>...</th>\n",
       "      <td>...</td>\n",
       "      <td>...</td>\n",
       "      <td>...</td>\n",
       "    </tr>\n",
       "    <tr>\n",
       "      <th>TO</th>\n",
       "      <td>146</td>\n",
       "      <td>1</td>\n",
       "      <td>146</td>\n",
       "    </tr>\n",
       "    <tr>\n",
       "      <th>TO</th>\n",
       "      <td>130</td>\n",
       "      <td>2</td>\n",
       "      <td>130</td>\n",
       "    </tr>\n",
       "    <tr>\n",
       "      <th>TO</th>\n",
       "      <td>479</td>\n",
       "      <td>3</td>\n",
       "      <td>479</td>\n",
       "    </tr>\n",
       "    <tr>\n",
       "      <th>TO</th>\n",
       "      <td>28</td>\n",
       "      <td>4</td>\n",
       "      <td>28</td>\n",
       "    </tr>\n",
       "    <tr>\n",
       "      <th>TO</th>\n",
       "      <td>5</td>\n",
       "      <td>5</td>\n",
       "      <td>5</td>\n",
       "    </tr>\n",
       "  </tbody>\n",
       "</table>\n",
       "<p>135 rows × 3 columns</p>\n",
       "</div>"
      ],
      "text/plain": [
       "                  DISTRIBUICAO  COR_RACA  DONE\n",
       "SG_UF_NASCIMENTO                              \n",
       "AC                         108         1   108\n",
       "AC                          79         2    79\n",
       "AC                         489         3   489\n",
       "AC                          23         4    23\n",
       "AC                           6         5     6\n",
       "...                        ...       ...   ...\n",
       "TO                         146         1   146\n",
       "TO                         130         2   130\n",
       "TO                         479         3   479\n",
       "TO                          28         4    28\n",
       "TO                           5         5     5\n",
       "\n",
       "[135 rows x 3 columns]"
      ]
     },
     "execution_count": 136,
     "metadata": {},
     "output_type": "execute_result"
    }
   ],
   "source": [
    "# após a execucução\n",
    "merged"
   ]
  },
  {
   "cell_type": "markdown",
   "id": "c634cd4f",
   "metadata": {},
   "source": [
    "#### Comparando total absoluto de Cor/raça entre os dados originais e os populados"
   ]
  },
  {
   "cell_type": "code",
   "execution_count": null,
   "id": "ff8c87eb",
   "metadata": {},
   "outputs": [],
   "source": [
    "# original\n",
    "df['TP_COR_RACA'].value_counts()"
   ]
  },
  {
   "cell_type": "code",
   "execution_count": null,
   "id": "019e858e",
   "metadata": {},
   "outputs": [],
   "source": [
    "# populado cor/raça\n",
    "df4['TP_COR_RACA'].value_counts()"
   ]
  },
  {
   "cell_type": "markdown",
   "id": "0d04ff41",
   "metadata": {},
   "source": [
    "## Feature engineering\n",
    "#### Tipo de escola do Ensino Médio: TP_ESCOLA"
   ]
  },
  {
   "cell_type": "markdown",
   "id": "bf75bafb-422a-4040-a40a-e00130dc08f1",
   "metadata": {},
   "source": [
    "Tratados os dados de cor/raça, faremos o mesmo procedimento para tratar os dados de escola. Para o tratamento dos dados faltantes no campo Tipo de escola, serão considerados os estados de residência."
   ]
  },
  {
   "cell_type": "code",
   "execution_count": null,
   "id": "cad1a918-523d-4208-83d7-44522cf99cc3",
   "metadata": {},
   "outputs": [],
   "source": [
    "# copiando o dataframe para df5\n",
    "# dropando os que não declararam tipo da escola\n",
    "# groupby por Estado da residência x Tipo de escola\n",
    "# reapresentado os valores em dados relativos (%).\n",
    "\n",
    "df5=df.copy()\n",
    "df5.drop(df5[df5.TP_ESCOLA == 1].index, inplace=True)\n",
    "porcentagens2=df5.groupby(['SG_UF_RESIDENCIA','TP_ESCOLA']).agg({'TP_ESCOLA':'count'}).groupby(level=0).apply(lambda x:100*x/float(x.sum()))"
   ]
  },
  {
   "cell_type": "code",
   "execution_count": null,
   "id": "0a5e6ae8",
   "metadata": {
    "scrolled": true
   },
   "outputs": [],
   "source": [
    "porcentagens2"
   ]
  },
  {
   "cell_type": "code",
   "execution_count": null,
   "id": "05cd585c-d6cc-40ee-ba7a-c8164d77e50d",
   "metadata": {},
   "outputs": [],
   "source": [
    "# copiando o dataframe para df6\n",
    "# dropando os que declararam Tipo da escola (dif 1: Não Respondeu)\n",
    "# groupby por Estado da residência x Tipo de escola e count\n",
    "# reapresentado os valores em dados absolutos \n",
    "\n",
    "df6=df.copy()\n",
    "df6.drop(df6[df6.TP_ESCOLA != 1].index, inplace=True)\n",
    "nulos2=df6.groupby(['SG_UF_RESIDENCIA'])[['TP_ESCOLA']].count()\n",
    "nulos2"
   ]
  },
  {
   "cell_type": "markdown",
   "id": "8a88119d",
   "metadata": {},
   "source": [
    "### Concatenando os data frames\n",
    "\n",
    "Mesclando os data frames com merge() entre o df5 (porcentagens2) e df6 (nulos2) com o OUTER Merger()"
   ]
  },
  {
   "cell_type": "code",
   "execution_count": null,
   "id": "d26123b2",
   "metadata": {},
   "outputs": [],
   "source": [
    "# a mesclagem “OUTER” combina todas as linhas dos dataframes esquerdo e direito \n",
    "# com NaN quando não há valores correspondentes nas linhas\n",
    "# apresenta o total de não declarados de Cor/raça e a representatividade das raças em % por estado de nascimento \n",
    "merged2=porcentagens2.merge(nulos2, how=\"outer\", on=\"SG_UF_RESIDENCIA\")\n",
    "\n",
    "# adicionando a coluna DISTRIBUICAO e populando os não declarados pela representatividade dos Tipos de escola em %\n",
    "merged2['DISTRIBUICAO']=round(merged2['TP_ESCOLA_y']*(merged2['TP_ESCOLA_x']/100)).astype('int64')\n",
    "\n",
    "# adicionando a coluna ESCOLA indicando as categorias de Tipos de escola Pública ou Privada\n",
    "merged2['ESCOLA']=((merged2.groupby('SG_UF_RESIDENCIA').cumcount()%2)+2)\n",
    "\n",
    "# DONE para posterior validação dos dados populados\n",
    "# dropando as colunas adicionadas na DISTRIBUICAO\n",
    "merged2['DONE']=0\n",
    "merged2.drop(['TP_ESCOLA_x','TP_ESCOLA_y'], axis=1, inplace=True)"
   ]
  },
  {
   "cell_type": "code",
   "execution_count": null,
   "id": "805dbbba",
   "metadata": {
    "scrolled": true
   },
   "outputs": [],
   "source": [
    "# antes da execução\n",
    "merged2"
   ]
  },
  {
   "cell_type": "code",
   "execution_count": null,
   "id": "f3988373",
   "metadata": {},
   "outputs": [],
   "source": [
    "import time\n",
    "tempo_inicial = time.time()"
   ]
  },
  {
   "cell_type": "code",
   "execution_count": null,
   "id": "1b68af9c",
   "metadata": {},
   "outputs": [],
   "source": [
    "# no df4 já criado, utilizando o itertuples() iterando em cada linha\n",
    "# populando as categorias de Tipos de escola Pública ou Privada ao total de não respondeu, \n",
    "# a partir da representatividade dos respondidos\n",
    "\n",
    "df7=df4.copy()\n",
    "for row in df7.itertuples():   \n",
    "    if row[6]==1:\n",
    "        count=2\n",
    "        while True:\n",
    "            state=row[1]\n",
    "            if (merged2.loc[(merged2.index == state) & (merged2['ESCOLA'] == count)]['DISTRIBUICAO'] > merged2.loc[(merged2.index == state) & (merged2['ESCOLA'] == count)]['DONE']).all():\n",
    "                df7.at[row.Index,'TP_ESCOLA'] = count\n",
    "                merged2.loc[(merged2.index == state) & (merged2['ESCOLA'] == count),'DONE']+=1\n",
    "                break\n",
    "            else:\n",
    "                count+=1\n",
    "            if count>3:\n",
    "                df7.at[row.Index,'TP_ESCOLA'] = 2\n",
    "                break"
   ]
  },
  {
   "cell_type": "code",
   "execution_count": null,
   "id": "86861f8c",
   "metadata": {},
   "outputs": [],
   "source": [
    "# analisando o tempo de processamento\n",
    "tempo_final = time.time()\n",
    "tempo_final - tempo_inicial"
   ]
  },
  {
   "cell_type": "code",
   "execution_count": null,
   "id": "c820b8a7",
   "metadata": {},
   "outputs": [],
   "source": [
    "# após a execucução\n",
    "merged2"
   ]
  },
  {
   "cell_type": "markdown",
   "id": "f4313e91",
   "metadata": {},
   "source": [
    "#### Comparando total absoluto de Tipos de escola entre os dados originais e os populados"
   ]
  },
  {
   "cell_type": "code",
   "execution_count": null,
   "id": "bb55bf41-1625-49ea-86ec-53624f395a05",
   "metadata": {},
   "outputs": [],
   "source": [
    "# original\n",
    "df['TP_ESCOLA'].value_counts()"
   ]
  },
  {
   "cell_type": "code",
   "execution_count": null,
   "id": "b38d782c-ddd9-4e5d-a327-ebc90b531a7a",
   "metadata": {},
   "outputs": [],
   "source": [
    "# populado Tipo de escola\n",
    "df4['TP_COR_RACA'].value_counts()"
   ]
  },
  {
   "cell_type": "markdown",
   "id": "2514279f",
   "metadata": {},
   "source": [
    "### Novo DataFrame\n",
    "\n",
    "#### Após todo o tratamento, disponibilizando o novo DataFrame em formato CSV via output."
   ]
  },
  {
   "cell_type": "code",
   "execution_count": null,
   "id": "5b898777-d7e6-4d81-9081-ab9197bccd0c",
   "metadata": {},
   "outputs": [],
   "source": [
    "df7.to_csv('dados_populados.csv', index=False)"
   ]
  },
  {
   "cell_type": "markdown",
   "id": "700b4857",
   "metadata": {},
   "source": [
    "_______________________\n",
    "_______________________"
   ]
  },
  {
   "cell_type": "markdown",
   "id": "e8a2f759-037d-44dd-9de2-ecb9cea5c22e",
   "metadata": {},
   "source": [
    "## Etapa 2 - ANÁLISE DOS DADOS TRATADOS (Diego/Leo)"
   ]
  },
  {
   "cell_type": "markdown",
   "id": "0abf9448",
   "metadata": {},
   "source": [
    "### Etapa 2.1 - Carregando os dados\n",
    "\n",
    "#### Importando as bibliotecas"
   ]
  },
  {
   "cell_type": "code",
   "execution_count": 62,
   "id": "1b1e27c6",
   "metadata": {},
   "outputs": [],
   "source": [
    "import pandas as pd\n",
    "import numpy as np\n",
    "pd.options.display.float_format= \"{:,.2f}\".format"
   ]
  },
  {
   "cell_type": "markdown",
   "id": "b8f78de8",
   "metadata": {},
   "source": [
    "#### Carregado o novo df pré-tratado da base Enem 2019. O df de estudo possui 4.944.218 de linhas e 10 colunas."
   ]
  },
  {
   "cell_type": "code",
   "execution_count": 63,
   "id": "5bdafd24",
   "metadata": {},
   "outputs": [
    {
     "data": {
      "text/html": [
       "<div>\n",
       "<style scoped>\n",
       "    .dataframe tbody tr th:only-of-type {\n",
       "        vertical-align: middle;\n",
       "    }\n",
       "\n",
       "    .dataframe tbody tr th {\n",
       "        vertical-align: top;\n",
       "    }\n",
       "\n",
       "    .dataframe thead th {\n",
       "        text-align: right;\n",
       "    }\n",
       "</style>\n",
       "<table border=\"1\" class=\"dataframe\">\n",
       "  <thead>\n",
       "    <tr style=\"text-align: right;\">\n",
       "      <th></th>\n",
       "      <th>SG_UF_RESIDENCIA</th>\n",
       "      <th>NU_IDADE</th>\n",
       "      <th>TP_SEXO</th>\n",
       "      <th>TP_COR_RACA</th>\n",
       "      <th>SG_UF_NASCIMENTO</th>\n",
       "      <th>TP_ESCOLA</th>\n",
       "      <th>TP_LINGUA</th>\n",
       "      <th>Q006</th>\n",
       "      <th>Q025</th>\n",
       "      <th>Total</th>\n",
       "    </tr>\n",
       "  </thead>\n",
       "  <tbody>\n",
       "    <tr>\n",
       "      <th>0</th>\n",
       "      <td>SP</td>\n",
       "      <td>36.00</td>\n",
       "      <td>M</td>\n",
       "      <td>3</td>\n",
       "      <td>BA</td>\n",
       "      <td>2</td>\n",
       "      <td>0</td>\n",
       "      <td>A</td>\n",
       "      <td>B</td>\n",
       "      <td>NaN</td>\n",
       "    </tr>\n",
       "    <tr>\n",
       "      <th>1</th>\n",
       "      <td>BA</td>\n",
       "      <td>23.00</td>\n",
       "      <td>M</td>\n",
       "      <td>1</td>\n",
       "      <td>BA</td>\n",
       "      <td>2</td>\n",
       "      <td>0</td>\n",
       "      <td>C</td>\n",
       "      <td>B</td>\n",
       "      <td>NaN</td>\n",
       "    </tr>\n",
       "    <tr>\n",
       "      <th>2</th>\n",
       "      <td>CE</td>\n",
       "      <td>39.00</td>\n",
       "      <td>F</td>\n",
       "      <td>3</td>\n",
       "      <td>CE</td>\n",
       "      <td>2</td>\n",
       "      <td>1</td>\n",
       "      <td>B</td>\n",
       "      <td>B</td>\n",
       "      <td>NaN</td>\n",
       "    </tr>\n",
       "  </tbody>\n",
       "</table>\n",
       "</div>"
      ],
      "text/plain": [
       "  SG_UF_RESIDENCIA  NU_IDADE TP_SEXO  TP_COR_RACA SG_UF_NASCIMENTO  TP_ESCOLA  \\\n",
       "0               SP     36.00       M            3               BA          2   \n",
       "1               BA     23.00       M            1               BA          2   \n",
       "2               CE     39.00       F            3               CE          2   \n",
       "\n",
       "   TP_LINGUA Q006 Q025  Total  \n",
       "0          0    A    B    NaN  \n",
       "1          0    C    B    NaN  \n",
       "2          1    B    B    NaN  "
      ]
     },
     "execution_count": 63,
     "metadata": {},
     "output_type": "execute_result"
    }
   ],
   "source": [
    "# lendo o csv pelo read_csv\n",
    "\n",
    "enem = pd.read_csv('./microdados_enem_2019/DADOS/dados_populados.csv', encoding='latin-1')\n",
    "enem.head(3)"
   ]
  },
  {
   "cell_type": "markdown",
   "id": "ec502616",
   "metadata": {},
   "source": [
    "#### Verificando os dados vazios"
   ]
  },
  {
   "cell_type": "code",
   "execution_count": 64,
   "id": "fe006f71",
   "metadata": {
    "scrolled": true
   },
   "outputs": [
    {
     "data": {
      "text/plain": [
       "SG_UF_RESIDENCIA          0\n",
       "NU_IDADE                  0\n",
       "TP_SEXO                   0\n",
       "TP_COR_RACA               0\n",
       "SG_UF_NASCIMENTO          0\n",
       "TP_ESCOLA                 0\n",
       "TP_LINGUA                 0\n",
       "Q006                      0\n",
       "Q025                      0\n",
       "Total               1348408\n",
       "dtype: int64"
      ]
     },
     "execution_count": 64,
     "metadata": {},
     "output_type": "execute_result"
    }
   ],
   "source": [
    "# utilizando o isna para detectar valores ausentes\n",
    "enem.isna().sum()"
   ]
  },
  {
   "cell_type": "markdown",
   "id": "eef07431",
   "metadata": {},
   "source": [
    "#### Notas: Total\n",
    "Os vazios em notas são as abstenções e serão mantidos para a análise. \n",
    "\n",
    "    * Total: Cálculo da nota final do candidato          "
   ]
  },
  {
   "cell_type": "markdown",
   "id": "868a0a85",
   "metadata": {},
   "source": [
    "#### Substituindo as descrições/categorias originais para facilitar a leitura do DataFrame:\n",
    "\n",
    "#### Alterando o nome das colunas (DE - PARA):\n",
    "\n",
    "    * SG_UF_RESIDENCIA: UF_RESIDENCIA\n",
    "    * NU_IDADE: IDADE\n",
    "    * TP_SEXO: SEXO\n",
    "    * TP_COR_RACA: COR/RACA\n",
    "    * SG_UF_NASCIMENTO: UF_NASCIMENTO\n",
    "    * TP_ESCOLA: ESCOLA_ENS_MEDIO\n",
    "    * TP_LINGUA: LINGUA_ESTR\n",
    "    * Q006: RENDA_FAMILIAR(SALARIOS)\n",
    "    * Q025: ACESSO_INTERNET\n",
    "    * Total: NOTA"
   ]
  },
  {
   "cell_type": "code",
   "execution_count": 65,
   "id": "46502f3b",
   "metadata": {},
   "outputs": [
    {
     "data": {
      "text/plain": [
       "Index(['SG_UF_RESIDENCIA', 'NU_IDADE', 'TP_SEXO', 'TP_COR_RACA',\n",
       "       'SG_UF_NASCIMENTO', 'TP_ESCOLA', 'TP_LINGUA', 'Q006', 'Q025', 'Total'],\n",
       "      dtype='object')"
      ]
     },
     "execution_count": 65,
     "metadata": {},
     "output_type": "execute_result"
    }
   ],
   "source": [
    "enem.columns"
   ]
  },
  {
   "cell_type": "code",
   "execution_count": 66,
   "id": "b124ae3a",
   "metadata": {
    "scrolled": true
   },
   "outputs": [],
   "source": [
    "enem['TP_COR_RACA'] = enem['TP_COR_RACA'].replace([1,2,3,4,5],['Branco','Preto','Pardo','Amarelo','Indígena'])\n",
    "enem['TP_ESCOLA'] = enem['TP_ESCOLA'].replace([2,3],['Publica','Privada'])\n",
    "enem['TP_LINGUA']=enem['TP_LINGUA'].replace([0,1],['Ingles','Espanhol'])\n",
    "enem['Q006']=enem['Q006'].replace(['A','B','C','D','E','F','G','H','I','J','K','L','M','N','O','P','Q'],[\n",
    "    'A (0)','B (0 a 1)','C (1 a 1,5)','D (1,5 a 2)','E (2 a 2,5)','F (2,5 a 3)','G (3 a 4)','H (4 a 5)','I (5 a 6)','J (6 a 7)','K (7 a 8)','L (8 a 9)',\n",
    "    'M (9 a 10)','N (10 a 12)','O (12 a 15)','P (15 a 20)','Q (Mais de 20)'])\n",
    "enem['Q025']=enem['Q025'].replace(['A','B'],['Nao','Sim'])\n",
    "enem['NU_IDADE']=enem['NU_IDADE'].astype('int32')"
   ]
  },
  {
   "cell_type": "code",
   "execution_count": 67,
   "id": "3957a123",
   "metadata": {},
   "outputs": [
    {
     "data": {
      "text/html": [
       "<div>\n",
       "<style scoped>\n",
       "    .dataframe tbody tr th:only-of-type {\n",
       "        vertical-align: middle;\n",
       "    }\n",
       "\n",
       "    .dataframe tbody tr th {\n",
       "        vertical-align: top;\n",
       "    }\n",
       "\n",
       "    .dataframe thead th {\n",
       "        text-align: right;\n",
       "    }\n",
       "</style>\n",
       "<table border=\"1\" class=\"dataframe\">\n",
       "  <thead>\n",
       "    <tr style=\"text-align: right;\">\n",
       "      <th></th>\n",
       "      <th>UF_RESIDENCIA</th>\n",
       "      <th>IDADE</th>\n",
       "      <th>SEXO</th>\n",
       "      <th>COR/RACA</th>\n",
       "      <th>UF_NASCIMENTO</th>\n",
       "      <th>ESCOLA_ENS_MEDIO</th>\n",
       "      <th>LINGUA_ESTR</th>\n",
       "      <th>RENDA_FAMILIAR(SALARIOS)</th>\n",
       "      <th>ACESSO_INTERNET</th>\n",
       "      <th>NOTA</th>\n",
       "    </tr>\n",
       "  </thead>\n",
       "  <tbody>\n",
       "    <tr>\n",
       "      <th>0</th>\n",
       "      <td>SP</td>\n",
       "      <td>36</td>\n",
       "      <td>M</td>\n",
       "      <td>Pardo</td>\n",
       "      <td>BA</td>\n",
       "      <td>Publica</td>\n",
       "      <td>Ingles</td>\n",
       "      <td>A (0)</td>\n",
       "      <td>Sim</td>\n",
       "      <td>NaN</td>\n",
       "    </tr>\n",
       "    <tr>\n",
       "      <th>1</th>\n",
       "      <td>BA</td>\n",
       "      <td>23</td>\n",
       "      <td>M</td>\n",
       "      <td>Branco</td>\n",
       "      <td>BA</td>\n",
       "      <td>Publica</td>\n",
       "      <td>Ingles</td>\n",
       "      <td>C (1 a 1,5)</td>\n",
       "      <td>Sim</td>\n",
       "      <td>NaN</td>\n",
       "    </tr>\n",
       "    <tr>\n",
       "      <th>2</th>\n",
       "      <td>CE</td>\n",
       "      <td>39</td>\n",
       "      <td>F</td>\n",
       "      <td>Pardo</td>\n",
       "      <td>CE</td>\n",
       "      <td>Publica</td>\n",
       "      <td>Espanhol</td>\n",
       "      <td>B (0 a 1)</td>\n",
       "      <td>Sim</td>\n",
       "      <td>NaN</td>\n",
       "    </tr>\n",
       "    <tr>\n",
       "      <th>3</th>\n",
       "      <td>TO</td>\n",
       "      <td>25</td>\n",
       "      <td>F</td>\n",
       "      <td>Branco</td>\n",
       "      <td>TO</td>\n",
       "      <td>Publica</td>\n",
       "      <td>Espanhol</td>\n",
       "      <td>E (2 a 2,5)</td>\n",
       "      <td>Sim</td>\n",
       "      <td>475.34</td>\n",
       "    </tr>\n",
       "    <tr>\n",
       "      <th>4</th>\n",
       "      <td>MG</td>\n",
       "      <td>22</td>\n",
       "      <td>F</td>\n",
       "      <td>Branco</td>\n",
       "      <td>MG</td>\n",
       "      <td>Publica</td>\n",
       "      <td>Ingles</td>\n",
       "      <td>G (3 a 4)</td>\n",
       "      <td>Sim</td>\n",
       "      <td>639.36</td>\n",
       "    </tr>\n",
       "  </tbody>\n",
       "</table>\n",
       "</div>"
      ],
      "text/plain": [
       "  UF_RESIDENCIA  IDADE SEXO COR/RACA UF_NASCIMENTO ESCOLA_ENS_MEDIO  \\\n",
       "0            SP     36    M    Pardo            BA          Publica   \n",
       "1            BA     23    M   Branco            BA          Publica   \n",
       "2            CE     39    F    Pardo            CE          Publica   \n",
       "3            TO     25    F   Branco            TO          Publica   \n",
       "4            MG     22    F   Branco            MG          Publica   \n",
       "\n",
       "  LINGUA_ESTR RENDA_FAMILIAR(SALARIOS) ACESSO_INTERNET   NOTA  \n",
       "0      Ingles                    A (0)             Sim    NaN  \n",
       "1      Ingles              C (1 a 1,5)             Sim    NaN  \n",
       "2    Espanhol                B (0 a 1)             Sim    NaN  \n",
       "3    Espanhol              E (2 a 2,5)             Sim 475.34  \n",
       "4      Ingles                G (3 a 4)             Sim 639.36  "
      ]
     },
     "execution_count": 67,
     "metadata": {},
     "output_type": "execute_result"
    }
   ],
   "source": [
    "enem.rename(columns={'SG_UF_RESIDENCIA': 'UF_RESIDENCIA', 'NU_IDADE': 'IDADE', 'TP_SEXO':'SEXO','TP_COR_RACA':'COR/RACA', 'SG_UF_NASCIMENTO':'UF_NASCIMENTO','TP_ESCOLA':'ESCOLA_ENS_MEDIO','TP_LINGUA':'LINGUA_ESTR','Q006':'RENDA_FAMILIAR(SALARIOS)','Q025':'ACESSO_INTERNET', 'Total': 'NOTA'}, inplace=True)\n",
    "enem.head(5)"
   ]
  },
  {
   "cell_type": "markdown",
   "id": "21e4a247",
   "metadata": {},
   "source": [
    "### Etapa 2.2 - Análise da etnia e condição socioeconômica\n",
    "\n",
    "O foco desta análise será relacionar as características de etnia e condição socioeconômica dos participantes com seus respectivos desempenhos na prova.\n",
    "Iniciamos então buscando saber a porcentagem de candidatos de cada faixa de renda inscritos no processo"
   ]
  },
  {
   "cell_type": "code",
   "execution_count": 68,
   "id": "bf2c84b2",
   "metadata": {},
   "outputs": [
    {
     "data": {
      "text/html": [
       "<div>\n",
       "<style scoped>\n",
       "    .dataframe tbody tr th:only-of-type {\n",
       "        vertical-align: middle;\n",
       "    }\n",
       "\n",
       "    .dataframe tbody tr th {\n",
       "        vertical-align: top;\n",
       "    }\n",
       "\n",
       "    .dataframe thead th {\n",
       "        text-align: right;\n",
       "    }\n",
       "</style>\n",
       "<table border=\"1\" class=\"dataframe\">\n",
       "  <thead>\n",
       "    <tr style=\"text-align: right;\">\n",
       "      <th></th>\n",
       "      <th>RENDA_FAMILIAR(SALARIOS)</th>\n",
       "    </tr>\n",
       "    <tr>\n",
       "      <th>RENDA_FAMILIAR(SALARIOS)</th>\n",
       "      <th></th>\n",
       "    </tr>\n",
       "  </thead>\n",
       "  <tbody>\n",
       "    <tr>\n",
       "      <th>A (0)</th>\n",
       "      <td>4.49</td>\n",
       "    </tr>\n",
       "    <tr>\n",
       "      <th>B (0 a 1)</th>\n",
       "      <td>24.77</td>\n",
       "    </tr>\n",
       "    <tr>\n",
       "      <th>C (1 a 1,5)</th>\n",
       "      <td>25.67</td>\n",
       "    </tr>\n",
       "    <tr>\n",
       "      <th>D (1,5 a 2)</th>\n",
       "      <td>9.84</td>\n",
       "    </tr>\n",
       "    <tr>\n",
       "      <th>E (2 a 2,5)</th>\n",
       "      <td>9.37</td>\n",
       "    </tr>\n",
       "    <tr>\n",
       "      <th>F (2,5 a 3)</th>\n",
       "      <td>4.47</td>\n",
       "    </tr>\n",
       "    <tr>\n",
       "      <th>G (3 a 4)</th>\n",
       "      <td>5.97</td>\n",
       "    </tr>\n",
       "    <tr>\n",
       "      <th>H (4 a 5)</th>\n",
       "      <td>3.83</td>\n",
       "    </tr>\n",
       "    <tr>\n",
       "      <th>I (5 a 6)</th>\n",
       "      <td>2.85</td>\n",
       "    </tr>\n",
       "    <tr>\n",
       "      <th>J (6 a 7)</th>\n",
       "      <td>1.61</td>\n",
       "    </tr>\n",
       "    <tr>\n",
       "      <th>K (7 a 8)</th>\n",
       "      <td>1.15</td>\n",
       "    </tr>\n",
       "    <tr>\n",
       "      <th>L (8 a 9)</th>\n",
       "      <td>0.88</td>\n",
       "    </tr>\n",
       "    <tr>\n",
       "      <th>M (9 a 10)</th>\n",
       "      <td>0.86</td>\n",
       "    </tr>\n",
       "    <tr>\n",
       "      <th>N (10 a 12)</th>\n",
       "      <td>1.23</td>\n",
       "    </tr>\n",
       "    <tr>\n",
       "      <th>O (12 a 15)</th>\n",
       "      <td>1.00</td>\n",
       "    </tr>\n",
       "    <tr>\n",
       "      <th>P (15 a 20)</th>\n",
       "      <td>0.86</td>\n",
       "    </tr>\n",
       "    <tr>\n",
       "      <th>Q (Mais de 20)</th>\n",
       "      <td>1.14</td>\n",
       "    </tr>\n",
       "  </tbody>\n",
       "</table>\n",
       "</div>"
      ],
      "text/plain": [
       "                          RENDA_FAMILIAR(SALARIOS)\n",
       "RENDA_FAMILIAR(SALARIOS)                          \n",
       "A (0)                                         4.49\n",
       "B (0 a 1)                                    24.77\n",
       "C (1 a 1,5)                                  25.67\n",
       "D (1,5 a 2)                                   9.84\n",
       "E (2 a 2,5)                                   9.37\n",
       "F (2,5 a 3)                                   4.47\n",
       "G (3 a 4)                                     5.97\n",
       "H (4 a 5)                                     3.83\n",
       "I (5 a 6)                                     2.85\n",
       "J (6 a 7)                                     1.61\n",
       "K (7 a 8)                                     1.15\n",
       "L (8 a 9)                                     0.88\n",
       "M (9 a 10)                                    0.86\n",
       "N (10 a 12)                                   1.23\n",
       "O (12 a 15)                                   1.00\n",
       "P (15 a 20)                                   0.86\n",
       "Q (Mais de 20)                                1.14"
      ]
     },
     "execution_count": 68,
     "metadata": {},
     "output_type": "execute_result"
    }
   ],
   "source": [
    "# com groupby aplicando lambda para visão da representatividade\n",
    "\n",
    "enem.groupby(['RENDA_FAMILIAR(SALARIOS)']).agg({'RENDA_FAMILIAR(SALARIOS)':'count'}).apply(lambda x:100*x/float(x.sum()))"
   ]
  },
  {
   "cell_type": "markdown",
   "id": "56020308",
   "metadata": {},
   "source": [
    "* `Conclusão`: \n",
    "    * Quase 55% dos cerca de 5 milhões de inscritos no processo possuem uma renda familiar de até 1,5 salários mínimos.\n",
    "    * Aumentando a faixa para 2,5 salários, temos quase 75% dos inscritos."
   ]
  },
  {
   "cell_type": "markdown",
   "id": "9fc72259",
   "metadata": {},
   "source": [
    "Podemos também fazer esse cálculo para as regiões do Brasil. Para isso criamos uma coluna auxiliar com a região de cada inscrito, e aplicamos o mesmo procedimento"
   ]
  },
  {
   "cell_type": "markdown",
   "id": "a909fa40",
   "metadata": {},
   "source": [
    "### função de divisão dos estados por região (Leo)"
   ]
  },
  {
   "cell_type": "code",
   "execution_count": 69,
   "id": "f508b7ef",
   "metadata": {},
   "outputs": [],
   "source": [
    "def regiao(x):\n",
    "    if x == 'PR' or x == 'SC' or x == 'RS':\n",
    "        return \"Sul\"\n",
    "    elif x == 'SP' or x== 'RJ' or x == 'MG' or x == 'ES':\n",
    "        return \"Sudeste\"\n",
    "    elif x == 'GO' or x== 'MT' or x == 'MS' or x== 'DF':\n",
    "        return \"Centro-Oeste\"\n",
    "    elif x == 'AL' or x== 'BA' or x == 'CE' or x== 'MA' or x=='PB' or x=='PE' or x=='PI' or x=='RN':\n",
    "        return \"Nordeste\"\n",
    "    elif x == 'AC' or x=='AP' or x=='AM' or x=='PA' or x=='RO' or x=='RR' or x=='TO':\n",
    "        return \"Norte\""
   ]
  },
  {
   "cell_type": "code",
   "execution_count": 70,
   "id": "70e6214a",
   "metadata": {},
   "outputs": [],
   "source": [
    "enem['REGIAO']=enem['UF_RESIDENCIA'].apply(regiao)\n",
    "renda=enem.groupby(['REGIAO','RENDA_FAMILIAR(SALARIOS)']).agg({'RENDA_FAMILIAR(SALARIOS)':'count'}).groupby(level=0).apply(lambda x:100*x/float(x.sum()))"
   ]
  },
  {
   "cell_type": "markdown",
   "id": "f0d9a1f6",
   "metadata": {},
   "source": [
    "Vamos então comparar os inscritos da região sudeste com a região nordeste:"
   ]
  },
  {
   "cell_type": "code",
   "execution_count": 71,
   "id": "277359d6",
   "metadata": {},
   "outputs": [
    {
     "data": {
      "text/html": [
       "<div>\n",
       "<style scoped>\n",
       "    .dataframe tbody tr th:only-of-type {\n",
       "        vertical-align: middle;\n",
       "    }\n",
       "\n",
       "    .dataframe tbody tr th {\n",
       "        vertical-align: top;\n",
       "    }\n",
       "\n",
       "    .dataframe thead th {\n",
       "        text-align: right;\n",
       "    }\n",
       "</style>\n",
       "<table border=\"1\" class=\"dataframe\">\n",
       "  <thead>\n",
       "    <tr style=\"text-align: right;\">\n",
       "      <th></th>\n",
       "      <th></th>\n",
       "      <th>RENDA_FAMILIAR(SALARIOS)</th>\n",
       "    </tr>\n",
       "    <tr>\n",
       "      <th>REGIAO</th>\n",
       "      <th>RENDA_FAMILIAR(SALARIOS)</th>\n",
       "      <th></th>\n",
       "    </tr>\n",
       "  </thead>\n",
       "  <tbody>\n",
       "    <tr>\n",
       "      <th rowspan=\"17\" valign=\"top\">Nordeste</th>\n",
       "      <th>A (0)</th>\n",
       "      <td>7.53</td>\n",
       "    </tr>\n",
       "    <tr>\n",
       "      <th>B (0 a 1)</th>\n",
       "      <td>39.11</td>\n",
       "    </tr>\n",
       "    <tr>\n",
       "      <th>C (1 a 1,5)</th>\n",
       "      <td>25.99</td>\n",
       "    </tr>\n",
       "    <tr>\n",
       "      <th>D (1,5 a 2)</th>\n",
       "      <td>7.08</td>\n",
       "    </tr>\n",
       "    <tr>\n",
       "      <th>E (2 a 2,5)</th>\n",
       "      <td>6.07</td>\n",
       "    </tr>\n",
       "    <tr>\n",
       "      <th>F (2,5 a 3)</th>\n",
       "      <td>2.55</td>\n",
       "    </tr>\n",
       "    <tr>\n",
       "      <th>G (3 a 4)</th>\n",
       "      <td>3.28</td>\n",
       "    </tr>\n",
       "    <tr>\n",
       "      <th>H (4 a 5)</th>\n",
       "      <td>2.12</td>\n",
       "    </tr>\n",
       "    <tr>\n",
       "      <th>I (5 a 6)</th>\n",
       "      <td>1.55</td>\n",
       "    </tr>\n",
       "    <tr>\n",
       "      <th>J (6 a 7)</th>\n",
       "      <td>0.88</td>\n",
       "    </tr>\n",
       "    <tr>\n",
       "      <th>K (7 a 8)</th>\n",
       "      <td>0.62</td>\n",
       "    </tr>\n",
       "    <tr>\n",
       "      <th>L (8 a 9)</th>\n",
       "      <td>0.47</td>\n",
       "    </tr>\n",
       "    <tr>\n",
       "      <th>M (9 a 10)</th>\n",
       "      <td>0.46</td>\n",
       "    </tr>\n",
       "    <tr>\n",
       "      <th>N (10 a 12)</th>\n",
       "      <td>0.67</td>\n",
       "    </tr>\n",
       "    <tr>\n",
       "      <th>O (12 a 15)</th>\n",
       "      <td>0.55</td>\n",
       "    </tr>\n",
       "    <tr>\n",
       "      <th>P (15 a 20)</th>\n",
       "      <td>0.47</td>\n",
       "    </tr>\n",
       "    <tr>\n",
       "      <th>Q (Mais de 20)</th>\n",
       "      <td>0.61</td>\n",
       "    </tr>\n",
       "  </tbody>\n",
       "</table>\n",
       "</div>"
      ],
      "text/plain": [
       "                                   RENDA_FAMILIAR(SALARIOS)\n",
       "REGIAO   RENDA_FAMILIAR(SALARIOS)                          \n",
       "Nordeste A (0)                                         7.53\n",
       "         B (0 a 1)                                    39.11\n",
       "         C (1 a 1,5)                                  25.99\n",
       "         D (1,5 a 2)                                   7.08\n",
       "         E (2 a 2,5)                                   6.07\n",
       "         F (2,5 a 3)                                   2.55\n",
       "         G (3 a 4)                                     3.28\n",
       "         H (4 a 5)                                     2.12\n",
       "         I (5 a 6)                                     1.55\n",
       "         J (6 a 7)                                     0.88\n",
       "         K (7 a 8)                                     0.62\n",
       "         L (8 a 9)                                     0.47\n",
       "         M (9 a 10)                                    0.46\n",
       "         N (10 a 12)                                   0.67\n",
       "         O (12 a 15)                                   0.55\n",
       "         P (15 a 20)                                   0.47\n",
       "         Q (Mais de 20)                                0.61"
      ]
     },
     "execution_count": 71,
     "metadata": {},
     "output_type": "execute_result"
    }
   ],
   "source": [
    "renda.loc[['Nordeste']]"
   ]
  },
  {
   "cell_type": "code",
   "execution_count": 72,
   "id": "4bb8b22c",
   "metadata": {},
   "outputs": [
    {
     "data": {
      "text/html": [
       "<div>\n",
       "<style scoped>\n",
       "    .dataframe tbody tr th:only-of-type {\n",
       "        vertical-align: middle;\n",
       "    }\n",
       "\n",
       "    .dataframe tbody tr th {\n",
       "        vertical-align: top;\n",
       "    }\n",
       "\n",
       "    .dataframe thead th {\n",
       "        text-align: right;\n",
       "    }\n",
       "</style>\n",
       "<table border=\"1\" class=\"dataframe\">\n",
       "  <thead>\n",
       "    <tr style=\"text-align: right;\">\n",
       "      <th></th>\n",
       "      <th></th>\n",
       "      <th>RENDA_FAMILIAR(SALARIOS)</th>\n",
       "    </tr>\n",
       "    <tr>\n",
       "      <th>REGIAO</th>\n",
       "      <th>RENDA_FAMILIAR(SALARIOS)</th>\n",
       "      <th></th>\n",
       "    </tr>\n",
       "  </thead>\n",
       "  <tbody>\n",
       "    <tr>\n",
       "      <th rowspan=\"17\" valign=\"top\">Sudeste</th>\n",
       "      <th>A (0)</th>\n",
       "      <td>2.32</td>\n",
       "    </tr>\n",
       "    <tr>\n",
       "      <th>B (0 a 1)</th>\n",
       "      <td>13.85</td>\n",
       "    </tr>\n",
       "    <tr>\n",
       "      <th>C (1 a 1,5)</th>\n",
       "      <td>24.75</td>\n",
       "    </tr>\n",
       "    <tr>\n",
       "      <th>D (1,5 a 2)</th>\n",
       "      <td>11.77</td>\n",
       "    </tr>\n",
       "    <tr>\n",
       "      <th>E (2 a 2,5)</th>\n",
       "      <td>11.98</td>\n",
       "    </tr>\n",
       "    <tr>\n",
       "      <th>F (2,5 a 3)</th>\n",
       "      <td>5.93</td>\n",
       "    </tr>\n",
       "    <tr>\n",
       "      <th>G (3 a 4)</th>\n",
       "      <td>8.17</td>\n",
       "    </tr>\n",
       "    <tr>\n",
       "      <th>H (4 a 5)</th>\n",
       "      <td>5.19</td>\n",
       "    </tr>\n",
       "    <tr>\n",
       "      <th>I (5 a 6)</th>\n",
       "      <td>3.88</td>\n",
       "    </tr>\n",
       "    <tr>\n",
       "      <th>J (6 a 7)</th>\n",
       "      <td>2.17</td>\n",
       "    </tr>\n",
       "    <tr>\n",
       "      <th>K (7 a 8)</th>\n",
       "      <td>1.58</td>\n",
       "    </tr>\n",
       "    <tr>\n",
       "      <th>L (8 a 9)</th>\n",
       "      <td>1.21</td>\n",
       "    </tr>\n",
       "    <tr>\n",
       "      <th>M (9 a 10)</th>\n",
       "      <td>1.20</td>\n",
       "    </tr>\n",
       "    <tr>\n",
       "      <th>N (10 a 12)</th>\n",
       "      <td>1.72</td>\n",
       "    </tr>\n",
       "    <tr>\n",
       "      <th>O (12 a 15)</th>\n",
       "      <td>1.39</td>\n",
       "    </tr>\n",
       "    <tr>\n",
       "      <th>P (15 a 20)</th>\n",
       "      <td>1.22</td>\n",
       "    </tr>\n",
       "    <tr>\n",
       "      <th>Q (Mais de 20)</th>\n",
       "      <td>1.66</td>\n",
       "    </tr>\n",
       "  </tbody>\n",
       "</table>\n",
       "</div>"
      ],
      "text/plain": [
       "                                  RENDA_FAMILIAR(SALARIOS)\n",
       "REGIAO  RENDA_FAMILIAR(SALARIOS)                          \n",
       "Sudeste A (0)                                         2.32\n",
       "        B (0 a 1)                                    13.85\n",
       "        C (1 a 1,5)                                  24.75\n",
       "        D (1,5 a 2)                                  11.77\n",
       "        E (2 a 2,5)                                  11.98\n",
       "        F (2,5 a 3)                                   5.93\n",
       "        G (3 a 4)                                     8.17\n",
       "        H (4 a 5)                                     5.19\n",
       "        I (5 a 6)                                     3.88\n",
       "        J (6 a 7)                                     2.17\n",
       "        K (7 a 8)                                     1.58\n",
       "        L (8 a 9)                                     1.21\n",
       "        M (9 a 10)                                    1.20\n",
       "        N (10 a 12)                                   1.72\n",
       "        O (12 a 15)                                   1.39\n",
       "        P (15 a 20)                                   1.22\n",
       "        Q (Mais de 20)                                1.66"
      ]
     },
     "execution_count": 72,
     "metadata": {},
     "output_type": "execute_result"
    }
   ],
   "source": [
    "renda.loc[['Sudeste']]"
   ]
  },
  {
   "cell_type": "markdown",
   "id": "67870832",
   "metadata": {},
   "source": [
    "* `Conclusão`: \n",
    "    * Diferença perceptível. Enquanto na região nordeste ~ 72,63% dos inscritos possuem renda familiar menor que 1,5 salários, na região sudeste esta porcentagem é de ~ 40,92%."
   ]
  },
  {
   "cell_type": "markdown",
   "id": "eda17541",
   "metadata": {},
   "source": [
    "E essa diferença impacta a pontuação total de alguma forma?"
   ]
  },
  {
   "cell_type": "code",
   "execution_count": 74,
   "id": "cd49920e",
   "metadata": {},
   "outputs": [
    {
     "data": {
      "text/plain": [
       "RENDA_FAMILIAR(SALARIOS)\n",
       "A (0)            473.64\n",
       "B (0 a 1)        483.27\n",
       "C (1 a 1,5)      504.22\n",
       "D (1,5 a 2)      523.08\n",
       "E (2 a 2,5)      531.06\n",
       "F (2,5 a 3)      547.23\n",
       "G (3 a 4)        555.57\n",
       "H (4 a 5)        571.81\n",
       "I (5 a 6)        580.24\n",
       "J (6 a 7)        590.71\n",
       "K (7 a 8)        595.84\n",
       "L (8 a 9)        603.26\n",
       "M (9 a 10)       605.87\n",
       "N (10 a 12)      613.71\n",
       "O (12 a 15)      622.02\n",
       "P (15 a 20)      629.54\n",
       "Q (Mais de 20)   637.72\n",
       "Name: NOTA, dtype: float64"
      ]
     },
     "execution_count": 74,
     "metadata": {},
     "output_type": "execute_result"
    }
   ],
   "source": [
    "enem.groupby(['RENDA_FAMILIAR(SALARIOS)'])['NOTA'].mean()"
   ]
  },
  {
   "cell_type": "markdown",
   "id": "f8fa005a",
   "metadata": {},
   "source": [
    "* `Conclusão`: \n",
    "    * Percebe-se que a média da pontuação total dos candidatos nas provas cresce à medida em que cresce a renda familiar.\n",
    "    * Isso pode se dar pela opção por melhores escolas, bem como mais tempo para estudar com apoio financeiro da família."
   ]
  },
  {
   "cell_type": "markdown",
   "id": "97078fa6",
   "metadata": {},
   "source": [
    "E como se comportam as notas de acordo com a região, uma vez que há a disparidade de renda?"
   ]
  },
  {
   "cell_type": "code",
   "execution_count": 75,
   "id": "2d9c54b8",
   "metadata": {},
   "outputs": [
    {
     "data": {
      "text/plain": [
       "REGIAO\n",
       "Norte          496.08\n",
       "Nordeste       509.43\n",
       "Centro-Oeste   522.65\n",
       "Sul            536.84\n",
       "Sudeste        542.49\n",
       "Name: NOTA, dtype: float64"
      ]
     },
     "execution_count": 75,
     "metadata": {},
     "output_type": "execute_result"
    }
   ],
   "source": [
    "enem.groupby(['REGIAO'])['NOTA'].mean().sort_values()"
   ]
  },
  {
   "cell_type": "markdown",
   "id": "1b252ef5",
   "metadata": {},
   "source": [
    "* `Conclusão`: \n",
    "    * Como esperado, percebe-se que a média das pontuações dos candidatos aumenta nas regiões onde se concentra a maior renda."
   ]
  },
  {
   "cell_type": "markdown",
   "id": "a5819b24",
   "metadata": {},
   "source": [
    "Podemos fazer a mesma análise para cada estado:"
   ]
  },
  {
   "cell_type": "code",
   "execution_count": 76,
   "id": "b80b6ff5",
   "metadata": {},
   "outputs": [
    {
     "data": {
      "text/plain": [
       "UF_RESIDENCIA\n",
       "SP   544.41\n",
       "MG   541.49\n",
       "RJ   541.32\n",
       "SC   540.70\n",
       "DF   539.02\n",
       "RS   536.39\n",
       "ES   536.32\n",
       "PR   535.29\n",
       "GO   524.56\n",
       "RN   521.72\n",
       "SE   517.25\n",
       "PE   516.16\n",
       "CE   514.88\n",
       "MS   514.87\n",
       "PB   514.56\n",
       "BA   508.10\n",
       "MT   506.79\n",
       "PI   504.11\n",
       "AL   503.66\n",
       "RR   502.79\n",
       "TO   500.20\n",
       "PA   498.92\n",
       "RO   497.84\n",
       "AC   493.15\n",
       "MA   491.04\n",
       "AP   489.83\n",
       "AM   488.05\n",
       "Name: NOTA, dtype: float64"
      ]
     },
     "execution_count": 76,
     "metadata": {},
     "output_type": "execute_result"
    }
   ],
   "source": [
    "enem.groupby(['UF_RESIDENCIA'])['NOTA'].mean().sort_values(ascending=False)"
   ]
  },
  {
   "cell_type": "markdown",
   "id": "b5872f19",
   "metadata": {},
   "source": [
    "* `Conclusão`: \n",
    "    * É perceptível que entre os 10 estados com a maior média, 7 são os estados das regiões sudeste e sul.\n",
    "    * Além de 2 da região centro-oeste, que são os estados que apresentam as maiores rendas para os alunos."
   ]
  },
  {
   "cell_type": "markdown",
   "id": "6a65bc8e",
   "metadata": {},
   "source": [
    "Olhando por outro ângulo, qual a distribuição das diversas etnias declaradas de acordo com cada região?"
   ]
  },
  {
   "cell_type": "code",
   "execution_count": 77,
   "id": "5960da80",
   "metadata": {},
   "outputs": [
    {
     "data": {
      "text/html": [
       "<div>\n",
       "<style scoped>\n",
       "    .dataframe tbody tr th:only-of-type {\n",
       "        vertical-align: middle;\n",
       "    }\n",
       "\n",
       "    .dataframe tbody tr th {\n",
       "        vertical-align: top;\n",
       "    }\n",
       "\n",
       "    .dataframe thead th {\n",
       "        text-align: right;\n",
       "    }\n",
       "</style>\n",
       "<table border=\"1\" class=\"dataframe\">\n",
       "  <thead>\n",
       "    <tr style=\"text-align: right;\">\n",
       "      <th></th>\n",
       "      <th></th>\n",
       "      <th>COR/RACA</th>\n",
       "    </tr>\n",
       "    <tr>\n",
       "      <th>REGIAO</th>\n",
       "      <th>COR/RACA</th>\n",
       "      <th></th>\n",
       "    </tr>\n",
       "  </thead>\n",
       "  <tbody>\n",
       "    <tr>\n",
       "      <th rowspan=\"5\" valign=\"top\">Centro-Oeste</th>\n",
       "      <th>Amarelo</th>\n",
       "      <td>3.19</td>\n",
       "    </tr>\n",
       "    <tr>\n",
       "      <th>Branco</th>\n",
       "      <td>34.43</td>\n",
       "    </tr>\n",
       "    <tr>\n",
       "      <th>Indígena</th>\n",
       "      <td>0.79</td>\n",
       "    </tr>\n",
       "    <tr>\n",
       "      <th>Pardo</th>\n",
       "      <td>49.47</td>\n",
       "    </tr>\n",
       "    <tr>\n",
       "      <th>Preto</th>\n",
       "      <td>12.12</td>\n",
       "    </tr>\n",
       "    <tr>\n",
       "      <th rowspan=\"5\" valign=\"top\">Nordeste</th>\n",
       "      <th>Amarelo</th>\n",
       "      <td>2.58</td>\n",
       "    </tr>\n",
       "    <tr>\n",
       "      <th>Branco</th>\n",
       "      <td>22.48</td>\n",
       "    </tr>\n",
       "    <tr>\n",
       "      <th>Indígena</th>\n",
       "      <td>0.75</td>\n",
       "    </tr>\n",
       "    <tr>\n",
       "      <th>Pardo</th>\n",
       "      <td>58.50</td>\n",
       "    </tr>\n",
       "    <tr>\n",
       "      <th>Preto</th>\n",
       "      <td>15.69</td>\n",
       "    </tr>\n",
       "    <tr>\n",
       "      <th rowspan=\"5\" valign=\"top\">Norte</th>\n",
       "      <th>Amarelo</th>\n",
       "      <td>2.22</td>\n",
       "    </tr>\n",
       "    <tr>\n",
       "      <th>Branco</th>\n",
       "      <td>16.52</td>\n",
       "    </tr>\n",
       "    <tr>\n",
       "      <th>Indígena</th>\n",
       "      <td>1.20</td>\n",
       "    </tr>\n",
       "    <tr>\n",
       "      <th>Pardo</th>\n",
       "      <td>68.94</td>\n",
       "    </tr>\n",
       "    <tr>\n",
       "      <th>Preto</th>\n",
       "      <td>11.12</td>\n",
       "    </tr>\n",
       "    <tr>\n",
       "      <th rowspan=\"5\" valign=\"top\">Sudeste</th>\n",
       "      <th>Amarelo</th>\n",
       "      <td>2.06</td>\n",
       "    </tr>\n",
       "    <tr>\n",
       "      <th>Branco</th>\n",
       "      <td>47.52</td>\n",
       "    </tr>\n",
       "    <tr>\n",
       "      <th>Indígena</th>\n",
       "      <td>0.39</td>\n",
       "    </tr>\n",
       "    <tr>\n",
       "      <th>Pardo</th>\n",
       "      <td>36.80</td>\n",
       "    </tr>\n",
       "    <tr>\n",
       "      <th>Preto</th>\n",
       "      <td>13.22</td>\n",
       "    </tr>\n",
       "    <tr>\n",
       "      <th rowspan=\"5\" valign=\"top\">Sul</th>\n",
       "      <th>Amarelo</th>\n",
       "      <td>1.21</td>\n",
       "    </tr>\n",
       "    <tr>\n",
       "      <th>Branco</th>\n",
       "      <td>73.66</td>\n",
       "    </tr>\n",
       "    <tr>\n",
       "      <th>Indígena</th>\n",
       "      <td>0.21</td>\n",
       "    </tr>\n",
       "    <tr>\n",
       "      <th>Pardo</th>\n",
       "      <td>19.19</td>\n",
       "    </tr>\n",
       "    <tr>\n",
       "      <th>Preto</th>\n",
       "      <td>5.73</td>\n",
       "    </tr>\n",
       "  </tbody>\n",
       "</table>\n",
       "</div>"
      ],
      "text/plain": [
       "                       COR/RACA\n",
       "REGIAO       COR/RACA          \n",
       "Centro-Oeste Amarelo       3.19\n",
       "             Branco       34.43\n",
       "             Indígena      0.79\n",
       "             Pardo        49.47\n",
       "             Preto        12.12\n",
       "Nordeste     Amarelo       2.58\n",
       "             Branco       22.48\n",
       "             Indígena      0.75\n",
       "             Pardo        58.50\n",
       "             Preto        15.69\n",
       "Norte        Amarelo       2.22\n",
       "             Branco       16.52\n",
       "             Indígena      1.20\n",
       "             Pardo        68.94\n",
       "             Preto        11.12\n",
       "Sudeste      Amarelo       2.06\n",
       "             Branco       47.52\n",
       "             Indígena      0.39\n",
       "             Pardo        36.80\n",
       "             Preto        13.22\n",
       "Sul          Amarelo       1.21\n",
       "             Branco       73.66\n",
       "             Indígena      0.21\n",
       "             Pardo        19.19\n",
       "             Preto         5.73"
      ]
     },
     "execution_count": 77,
     "metadata": {},
     "output_type": "execute_result"
    }
   ],
   "source": [
    "enem.groupby(['REGIAO','COR/RACA']).agg({'COR/RACA':'count'}).groupby(level=0).apply(lambda x:100*x/float(x.sum()))"
   ]
  },
  {
   "cell_type": "markdown",
   "id": "f60ba7a0",
   "metadata": {},
   "source": [
    "* `Conclusão`: \n",
    "    * Percebe-se uma grande diferença entre algumas regiões do país, com o \n",
    "        * Sul registrando mais de 70% declarados brancos com apenas 25% pretos e pardos\n",
    "        * Enquanto no norte os dados se invertem, com 80% de pretos e pardos e pouco mais de 15% de brancos"
   ]
  },
  {
   "cell_type": "markdown",
   "id": "c21b58a5",
   "metadata": {},
   "source": [
    "E há alguma influência da cor/raça declarada na média final dos candidatos?"
   ]
  },
  {
   "cell_type": "code",
   "execution_count": 78,
   "id": "559fa26e",
   "metadata": {},
   "outputs": [
    {
     "data": {
      "text/plain": [
       "COR/RACA\n",
       "Branco     549.30\n",
       "Amarelo    520.89\n",
       "Pardo      508.40\n",
       "Preto      503.73\n",
       "Indígena   476.91\n",
       "Name: NOTA, dtype: float64"
      ]
     },
     "execution_count": 78,
     "metadata": {},
     "output_type": "execute_result"
    }
   ],
   "source": [
    "enem.groupby(['COR/RACA'])['NOTA'].mean().sort_values(ascending=False)"
   ]
  },
  {
   "cell_type": "markdown",
   "id": "60e21e44",
   "metadata": {},
   "source": [
    "* `Conclusão`: \n",
    "    * Há uma grande diferença nos desempenhos de candidatos declarados brancos em relação a candidatos declarados pretos ou pardos. \n",
    "    * Uma hipótese para esta discrepância é a ja conhecida desigualdade brasileira, com pessoas declaradas pretas ou pardas ocupando posições de mais baixa renda, enquanto pessoas declaradas brancas contam com mais privilégios. \n",
    "    * A situação é ainda mais difícil quando analisamos os indígenas, que muitas vezes passam por um processo de difícil integração à sociedade."
   ]
  },
  {
   "cell_type": "markdown",
   "id": "81d39de7",
   "metadata": {},
   "source": [
    "Apenas para exemplificação, vejamos as diferenças na renda declarada dos candidatos declarados brancos para os declarados pretos/pardos:"
   ]
  },
  {
   "cell_type": "code",
   "execution_count": 79,
   "id": "3d08f49c",
   "metadata": {},
   "outputs": [
    {
     "data": {
      "text/html": [
       "<div>\n",
       "<style scoped>\n",
       "    .dataframe tbody tr th:only-of-type {\n",
       "        vertical-align: middle;\n",
       "    }\n",
       "\n",
       "    .dataframe tbody tr th {\n",
       "        vertical-align: top;\n",
       "    }\n",
       "\n",
       "    .dataframe thead th {\n",
       "        text-align: right;\n",
       "    }\n",
       "</style>\n",
       "<table border=\"1\" class=\"dataframe\">\n",
       "  <thead>\n",
       "    <tr style=\"text-align: right;\">\n",
       "      <th></th>\n",
       "      <th></th>\n",
       "      <th>RENDA_FAMILIAR(SALARIOS)</th>\n",
       "    </tr>\n",
       "    <tr>\n",
       "      <th>COR/RACA</th>\n",
       "      <th>RENDA_FAMILIAR(SALARIOS)</th>\n",
       "      <th></th>\n",
       "    </tr>\n",
       "  </thead>\n",
       "  <tbody>\n",
       "    <tr>\n",
       "      <th rowspan=\"17\" valign=\"top\">Branco</th>\n",
       "      <th>A (0)</th>\n",
       "      <td>2.54</td>\n",
       "    </tr>\n",
       "    <tr>\n",
       "      <th>B (0 a 1)</th>\n",
       "      <td>14.47</td>\n",
       "    </tr>\n",
       "    <tr>\n",
       "      <th>C (1 a 1,5)</th>\n",
       "      <td>21.09</td>\n",
       "    </tr>\n",
       "    <tr>\n",
       "      <th>D (1,5 a 2)</th>\n",
       "      <td>10.54</td>\n",
       "    </tr>\n",
       "    <tr>\n",
       "      <th>E (2 a 2,5)</th>\n",
       "      <td>10.73</td>\n",
       "    </tr>\n",
       "    <tr>\n",
       "      <th>F (2,5 a 3)</th>\n",
       "      <td>5.92</td>\n",
       "    </tr>\n",
       "    <tr>\n",
       "      <th>G (3 a 4)</th>\n",
       "      <td>8.18</td>\n",
       "    </tr>\n",
       "    <tr>\n",
       "      <th>H (4 a 5)</th>\n",
       "      <td>5.84</td>\n",
       "    </tr>\n",
       "    <tr>\n",
       "      <th>I (5 a 6)</th>\n",
       "      <td>4.53</td>\n",
       "    </tr>\n",
       "    <tr>\n",
       "      <th>J (6 a 7)</th>\n",
       "      <td>2.66</td>\n",
       "    </tr>\n",
       "    <tr>\n",
       "      <th>K (7 a 8)</th>\n",
       "      <td>1.96</td>\n",
       "    </tr>\n",
       "    <tr>\n",
       "      <th>L (8 a 9)</th>\n",
       "      <td>1.55</td>\n",
       "    </tr>\n",
       "    <tr>\n",
       "      <th>M (9 a 10)</th>\n",
       "      <td>1.55</td>\n",
       "    </tr>\n",
       "    <tr>\n",
       "      <th>N (10 a 12)</th>\n",
       "      <td>2.30</td>\n",
       "    </tr>\n",
       "    <tr>\n",
       "      <th>O (12 a 15)</th>\n",
       "      <td>1.93</td>\n",
       "    </tr>\n",
       "    <tr>\n",
       "      <th>P (15 a 20)</th>\n",
       "      <td>1.75</td>\n",
       "    </tr>\n",
       "    <tr>\n",
       "      <th>Q (Mais de 20)</th>\n",
       "      <td>2.46</td>\n",
       "    </tr>\n",
       "  </tbody>\n",
       "</table>\n",
       "</div>"
      ],
      "text/plain": [
       "                                   RENDA_FAMILIAR(SALARIOS)\n",
       "COR/RACA RENDA_FAMILIAR(SALARIOS)                          \n",
       "Branco   A (0)                                         2.54\n",
       "         B (0 a 1)                                    14.47\n",
       "         C (1 a 1,5)                                  21.09\n",
       "         D (1,5 a 2)                                  10.54\n",
       "         E (2 a 2,5)                                  10.73\n",
       "         F (2,5 a 3)                                   5.92\n",
       "         G (3 a 4)                                     8.18\n",
       "         H (4 a 5)                                     5.84\n",
       "         I (5 a 6)                                     4.53\n",
       "         J (6 a 7)                                     2.66\n",
       "         K (7 a 8)                                     1.96\n",
       "         L (8 a 9)                                     1.55\n",
       "         M (9 a 10)                                    1.55\n",
       "         N (10 a 12)                                   2.30\n",
       "         O (12 a 15)                                   1.93\n",
       "         P (15 a 20)                                   1.75\n",
       "         Q (Mais de 20)                                2.46"
      ]
     },
     "execution_count": 79,
     "metadata": {},
     "output_type": "execute_result"
    }
   ],
   "source": [
    "renda_cor = enem.groupby(['COR/RACA','RENDA_FAMILIAR(SALARIOS)']).agg({'RENDA_FAMILIAR(SALARIOS)':'count'}).groupby(level=0).apply(lambda x:100*x/float(x.sum()))\n",
    "renda_cor.loc[['Branco']]"
   ]
  },
  {
   "cell_type": "code",
   "execution_count": 80,
   "id": "4f940c14",
   "metadata": {},
   "outputs": [
    {
     "data": {
      "text/html": [
       "<div>\n",
       "<style scoped>\n",
       "    .dataframe tbody tr th:only-of-type {\n",
       "        vertical-align: middle;\n",
       "    }\n",
       "\n",
       "    .dataframe tbody tr th {\n",
       "        vertical-align: top;\n",
       "    }\n",
       "\n",
       "    .dataframe thead th {\n",
       "        text-align: right;\n",
       "    }\n",
       "</style>\n",
       "<table border=\"1\" class=\"dataframe\">\n",
       "  <thead>\n",
       "    <tr style=\"text-align: right;\">\n",
       "      <th></th>\n",
       "      <th></th>\n",
       "      <th>RENDA_FAMILIAR(SALARIOS)</th>\n",
       "    </tr>\n",
       "    <tr>\n",
       "      <th>COR/RACA</th>\n",
       "      <th>RENDA_FAMILIAR(SALARIOS)</th>\n",
       "      <th></th>\n",
       "    </tr>\n",
       "  </thead>\n",
       "  <tbody>\n",
       "    <tr>\n",
       "      <th rowspan=\"17\" valign=\"top\">Preto</th>\n",
       "      <th>A (0)</th>\n",
       "      <td>5.55</td>\n",
       "    </tr>\n",
       "    <tr>\n",
       "      <th>B (0 a 1)</th>\n",
       "      <td>30.97</td>\n",
       "    </tr>\n",
       "    <tr>\n",
       "      <th>C (1 a 1,5)</th>\n",
       "      <td>30.18</td>\n",
       "    </tr>\n",
       "    <tr>\n",
       "      <th>D (1,5 a 2)</th>\n",
       "      <td>9.65</td>\n",
       "    </tr>\n",
       "    <tr>\n",
       "      <th>E (2 a 2,5)</th>\n",
       "      <td>8.75</td>\n",
       "    </tr>\n",
       "    <tr>\n",
       "      <th>F (2,5 a 3)</th>\n",
       "      <td>3.40</td>\n",
       "    </tr>\n",
       "    <tr>\n",
       "      <th>G (3 a 4)</th>\n",
       "      <td>4.41</td>\n",
       "    </tr>\n",
       "    <tr>\n",
       "      <th>H (4 a 5)</th>\n",
       "      <td>2.31</td>\n",
       "    </tr>\n",
       "    <tr>\n",
       "      <th>I (5 a 6)</th>\n",
       "      <td>1.59</td>\n",
       "    </tr>\n",
       "    <tr>\n",
       "      <th>J (6 a 7)</th>\n",
       "      <td>0.78</td>\n",
       "    </tr>\n",
       "    <tr>\n",
       "      <th>K (7 a 8)</th>\n",
       "      <td>0.54</td>\n",
       "    </tr>\n",
       "    <tr>\n",
       "      <th>L (8 a 9)</th>\n",
       "      <td>0.37</td>\n",
       "    </tr>\n",
       "    <tr>\n",
       "      <th>M (9 a 10)</th>\n",
       "      <td>0.35</td>\n",
       "    </tr>\n",
       "    <tr>\n",
       "      <th>N (10 a 12)</th>\n",
       "      <td>0.41</td>\n",
       "    </tr>\n",
       "    <tr>\n",
       "      <th>O (12 a 15)</th>\n",
       "      <td>0.32</td>\n",
       "    </tr>\n",
       "    <tr>\n",
       "      <th>P (15 a 20)</th>\n",
       "      <td>0.21</td>\n",
       "    </tr>\n",
       "    <tr>\n",
       "      <th>Q (Mais de 20)</th>\n",
       "      <td>0.19</td>\n",
       "    </tr>\n",
       "    <tr>\n",
       "      <th rowspan=\"17\" valign=\"top\">Pardo</th>\n",
       "      <th>A (0)</th>\n",
       "      <td>5.63</td>\n",
       "    </tr>\n",
       "    <tr>\n",
       "      <th>B (0 a 1)</th>\n",
       "      <td>30.84</td>\n",
       "    </tr>\n",
       "    <tr>\n",
       "      <th>C (1 a 1,5)</th>\n",
       "      <td>27.93</td>\n",
       "    </tr>\n",
       "    <tr>\n",
       "      <th>D (1,5 a 2)</th>\n",
       "      <td>9.38</td>\n",
       "    </tr>\n",
       "    <tr>\n",
       "      <th>E (2 a 2,5)</th>\n",
       "      <td>8.56</td>\n",
       "    </tr>\n",
       "    <tr>\n",
       "      <th>F (2,5 a 3)</th>\n",
       "      <td>3.68</td>\n",
       "    </tr>\n",
       "    <tr>\n",
       "      <th>G (3 a 4)</th>\n",
       "      <td>4.76</td>\n",
       "    </tr>\n",
       "    <tr>\n",
       "      <th>H (4 a 5)</th>\n",
       "      <td>2.72</td>\n",
       "    </tr>\n",
       "    <tr>\n",
       "      <th>I (5 a 6)</th>\n",
       "      <td>1.94</td>\n",
       "    </tr>\n",
       "    <tr>\n",
       "      <th>J (6 a 7)</th>\n",
       "      <td>1.03</td>\n",
       "    </tr>\n",
       "    <tr>\n",
       "      <th>K (7 a 8)</th>\n",
       "      <td>0.71</td>\n",
       "    </tr>\n",
       "    <tr>\n",
       "      <th>L (8 a 9)</th>\n",
       "      <td>0.51</td>\n",
       "    </tr>\n",
       "    <tr>\n",
       "      <th>M (9 a 10)</th>\n",
       "      <td>0.48</td>\n",
       "    </tr>\n",
       "    <tr>\n",
       "      <th>N (10 a 12)</th>\n",
       "      <td>0.62</td>\n",
       "    </tr>\n",
       "    <tr>\n",
       "      <th>O (12 a 15)</th>\n",
       "      <td>0.48</td>\n",
       "    </tr>\n",
       "    <tr>\n",
       "      <th>P (15 a 20)</th>\n",
       "      <td>0.36</td>\n",
       "    </tr>\n",
       "    <tr>\n",
       "      <th>Q (Mais de 20)</th>\n",
       "      <td>0.38</td>\n",
       "    </tr>\n",
       "  </tbody>\n",
       "</table>\n",
       "</div>"
      ],
      "text/plain": [
       "                                   RENDA_FAMILIAR(SALARIOS)\n",
       "COR/RACA RENDA_FAMILIAR(SALARIOS)                          \n",
       "Preto    A (0)                                         5.55\n",
       "         B (0 a 1)                                    30.97\n",
       "         C (1 a 1,5)                                  30.18\n",
       "         D (1,5 a 2)                                   9.65\n",
       "         E (2 a 2,5)                                   8.75\n",
       "         F (2,5 a 3)                                   3.40\n",
       "         G (3 a 4)                                     4.41\n",
       "         H (4 a 5)                                     2.31\n",
       "         I (5 a 6)                                     1.59\n",
       "         J (6 a 7)                                     0.78\n",
       "         K (7 a 8)                                     0.54\n",
       "         L (8 a 9)                                     0.37\n",
       "         M (9 a 10)                                    0.35\n",
       "         N (10 a 12)                                   0.41\n",
       "         O (12 a 15)                                   0.32\n",
       "         P (15 a 20)                                   0.21\n",
       "         Q (Mais de 20)                                0.19\n",
       "Pardo    A (0)                                         5.63\n",
       "         B (0 a 1)                                    30.84\n",
       "         C (1 a 1,5)                                  27.93\n",
       "         D (1,5 a 2)                                   9.38\n",
       "         E (2 a 2,5)                                   8.56\n",
       "         F (2,5 a 3)                                   3.68\n",
       "         G (3 a 4)                                     4.76\n",
       "         H (4 a 5)                                     2.72\n",
       "         I (5 a 6)                                     1.94\n",
       "         J (6 a 7)                                     1.03\n",
       "         K (7 a 8)                                     0.71\n",
       "         L (8 a 9)                                     0.51\n",
       "         M (9 a 10)                                    0.48\n",
       "         N (10 a 12)                                   0.62\n",
       "         O (12 a 15)                                   0.48\n",
       "         P (15 a 20)                                   0.36\n",
       "         Q (Mais de 20)                                0.38"
      ]
     },
     "execution_count": 80,
     "metadata": {},
     "output_type": "execute_result"
    }
   ],
   "source": [
    "renda_cor.loc[['Preto','Pardo']]"
   ]
  },
  {
   "cell_type": "markdown",
   "id": "d627b3ea",
   "metadata": {},
   "source": [
    "* `Conclusão`: \n",
    "    * É perceptível o distanciamento das realidades sociais, onde menos de 40% dos candidatos possuem renda familiar de menos de 1,5 salários, e mais de 2% dos inscritos possuem renda superior a 20 salários. \n",
    "    * No caso de pretos e pardos, os valores chegam a 65% vivendo com até 1,5 salários, e ambas somadas não chegam a 0,6% de candidatos com mais de 20 salários. \n",
    "    * Isso comprova a desigualdade de renda baseada na cor, realidade vivenciada atualmente."
   ]
  },
  {
   "cell_type": "markdown",
   "id": "aafc4fd5",
   "metadata": {},
   "source": [
    "Por fim, vejamos como se comportam os candidatos que possuem as 10 maiores notas:"
   ]
  },
  {
   "cell_type": "code",
   "execution_count": 81,
   "id": "08ceb9f5",
   "metadata": {},
   "outputs": [
    {
     "data": {
      "text/html": [
       "<div>\n",
       "<style scoped>\n",
       "    .dataframe tbody tr th:only-of-type {\n",
       "        vertical-align: middle;\n",
       "    }\n",
       "\n",
       "    .dataframe tbody tr th {\n",
       "        vertical-align: top;\n",
       "    }\n",
       "\n",
       "    .dataframe thead th {\n",
       "        text-align: right;\n",
       "    }\n",
       "</style>\n",
       "<table border=\"1\" class=\"dataframe\">\n",
       "  <thead>\n",
       "    <tr style=\"text-align: right;\">\n",
       "      <th></th>\n",
       "      <th>UF_RESIDENCIA</th>\n",
       "      <th>IDADE</th>\n",
       "      <th>SEXO</th>\n",
       "      <th>COR/RACA</th>\n",
       "      <th>UF_NASCIMENTO</th>\n",
       "      <th>ESCOLA_ENS_MEDIO</th>\n",
       "      <th>LINGUA_ESTR</th>\n",
       "      <th>RENDA_FAMILIAR(SALARIOS)</th>\n",
       "      <th>ACESSO_INTERNET</th>\n",
       "      <th>NOTA</th>\n",
       "      <th>REGIAO</th>\n",
       "    </tr>\n",
       "  </thead>\n",
       "  <tbody>\n",
       "    <tr>\n",
       "      <th>2527191</th>\n",
       "      <td>MG</td>\n",
       "      <td>17</td>\n",
       "      <td>M</td>\n",
       "      <td>Branco</td>\n",
       "      <td>MG</td>\n",
       "      <td>Privada</td>\n",
       "      <td>Ingles</td>\n",
       "      <td>N (10 a 12)</td>\n",
       "      <td>Sim</td>\n",
       "      <td>850.82</td>\n",
       "      <td>Sudeste</td>\n",
       "    </tr>\n",
       "    <tr>\n",
       "      <th>2328495</th>\n",
       "      <td>MG</td>\n",
       "      <td>17</td>\n",
       "      <td>M</td>\n",
       "      <td>Branco</td>\n",
       "      <td>MG</td>\n",
       "      <td>Publica</td>\n",
       "      <td>Ingles</td>\n",
       "      <td>N (10 a 12)</td>\n",
       "      <td>Sim</td>\n",
       "      <td>846.26</td>\n",
       "      <td>Sudeste</td>\n",
       "    </tr>\n",
       "    <tr>\n",
       "      <th>478276</th>\n",
       "      <td>PI</td>\n",
       "      <td>18</td>\n",
       "      <td>M</td>\n",
       "      <td>Branco</td>\n",
       "      <td>PI</td>\n",
       "      <td>Privada</td>\n",
       "      <td>Ingles</td>\n",
       "      <td>J (6 a 7)</td>\n",
       "      <td>Sim</td>\n",
       "      <td>845.00</td>\n",
       "      <td>Nordeste</td>\n",
       "    </tr>\n",
       "    <tr>\n",
       "      <th>1753470</th>\n",
       "      <td>MA</td>\n",
       "      <td>18</td>\n",
       "      <td>M</td>\n",
       "      <td>Pardo</td>\n",
       "      <td>PI</td>\n",
       "      <td>Publica</td>\n",
       "      <td>Ingles</td>\n",
       "      <td>J (6 a 7)</td>\n",
       "      <td>Sim</td>\n",
       "      <td>843.28</td>\n",
       "      <td>Nordeste</td>\n",
       "    </tr>\n",
       "    <tr>\n",
       "      <th>2112831</th>\n",
       "      <td>GO</td>\n",
       "      <td>17</td>\n",
       "      <td>F</td>\n",
       "      <td>Branco</td>\n",
       "      <td>GO</td>\n",
       "      <td>Privada</td>\n",
       "      <td>Ingles</td>\n",
       "      <td>P (15 a 20)</td>\n",
       "      <td>Sim</td>\n",
       "      <td>842.70</td>\n",
       "      <td>Centro-Oeste</td>\n",
       "    </tr>\n",
       "    <tr>\n",
       "      <th>2384881</th>\n",
       "      <td>GO</td>\n",
       "      <td>18</td>\n",
       "      <td>M</td>\n",
       "      <td>Pardo</td>\n",
       "      <td>GO</td>\n",
       "      <td>Privada</td>\n",
       "      <td>Ingles</td>\n",
       "      <td>H (4 a 5)</td>\n",
       "      <td>Sim</td>\n",
       "      <td>840.56</td>\n",
       "      <td>Centro-Oeste</td>\n",
       "    </tr>\n",
       "    <tr>\n",
       "      <th>2951796</th>\n",
       "      <td>GO</td>\n",
       "      <td>17</td>\n",
       "      <td>F</td>\n",
       "      <td>Branco</td>\n",
       "      <td>GO</td>\n",
       "      <td>Privada</td>\n",
       "      <td>Ingles</td>\n",
       "      <td>N (10 a 12)</td>\n",
       "      <td>Sim</td>\n",
       "      <td>838.56</td>\n",
       "      <td>Centro-Oeste</td>\n",
       "    </tr>\n",
       "    <tr>\n",
       "      <th>2177101</th>\n",
       "      <td>MG</td>\n",
       "      <td>19</td>\n",
       "      <td>M</td>\n",
       "      <td>Branco</td>\n",
       "      <td>MG</td>\n",
       "      <td>Publica</td>\n",
       "      <td>Ingles</td>\n",
       "      <td>Q (Mais de 20)</td>\n",
       "      <td>Sim</td>\n",
       "      <td>837.48</td>\n",
       "      <td>Sudeste</td>\n",
       "    </tr>\n",
       "    <tr>\n",
       "      <th>2603783</th>\n",
       "      <td>SP</td>\n",
       "      <td>22</td>\n",
       "      <td>F</td>\n",
       "      <td>Branco</td>\n",
       "      <td>SP</td>\n",
       "      <td>Publica</td>\n",
       "      <td>Ingles</td>\n",
       "      <td>J (6 a 7)</td>\n",
       "      <td>Sim</td>\n",
       "      <td>835.90</td>\n",
       "      <td>Sudeste</td>\n",
       "    </tr>\n",
       "    <tr>\n",
       "      <th>3041128</th>\n",
       "      <td>GO</td>\n",
       "      <td>18</td>\n",
       "      <td>M</td>\n",
       "      <td>Branco</td>\n",
       "      <td>GO</td>\n",
       "      <td>Publica</td>\n",
       "      <td>Ingles</td>\n",
       "      <td>K (7 a 8)</td>\n",
       "      <td>Sim</td>\n",
       "      <td>833.58</td>\n",
       "      <td>Centro-Oeste</td>\n",
       "    </tr>\n",
       "  </tbody>\n",
       "</table>\n",
       "</div>"
      ],
      "text/plain": [
       "        UF_RESIDENCIA  IDADE SEXO COR/RACA UF_NASCIMENTO ESCOLA_ENS_MEDIO  \\\n",
       "2527191            MG     17    M   Branco            MG          Privada   \n",
       "2328495            MG     17    M   Branco            MG          Publica   \n",
       "478276             PI     18    M   Branco            PI          Privada   \n",
       "1753470            MA     18    M    Pardo            PI          Publica   \n",
       "2112831            GO     17    F   Branco            GO          Privada   \n",
       "2384881            GO     18    M    Pardo            GO          Privada   \n",
       "2951796            GO     17    F   Branco            GO          Privada   \n",
       "2177101            MG     19    M   Branco            MG          Publica   \n",
       "2603783            SP     22    F   Branco            SP          Publica   \n",
       "3041128            GO     18    M   Branco            GO          Publica   \n",
       "\n",
       "        LINGUA_ESTR RENDA_FAMILIAR(SALARIOS) ACESSO_INTERNET   NOTA  \\\n",
       "2527191      Ingles              N (10 a 12)             Sim 850.82   \n",
       "2328495      Ingles              N (10 a 12)             Sim 846.26   \n",
       "478276       Ingles                J (6 a 7)             Sim 845.00   \n",
       "1753470      Ingles                J (6 a 7)             Sim 843.28   \n",
       "2112831      Ingles              P (15 a 20)             Sim 842.70   \n",
       "2384881      Ingles                H (4 a 5)             Sim 840.56   \n",
       "2951796      Ingles              N (10 a 12)             Sim 838.56   \n",
       "2177101      Ingles           Q (Mais de 20)             Sim 837.48   \n",
       "2603783      Ingles                J (6 a 7)             Sim 835.90   \n",
       "3041128      Ingles                K (7 a 8)             Sim 833.58   \n",
       "\n",
       "               REGIAO  \n",
       "2527191       Sudeste  \n",
       "2328495       Sudeste  \n",
       "478276       Nordeste  \n",
       "1753470      Nordeste  \n",
       "2112831  Centro-Oeste  \n",
       "2384881  Centro-Oeste  \n",
       "2951796  Centro-Oeste  \n",
       "2177101       Sudeste  \n",
       "2603783       Sudeste  \n",
       "3041128  Centro-Oeste  "
      ]
     },
     "execution_count": 81,
     "metadata": {},
     "output_type": "execute_result"
    }
   ],
   "source": [
    "enem.sort_values(by='NOTA', ascending=False).head(10)"
   ]
  },
  {
   "cell_type": "markdown",
   "id": "b3727f1d",
   "metadata": {},
   "source": [
    "* `Conclusão`: \n",
    "    * Seguindo as hipóteses apresentadas anteriormente, percebe-se que entre as 10 maiores notas, 80% são de candidatos declarados brancos. \n",
    "    * Apenas 20% são da região nordeste, e nenhum deles possui renda familiar inferior a 4 salários, com a grande maioria acima de 6 salários.\n",
    "    \n",
    "    * Podemos perceber assim o impacto que a desigualdade de renda gera no desempenho dos estudantes, desigualdade essa que vem aliada à desigualdade de cor/raça e às distribuições geográficas no Brasil. \n",
    "    * A hipótese seguida para justificar tal resultado é a dificuldade no incentivo a uma educação de qualidade vindo das parcelas da sociedade de baixa renda, com muitos necessitando mesclar estudos e trabalho ou enfrentar condições ruins de educação. \n",
    "    * Por sua vez, estudantes de famílias de mais alta renda geralmente possuem uma liberdade maior para focar nos estudos, além do acesso a uma educação de maior qualidade. Realidade essa que deve ser revista, uma vez que a dificuldade do acesso à educação apenas perpetuará essa situação de desigualdade."
   ]
  },
  {
   "cell_type": "code",
   "execution_count": 137,
   "id": "bb66627a",
   "metadata": {},
   "outputs": [
    {
     "data": {
      "text/plain": [
       "ESCOLA_ENS_MEDIO  RENDA_FAMILIAR(SALARIOS)\n",
       "Privada           A (0)                      486.75\n",
       "                  B (0 a 1)                  485.89\n",
       "                  C (1 a 1,5)                509.32\n",
       "                  D (1,5 a 2)                529.19\n",
       "                  E (2 a 2,5)                541.00\n",
       "                  F (2,5 a 3)                555.88\n",
       "                  G (3 a 4)                  565.20\n",
       "                  H (4 a 5)                  577.01\n",
       "                  I (5 a 6)                  587.98\n",
       "                  J (6 a 7)                  594.11\n",
       "                  K (7 a 8)                  598.39\n",
       "                  L (8 a 9)                  605.72\n",
       "                  M (9 a 10)                 607.39\n",
       "                  N (10 a 12)                615.11\n",
       "                  O (12 a 15)                624.10\n",
       "                  P (15 a 20)                632.50\n",
       "                  Q (Mais de 20)             643.83\n",
       "Publica           A (0)                      472.62\n",
       "                  B (0 a 1)                  483.07\n",
       "                  C (1 a 1,5)                503.66\n",
       "                  D (1,5 a 2)                522.02\n",
       "                  E (2 a 2,5)                529.49\n",
       "                  F (2,5 a 3)                545.23\n",
       "                  G (3 a 4)                  553.48\n",
       "                  H (4 a 5)                  570.16\n",
       "                  I (5 a 6)                  577.74\n",
       "                  J (6 a 7)                  589.35\n",
       "                  K (7 a 8)                  594.82\n",
       "                  L (8 a 9)                  602.11\n",
       "                  M (9 a 10)                 605.12\n",
       "                  N (10 a 12)                612.93\n",
       "                  O (12 a 15)                620.78\n",
       "                  P (15 a 20)                627.54\n",
       "                  Q (Mais de 20)             632.79\n",
       "Name: NOTA, dtype: float64"
      ]
     },
     "execution_count": 137,
     "metadata": {},
     "output_type": "execute_result"
    }
   ],
   "source": [
    "# Tipo escola vs Renda mensal familiar vs Nota final:\n",
    "enem.groupby([\"ESCOLA_ENS_MEDIO\", \"RENDA_FAMILIAR(SALARIOS)\"])['NOTA'].mean()"
   ]
  },
  {
   "cell_type": "markdown",
   "id": "b2ce42f8",
   "metadata": {},
   "source": [
    "* `Conclusão`: \n",
    "    * Quem possui maior renda, tende a apresentar notas maiores, especialmente quando estudam em colégios privados.\n",
    "    * Além disso, pessoas que possuem rendas maiores e que estudam em colégios públicos, também possuem um desempenho     *     * Um dos motivos que podem explicar esse fato, é que pessoas com maiores poderes aquisitivos possuem melhores condições e, tendem a possuir famílias mais estruturadas."
   ]
  },
  {
   "cell_type": "code",
   "execution_count": 138,
   "id": "31c200bd",
   "metadata": {},
   "outputs": [
    {
     "data": {
      "text/html": [
       "<div>\n",
       "<style scoped>\n",
       "    .dataframe tbody tr th:only-of-type {\n",
       "        vertical-align: middle;\n",
       "    }\n",
       "\n",
       "    .dataframe tbody tr th {\n",
       "        vertical-align: top;\n",
       "    }\n",
       "\n",
       "    .dataframe thead th {\n",
       "        text-align: right;\n",
       "    }\n",
       "</style>\n",
       "<table border=\"1\" class=\"dataframe\">\n",
       "  <thead>\n",
       "    <tr style=\"text-align: right;\">\n",
       "      <th></th>\n",
       "      <th>NOTA</th>\n",
       "    </tr>\n",
       "    <tr>\n",
       "      <th>REGIAO</th>\n",
       "      <th></th>\n",
       "    </tr>\n",
       "  </thead>\n",
       "  <tbody>\n",
       "    <tr>\n",
       "      <th>Sudeste</th>\n",
       "      <td>542.49</td>\n",
       "    </tr>\n",
       "    <tr>\n",
       "      <th>Sul</th>\n",
       "      <td>536.84</td>\n",
       "    </tr>\n",
       "    <tr>\n",
       "      <th>Centro-Oeste</th>\n",
       "      <td>522.65</td>\n",
       "    </tr>\n",
       "    <tr>\n",
       "      <th>Nordeste</th>\n",
       "      <td>509.43</td>\n",
       "    </tr>\n",
       "    <tr>\n",
       "      <th>Norte</th>\n",
       "      <td>496.08</td>\n",
       "    </tr>\n",
       "  </tbody>\n",
       "</table>\n",
       "</div>"
      ],
      "text/plain": [
       "               NOTA\n",
       "REGIAO             \n",
       "Sudeste      542.49\n",
       "Sul          536.84\n",
       "Centro-Oeste 522.65\n",
       "Nordeste     509.43\n",
       "Norte        496.08"
      ]
     },
     "execution_count": 138,
     "metadata": {},
     "output_type": "execute_result"
    }
   ],
   "source": [
    "# Nota final na prova por região brasileira\n",
    "enem.groupby([\"REGIAO\"])[[\"NOTA\"]].mean().sort_values(ascending = False, by = \"NOTA\")"
   ]
  },
  {
   "cell_type": "markdown",
   "id": "9a81f392",
   "metadata": {},
   "source": [
    "* `Conclusão`: \n",
    "    * A região Sudeste apresenta a maior nota final, seguida pela região Sul.\n",
    "    * Isso pode evidenciar disparidades na educação entre as regiões brasileiras.\n",
    "    * Além disso, dependendo da localidade, o acesso a educação tende a ser mais difícil, principalmente na região norte, que apresentou a menor nota."
   ]
  },
  {
   "cell_type": "code",
   "execution_count": 139,
   "id": "8b36caa2",
   "metadata": {},
   "outputs": [
    {
     "data": {
      "text/plain": [
       "REGIAO        ESCOLA_ENS_MEDIO\n",
       "Centro-Oeste  Privada            551.21\n",
       "              Publica            517.75\n",
       "Nordeste      Privada            538.43\n",
       "              Publica            505.41\n",
       "Norte         Privada            520.45\n",
       "              Publica            493.87\n",
       "Sudeste       Privada            565.32\n",
       "              Publica            537.30\n",
       "Sul           Privada            561.90\n",
       "              Publica            532.84\n",
       "Name: NOTA, dtype: float64"
      ]
     },
     "execution_count": 139,
     "metadata": {},
     "output_type": "execute_result"
    }
   ],
   "source": [
    "# Nota final na prova por região brasileira e tipo de escola:\n",
    "enem.groupby([\"REGIAO\", \"ESCOLA_ENS_MEDIO\"])['NOTA'].mean()"
   ]
  },
  {
   "cell_type": "markdown",
   "id": "1edc8506",
   "metadata": {},
   "source": [
    "* `Conclusão`: \n",
    "    * Quando analisamos as notas por região e tipo de escola, \n",
    "    * é possível verificar que, novamente, as notas de alunos de escola pública tendem a ser menores quando comparados com colégios particulares.\n",
    "    * A nota da região Sudeste segue liderando, seguido pelas regiões sul e centro-oeste."
   ]
  },
  {
   "cell_type": "markdown",
   "id": "e5837ef5",
   "metadata": {},
   "source": [
    "### Etapa 2.3 - Análise da sexo e nota final\n",
    "\n",
    "O foco desta análise será relacionar as características relacionadas ao sexo masculino e feminino que tiveram nota final do Enem 2019"
   ]
  },
  {
   "cell_type": "code",
   "execution_count": 82,
   "id": "acab5961",
   "metadata": {},
   "outputs": [
    {
     "data": {
      "text/plain": [
       "F    2930229\n",
       "M    2013989\n",
       "Name: SEXO, dtype: int64"
      ]
     },
     "execution_count": 82,
     "metadata": {},
     "output_type": "execute_result"
    }
   ],
   "source": [
    "enem.SEXO.value_counts()"
   ]
  },
  {
   "cell_type": "code",
   "execution_count": 83,
   "id": "20454099",
   "metadata": {},
   "outputs": [
    {
     "data": {
      "text/plain": [
       "59.265772666172886"
      ]
     },
     "execution_count": 83,
     "metadata": {},
     "output_type": "execute_result"
    }
   ],
   "source": [
    "fem = (2930229 / (2930229 + 2013989)) * 100\n",
    "fem"
   ]
  },
  {
   "cell_type": "code",
   "execution_count": 84,
   "id": "b543e5dc",
   "metadata": {
    "scrolled": true
   },
   "outputs": [
    {
     "data": {
      "text/plain": [
       "40.734227333827114"
      ]
     },
     "execution_count": 84,
     "metadata": {},
     "output_type": "execute_result"
    }
   ],
   "source": [
    "masc = (2013989 / (2930229 + 2013989)) * 100\n",
    "masc"
   ]
  },
  {
   "cell_type": "code",
   "execution_count": 85,
   "id": "65969f9b",
   "metadata": {},
   "outputs": [
    {
     "data": {
      "text/plain": [
       "<AxesSubplot:xlabel='SEXO', ylabel='NOTA'>"
      ]
     },
     "execution_count": 85,
     "metadata": {},
     "output_type": "execute_result"
    },
    {
     "data": {
      "image/png": "[encoded data removed]",
      "text/plain": [
       "<Figure size 432x288 with 1 Axes>"
      ]
     },
     "metadata": {
      "needs_background": "light"
     },
     "output_type": "display_data"
    }
   ],
   "source": [
    "import seaborn as sns\n",
    "\n",
    "sns.boxplot(x = 'SEXO', y = 'NOTA', data=enem)"
   ]
  },
  {
   "cell_type": "markdown",
   "id": "3d8e6a50",
   "metadata": {},
   "source": [
    "* `Conclusão`: \n",
    "    * Feminino são maioria, representando quase 60%. Enquanto masculino representam pouco mais de 40%.\n",
    "    * Masculino possui maior frequencia de notas altas comparado com feminino.\n",
    "    * A média da nota final do masculino é superior a média do feminino."
   ]
  },
  {
   "cell_type": "markdown",
   "id": "791ed2ed",
   "metadata": {},
   "source": [
    "### Etapa 2.5 - Análise da nota final do Enem 2019 por sexo e tipo de escola"
   ]
  },
  {
   "cell_type": "code",
   "execution_count": 95,
   "id": "ab646050",
   "metadata": {},
   "outputs": [
    {
     "data": {
      "text/plain": [
       "SEXO  ESCOLA_ENS_MEDIO\n",
       "F     Privada            547.32\n",
       "      Publica            514.18\n",
       "M     Privada            558.71\n",
       "      Publica            525.32\n",
       "Name: NOTA, dtype: float64"
      ]
     },
     "execution_count": 95,
     "metadata": {},
     "output_type": "execute_result"
    }
   ],
   "source": [
    "enem.groupby(['SEXO', \"ESCOLA_ENS_MEDIO\"])['NOTA'].mean()"
   ]
  },
  {
   "cell_type": "code",
   "execution_count": 96,
   "id": "4c2d2016",
   "metadata": {},
   "outputs": [
    {
     "data": {
      "text/plain": [
       "SEXO  ESCOLA_ENS_MEDIO\n",
       "F     Privada            0.00\n",
       "      Publica            0.00\n",
       "M     Privada            0.00\n",
       "      Publica            0.00\n",
       "Name: NOTA, dtype: float64"
      ]
     },
     "execution_count": 96,
     "metadata": {},
     "output_type": "execute_result"
    }
   ],
   "source": [
    "enem.groupby(['SEXO', \"ESCOLA_ENS_MEDIO\"])['NOTA'].min()"
   ]
  },
  {
   "cell_type": "code",
   "execution_count": 97,
   "id": "ec0c6de5",
   "metadata": {},
   "outputs": [
    {
     "data": {
      "text/plain": [
       "SEXO  ESCOLA_ENS_MEDIO\n",
       "F     Privada            842.70\n",
       "      Publica            835.90\n",
       "M     Privada            850.82\n",
       "      Publica            846.26\n",
       "Name: NOTA, dtype: float64"
      ]
     },
     "execution_count": 97,
     "metadata": {},
     "output_type": "execute_result"
    }
   ],
   "source": [
    "enem.groupby(['SEXO', \"ESCOLA_ENS_MEDIO\"])['NOTA'].max()"
   ]
  },
  {
   "cell_type": "code",
   "execution_count": 94,
   "id": "8d361611",
   "metadata": {},
   "outputs": [
    {
     "data": {
      "text/plain": [
       "SEXO  ESCOLA_ENS_MEDIO\n",
       "F     Privada            88.28\n",
       "      Publica            79.88\n",
       "M     Privada            88.56\n",
       "      Publica            84.49\n",
       "Name: NOTA, dtype: float64"
      ]
     },
     "execution_count": 94,
     "metadata": {},
     "output_type": "execute_result"
    }
   ],
   "source": [
    "enem.groupby(['SEXO', \"ESCOLA_ENS_MEDIO\"])['NOTA'].std()"
   ]
  },
  {
   "cell_type": "markdown",
   "id": "d677d4ce",
   "metadata": {},
   "source": [
    "* `Conclusão`: \n",
    "    * Em relação a média, percebe-se que as médias dos alunos de escolas privadas são maiores quando comparados com alunos de escolas públicas.\n",
    "    * Isso pode indicar problemas na educação.\n",
    "    * Ao olhar a maior nota, mais uma vez, os alunos de escola particular apresentaram notas maiores quando comparados com os alunos da escola pública."
   ]
  },
  {
   "cell_type": "markdown",
   "id": "495e51e2",
   "metadata": {},
   "source": [
    "### Etapa 2.6 - Análise da nota final do Enem 2019 por por sexo, cor e tipo de escola:\n"
   ]
  },
  {
   "cell_type": "code",
   "execution_count": 107,
   "id": "fd79244b",
   "metadata": {},
   "outputs": [
    {
     "data": {
      "text/plain": [
       "SEXO  COR/RACA  ESCOLA_ENS_MEDIO\n",
       "F     Amarelo   Privada            544.62\n",
       "                Publica            509.89\n",
       "      Branco    Privada            573.28\n",
       "                Publica            539.03\n",
       "      Indígena  Privada            491.81\n",
       "                Publica            471.67\n",
       "      Pardo     Privada            523.01\n",
       "                Publica            500.62\n",
       "      Preto     Privada            513.02\n",
       "                Publica            498.20\n",
       "M     Amarelo   Privada            561.33\n",
       "                Publica            526.41\n",
       "      Branco    Privada            580.18\n",
       "                Publica            548.78\n",
       "      Indígena  Privada            505.00\n",
       "                Publica            478.10\n",
       "      Pardo     Privada            539.16\n",
       "                Publica            513.07\n",
       "      Preto     Privada            524.58\n",
       "                Publica            506.89\n",
       "Name: NOTA, dtype: float64"
      ]
     },
     "execution_count": 107,
     "metadata": {},
     "output_type": "execute_result"
    }
   ],
   "source": [
    "\n",
    "enem.groupby(['SEXO', 'COR/RACA', \"ESCOLA_ENS_MEDIO\"])['NOTA'].mean()"
   ]
  },
  {
   "cell_type": "markdown",
   "id": "12730293",
   "metadata": {},
   "source": [
    " * `Conclusão`: \n",
    "    * Mais uma vez, os indígenas e pessoas da cor preta possuem as menores notas.\n",
    "    * Indivíduos de escolas particulares evidenciam as maiores notas."
   ]
  },
  {
   "cell_type": "code",
   "execution_count": 102,
   "id": "1e5120d0",
   "metadata": {
    "scrolled": true
   },
   "outputs": [
    {
     "data": {
      "text/html": [
       "<div>\n",
       "<style scoped>\n",
       "    .dataframe tbody tr th:only-of-type {\n",
       "        vertical-align: middle;\n",
       "    }\n",
       "\n",
       "    .dataframe tbody tr th {\n",
       "        vertical-align: top;\n",
       "    }\n",
       "\n",
       "    .dataframe thead th {\n",
       "        text-align: right;\n",
       "    }\n",
       "</style>\n",
       "<table border=\"1\" class=\"dataframe\">\n",
       "  <thead>\n",
       "    <tr style=\"text-align: right;\">\n",
       "      <th></th>\n",
       "      <th>NOTA</th>\n",
       "    </tr>\n",
       "    <tr>\n",
       "      <th>RENDA_FAMILIAR(SALARIOS)</th>\n",
       "      <th></th>\n",
       "    </tr>\n",
       "  </thead>\n",
       "  <tbody>\n",
       "    <tr>\n",
       "      <th>Q (Mais de 20)</th>\n",
       "      <td>637.72</td>\n",
       "    </tr>\n",
       "    <tr>\n",
       "      <th>P (15 a 20)</th>\n",
       "      <td>629.54</td>\n",
       "    </tr>\n",
       "    <tr>\n",
       "      <th>O (12 a 15)</th>\n",
       "      <td>622.02</td>\n",
       "    </tr>\n",
       "    <tr>\n",
       "      <th>N (10 a 12)</th>\n",
       "      <td>613.71</td>\n",
       "    </tr>\n",
       "    <tr>\n",
       "      <th>M (9 a 10)</th>\n",
       "      <td>605.87</td>\n",
       "    </tr>\n",
       "    <tr>\n",
       "      <th>L (8 a 9)</th>\n",
       "      <td>603.26</td>\n",
       "    </tr>\n",
       "    <tr>\n",
       "      <th>K (7 a 8)</th>\n",
       "      <td>595.84</td>\n",
       "    </tr>\n",
       "    <tr>\n",
       "      <th>J (6 a 7)</th>\n",
       "      <td>590.71</td>\n",
       "    </tr>\n",
       "    <tr>\n",
       "      <th>I (5 a 6)</th>\n",
       "      <td>580.24</td>\n",
       "    </tr>\n",
       "    <tr>\n",
       "      <th>H (4 a 5)</th>\n",
       "      <td>571.81</td>\n",
       "    </tr>\n",
       "    <tr>\n",
       "      <th>G (3 a 4)</th>\n",
       "      <td>555.57</td>\n",
       "    </tr>\n",
       "    <tr>\n",
       "      <th>F (2,5 a 3)</th>\n",
       "      <td>547.23</td>\n",
       "    </tr>\n",
       "    <tr>\n",
       "      <th>E (2 a 2,5)</th>\n",
       "      <td>531.06</td>\n",
       "    </tr>\n",
       "    <tr>\n",
       "      <th>D (1,5 a 2)</th>\n",
       "      <td>523.08</td>\n",
       "    </tr>\n",
       "    <tr>\n",
       "      <th>C (1 a 1,5)</th>\n",
       "      <td>504.22</td>\n",
       "    </tr>\n",
       "    <tr>\n",
       "      <th>B (0 a 1)</th>\n",
       "      <td>483.27</td>\n",
       "    </tr>\n",
       "    <tr>\n",
       "      <th>A (0)</th>\n",
       "      <td>473.64</td>\n",
       "    </tr>\n",
       "  </tbody>\n",
       "</table>\n",
       "</div>"
      ],
      "text/plain": [
       "                           NOTA\n",
       "RENDA_FAMILIAR(SALARIOS)       \n",
       "Q (Mais de 20)           637.72\n",
       "P (15 a 20)              629.54\n",
       "O (12 a 15)              622.02\n",
       "N (10 a 12)              613.71\n",
       "M (9 a 10)               605.87\n",
       "L (8 a 9)                603.26\n",
       "K (7 a 8)                595.84\n",
       "J (6 a 7)                590.71\n",
       "I (5 a 6)                580.24\n",
       "H (4 a 5)                571.81\n",
       "G (3 a 4)                555.57\n",
       "F (2,5 a 3)              547.23\n",
       "E (2 a 2,5)              531.06\n",
       "D (1,5 a 2)              523.08\n",
       "C (1 a 1,5)              504.22\n",
       "B (0 a 1)                483.27\n",
       "A (0)                    473.64"
      ]
     },
     "execution_count": 102,
     "metadata": {},
     "output_type": "execute_result"
    }
   ],
   "source": [
    "# Média da nota final por classe:\n",
    "\n",
    "enem.groupby([\"RENDA_FAMILIAR(SALARIOS)\"])[[\"NOTA\"]].mean().sort_values(ascending = False, by = \"NOTA\")"
   ]
  },
  {
   "cell_type": "markdown",
   "id": "2849ffc4",
   "metadata": {},
   "source": [
    " * `Conclusão`: \n",
    "    * Pessoas de classes mais altas, apresentaram as maiores médias.\n",
    "    * Isso pode evidenciar melhores condições de acesso a N fatores."
   ]
  },
  {
   "cell_type": "code",
   "execution_count": 105,
   "id": "06d4964f",
   "metadata": {},
   "outputs": [
    {
     "data": {
      "text/plain": [
       "RENDA_FAMILIAR(SALARIOS)  SEXO\n",
       "A (0)                     F      469.73\n",
       "                          M      481.47\n",
       "B (0 a 1)                 F      480.50\n",
       "                          M      488.51\n",
       "C (1 a 1,5)               F      501.37\n",
       "                          M      508.67\n",
       "D (1,5 a 2)               F      520.76\n",
       "                          M      526.07\n",
       "E (2 a 2,5)               F      529.19\n",
       "                          M      533.49\n",
       "F (2,5 a 3)               F      546.38\n",
       "                          M      548.23\n",
       "G (3 a 4)                 F      555.39\n",
       "                          M      555.79\n",
       "H (4 a 5)                 F      572.83\n",
       "                          M      570.64\n",
       "I (5 a 6)                 F      581.50\n",
       "                          M      578.82\n",
       "J (6 a 7)                 F      592.69\n",
       "                          M      588.42\n",
       "K (7 a 8)                 F      597.74\n",
       "                          M      593.70\n",
       "L (8 a 9)                 F      605.66\n",
       "                          M      600.56\n",
       "M (9 a 10)                F      607.47\n",
       "                          M      604.10\n",
       "N (10 a 12)               F      614.71\n",
       "                          M      612.61\n",
       "O (12 a 15)               F      622.64\n",
       "                          M      621.36\n",
       "P (15 a 20)               F      629.51\n",
       "                          M      629.58\n",
       "Q (Mais de 20)            F      637.39\n",
       "                          M      638.01\n",
       "Name: NOTA, dtype: float64"
      ]
     },
     "execution_count": 105,
     "metadata": {},
     "output_type": "execute_result"
    }
   ],
   "source": [
    "# Média da nota final por classe e sexo:\n",
    "\n",
    "enem.groupby([\"RENDA_FAMILIAR(SALARIOS)\", \"SEXO\"])['NOTA'].mean()"
   ]
  },
  {
   "cell_type": "markdown",
   "id": "6e107b2b",
   "metadata": {},
   "source": [
    " * `Conclusão`: \n",
    "    * Mais uma vez, rendas maiores permitem acesso a educação de melhor qualidade.\n",
    "    * As notas dos meninos e das meninas, para cada faixa de renda, são bem parecidas."
   ]
  },
  {
   "cell_type": "code",
   "execution_count": 106,
   "id": "0ae38a62",
   "metadata": {
    "scrolled": false
   },
   "outputs": [
    {
     "data": {
      "text/html": [
       "<div>\n",
       "<style scoped>\n",
       "    .dataframe tbody tr th:only-of-type {\n",
       "        vertical-align: middle;\n",
       "    }\n",
       "\n",
       "    .dataframe tbody tr th {\n",
       "        vertical-align: top;\n",
       "    }\n",
       "\n",
       "    .dataframe thead th {\n",
       "        text-align: right;\n",
       "    }\n",
       "</style>\n",
       "<table border=\"1\" class=\"dataframe\">\n",
       "  <thead>\n",
       "    <tr style=\"text-align: right;\">\n",
       "      <th></th>\n",
       "      <th>NOTA</th>\n",
       "    </tr>\n",
       "    <tr>\n",
       "      <th>ACESSO_INTERNET</th>\n",
       "      <th></th>\n",
       "    </tr>\n",
       "  </thead>\n",
       "  <tbody>\n",
       "    <tr>\n",
       "      <th>Sim</th>\n",
       "      <td>534.84</td>\n",
       "    </tr>\n",
       "    <tr>\n",
       "      <th>Nao</th>\n",
       "      <td>480.96</td>\n",
       "    </tr>\n",
       "  </tbody>\n",
       "</table>\n",
       "</div>"
      ],
      "text/plain": [
       "                  NOTA\n",
       "ACESSO_INTERNET       \n",
       "Sim             534.84\n",
       "Nao             480.96"
      ]
     },
     "execution_count": 106,
     "metadata": {},
     "output_type": "execute_result"
    }
   ],
   "source": [
    "# Média da nota final comparando candidatos que têm e os que não têm internet em casa:\n",
    "\n",
    "enem.groupby([\"ACESSO_INTERNET\"])[[\"NOTA\"]].mean().sort_values(ascending = False, by = \"NOTA\")"
   ]
  },
  {
   "cell_type": "markdown",
   "id": "574759f1",
   "metadata": {},
   "source": [
    " * `Conclusão`: \n",
    "    * Percebe-se que quem possui acesso à internet apresenta um desempenho melhor na nota.\n",
    "    * Isso pode ser explicado pelo fato de melhores condições de estudo."
   ]
  },
  {
   "cell_type": "code",
   "execution_count": null,
   "id": "839b0992",
   "metadata": {},
   "outputs": [],
   "source": [
    "# Análise de candidatos por tipo de escola e renda:\n",
    "df[[\"TIPO_ESCOLA\", \"RENDA_MENSAL_FAMILIAR\" ]].value_counts()"
   ]
  },
  {
   "cell_type": "markdown",
   "id": "d6d6ed78",
   "metadata": {
    "scrolled": true
   },
   "source": [
    "* `Conclusão`: \n",
    "    * Candidatos das classes C, D e E são maioria analisando o todo. Entre escolas públicas e privadas, notamos que as mesmas classes de escolas públicas são maioria em relação às escolas privadas."
   ]
  },
  {
   "cell_type": "markdown",
   "id": "97e310e6",
   "metadata": {},
   "source": [
    "Análises Complementares"
   ]
  },
  {
   "cell_type": "code",
   "execution_count": null,
   "id": "bf425b55",
   "metadata": {},
   "outputs": [],
   "source": [
    "# Quantidade de alunos em escolas públicas e particulares:\n",
    "df[[\"TIPO_ESCOLA\"]].value_counts()"
   ]
  },
  {
   "cell_type": "code",
   "execution_count": null,
   "id": "1a9592b1",
   "metadata": {},
   "outputs": [],
   "source": [
    "# Quantidade de alunos em escolas públicas e particulares, separados por sexo:"
   ]
  },
  {
   "cell_type": "code",
   "execution_count": null,
   "id": "a3c8e1d3",
   "metadata": {},
   "outputs": [],
   "source": [
    "df.groupby(['SEXO'])['TIPO_ESCOLA'].value_counts()"
   ]
  },
  {
   "cell_type": "code",
   "execution_count": null,
   "id": "af88d0d9",
   "metadata": {},
   "outputs": [],
   "source": [
    "# Como esperado, temos mais pessoas de escolas públicas, tanto do sexo masculino\n",
    "# quanto do sexo feminino."
   ]
  },
  {
   "cell_type": "code",
   "execution_count": null,
   "id": "8bb4128d",
   "metadata": {},
   "outputs": [],
   "source": []
  },
  {
   "cell_type": "code",
   "execution_count": null,
   "id": "45d17d5e",
   "metadata": {},
   "outputs": [],
   "source": [
    "# Análise de estudandes classe A:\n",
    "df.groupby(['TIPO_ESCOLA'])['RENDA_MENSAL_FAMILIAR'].value_counts()"
   ]
  },
  {
   "cell_type": "code",
   "execution_count": null,
   "id": "a8d12f2f",
   "metadata": {},
   "outputs": [],
   "source": [
    "# temos mais indivíduos da classe A em colégios privados\n",
    "# quanto comparados em escola pública."
   ]
  },
  {
   "cell_type": "markdown",
   "id": "4b02db4d",
   "metadata": {},
   "source": [
    "**Análise: Qual Estado possui maior quantidade de abstenções?**"
   ]
  },
  {
   "cell_type": "code",
   "execution_count": null,
   "id": "8c297c0b",
   "metadata": {},
   "outputs": [],
   "source": [
    "# criando uma cópia do df1 e selecionando apenas as linhas com \"Nota\" == NaN\n",
    "df_2 = df.copy()\n",
    "df_2 = df_2[df_2[\"NOTA\"].isna()]\n",
    "df_2"
   ]
  },
  {
   "cell_type": "code",
   "execution_count": null,
   "id": "c1fa99a8",
   "metadata": {},
   "outputs": [],
   "source": [
    "df_2 = df_2[['UF_RESIDENCIA']].value_counts()"
   ]
  },
  {
   "cell_type": "code",
   "execution_count": null,
   "id": "d3353d55",
   "metadata": {},
   "outputs": [],
   "source": [
    "df_3 = df[['UF_RESIDENCIA']].value_counts()"
   ]
  },
  {
   "cell_type": "code",
   "execution_count": null,
   "id": "9a95e9a0",
   "metadata": {},
   "outputs": [],
   "source": [
    "df_3"
   ]
  },
  {
   "cell_type": "code",
   "execution_count": null,
   "id": "cf9d8567",
   "metadata": {},
   "outputs": [],
   "source": [
    "# criando um df4 (auxiliar) para comparar totalidade vs abstenções:\n",
    "df_4 = pd.concat([df_3, df_2], axis = 1, join = \"outer\")"
   ]
  },
  {
   "cell_type": "code",
   "execution_count": null,
   "id": "0e522740",
   "metadata": {},
   "outputs": [],
   "source": [
    "df_4"
   ]
  },
  {
   "cell_type": "code",
   "execution_count": null,
   "id": "54d13581",
   "metadata": {
    "scrolled": true
   },
   "outputs": [],
   "source": [
    "# renoamenado as colunas:\n",
    "df_4.columns = [\"TOTAL_CANDIDATOS\", \"ABSTENCOES\"]\n",
    "df_4"
   ]
  },
  {
   "cell_type": "code",
   "execution_count": null,
   "id": "cf741a98",
   "metadata": {
    "scrolled": false
   },
   "outputs": [],
   "source": [
    "# calculando as abstenções em percentual:\n",
    "df_4[\"PERCENTUAL\"] = (df_4.ABSTENCOES / df_4.TOTAL_CANDIDATOS) * 100\n",
    "df_4"
   ]
  },
  {
   "cell_type": "code",
   "execution_count": null,
   "id": "1bd36cf3",
   "metadata": {},
   "outputs": [],
   "source": [
    "# ordenando descending:\n",
    "df_4[[\"PERCENTUAL\"]].sort_values(ascending = False, by = \"PERCENTUAL\")"
   ]
  },
  {
   "cell_type": "code",
   "execution_count": null,
   "id": "916025eb",
   "metadata": {},
   "outputs": [],
   "source": [
    "# calculando a média de abstenções:\n",
    "df_4[\"PERCENTUAL\"].mean()"
   ]
  },
  {
   "cell_type": "code",
   "execution_count": null,
   "id": "15a71e01",
   "metadata": {},
   "outputs": [],
   "source": [
    "# TEMOS UMA MÉDIA GERAL DE 27,72% DE ABSTENÇÕES"
   ]
  },
  {
   "cell_type": "markdown",
   "id": "4866a74a",
   "metadata": {},
   "source": [
    "**Análise: Qual Estado (residência) possui a maior nota (na média)?**"
   ]
  },
  {
   "cell_type": "code",
   "execution_count": null,
   "id": "201747bd",
   "metadata": {},
   "outputs": [],
   "source": [
    "df.groupby([\"UF_RESIDENCIA\"])[[\"NOTA\"]].mean().sort_values(ascending = False, by = \"NOTA\")"
   ]
  },
  {
   "cell_type": "markdown",
   "id": "30fdacfb",
   "metadata": {},
   "source": [
    "**Análise: Qual Estado (nascimento) possui a maior nota (na média)?**"
   ]
  },
  {
   "cell_type": "code",
   "execution_count": null,
   "id": "0bcc0854",
   "metadata": {},
   "outputs": [],
   "source": [
    "df.groupby([\"UF_NASCIMENTO\"])[[\"NOTA\"]].mean().sort_values(ascending = False, by = \"NOTA\")"
   ]
  },
  {
   "cell_type": "code",
   "execution_count": null,
   "id": "93369d03",
   "metadata": {},
   "outputs": [],
   "source": [
    "# podemos perceber que SP lidera nas duas ocasiões, com algumas alterações de posição\n",
    "# no decorrer da tabela"
   ]
  },
  {
   "cell_type": "markdown",
   "id": "3d3c7ca0",
   "metadata": {},
   "source": [
    "# 2 - ANÁLISE REMOVENDO OS NaN's"
   ]
  },
  {
   "cell_type": "markdown",
   "id": "47c9f974",
   "metadata": {},
   "source": [
    "# PARTE I"
   ]
  },
  {
   "cell_type": "code",
   "execution_count": null,
   "id": "b4de0332",
   "metadata": {},
   "outputs": [],
   "source": [
    "# Importação\n",
    "import numpy as pd\n",
    "import pandas as pd\n",
    "import pandas_profiling as pp\n",
    "import warnings"
   ]
  },
  {
   "cell_type": "code",
   "execution_count": null,
   "id": "0df1e3b8",
   "metadata": {},
   "outputs": [],
   "source": [
    "# Formatando para 2 casas após a vírgula\n",
    "pd.options.display.float_format= \"{:,.2f}\".format\n",
    "# Ignorando warnings\n",
    "warnings.filterwarnings(\"ignore\")"
   ]
  },
  {
   "cell_type": "code",
   "execution_count": null,
   "id": "58c274e8",
   "metadata": {},
   "outputs": [],
   "source": [
    "# Carregando os dados e viualizando\n",
    "df = pd.read_csv(\"MICRODADOS_ENEM_2019.csv\", encoding='latin-1', sep=\";\")\n",
    "df"
   ]
  },
  {
   "cell_type": "code",
   "execution_count": null,
   "id": "c60de7d4",
   "metadata": {},
   "outputs": [],
   "source": [
    "# Tipo\n",
    "type(df)"
   ]
  },
  {
   "cell_type": "code",
   "execution_count": null,
   "id": "b38d6a3d",
   "metadata": {},
   "outputs": [],
   "source": [
    "# Dimensões\n",
    "print(df.ndim)"
   ]
  },
  {
   "cell_type": "code",
   "execution_count": null,
   "id": "899bad63",
   "metadata": {},
   "outputs": [],
   "source": [
    "print(df.shape)"
   ]
  },
  {
   "cell_type": "code",
   "execution_count": null,
   "id": "96a7b843",
   "metadata": {},
   "outputs": [],
   "source": [
    "print(df.size)"
   ]
  },
  {
   "cell_type": "code",
   "execution_count": null,
   "id": "43818f3e",
   "metadata": {},
   "outputs": [],
   "source": [
    "# ìndice\n",
    "df.index"
   ]
  },
  {
   "cell_type": "code",
   "execution_count": null,
   "id": "c21e7ed2",
   "metadata": {},
   "outputs": [],
   "source": [
    "# Tipo de variáveis\n",
    "df.dtypes"
   ]
  },
  {
   "cell_type": "code",
   "execution_count": null,
   "id": "d3fa7878",
   "metadata": {},
   "outputs": [],
   "source": [
    "# Visualização de dados\n",
    "df.head(10)"
   ]
  },
  {
   "cell_type": "code",
   "execution_count": null,
   "id": "9a85c4bc",
   "metadata": {},
   "outputs": [],
   "source": [
    "df.tail(10)"
   ]
  },
  {
   "cell_type": "code",
   "execution_count": null,
   "id": "448749e8",
   "metadata": {},
   "outputs": [],
   "source": [
    "# Análise\n",
    "df.describe()"
   ]
  },
  {
   "cell_type": "code",
   "execution_count": null,
   "id": "0c0b66b5",
   "metadata": {},
   "outputs": [],
   "source": [
    "df.describe(include='all')"
   ]
  },
  {
   "cell_type": "code",
   "execution_count": null,
   "id": "47e6186a",
   "metadata": {},
   "outputs": [],
   "source": [
    "df.info()"
   ]
  },
  {
   "cell_type": "code",
   "execution_count": null,
   "id": "628299f7",
   "metadata": {},
   "outputs": [],
   "source": [
    "# Nome das colunas\n",
    "df.columns"
   ]
  },
  {
   "cell_type": "code",
   "execution_count": null,
   "id": "54c80b15",
   "metadata": {},
   "outputs": [],
   "source": [
    "# Verificando total de valores NA (missing) por variável\n",
    "df.isna().sum()"
   ]
  },
  {
   "cell_type": "code",
   "execution_count": null,
   "id": "583b1998",
   "metadata": {},
   "outputs": [],
   "source": [
    "# Drop de colunas que não interessam\n",
    "df.drop([\"TP_ANO_CONCLUIU\", \"IN_TREINEIRO\", \"CO_UF_NASCIMENTO\", \"SG_UF_NASCIMENTO\", \"CO_MUNICIPIO_RESIDENCIA\", \"CO_UF_RESIDENCIA\", \"CO_ESCOLA\", \"CO_UF_ESC\", \"CO_UF_PROVA\", 'NU_INSCRICAO', 'NU_ANO', 'TP_NACIONALIDADE', 'CO_MUNICIPIO_NASCIMENTO', 'NO_MUNICIPIO_NASCIMENTO', 'CO_MUNICIPIO_ESC', 'NO_MUNICIPIO_ESC', 'CO_UF_ESC', 'SG_UF_ESC', 'TP_DEPENDENCIA_ADM_ESC', 'TP_LOCALIZACAO_ESC', 'TP_SIT_FUNC_ESC', \"IN_SURDEZ\", 'IN_BAIXA_VISAO', 'IN_CEGUEIRA', \"IN_DEFICIENCIA_AUDITIVA\", \"IN_SURDO_CEGUEIRA\", \"IN_DEFICIENCIA_FISICA\", \"IN_DEFICIENCIA_MENTAL\", \"IN_DEFICIT_ATENCAO\", \"IN_DISLEXIA\", \"IN_DISCALCULIA\", \"IN_AUTISMO\", \"IN_VISAO_MONOCULAR\", \"IN_OUTRA_DEF\", \"IN_GESTANTE\", \"IN_LACTANTE\", \"IN_IDOSO\", \"IN_ESTUDA_CLASSE_HOSPITALAR\", \"IN_SEM_RECURSO\", \"IN_BRAILLE\", \"IN_AMPLIADA_24\", \"IN_AMPLIADA_18\", \"IN_LEDOR\", \"IN_ACESSO\", \"IN_TRANSCRICAO\", \"IN_LIBRAS\", \"IN_TEMPO_ADICIONAL\", \"IN_LEITURA_LABIAL\", \"IN_MESA_CADEIRA_RODAS\", \"IN_MESA_CADEIRA_SEPARADA\", \"IN_APOIO_PERNA\", \"IN_GUIA_INTERPRETE\", \"IN_COMPUTADOR\", \"IN_CADEIRA_ESPECIAL\", \"IN_CADEIRA_CANHOTO\", \"IN_CADEIRA_ACOLCHOADA\", \"IN_PROVA_DEITADO\", \"IN_MOBILIARIO_OBESO\", \"IN_LAMINA_OVERLAY\", \"IN_PROTETOR_AURICULAR\", \"IN_MEDIDOR_GLICOSE\", \"IN_MAQUINA_BRAILE\", \"IN_SOROBAN\", \"IN_MARCA_PASSO\", \"IN_SONDA\", \"IN_MEDICAMENTOS\", \"IN_SALA_INDIVIDUAL\", \"IN_SALA_ESPECIAL\", \"IN_SALA_ACOMPANHANTE\", \"IN_MOBILIARIO_ESPECIFICO\", \"IN_MATERIAL_ESPECIFICO\", \"CO_MUNICIPIO_PROVA\", \"NO_MUNICIPIO_PROVA\", \"CO_UF_PROVA\", \"CO_PROVA_CN\", \"CO_PROVA_CH\", \"CO_PROVA_LC\", \"CO_PROVA_MT\", \"TX_RESPOSTAS_CN\", \"TX_RESPOSTAS_CH\", \"TX_RESPOSTAS_LC\", \"TX_RESPOSTAS_MT\", \"TX_GABARITO_CN\", \"TX_GABARITO_CH\", \"TX_GABARITO_LC\", \"TX_GABARITO_MT\", \"NU_NOTA_COMP1\", \"NU_NOTA_COMP2\", \"NU_NOTA_COMP3\", \"NU_NOTA_COMP4\", \"NU_NOTA_COMP5\", \"Q007\", \"Q010\", \"Q011\", \"Q013\", \"Q014\", \"Q015\", \"Q016\", \"Q017\", \"Q018\", \"Q020\", \"Q021\", \"Q023\", \"TP_ENSINO\", \"TP_PRESENCA_CN\", \"TP_PRESENCA_CH\", \"TP_PRESENCA_LC\", \"TP_PRESENCA_MT\", \"TP_STATUS_REDACAO\", \"TP_ST_CONCLUSAO\"], axis=1, inplace = True)\n",
    "df\n",
    "# TP_ANO_CONCLUIU\n",
    "# IN_TREINEIRO"
   ]
  },
  {
   "cell_type": "code",
   "execution_count": null,
   "id": "ac0776e5",
   "metadata": {},
   "outputs": [],
   "source": [
    "df.memory_usage()"
   ]
  },
  {
   "cell_type": "code",
   "execution_count": null,
   "id": "58a5ef5c",
   "metadata": {},
   "outputs": [],
   "source": [
    "df.info()"
   ]
  },
  {
   "cell_type": "code",
   "execution_count": null,
   "id": "15d0ff99",
   "metadata": {},
   "outputs": [],
   "source": [
    "# Renomeando colunas\n",
    "df.columns = [ \"nom_mun_res\", \"sig_uf_res\", \"idade\", \"sexo\", \"est_civil\", \"cor\", \"tip_esc\", \"nom_social\", \"uf_esc\", \"nota_cien_nat\", \"nota_cien_hum\", \"nota_ling\", \"nota_mat\", \"idioma\", \"nota_red\", \"pai_esc\", \"mae_esc\", \"ocup_pai\", \"ocup_mae\", \"qtde_pes_casa\", \"renda_men\", \"tem_wc\", \"tem_quartos\", \"tem_geladeira\", \"tem_tv\", \"tem_cel\", \"tem_pc\", \"tem_net\"]\n",
    "df.columns\n",
    "# \"cor\", \"ano_concl_em\", \"tip_esc\"\n",
    "# \"tip_esc\", \"treino\", \"nom_social\""
   ]
  },
  {
   "cell_type": "code",
   "execution_count": null,
   "id": "4721f34f",
   "metadata": {},
   "outputs": [],
   "source": [
    "df"
   ]
  },
  {
   "cell_type": "code",
   "execution_count": null,
   "id": "4a47d8ce",
   "metadata": {},
   "outputs": [],
   "source": [
    "df.isna()"
   ]
  },
  {
   "cell_type": "code",
   "execution_count": null,
   "id": "c0f9cc42",
   "metadata": {},
   "outputs": [],
   "source": [
    "# Verificando total de valores NA (missing) por variável\n",
    "df.isna().sum()"
   ]
  },
  {
   "cell_type": "code",
   "execution_count": null,
   "id": "5eb36a13",
   "metadata": {},
   "outputs": [],
   "source": [
    "# Em idade, temos poucos valores ausentes. \n",
    "# Dessa forma, vamos verificar a média e mediana para imputar valores.\n",
    "# Optou-se pela mediana devido aos \"outliers\".\n",
    "# Além de ter poucos NAs."
   ]
  },
  {
   "cell_type": "code",
   "execution_count": null,
   "id": "2815704b",
   "metadata": {},
   "outputs": [],
   "source": [
    "df.idade.max()"
   ]
  },
  {
   "cell_type": "code",
   "execution_count": null,
   "id": "b1ef0168",
   "metadata": {},
   "outputs": [],
   "source": [
    "df.idade.min()"
   ]
  },
  {
   "cell_type": "code",
   "execution_count": null,
   "id": "862943df",
   "metadata": {},
   "outputs": [],
   "source": [
    "df.idade.mean()"
   ]
  },
  {
   "cell_type": "code",
   "execution_count": null,
   "id": "84aa55ff",
   "metadata": {},
   "outputs": [],
   "source": [
    "df.idade.median()"
   ]
  },
  {
   "cell_type": "code",
   "execution_count": null,
   "id": "7a55a2fc",
   "metadata": {},
   "outputs": [],
   "source": [
    "mediana = df.idade.median()\n",
    "media = df.idade.mean()"
   ]
  },
  {
   "cell_type": "code",
   "execution_count": null,
   "id": "3bd0ddca",
   "metadata": {},
   "outputs": [],
   "source": [
    "df['idade'].fillna(mediana, inplace = True)\n",
    "df.isna().sum()"
   ]
  },
  {
   "cell_type": "code",
   "execution_count": null,
   "id": "12f5a79d",
   "metadata": {},
   "outputs": [],
   "source": [
    "# Criando as regiões do Brasil\n",
    "df[\"regiao_br\"] = df.sig_uf_res"
   ]
  },
  {
   "cell_type": "code",
   "execution_count": null,
   "id": "2e1535ee",
   "metadata": {},
   "outputs": [],
   "source": [
    "df[\"regiao_br\"].unique()"
   ]
  },
  {
   "cell_type": "code",
   "execution_count": null,
   "id": "abf71189",
   "metadata": {},
   "outputs": [],
   "source": [
    "df.regiao_br.replace({'PR': \"sul\", 'SP': \"sudeste\", 'PA': \"norte\", 'TO': \"norte\", 'RS': \"sul\", 'AL': \"nordeste\", 'BA': \"nordeste\", 'AP': \"norte\", 'MG': \"sudeste\", 'AM': \"norte\", 'GO': \"centro-oeste\",\n",
    "       'MA': \"nordeste\", 'RJ': \"sudeste\", 'CE': \"nordeste\", 'RO': \"norte\", 'MT': \"centro-oeste\", 'PE': \"nordeste\", 'RN': \"nordeste\", 'AC': \"norte\", 'ES': \"sudeste\", 'PI': \"nordeste\", 'SE': \"nordeste\",\n",
    "       'DF': \"centro-oeste\", 'SC': \"sul\", 'PB': \"nordeste\", 'MS': \"centro-oeste\", 'RR': \"norte\"}, inplace = True)"
   ]
  },
  {
   "cell_type": "code",
   "execution_count": null,
   "id": "ceeda5a6",
   "metadata": {},
   "outputs": [],
   "source": [
    "df[\"regiao_br\"].unique()"
   ]
  },
  {
   "cell_type": "code",
   "execution_count": null,
   "id": "ba458640",
   "metadata": {},
   "outputs": [],
   "source": [
    "# Criando a nota final do Enem\n",
    "df[\"nota_final\"] = ((df.nota_red + df.nota_cien_nat + df.nota_cien_hum + df.nota_ling + df.nota_mat) / 5)\n",
    "df"
   ]
  },
  {
   "cell_type": "code",
   "execution_count": null,
   "id": "14679b45",
   "metadata": {},
   "outputs": [],
   "source": [
    "df.isna().sum()"
   ]
  },
  {
   "cell_type": "code",
   "execution_count": null,
   "id": "c7e8fa11",
   "metadata": {},
   "outputs": [],
   "source": [
    "# Verificando número de faltosos/eliminados:\n",
    "# Total de dados: 5,095,270\n",
    "# Total de nota_final = nan: 1,393,263\n",
    "# Em termos %: (1,393,263 / 5,095,270) * 100 = 27.344242797732015 %\n",
    "faltosos = (1393263 / 5095270) * 100\n",
    "faltosos"
   ]
  },
  {
   "cell_type": "code",
   "execution_count": null,
   "id": "cf2eda6d",
   "metadata": {},
   "outputs": [],
   "source": [
    "df.reset_index(inplace = True)\n",
    "df"
   ]
  },
  {
   "cell_type": "code",
   "execution_count": null,
   "id": "0e0fbe59",
   "metadata": {},
   "outputs": [],
   "source": [
    "df.drop(['index'], axis = 1, inplace = True)\n",
    "df"
   ]
  },
  {
   "cell_type": "code",
   "execution_count": null,
   "id": "3225ca0c",
   "metadata": {},
   "outputs": [],
   "source": [
    "# Agora, salvando os dados:\n",
    "# Salvando em csv\n",
    "df.to_csv('df_trabalhando_I.csv', sep=';', index=False)"
   ]
  },
  {
   "cell_type": "markdown",
   "id": "87da4345",
   "metadata": {},
   "source": [
    "# PARTE II"
   ]
  },
  {
   "cell_type": "code",
   "execution_count": null,
   "id": "cac70764",
   "metadata": {},
   "outputs": [],
   "source": [
    "# Importação\n",
    "import numpy as pd\n",
    "import pandas as pd\n",
    "import pandas_profiling as pp\n",
    "import warnings"
   ]
  },
  {
   "cell_type": "code",
   "execution_count": null,
   "id": "72ee814f",
   "metadata": {},
   "outputs": [],
   "source": [
    "# Formatando para 2 casas após a vírgula\n",
    "pd.options.display.float_format= \"{:,.2f}\".format\n",
    "# Ignorando warnings\n",
    "warnings.filterwarnings(\"ignore\")"
   ]
  },
  {
   "cell_type": "code",
   "execution_count": null,
   "id": "e3f491e7",
   "metadata": {},
   "outputs": [],
   "source": [
    "df = pd.read_csv(\"df_trabalhando_I.csv\", encoding='utf-8', sep=\";\")\n",
    "df"
   ]
  },
  {
   "cell_type": "code",
   "execution_count": null,
   "id": "a6f58bf4",
   "metadata": {},
   "outputs": [],
   "source": [
    "# Removendo linhas que não interessam:\n",
    "# Estado civil \"não informado\"\n",
    "index_names = df[df['est_civil'] == 0 ].index\n",
    "index_names\n",
    "# Deletando as linhas com esses índices do DataFrame\n",
    "df.drop(index_names , inplace=True)\n",
    "df.head(25)"
   ]
  },
  {
   "cell_type": "code",
   "execution_count": null,
   "id": "090ca7f3",
   "metadata": {},
   "outputs": [],
   "source": [
    "# Cor \"não declarado\"\n",
    "index_names = df[df['cor'] == 0 ].index\n",
    "# Deletando as linhas com esses índices do DataFrame\n",
    "df.drop(index_names , inplace=True)"
   ]
  },
  {
   "cell_type": "code",
   "execution_count": null,
   "id": "91f3daef",
   "metadata": {},
   "outputs": [],
   "source": [
    "# Tipo de escola \"não respondeu\"\n",
    "index_names = df[df['tip_esc'] == 0 ].index\n",
    "# Deletando as linhas com esses índices do DataFrame\n",
    "df.drop(index_names , inplace=True)"
   ]
  },
  {
   "cell_type": "code",
   "execution_count": null,
   "id": "c5f07cce",
   "metadata": {},
   "outputs": [],
   "source": [
    "# Escolaridade da mãe \"não sei\"\n",
    "index_names = df[df['mae_esc'] == \"H\" ].index\n",
    "# Deletando as linhas com esses índices do DataFrame\n",
    "df.drop(index_names , inplace=True)"
   ]
  },
  {
   "cell_type": "code",
   "execution_count": null,
   "id": "97b5a019",
   "metadata": {},
   "outputs": [],
   "source": [
    "# Escolaridade do pai \"não sei\"\n",
    "index_names = df[df['pai_esc'] == \"H\" ].index\n",
    "# Deletando as linhas com esses índices do DataFrame\n",
    "df.drop(index_names , inplace=True)"
   ]
  },
  {
   "cell_type": "code",
   "execution_count": null,
   "id": "fb27814b",
   "metadata": {},
   "outputs": [],
   "source": [
    "# Ocupação do pai \"não sei\"\n",
    "index_names = df[df['ocup_pai'] == \"F\" ].index\n",
    "# Deletando as linhas com esses índices do DataFrame\n",
    "df.drop(index_names , inplace=True)"
   ]
  },
  {
   "cell_type": "code",
   "execution_count": null,
   "id": "edb4621a",
   "metadata": {},
   "outputs": [],
   "source": [
    "# Ocupação da mãe \"não sei\"\n",
    "index_names = df[df['ocup_mae'] == \"F\" ].index\n",
    "# Deletando as linhas com esses índices do DataFrame\n",
    "df.drop(index_names , inplace=True)"
   ]
  },
  {
   "cell_type": "code",
   "execution_count": null,
   "id": "a17afec4",
   "metadata": {},
   "outputs": [],
   "source": [
    "# Problemático - Excluir: muitos NAs\n",
    "# Ano de conclusão do ensino médio \"não informado\"\n",
    "# index_names = df[df['ano_concl_em'] == 0 ].index\n",
    "# Deletando as linhas com esses índices do DataFrame\n",
    "# df.drop(index_names , inplace=True)"
   ]
  },
  {
   "cell_type": "code",
   "execution_count": null,
   "id": "d1e64dee",
   "metadata": {},
   "outputs": [],
   "source": [
    "# Excluindo a escolaridade incompleta dos pais\n",
    "index_names = df[df['pai_esc'] == \"B\" ].index\n",
    "# Deletando as linhas com esses índices do DataFrame\n",
    "df.drop(index_names , inplace=True)"
   ]
  },
  {
   "cell_type": "code",
   "execution_count": null,
   "id": "4e7d1f63",
   "metadata": {},
   "outputs": [],
   "source": [
    "index_names = df[df['pai_esc'] == \"C\" ].index\n",
    "# Deletando as linhas com esses índices do DataFrame\n",
    "df.drop(index_names , inplace=True)"
   ]
  },
  {
   "cell_type": "code",
   "execution_count": null,
   "id": "eff4c834",
   "metadata": {},
   "outputs": [],
   "source": [
    "index_names = df[df['mae_esc'] == \"B\" ].index\n",
    "# Deletando as linhas com esses índices do DataFrame\n",
    "df.drop(index_names , inplace=True)"
   ]
  },
  {
   "cell_type": "code",
   "execution_count": null,
   "id": "2c8cc6ec",
   "metadata": {},
   "outputs": [],
   "source": [
    "index_names = df[df['mae_esc'] == \"C\" ].index\n",
    "# Deletando as linhas com esses índices do DataFrame\n",
    "df.drop(index_names , inplace=True)"
   ]
  },
  {
   "cell_type": "code",
   "execution_count": null,
   "id": "e5b5b3ab",
   "metadata": {},
   "outputs": [],
   "source": [
    "index_names = df[df['tip_esc'] == 1 ].index\n",
    "index_names\n",
    "# Deletando as linhas com esses índices do DataFrame\n",
    "df.drop(index_names , inplace=True)"
   ]
  },
  {
   "cell_type": "code",
   "execution_count": null,
   "id": "3298ab6d",
   "metadata": {},
   "outputs": [],
   "source": [
    "# Criando classes pela renda mensal, ocupação e escolaridade (completa) dos pais\n",
    "df.renda_men.replace({'A':\"classe_E\", 'B':\"classe_E\", 'C':\"classe_E\", 'D':\"classe_E\", 'E':\"classe_D\", 'F':\"classe_D\", 'G':\"classe_D\", 'H':\"classe_C\", 'I':\"classe_C\", 'J':\"classe_C\", 'K':\"classe_C\", 'L':\"classe_C\", 'M':\"classe_C\", 'N':\"classe_B\", 'O':\"classe_B\", 'P':\"classe_B\", 'Q':\"classe_A\"}, inplace = True)\n",
    "df.ocup_mae.replace({'A':\"ocup_mae_bai_qua\", 'B':\"ocup_mae_bai_qua\", 'C':\"ocup_mae_med_qual\", 'D':\"ocup_mae_med_qual\", 'E':\"ocup_mae_alt_qual\"}, inplace = True)\n",
    "df.ocup_pai.replace({'A':\"ocup_pai_bai_qua\", 'B':\"ocup_pai_bai_qua\", 'C':\"ocup_pai_med_qual\", 'D':\"ocup_pai_med_qual\", 'E':\"ocup_pai_alt_qual\"}, inplace = True)\n",
    "df.mae_esc.replace({'A':\"mae_analf\", 'D':\"mae_fund_compl\", 'E':\"mae_med_compl\", 'F':\"mae_grad_compl\", 'G':\"mae_pos_compl\"}, inplace = True)\n",
    "df.pai_esc.replace({'A':\"pai_analf\", 'D':\"pai_fund_compl\", 'E':\"pai_med_compl\", 'F':\"pai_grad_compl\", 'G':\"pai_pos_compl\"}, inplace = True)\n",
    "df"
   ]
  },
  {
   "cell_type": "code",
   "execution_count": null,
   "id": "b2a4e8a9",
   "metadata": {},
   "outputs": [],
   "source": [
    "# Transformando diversas variáveis\n",
    "df.idioma.replace({0:\"ingles\", 1:\"espanhol\" }, inplace = True)\n",
    "# df.treino.replace({1:\"sim\", 0:\"não\" }, inplace = True)\n",
    "df.cor.replace({1:\"branca\", 2:\"preta\", 3: \"parda\",  4: \"amarela\", 5: \"indígena\"}, inplace = True)\n",
    "df.est_civil.replace({1:\"solteiro\", 2:\"casado\", 3: \"separado\",  4: \"viúvo\"}, inplace = True)\n",
    "df.nom_social.replace({1:\"sim\", 0:\"não\"}, inplace = True)\n",
    "df.tip_esc.replace({2:\"pública\", 3:\"privada\", 4: \"exterior\"}, inplace = True)\n",
    "df"
   ]
  },
  {
   "cell_type": "code",
   "execution_count": null,
   "id": "b105a183",
   "metadata": {},
   "outputs": [],
   "source": [
    "# Transformando mais variáveis\n",
    "df.tem_net.replace({'A':0, 'B':1}, inplace = True)\n",
    "df.tem_pc.replace({'A':0, 'B':1, 'C':1, 'D':1, 'E':1}, inplace = True)\n",
    "df.tem_cel.replace({'A':0, 'B':1, 'C':1, 'D':1, 'E':1}, inplace = True)\n",
    "df.tem_tv.replace({'A':0, 'B':1, 'C':1, 'D':1, 'E':1}, inplace = True)\n",
    "df.tem_geladeira.replace({'A':0, 'B':1, 'C':1, 'D':1, 'E':1}, inplace = True)\n",
    "df.tem_quartos.replace({'A':0, 'B':1, 'C':1, 'D':1, 'E':1}, inplace = True)\n",
    "df.tem_wc.replace({'A':0, 'B':1, 'C':1, 'D':1, 'E':1}, inplace = True)\n",
    "df"
   ]
  },
  {
   "cell_type": "code",
   "execution_count": null,
   "id": "2055b853",
   "metadata": {},
   "outputs": [],
   "source": [
    "df.tem_net.replace({0: \"não\", 1: \"sim\"}, inplace = True)\n",
    "df.tem_pc.replace({0: \"não\", 1: \"sim\"}, inplace = True)\n",
    "df.tem_cel.replace({0: \"não\", 1: \"sim\"}, inplace = True)\n",
    "df.tem_tv.replace({0: \"não\", 1: \"sim\"}, inplace = True)\n",
    "df.tem_geladeira.replace({0: \"não\", 1: \"sim\"}, inplace = True)\n",
    "df.tem_quartos.replace({0: \"não\", 1: \"sim\"}, inplace = True)\n",
    "df.tem_wc.replace({0: \"não\", 1: \"sim\"}, inplace = True)\n",
    "df"
   ]
  },
  {
   "cell_type": "code",
   "execution_count": null,
   "id": "87084b11",
   "metadata": {},
   "outputs": [],
   "source": [
    "df.isna().sum()"
   ]
  },
  {
   "cell_type": "code",
   "execution_count": null,
   "id": "783f86b2",
   "metadata": {},
   "outputs": [],
   "source": [
    "# Dropando valores NAs (linhas)\n",
    "df.dropna(axis = 0, inplace = True)\n",
    "df"
   ]
  },
  {
   "cell_type": "code",
   "execution_count": null,
   "id": "4f97c5d6",
   "metadata": {},
   "outputs": [],
   "source": [
    "df.isna().sum()"
   ]
  },
  {
   "cell_type": "code",
   "execution_count": null,
   "id": "f4f525c2",
   "metadata": {},
   "outputs": [],
   "source": [
    "df.reset_index(inplace = True)\n",
    "df"
   ]
  },
  {
   "cell_type": "code",
   "execution_count": null,
   "id": "0e4442ea",
   "metadata": {},
   "outputs": [],
   "source": [
    "df.drop(['index'], axis = 1, inplace = True)\n",
    "df"
   ]
  },
  {
   "cell_type": "code",
   "execution_count": null,
   "id": "2e308562",
   "metadata": {},
   "outputs": [],
   "source": [
    "# Agora, salvando os dados:\n",
    "# Salvando em csv\n",
    "df.to_csv('df_trabalhando_II.csv', sep=';', index=False)"
   ]
  },
  {
   "cell_type": "markdown",
   "id": "572c264c",
   "metadata": {},
   "source": [
    "# PARTE III"
   ]
  },
  {
   "cell_type": "markdown",
   "id": "a9f763be",
   "metadata": {},
   "source": [
    "Análises."
   ]
  },
  {
   "cell_type": "code",
   "execution_count": null,
   "id": "ba1c2fa5",
   "metadata": {},
   "outputs": [],
   "source": [
    "# Importação\n",
    "import numpy as pd\n",
    "import pandas as pd\n",
    "import pandas_profiling as pp\n",
    "import warnings"
   ]
  },
  {
   "cell_type": "code",
   "execution_count": null,
   "id": "b3e5c911",
   "metadata": {},
   "outputs": [],
   "source": [
    "# Formatando para 2 casas após a vírgula\n",
    "pd.options.display.float_format= \"{:,.2f}\".format\n",
    "# Ignorando warnings\n",
    "warnings.filterwarnings(\"ignore\")"
   ]
  },
  {
   "cell_type": "code",
   "execution_count": null,
   "id": "baa12331",
   "metadata": {},
   "outputs": [],
   "source": [
    "df = pd.read_csv(\"df_trabalhando_II.csv\", encoding='utf-8', sep=\";\")\n",
    "df"
   ]
  },
  {
   "cell_type": "code",
   "execution_count": null,
   "id": "eb02d91c",
   "metadata": {},
   "outputs": [],
   "source": [
    "df.corr()"
   ]
  },
  {
   "cell_type": "code",
   "execution_count": null,
   "id": "2c38bdcc",
   "metadata": {},
   "outputs": [],
   "source": [
    "# Por mais que algumas variáveis possam estar correlacionadas com outras, como a intenção é \n",
    "# realizar uma análise exploratória, não tem problema em ter \"resultados\" parecidos."
   ]
  },
  {
   "cell_type": "code",
   "execution_count": null,
   "id": "525ce34c",
   "metadata": {},
   "outputs": [],
   "source": [
    "pp.ProfileReport(df, explorative=True)"
   ]
  },
  {
   "cell_type": "code",
   "execution_count": null,
   "id": "257c77f7",
   "metadata": {},
   "outputs": [],
   "source": [
    "df"
   ]
  },
  {
   "cell_type": "code",
   "execution_count": null,
   "id": "eb1962f9",
   "metadata": {},
   "outputs": [],
   "source": [
    "df.isna().sum()"
   ]
  },
  {
   "cell_type": "code",
   "execution_count": null,
   "id": "b73284ea",
   "metadata": {},
   "outputs": [],
   "source": [
    "df.info()"
   ]
  },
  {
   "cell_type": "code",
   "execution_count": null,
   "id": "738f7124",
   "metadata": {},
   "outputs": [],
   "source": [
    "# Quantidade de pessoas do sexo masculino e feminino que tiveram nota final do Enem 2019\n",
    "\n",
    "# Pessoas do sexo feminino são maioria, representando quase 56%;\n",
    "# Enquanto indivíduos do sexo masculino representam pouco mais de 44%."
   ]
  },
  {
   "cell_type": "code",
   "execution_count": null,
   "id": "4b40e62d",
   "metadata": {},
   "outputs": [],
   "source": [
    "df.sexo.value_counts()"
   ]
  },
  {
   "cell_type": "code",
   "execution_count": null,
   "id": "a4f942ae",
   "metadata": {},
   "outputs": [],
   "source": [
    "fem = (295808 / (295808 + 235827)) * 100\n",
    "fem"
   ]
  },
  {
   "cell_type": "code",
   "execution_count": null,
   "id": "d372a7c7",
   "metadata": {},
   "outputs": [],
   "source": [
    "masc = (235827 / (295808 + 235827)) * 100\n",
    "masc"
   ]
  },
  {
   "cell_type": "code",
   "execution_count": null,
   "id": "c62167bd",
   "metadata": {},
   "outputs": [],
   "source": [
    "# Média de idade\n",
    "\n",
    "# Média de idades das pessoas que fizeram Enem em 2019 é de 17,69 anos."
   ]
  },
  {
   "cell_type": "code",
   "execution_count": null,
   "id": "5d82aba7",
   "metadata": {},
   "outputs": [],
   "source": [
    "df.idade.mean()"
   ]
  },
  {
   "cell_type": "code",
   "execution_count": null,
   "id": "b550b06c",
   "metadata": {},
   "outputs": [],
   "source": [
    "# Média de idade por sexo:\n",
    "\n",
    "# Idades médias muito próximas (meninos (17,72) e meninas (17,67))."
   ]
  },
  {
   "cell_type": "code",
   "execution_count": null,
   "id": "a8bb905a",
   "metadata": {},
   "outputs": [],
   "source": [
    "df.groupby(['sexo']).idade.mean()"
   ]
  },
  {
   "cell_type": "code",
   "execution_count": null,
   "id": "aa11e264",
   "metadata": {},
   "outputs": [],
   "source": []
  },
  {
   "cell_type": "code",
   "execution_count": null,
   "id": "e001b739",
   "metadata": {},
   "outputs": [],
   "source": [
    "# Média de idade por sexo, cor e tipo de escola:\n",
    "\n",
    "# Tanto pessoas do sexo feminino, quanto masculino, \n",
    "# percebe-se que entre os índigenas e pessoas pretas possuem \n",
    "# média de idade maior.\n",
    "# Isso pode indicar algum tipo de dificuldade de acesso a educação e \n",
    "# melhores qualidades de vida por # parte dessas pessoas e, talvez, \n",
    "# até algum tipo de discriminação (podendo ser vividas por ele ou por seus ascendentes)."
   ]
  },
  {
   "cell_type": "code",
   "execution_count": null,
   "id": "8d1c326f",
   "metadata": {},
   "outputs": [],
   "source": [
    "df.groupby(['sexo', \"cor\", \"tip_esc\"]).idade.mean()"
   ]
  },
  {
   "cell_type": "code",
   "execution_count": null,
   "id": "7ad83f8d",
   "metadata": {},
   "outputs": [],
   "source": [
    "# Nota final do Enem 2019 por sexo e tipo de escola:\n",
    "\n",
    "# Em relação a média, percebe-se que as médias dos alunos de escolas privadas\n",
    "# são maiores quando comparados com alunos de escolas públicas.\n",
    "# Isso pode indicar problemas na educação.\n",
    "\n",
    "# Quando olhamos para a menor nota dos alunos, novamente\n",
    "# os discentes da escola particular possuem notas maiores.\n",
    "# Novamente, pode indicar problemas na educação.\n",
    "\n",
    "# Ao olhar a maior nota, mais uma vez, os alunos de escola particular\n",
    "# apresentaram notas maiores quando comparados com os alunos da escola pública.\n",
    "# Vale ressaltar que, entre os meninos, essa diferença foi bem menor, quando \n",
    "# comparado com as meninas.\n",
    "\n",
    "# Já o desvio padrão evidencia que existe uma maior variabilidade das notas\n",
    "# dos alunos da escola pública (ao se comparar com discentes de escolas particulares)."
   ]
  },
  {
   "cell_type": "code",
   "execution_count": null,
   "id": "370caadb",
   "metadata": {},
   "outputs": [],
   "source": [
    "df.groupby(['sexo', \"tip_esc\"])['nota_final'].mean()"
   ]
  },
  {
   "cell_type": "code",
   "execution_count": null,
   "id": "d033e8d6",
   "metadata": {},
   "outputs": [],
   "source": [
    "df.groupby(['sexo', \"tip_esc\"])['nota_final'].min()"
   ]
  },
  {
   "cell_type": "code",
   "execution_count": null,
   "id": "fd9b00f3",
   "metadata": {},
   "outputs": [],
   "source": [
    "df.groupby(['sexo', \"tip_esc\"])['nota_final'].max()"
   ]
  },
  {
   "cell_type": "code",
   "execution_count": null,
   "id": "c2dfbeb9",
   "metadata": {},
   "outputs": [],
   "source": [
    "df.groupby(['sexo', \"tip_esc\"])['nota_final'].std()"
   ]
  },
  {
   "cell_type": "code",
   "execution_count": null,
   "id": "2e45b377",
   "metadata": {},
   "outputs": [],
   "source": [
    "# Nota final do Enem 2019 por sexo, cor e tipo de escola:\n",
    "\n",
    "# Mais uma vez, os indígenas e pessoas da cor preta possuem as menores notas.\n",
    "# Indivíduos de escolas particulares evidenciam as maiores notas."
   ]
  },
  {
   "cell_type": "code",
   "execution_count": null,
   "id": "ff467349",
   "metadata": {},
   "outputs": [],
   "source": [
    "df.groupby(['sexo', 'cor', \"tip_esc\"])['nota_final'].mean()"
   ]
  },
  {
   "cell_type": "code",
   "execution_count": null,
   "id": "a10fb970",
   "metadata": {},
   "outputs": [],
   "source": [
    "# Média da nota final por classe:\n",
    "\n",
    "# Pessoas de classes mais altas, apresentaram as maiores médias.\n",
    "# Isso pode evidenciar melhores condições de acesso a n fatores."
   ]
  },
  {
   "cell_type": "code",
   "execution_count": null,
   "id": "8c0e7b6d",
   "metadata": {},
   "outputs": [],
   "source": [
    "df.groupby([\"renda_men\"])['nota_final'].mean()"
   ]
  },
  {
   "cell_type": "code",
   "execution_count": null,
   "id": "4ba1bf0c",
   "metadata": {},
   "outputs": [],
   "source": [
    "# Média da nota final por classe e sexo:\n",
    "\n",
    "# Mais uma vez, rendas maiores permitem acesso a educação de melhor qualidade.\n",
    "# As notas dos meninos e das meninas, para cada faixa de renda, são bem parecidas."
   ]
  },
  {
   "cell_type": "code",
   "execution_count": null,
   "id": "c6c04d54",
   "metadata": {},
   "outputs": [],
   "source": [
    "df.groupby([\"renda_men\", \"sexo\"])['nota_final'].mean()"
   ]
  },
  {
   "cell_type": "code",
   "execution_count": null,
   "id": "32764167",
   "metadata": {},
   "outputs": [],
   "source": [
    "# Desagregando por notas\n",
    "# Nota média por prova do Enem 2019 por sexo e tipo de escola:\n",
    "\n",
    "# Mais uma vez, verificou-se que as notas dos alunos de escolas privadas são maiores\n",
    "# que a dos alunos de escola públicas.\n",
    "# Isso corrobora com as análises anteriores."
   ]
  },
  {
   "cell_type": "code",
   "execution_count": null,
   "id": "d5ed840f",
   "metadata": {},
   "outputs": [],
   "source": [
    "df.groupby(['sexo', \"tip_esc\"])['nota_red', \"nota_cien_nat\", \"nota_cien_hum\", \"nota_ling\", \"nota_mat\"].mean()"
   ]
  },
  {
   "cell_type": "code",
   "execution_count": null,
   "id": "63abb1f9",
   "metadata": {},
   "outputs": [],
   "source": [
    "# Considerando acesso a lazer, saneamento, local adequado para dormir e acesso a geladeira,\n",
    "# na nota média final do Enem 2019.\n",
    "\n",
    "# Percebeu-se que quem possui acesso a esses itens, apresenta um desempenho melhor na nota.\n",
    "# Isso pode ser explicado pelo fato de uma melhor qualidade de vida, além de contribuir \n",
    "# para o capital humano."
   ]
  },
  {
   "cell_type": "code",
   "execution_count": null,
   "id": "ad046b15",
   "metadata": {},
   "outputs": [],
   "source": [
    "df.groupby([\"tem_wc\"])['nota_final'].mean()"
   ]
  },
  {
   "cell_type": "code",
   "execution_count": null,
   "id": "fcd2191c",
   "metadata": {},
   "outputs": [],
   "source": [
    "df.groupby([\"tem_quartos\"])['nota_final'].mean()"
   ]
  },
  {
   "cell_type": "code",
   "execution_count": null,
   "id": "b54d6b7f",
   "metadata": {},
   "outputs": [],
   "source": [
    "df.groupby([\"tem_geladeira\"])['nota_final'].mean()"
   ]
  },
  {
   "cell_type": "code",
   "execution_count": null,
   "id": "a98bf30c",
   "metadata": {},
   "outputs": [],
   "source": [
    "df.groupby([\"tem_tv\"])['nota_final'].mean()"
   ]
  },
  {
   "cell_type": "code",
   "execution_count": null,
   "id": "dce9c4e4",
   "metadata": {},
   "outputs": [],
   "source": [
    "df.groupby([\"tem_cel\"])['nota_final'].mean()"
   ]
  },
  {
   "cell_type": "code",
   "execution_count": null,
   "id": "698c8501",
   "metadata": {},
   "outputs": [],
   "source": [
    "df.groupby([ \"tem_pc\"])['nota_final'].mean()"
   ]
  },
  {
   "cell_type": "code",
   "execution_count": null,
   "id": "4ead51c8",
   "metadata": {},
   "outputs": [],
   "source": [
    "df.groupby([\"tem_net\"])['nota_final'].mean()"
   ]
  },
  {
   "cell_type": "code",
   "execution_count": null,
   "id": "48d8aac9",
   "metadata": {},
   "outputs": [],
   "source": [
    "df.groupby([\"tem_pc\", \"tem_net\"])['nota_final'].mean()"
   ]
  },
  {
   "cell_type": "code",
   "execution_count": null,
   "id": "57230f0b",
   "metadata": {},
   "outputs": [],
   "source": [
    "df.groupby([\"tem_cel\", \"tem_net\"])['nota_final'].mean()"
   ]
  },
  {
   "cell_type": "code",
   "execution_count": null,
   "id": "09d9f921",
   "metadata": {},
   "outputs": [],
   "source": [
    "# Ocupação dos pais e a nota final\n",
    "\n",
    "# Comparando a ocupação dos pais, levando em consideração o seu nível educacional,\n",
    "# é possível verificar que, quanto maior a escolaridade da mãe, maior tende a ser\n",
    "# o desempenho dos filhos na nota do Enem.\n",
    "# Isso pode ser explicado pelo fato das mães incentivarem mais os filhos no campo\n",
    "# educacional.\n",
    "# Além disso, utilizar a escolaridade da mãe como proxy para a escolaridade dos\n",
    "# filhos, é uma prática muito utilizada nas pesquisas científicas. "
   ]
  },
  {
   "cell_type": "code",
   "execution_count": null,
   "id": "a3b278c1",
   "metadata": {},
   "outputs": [],
   "source": [
    "df.groupby([\"ocup_pai\"])['nota_final'].mean()"
   ]
  },
  {
   "cell_type": "code",
   "execution_count": null,
   "id": "1bbd54ef",
   "metadata": {},
   "outputs": [],
   "source": [
    "df.groupby([\"ocup_mae\"])['nota_final'].mean()"
   ]
  },
  {
   "cell_type": "code",
   "execution_count": null,
   "id": "c8749ffe",
   "metadata": {},
   "outputs": [],
   "source": [
    "# Nome social e nota do final\n",
    "\n",
    "# Uma pessoa que adota o nome social, a chance dela ter sofrido algum tipo de \n",
    "# bullying na escola deve ter sido grande.\n",
    "# Dessa forma, quando a pessoa adota o nome social, a mesma tende a se sentir melhor,\n",
    "# um sentimento de pertencimento, pois agora ela começa a ser vista como ela desejou ser.\n",
    "# Psicologicamente, a adoção desse nome social, permite uma espécie de ânimo\n",
    "# para a pessoa e, por isso, ela tende a fazer uma prova melhor.\n",
    "# O mesmo ocorre quando desagregamos a nota final por tipo de prova."
   ]
  },
  {
   "cell_type": "code",
   "execution_count": null,
   "id": "68d16224",
   "metadata": {},
   "outputs": [],
   "source": [
    "df.groupby([\"nom_social\"])['nota_final'].mean()"
   ]
  },
  {
   "cell_type": "code",
   "execution_count": null,
   "id": "172097e8",
   "metadata": {},
   "outputs": [],
   "source": [
    "df.groupby([\"nom_social\"])['nota_red', \"nota_cien_nat\", \"nota_cien_hum\", \"nota_ling\", \"nota_mat\"].mean()"
   ]
  },
  {
   "cell_type": "code",
   "execution_count": null,
   "id": "42ab62b9",
   "metadata": {},
   "outputs": [],
   "source": [
    "# Quem possui maior renda, tende a apresentar notas maiores,\n",
    "# especialmente quando estudam em colégios privados.\n",
    "# Além disso, pessoas que possuem rendas maiores e que estudam \n",
    "# em colégios públicos, também possuem um desempenho melhor,\n",
    "# quando comparados com demais alunos de colégios públicos.\n",
    "# Um dos motivos que podem explicar esse fato, é que pessoas\n",
    "# com maiores poderes aquisitivos possuem melhores condições e, tendem\n",
    "# a possuir famílias mais estruturadas."
   ]
  },
  {
   "cell_type": "code",
   "execution_count": null,
   "id": "b66d5694",
   "metadata": {},
   "outputs": [],
   "source": [
    "df.groupby([\"tip_esc\", \"renda_men\"])['nota_final'].mean()"
   ]
  },
  {
   "cell_type": "code",
   "execution_count": null,
   "id": "570c1239",
   "metadata": {},
   "outputs": [],
   "source": [
    "# Nota final na prova por região brasileira\n",
    "\n",
    "# A região Sudeste apresenta a maior nota final, seguida pela região Sul.\n",
    "# Isso pode evidenciar disparidades na educação entre as regiões brasileiras.\n",
    "# Além disso, dependendo da localidade, o acesso a educação\n",
    "# tende a ser mais difícil, principalmente na região norte,\n",
    "# que apresentou a menor nota."
   ]
  },
  {
   "cell_type": "code",
   "execution_count": null,
   "id": "cf4bcc47",
   "metadata": {},
   "outputs": [],
   "source": [
    "df.groupby([\"regiao_br\"])['nota_final'].mean()"
   ]
  },
  {
   "cell_type": "code",
   "execution_count": null,
   "id": "98a3ea00",
   "metadata": {},
   "outputs": [],
   "source": [
    "# Quando analisamos as notas por região e tipo de escola, \n",
    "# é possível verificar que, novamente, as notas de alunos\n",
    "# de escola pública tendem a ser menores quando comparados com colégios particulares.\n",
    "# Porém, agora, a nota da região centro-oeste torna-se maior, seguidos\n",
    "# pelas regiões sul e sudeste - notas muito próximas."
   ]
  },
  {
   "cell_type": "code",
   "execution_count": null,
   "id": "0d8e0f58",
   "metadata": {},
   "outputs": [],
   "source": [
    "df.groupby([\"regiao_br\", \"tip_esc\"])['nota_final'].mean()"
   ]
  },
  {
   "cell_type": "code",
   "execution_count": null,
   "id": "53c69370",
   "metadata": {},
   "outputs": [],
   "source": [
    "# Língua estrangeira escolhida:"
   ]
  },
  {
   "cell_type": "code",
   "execution_count": null,
   "id": "79ec3c62",
   "metadata": {},
   "outputs": [],
   "source": [
    "df[[\"idioma\" ]].value_counts()"
   ]
  },
  {
   "cell_type": "code",
   "execution_count": null,
   "id": "a1bde1fb",
   "metadata": {},
   "outputs": [],
   "source": [
    "# Temos uma maior quantidade de pessoas realizando a prova de inglês,\n",
    "# quando comparado com o espanhol."
   ]
  },
  {
   "cell_type": "code",
   "execution_count": null,
   "id": "cff7a18f",
   "metadata": {},
   "outputs": [],
   "source": [
    "# Candidatos das classes C, D e E são maioria analisando o todo. Entre escolas públicas e privadas,\n",
    "# notamos que as mesmas classes de escolas públicas são maioria em relação às escolas privadas."
   ]
  },
  {
   "cell_type": "code",
   "execution_count": null,
   "id": "bd63b1d9",
   "metadata": {},
   "outputs": [],
   "source": [
    "df[[\"sexo\", \"tip_esc\", \"renda_men\" ]].value_counts()"
   ]
  },
  {
   "cell_type": "code",
   "execution_count": null,
   "id": "ca6cb8fe",
   "metadata": {},
   "outputs": [],
   "source": [
    "# Como esperado, temos mais pessoas solteiras fazendo a prova.\n",
    "# Isso ainda é corroborado pela idade média."
   ]
  },
  {
   "cell_type": "code",
   "execution_count": null,
   "id": "6fd6ef9d",
   "metadata": {},
   "outputs": [],
   "source": [
    "df[[\"est_civil\" ]].value_counts()"
   ]
  },
  {
   "cell_type": "code",
   "execution_count": null,
   "id": "97fa9ece",
   "metadata": {},
   "outputs": [],
   "source": [
    "# Quantidade de candidatos vindos de escolas públicas vs escolas privadas"
   ]
  },
  {
   "cell_type": "code",
   "execution_count": null,
   "id": "32656e89",
   "metadata": {},
   "outputs": [],
   "source": [
    "df[[\"tip_esc\" ]].value_counts()"
   ]
  },
  {
   "cell_type": "code",
   "execution_count": null,
   "id": "810f6df0",
   "metadata": {},
   "outputs": [],
   "source": [
    "# Quantidade de alunos em escolas públicas, separados por sexo:\n",
    "\n",
    "# Como esperado, temos mais pessoas de escolas públicas, tanto do sexo masculino\n",
    "# quanto do sexo feminino."
   ]
  },
  {
   "cell_type": "code",
   "execution_count": null,
   "id": "8fd655f9",
   "metadata": {},
   "outputs": [],
   "source": [
    "df.groupby(['sexo'])['tip_esc'].value_counts()"
   ]
  },
  {
   "cell_type": "code",
   "execution_count": null,
   "id": "322b3243",
   "metadata": {},
   "outputs": [],
   "source": [
    "# Também esperado, existem mais pessoas de classe mais baixa, quando comparado com classes \n",
    "# mais altas."
   ]
  },
  {
   "cell_type": "code",
   "execution_count": null,
   "id": "5a5a5d68",
   "metadata": {},
   "outputs": [],
   "source": [
    "df.groupby(['sexo'])['renda_men'].value_counts()"
   ]
  },
  {
   "cell_type": "code",
   "execution_count": null,
   "id": "7aac61c9",
   "metadata": {},
   "outputs": [],
   "source": [
    "# Em porcentagem:"
   ]
  },
  {
   "cell_type": "code",
   "execution_count": null,
   "id": "5ee37b26",
   "metadata": {},
   "outputs": [],
   "source": [
    "pes_e = ((93761 + 137568 ) / 531635) * 100\n",
    "pes_d = ((62561 + 75585 ) / 531635) * 100\n",
    "pes_c = ((53607 + 57628 ) / 531635) * 100\n",
    "pes_b = ((18038 + 18035 ) / 531635) * 100\n",
    "pes_a = ((7860 + 6992 ) / 531635) * 100\n",
    "print(pes_e, pes_d, pes_c, pes_b, pes_a)\n",
    "\n",
    "43.5127484082124 + 25.98512137086535 + 20.923189782463535 + 6.785294421924817 + 2.7936460165339003\n"
   ]
  },
  {
   "cell_type": "code",
   "execution_count": null,
   "id": "8fd88cd3",
   "metadata": {},
   "outputs": [],
   "source": [
    "# Em termos percentuais, temos mais indivíduos da classe A em colégios privados\n",
    "# quanto comparados em escola pública."
   ]
  },
  {
   "cell_type": "code",
   "execution_count": null,
   "id": "c71d50e4",
   "metadata": {},
   "outputs": [],
   "source": [
    "df.groupby(['tip_esc'])['renda_men'].value_counts()"
   ]
  },
  {
   "cell_type": "code",
   "execution_count": null,
   "id": "08f4a403",
   "metadata": {},
   "outputs": [],
   "source": []
  },
  {
   "cell_type": "markdown",
   "id": "3ff3bd07",
   "metadata": {},
   "source": [
    "Considerações finais da análise sem os NA's"
   ]
  },
  {
   "cell_type": "markdown",
   "id": "51d1e994",
   "metadata": {},
   "source": [
    "Vale lembrar que as análises apresentadas não indicam causalidade.\n",
    "Aqui, foram criados classes, com base na renda. Dessa forma, quanto maior a classe social do aluno, maior tende a ser a nota final desse aluno. Isso pode evidenciar melhores condições de acesso a n fatores.\n",
    "Muito se fala de capital humano e sua importância. \n",
    "Porém, ao se falar em capital humano, a maioria das pessoas só lembram da educação. Mas, vale ressaltar que Saúde também é uma categoria de capital humano.\n",
    "Sendo assim, a ideia é usar, tanto educação, quanto saúde, nas análises – variáveis essas, que foram criadas a partir do nosso banco de dados.\n",
    "Na parte da saúde, considerando saneamento, geladeira e sono, todos dando uma qualidade de vida, nos dizem que:\n",
    "Alunos que possuem acesso a banheiro (saneamento) tendem a apresentar uma nota final no enem maior; o mesmo vale para a presença de quartos (melhor qualidade de sono) na casa e de geladeira (acondicionar alimentos e uma melhor alimentação); \n",
    "Também foi considerado a ideia do lazer e acesso a informação: presença de TV, celular, internet e computador, pessoas que possuem acesso a isso, também apresentaram nota final maior.\n",
    "Agora, falando em educação, foi criado variáveis do tipo de ocupação dos pais, separadas em alto, média e baixa, considerando os níveis de educação dos pais. Observou-se que quanto maior o nível educacional dos pais, maior tende ser a nota final do aluno.\n",
    "Vale ressaltar que a educação da mãe é utilizada como proxy da educação dos filhos, pois tendem a incentivar mais os filhos na área educacional. Isso é interessante, pois esses alunos estão em idade economicamente ativa e, sabe-se que, quanto maior a educação, maior tende a ser a produtividade do indivíduo e, consequentemente, maior tende ser a contribuição desse indivíduo no PIB do país - e poderá auferir rendimentos maiores.\n",
    "Agora, por fim, verificou-se o uso do nome social e a nota final. Observou-se que quem adotou o nome social apresentou uma nota maior. Isso pode ser explicado pelo sentimento do pertencimento dessa pessoa. \n"
   ]
  },
  {
   "cell_type": "code",
   "execution_count": null,
   "id": "d21810f1",
   "metadata": {},
   "outputs": [],
   "source": []
  }
 ],
 "metadata": {
  "kernelspec": {
   "display_name": "Python 3",
   "language": "python",
   "name": "python3"
  },
  "language_info": {
   "codemirror_mode": {
    "name": "ipython",
    "version": 3
   },
   "file_extension": ".py",
   "mimetype": "text/x-python",
   "name": "python",
   "nbconvert_exporter": "python",
   "pygments_lexer": "ipython3",
   "version": "3.8.8"
  }
 },
 "nbformat": 4,
 "nbformat_minor": 5
}
