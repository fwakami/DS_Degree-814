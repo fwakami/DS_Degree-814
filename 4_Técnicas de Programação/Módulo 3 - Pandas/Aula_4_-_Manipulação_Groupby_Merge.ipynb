{
 "cells": [
  {
   "cell_type": "markdown",
   "metadata": {},
   "source": [
    "## Exercícios"
   ]
  },
  {
   "cell_type": "markdown",
   "metadata": {},
   "source": [
    "1. Considere a existência de três tabelas distintas:\n",
    "* customer.csv : Possui a informação dos clientes em duas colunas: customer id  customer name\n",
    "* products.csv : Conté informação dos produtos vendidos pela empresa em três colunas - p_id (product id), product (name) e price\n",
    "* sales.csv : Contém informações das vendas realizadas em seis colunas - sale_id, c_id (customer id), p_id (product_id), qty (quantity sold), store (name)\n",
    "\n",
    "Conhecendo as bases e utilizando os métodos de concatenação de bases responda:\n"
   ]
  },
  {
   "cell_type": "markdown",
   "metadata": {},
   "source": [
    "a) Quais produtos não foram vendidos?"
   ]
  },
  {
   "cell_type": "code",
   "execution_count": null,
   "metadata": {},
   "outputs": [],
   "source": [
    "import pandas as pd \n",
    "sales = pd.read_csv(\"data/sales.csv\") \n",
    "products = pd.read_csv(\"data/products.csv\") \n",
    "\n",
    "# Faz um merge priorizando as informações da tabela de produtos\n",
    "my_data = pd.merge(sales, products, on=['p_id','product'],how='right')\n",
    " \n",
    "# Seleciona todos as linhas em que o sale_id é nan\n",
    "my_data = my_data[my_data['sale_id'].isna()]\n",
    "\n",
    "# Seleciona os produtos que não foram vendidos\n",
    "print(my_data.loc[:,'product'])"
   ]
  },
  {
   "cell_type": "markdown",
   "metadata": {},
   "source": [
    "b) Quantos clientes não realizaram uma compra? "
   ]
  },
  {
   "cell_type": "code",
   "execution_count": null,
   "metadata": {},
   "outputs": [],
   "source": [
    "customers = pd.read_csv(\"data/customer.csv\") \n",
    "\n",
    "# Faz um merge priorizando as informações da tabela de customers\n",
    "my_data = pd.merge(sales, customers, on='c_id', how='right')\n",
    "\n",
    "# Seleciona todos as linhas em que o sale_id é nan\n",
    "my_data = my_data[my_data['sale_id'].isna()] \n",
    "\n",
    "# Seleciona os clientes que não realizaram compras\n",
    "print(my_data.loc[:,'Customer']) "
   ]
  },
  {
   "cell_type": "markdown",
   "metadata": {},
   "source": [
    "c) Liste a quantidade vendida e o faturamento de cada produto "
   ]
  },
  {
   "cell_type": "code",
   "execution_count": null,
   "metadata": {},
   "outputs": [],
   "source": [
    "my_sum=pd.merge(sales, products, how='left', on=['p_id','product'])\n",
    "\n",
    "# Calcula valor total de cada sale_id\n",
    "my_sum['total_sale'] = my_sum['qty']*my_sum['price']\n",
    "\n",
    "# Agrupa por produto e soma a quantidade vendida e o valor total da compra\n",
    "my_sum.groupby(['product'])[['qty', 'total_sale']].sum()"
   ]
  },
  {
   "cell_type": "markdown",
   "metadata": {},
   "source": [
    "d) Liste a quantidade vendida de cada produto por loja"
   ]
  },
  {
   "cell_type": "code",
   "execution_count": null,
   "metadata": {},
   "outputs": [],
   "source": [
    "my_sale = sales.groupby(['product','p_id', 'store'])[['qty']].sum().reset_index()\n",
    "my_sale"
   ]
  },
  {
   "cell_type": "markdown",
   "metadata": {},
   "source": [
    "e) Qual loja teve maior faturamento?"
   ]
  },
  {
   "cell_type": "code",
   "execution_count": null,
   "metadata": {},
   "outputs": [],
   "source": [
    "my_sum.groupby(['store'])[['total_sale']].sum().sort_values('total_sale').tail(1)"
   ]
  },
  {
   "cell_type": "markdown",
   "metadata": {},
   "source": [
    "f) Qual produto foi o mais vendido?"
   ]
  },
  {
   "cell_type": "code",
   "execution_count": null,
   "metadata": {},
   "outputs": [],
   "source": [
    "my_sum.groupby(['product'])[['qty']].sum().sort_values('qty').tail(1)"
   ]
  },
  {
   "cell_type": "markdown",
   "metadata": {},
   "source": [
    "## Referências\n",
    "https://pandas.pydata.org/docs/user_guide/groupby.html <br>\n",
    "https://pandas.pydata.org/docs/user_guide/merging.html <br> \n",
    "https://towardsdatascience.com/python-pandas-dataframe-join-merge-and-concatenate-84985c29ef78 <br>\n",
    "[When to use pandas transform function](https://towardsdatascience.com/when-to-use-pandas-transform-function-df8861aa0dcf) <br>\n",
    "[Compara a performance entre várias formas de iterar em um df. Vai desde o for até apply e transform](https://youtu.be/rsyvErL0Bo8) <br>"
   ]
  }
 ],
 "metadata": {
  "kernelspec": {
   "display_name": "Python 3 (ipykernel)",
   "language": "python",
   "name": "python3"
  },
  "language_info": {
   "codemirror_mode": {
    "name": "ipython",
    "version": 3
   },
   "file_extension": ".py",
   "mimetype": "text/x-python",
   "name": "python",
   "nbconvert_exporter": "python",
   "pygments_lexer": "ipython3",
   "version": "3.9.7"
  }
 },
 "nbformat": 4,
 "nbformat_minor": 4
}
