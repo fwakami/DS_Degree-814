{
 "cells": [
  {
   "cell_type": "code",
   "execution_count": 3,
   "id": "fc2a838b-50d9-4ca5-adce-293ae957ad60",
   "metadata": {},
   "outputs": [],
   "source": [
    "#!/bin/python3\n",
    "\n",
    "import math\n",
    "import os\n",
    "import random\n",
    "import re\n",
    "import sys\n",
    "\n",
    "#\n",
    "# Complete the 'timeConversion' function below.\n",
    "#\n",
    "# The function is expected to return a STRING.\n",
    "# The function accepts STRING s as parameter.\n",
    "#\n",
    "\n",
    "def timeConversion(s):\n",
    "    # Write your code here\n",
    "    time = s.split(\":\")\n",
    "    if s[-2:] == \"PM\":\n",
    "        if time[0] != \"12\":\n",
    "            time[0] = str(int(time[0])+12)\n",
    "    else:\n",
    "        if time[0] == \"12\":\n",
    "            time[0] = \"00\"\n",
    "    ntime = ':'.join(time)\n",
    "    return str(ntime[:-2])\n",
    "\n",
    "if __name__ == '__main__':\n",
    "    fptr = open(os.environ['OUTPUT_PATH'], 'w')\n",
    "\n",
    "    s = input()\n",
    "\n",
    "    result = timeConversion(s)\n",
    "\n",
    "    fptr.write(result + '\\n')\n",
    "\n",
    "    fptr.close()\n"
   ]
  },
  {
   "cell_type": "code",
   "execution_count": 4,
   "id": "e1e0e42e-2150-42a0-af8e-60c9665b768c",
   "metadata": {},
   "outputs": [
    {
     "data": {
      "text/plain": [
       "'00:05:45'"
      ]
     },
     "execution_count": 4,
     "metadata": {},
     "output_type": "execute_result"
    }
   ],
   "source": [
    "timeConversion(\"12:05:45AM\")"
   ]
  },
  {
   "cell_type": "code",
   "execution_count": null,
   "id": "46e877dc-ec2d-48cf-85c9-2097236b8a01",
   "metadata": {},
   "outputs": [],
   "source": []
  }
 ],
 "metadata": {
  "kernelspec": {
   "display_name": "Python 3",
   "language": "python",
   "name": "python3"
  },
  "language_info": {
   "codemirror_mode": {
    "name": "ipython",
    "version": 3
   },
   "file_extension": ".py",
   "mimetype": "text/x-python",
   "name": "python",
   "nbconvert_exporter": "python",
   "pygments_lexer": "ipython3",
   "version": "3.8.8"
  }
 },
 "nbformat": 4,
 "nbformat_minor": 5
}
