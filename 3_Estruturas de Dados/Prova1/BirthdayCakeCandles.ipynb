{
 "cells": [
  {
   "cell_type": "code",
   "execution_count": 1,
   "id": "34b46a99-c4c7-42d9-afd4-eff56b48a12b",
   "metadata": {},
   "outputs": [],
   "source": [
    "#!/bin/python3\n",
    "\n",
    "import math\n",
    "import os\n",
    "import random\n",
    "import re\n",
    "import sys\n",
    "\n",
    "#\n",
    "# Complete the 'birthdayCakeCandles' function below.\n",
    "#\n",
    "# The function is expected to return an INTEGER.\n",
    "# The function accepts INTEGER_ARRAY candles as parameter.\n",
    "#\n",
    "\n",
    "\n",
    "\n",
    "def birthdayCakeCandles(candles):\n",
    "    \n",
    "    # Write your code here  \n",
    "    \n",
    "    contador=0\n",
    "    \n",
    "    maior_altura = max(candles)\n",
    "    \n",
    "    for i in range(len(candles)):\n",
    "        if(candles[i] == maior_altura):\n",
    "            contador += 1\n",
    "    return contador\n",
    "\n",
    "if __name__ == '__main__':\n",
    "    fptr = open(os.environ['OUTPUT_PATH'], 'w')\n",
    "\n",
    "    candles_count = int(input().strip())\n",
    "\n",
    "    candles = list(map(int, input().rstrip().split()))\n",
    "\n",
    "    result = birthdayCakeCandles(candles)\n",
    "\n",
    "    fptr.write(str(result) + '\\n')\n",
    "\n",
    "    fptr.close()\n"
   ]
  },
  {
   "cell_type": "code",
   "execution_count": 2,
   "id": "6e4ccd19-1f3d-4844-850e-cbc2994f1852",
   "metadata": {},
   "outputs": [
    {
     "name": "stdin",
     "output_type": "stream",
     "text": [
      "Quantidade de velas:  6\n",
      " 3 4 5 5 5 4\n"
     ]
    },
    {
     "data": {
      "text/plain": [
       "3"
      ]
     },
     "execution_count": 2,
     "metadata": {},
     "output_type": "execute_result"
    }
   ],
   "source": [
    "birthdayCakeCandles()"
   ]
  },
  {
   "cell_type": "code",
   "execution_count": null,
   "id": "dc211641-a0e7-4858-bc24-fca5539cc883",
   "metadata": {},
   "outputs": [],
   "source": []
  }
 ],
 "metadata": {
  "kernelspec": {
   "display_name": "Python 3",
   "language": "python",
   "name": "python3"
  },
  "language_info": {
   "codemirror_mode": {
    "name": "ipython",
    "version": 3
   },
   "file_extension": ".py",
   "mimetype": "text/x-python",
   "name": "python",
   "nbconvert_exporter": "python",
   "pygments_lexer": "ipython3",
   "version": "3.8.8"
  }
 },
 "nbformat": 4,
 "nbformat_minor": 5
}
