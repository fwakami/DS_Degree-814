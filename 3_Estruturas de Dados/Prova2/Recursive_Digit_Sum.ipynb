{
 "cells": [
  {
   "cell_type": "code",
   "execution_count": null,
   "id": "adb24fb1-c2ab-4626-9a5c-60664ba50645",
   "metadata": {},
   "outputs": [],
   "source": [
    "def superDigit(n, k):\n",
    "    \n",
    "    # Write your code here\n",
    "    \n",
    "    def soma(valor):\n",
    "        if valor < 10:\n",
    "            return valor\n",
    "        else:\n",
    "            x = sum(int(i) for i in str(valor))\n",
    "            return soma(x)\n",
    "        \n",
    "    y = soma(int(n))\n",
    "    return soma(y*k)"
   ]
  }
 ],
 "metadata": {
  "kernelspec": {
   "display_name": "Python 3",
   "language": "python",
   "name": "python3"
  },
  "language_info": {
   "codemirror_mode": {
    "name": "ipython",
    "version": 3
   },
   "file_extension": ".py",
   "mimetype": "text/x-python",
   "name": "python",
   "nbconvert_exporter": "python",
   "pygments_lexer": "ipython3",
   "version": "3.8.8"
  }
 },
 "nbformat": 4,
 "nbformat_minor": 5
}
