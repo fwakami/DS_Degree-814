{
 "cells": [
  {
   "cell_type": "code",
   "execution_count": null,
   "id": "0353956f-6fa9-4194-a337-9aa44397b2c5",
   "metadata": {},
   "outputs": [],
   "source": [
    "def compare_lists(llist1, llist2):\n",
    "    \n",
    "    head1 = llist1\n",
    "    head2 = llist2\n",
    "    \n",
    "    while head1 != None and head2 != None:\n",
    "        if head1.data == head2.data:\n",
    "            head1 = head1.next\n",
    "            head2 = head2.next\n",
    "        else:\n",
    "            return 0\n",
    "        \n",
    "    if head1 == None and head2 == None:\n",
    "        return 1\n",
    "    else:\n",
    "        return 0"
   ]
  }
 ],
 "metadata": {
  "kernelspec": {
   "display_name": "Python 3",
   "language": "python",
   "name": "python3"
  },
  "language_info": {
   "codemirror_mode": {
    "name": "ipython",
    "version": 3
   },
   "file_extension": ".py",
   "mimetype": "text/x-python",
   "name": "python",
   "nbconvert_exporter": "python",
   "pygments_lexer": "ipython3",
   "version": "3.8.8"
  }
 },
 "nbformat": 4,
 "nbformat_minor": 5
}
