{
 "cells": [
  {
   "cell_type": "code",
   "execution_count": null,
   "id": "80f2ebbf-5b7e-4d81-8c8f-da1c30a8fe1d",
   "metadata": {},
   "outputs": [],
   "source": [
    "def balancedSums(arr):\n",
    "    tot = sum(arr)\n",
    "    add = 0\n",
    "    for i in arr:\n",
    "        if add == tot-i-add:\n",
    "            return \"YES\"\n",
    "        add+=i\n",
    "    return \"NO\"\n",
    "\n",
    "    for _ in range(int(input())):\n",
    "        input()\n",
    "        arr = list(map(int,input().split()))\n",
    "        print(balancedSums(arr)) "
   ]
  }
 ],
 "metadata": {
  "kernelspec": {
   "display_name": "Python 3",
   "language": "python",
   "name": "python3"
  },
  "language_info": {
   "codemirror_mode": {
    "name": "ipython",
    "version": 3
   },
   "file_extension": ".py",
   "mimetype": "text/x-python",
   "name": "python",
   "nbconvert_exporter": "python",
   "pygments_lexer": "ipython3",
   "version": "3.8.8"
  }
 },
 "nbformat": 4,
 "nbformat_minor": 5
}
