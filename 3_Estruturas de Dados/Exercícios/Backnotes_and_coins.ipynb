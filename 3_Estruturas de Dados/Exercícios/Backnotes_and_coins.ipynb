{
 "cells": [
  {
   "cell_type": "code",
   "execution_count": 7,
   "id": "675a6c6a-bf29-43fc-8426-21aab98c1776",
   "metadata": {},
   "outputs": [
    {
     "name": "stdin",
     "output_type": "stream",
     "text": [
      " 77.77\n"
     ]
    },
    {
     "name": "stdout",
     "output_type": "stream",
     "text": [
      "NOTAS:\n",
      "0 nota(s) de R$ 100.00\n",
      "1 nota(s) de R$ 50.00\n",
      "1 nota(s) de R$ 20.00\n",
      "0 nota(s) de R$ 10.00\n",
      "1 nota(s) de R$ 5.00\n",
      "1 nota(s) de R$ 2.00\n",
      "MOEDAS:\n",
      "0 moeda(s) de R$ 1.00\n",
      "1 moeda(s) de R$ 0.50\n",
      "1 moeda(s) de R$ 0.25\n",
      "0 moeda(s) de R$ 0.10\n",
      "0 moeda(s) de R$ 0.05\n",
      "2 moeda(s) de R$ 0.01\n"
     ]
    }
   ],
   "source": [
    "import math\n",
    "\n",
    "valor = round(float(input()), 2)\n",
    "\n",
    "possible_notes = [100, 50, 20, 10, 5, 2]\n",
    "possible_coins = [1, 0.50, 0.25, 0.10, 0.05, 0.01]\n",
    "\n",
    "def decompor(valor):\n",
    "    print(\"NOTAS:\")\n",
    "    for nota in possible_notes:\n",
    "        quantidade = math.floor(float(valor)/float(nota))\n",
    "        print(f\"{quantidade} nota(s) de R$ {nota:.2f}\")\n",
    "        valor = round(float(valor) % float(nota), 2)\n",
    "        \n",
    "    print(\"MOEDAS:\")\n",
    "    for moeda in possible_coins:\n",
    "        quantidade = math.floor(float(valor)/float(moeda))\n",
    "        print(f\"{quantidade} moeda(s) de R$ {moeda:.2f}\")\n",
    "        valor = round(float(valor) % float(moeda), 2)\n",
    "        \n",
    "decompor(valor)"
   ]
  },
  {
   "cell_type": "code",
   "execution_count": null,
   "id": "ac90f1e1-7705-41ef-88cd-f773aa3f0e39",
   "metadata": {},
   "outputs": [],
   "source": []
  }
 ],
 "metadata": {
  "kernelspec": {
   "display_name": "Python 3",
   "language": "python",
   "name": "python3"
  },
  "language_info": {
   "codemirror_mode": {
    "name": "ipython",
    "version": 3
   },
   "file_extension": ".py",
   "mimetype": "text/x-python",
   "name": "python",
   "nbconvert_exporter": "python",
   "pygments_lexer": "ipython3",
   "version": "3.8.8"
  }
 },
 "nbformat": 4,
 "nbformat_minor": 5
}
