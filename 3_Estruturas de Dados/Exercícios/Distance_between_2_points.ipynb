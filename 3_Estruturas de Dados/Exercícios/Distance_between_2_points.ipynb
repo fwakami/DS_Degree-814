{
 "cells": [
  {
   "cell_type": "code",
   "execution_count": 42,
   "id": "995dea8c-3175-4a9d-82be-1670ed4016c7",
   "metadata": {},
   "outputs": [
    {
     "name": "stdin",
     "output_type": "stream",
     "text": [
      " 1.0 7.0\n",
      " 5.0 9.0\n"
     ]
    },
    {
     "name": "stdout",
     "output_type": "stream",
     "text": [
      "4.4721\n"
     ]
    }
   ],
   "source": [
    "input1 = input()\n",
    "split1 = input1.split()\n",
    "x1 = float((split1[0])) \n",
    "y1 = float((split1[1]))\n",
    "\n",
    "input2 = input()\n",
    "split2 = input2.split()\n",
    "x2 = float((split2[0]))\n",
    "y2 = float((split2[1]))\n",
    "\n",
    "dist = ((((x2 - x1)**2) + ((y2 - y1)**2)) ** 0.5)\n",
    "\n",
    "print(f\"{dist:.4f}\")"
   ]
  }
 ],
 "metadata": {
  "kernelspec": {
   "display_name": "Python 3",
   "language": "python",
   "name": "python3"
  },
  "language_info": {
   "codemirror_mode": {
    "name": "ipython",
    "version": 3
   },
   "file_extension": ".py",
   "mimetype": "text/x-python",
   "name": "python",
   "nbconvert_exporter": "python",
   "pygments_lexer": "ipython3",
   "version": "3.8.8"
  }
 },
 "nbformat": 4,
 "nbformat_minor": 5
}
