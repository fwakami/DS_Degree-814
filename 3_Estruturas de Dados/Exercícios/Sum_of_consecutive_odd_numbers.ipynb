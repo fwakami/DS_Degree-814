{
 "cells": [
  {
   "cell_type": "code",
   "execution_count": 23,
   "id": "a8876ee9-1ed3-4583-9212-4c9569e41ca1",
   "metadata": {},
   "outputs": [
    {
     "name": "stdin",
     "output_type": "stream",
     "text": [
      " 12\n",
      " 12\n"
     ]
    },
    {
     "name": "stdout",
     "output_type": "stream",
     "text": [
      "0\n"
     ]
    }
   ],
   "source": [
    "x = int(input())\n",
    "y = int(input())\n",
    "\n",
    "if x > y:\n",
    "    pass\n",
    "else:\n",
    "    temp = x\n",
    "    x = y\n",
    "    y = temp\n",
    "\n",
    "soma = 0\n",
    "\n",
    "if x % 2 != 0:\n",
    "    while x > y+1:\n",
    "        x = x - 2\n",
    "        soma = soma + x\n",
    "        \n",
    "else:\n",
    "    x = x - 1\n",
    "    while x > y:\n",
    "        soma = soma + x\n",
    "        x = x - 2\n",
    "        \n",
    "print(soma)"
   ]
  }
 ],
 "metadata": {
  "kernelspec": {
   "display_name": "Python 3",
   "language": "python",
   "name": "python3"
  },
  "language_info": {
   "codemirror_mode": {
    "name": "ipython",
    "version": 3
   },
   "file_extension": ".py",
   "mimetype": "text/x-python",
   "name": "python",
   "nbconvert_exporter": "python",
   "pygments_lexer": "ipython3",
   "version": "3.8.8"
  }
 },
 "nbformat": 4,
 "nbformat_minor": 5
}
