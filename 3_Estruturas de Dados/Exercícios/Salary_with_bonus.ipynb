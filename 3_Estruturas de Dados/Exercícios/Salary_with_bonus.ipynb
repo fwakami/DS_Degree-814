{
 "cells": [
  {
   "cell_type": "code",
   "execution_count": 1,
   "id": "20544c2e-82de-4034-b1cc-bdf57bf8060f",
   "metadata": {},
   "outputs": [
    {
     "name": "stdin",
     "output_type": "stream",
     "text": [
      " JOAO\n",
      " 500.00\n",
      " 1230.30\n"
     ]
    },
    {
     "name": "stdout",
     "output_type": "stream",
     "text": [
      "TOTAL = R$ 684.54\n"
     ]
    }
   ],
   "source": [
    "nome = str(input())\n",
    "salario = float(input())\n",
    "vendas = float(input())\n",
    "comissao = 0.15\n",
    "total = salario + (comissao*vendas)\n",
    "\n",
    "print(f'TOTAL = R$ {total:.2f}')"
   ]
  },
  {
   "cell_type": "code",
   "execution_count": null,
   "id": "cd3b08f3-2a05-42d3-91a8-3bd0b8e058f3",
   "metadata": {},
   "outputs": [],
   "source": []
  }
 ],
 "metadata": {
  "kernelspec": {
   "display_name": "Python 3",
   "language": "python",
   "name": "python3"
  },
  "language_info": {
   "codemirror_mode": {
    "name": "ipython",
    "version": 3
   },
   "file_extension": ".py",
   "mimetype": "text/x-python",
   "name": "python",
   "nbconvert_exporter": "python",
   "pygments_lexer": "ipython3",
   "version": "3.8.8"
  }
 },
 "nbformat": 4,
 "nbformat_minor": 5
}
